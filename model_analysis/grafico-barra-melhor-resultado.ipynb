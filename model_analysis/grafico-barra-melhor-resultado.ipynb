{
 "cells": [
  {
   "metadata": {},
   "cell_type": "markdown",
   "source": "# Imports",
   "id": "f79c91bfafa034d1"
  },
  {
   "cell_type": "code",
   "id": "initial_id",
   "metadata": {
    "collapsed": true,
    "ExecuteTime": {
     "end_time": "2025-02-15T17:00:44.065627Z",
     "start_time": "2025-02-15T17:00:44.048804Z"
    }
   },
   "source": [
    "import matplotlib.pyplot as plt\n",
    "import numpy as np\n",
    "import os\n",
    "import pandas as pd\n",
    "import seaborn as sns"
   ],
   "execution_count": 1,
   "outputs": []
  },
  {
   "metadata": {},
   "cell_type": "markdown",
   "source": "# Model load",
   "id": "892a80a4c9ccfd9a"
  },
  {
   "metadata": {
    "ExecuteTime": {
     "end_time": "2025-02-15T17:00:44.085766Z",
     "start_time": "2025-02-15T17:00:44.068021Z"
    }
   },
   "cell_type": "code",
   "source": [
    "path_qing_cheng = '../model/qing_cheng'\n",
    "path_vallen = '../model/vallen'\n",
    "\n",
    "qing_cheng_model_name = 'Qing-Cheng'\n",
    "vallen_model_name = 'Vallen'"
   ],
   "id": "59159b647375c85c",
   "execution_count": 2,
   "outputs": []
  },
  {
   "metadata": {
    "ExecuteTime": {
     "end_time": "2025-02-15T17:00:44.101564Z",
     "start_time": "2025-02-15T17:00:44.087913Z"
    }
   },
   "cell_type": "code",
   "source": [
    "def get_file_paths(path: str):\n",
    "    file_paths = []\n",
    "\n",
    "    for dir_path, _, file_names in os.walk(path):\n",
    "        file_path = {}\n",
    "        \n",
    "        for file_name in file_names:\n",
    "            \n",
    "            if file_name.endswith('all_results.csv'):\n",
    "                file_path['all_results'] = os.path.join(dir_path, file_name)\n",
    "                \n",
    "        if len(file_path) > 0:\n",
    "            file_paths.append(file_path)\n",
    "\n",
    "    return file_paths"
   ],
   "id": "ed51cebf09d7df94",
   "execution_count": 3,
   "outputs": []
  },
  {
   "metadata": {
    "ExecuteTime": {
     "end_time": "2025-02-15T17:00:44.121151Z",
     "start_time": "2025-02-15T17:00:44.107335Z"
    }
   },
   "cell_type": "code",
   "source": [
    "paths_qing_cheng = get_file_paths(path_qing_cheng)\n",
    "paths_vallen = get_file_paths(path_vallen)"
   ],
   "id": "78f824c6f5fde1ba",
   "execution_count": 4,
   "outputs": []
  },
  {
   "metadata": {
    "ExecuteTime": {
     "end_time": "2025-02-15T17:00:44.134744Z",
     "start_time": "2025-02-15T17:00:44.122854Z"
    }
   },
   "cell_type": "code",
   "source": [
    "def load_model_result(path_dict: dict):    \n",
    "    all_results = pd.read_csv(path_dict['all_results'])\n",
    "    \n",
    "    return {\n",
    "        'all_results': all_results,\n",
    "    }"
   ],
   "id": "daa80896271c4568",
   "execution_count": 5,
   "outputs": []
  },
  {
   "metadata": {
    "ExecuteTime": {
     "end_time": "2025-02-15T17:00:44.377813Z",
     "start_time": "2025-02-15T17:00:44.137875Z"
    }
   },
   "cell_type": "code",
   "source": [
    "qing_cheng_models = [load_model_result(path) for path in paths_qing_cheng]\n",
    "vallen_models = [load_model_result(path) for path in paths_vallen]"
   ],
   "id": "6626dbd313dd232f",
   "execution_count": 6,
   "outputs": []
  },
  {
   "metadata": {},
   "cell_type": "markdown",
   "source": "# Analysis",
   "id": "f256cb9535004250"
  },
  {
   "metadata": {
    "ExecuteTime": {
     "end_time": "2025-02-15T17:00:44.388495Z",
     "start_time": "2025-02-15T17:00:44.380073Z"
    }
   },
   "cell_type": "code",
   "source": [
    "def process_scores (scores: list):\n",
    "    transposed_scores = list(zip(*scores))\n",
    "    \n",
    "    return [np.mean(score) for score in transposed_scores]"
   ],
   "id": "4a1e5b086484032e",
   "execution_count": 7,
   "outputs": []
  },
  {
   "metadata": {
    "ExecuteTime": {
     "end_time": "2025-02-15T17:00:44.408481Z",
     "start_time": "2025-02-15T17:00:44.391513Z"
    }
   },
   "cell_type": "code",
   "source": [
    "def process_fold_results (df: pd.DataFrame, model_name):\n",
    "    new_df = df.copy()\n",
    "    \n",
    "    fold_results_df = new_df['Fold Results (accuracy, precision, recall, f1)'].apply(lambda row: eval(row))\n",
    "    \n",
    "    new_df.drop('Fold Results (accuracy, precision, recall, f1)',  axis=1, inplace=True)\n",
    "    \n",
    "    results_means_df = fold_results_df.apply(process_scores)\n",
    "    \n",
    "    new_df['accuracy'] = results_means_df.apply(lambda row: row[0])\n",
    "    new_df['precision'] = results_means_df.apply(lambda row: row[1])\n",
    "    new_df['recall'] = results_means_df.apply(lambda row: row[2])\n",
    "    new_df['f1'] = results_means_df.apply(lambda row: row[3])\n",
    "                                          \n",
    "    new_df['model'] = new_df.apply(lambda row: f\"{model_name}({ row['num_units'] },{ row['batch_size'] },{ row['epochs'] },{ row['drop_out'] })\", axis=1)\n",
    "    \n",
    "    return new_df"
   ],
   "id": "36b781e5bf8fc23a",
   "execution_count": 8,
   "outputs": []
  },
  {
   "metadata": {
    "ExecuteTime": {
     "end_time": "2025-02-15T17:00:44.431038Z",
     "start_time": "2025-02-15T17:00:44.410314Z"
    }
   },
   "cell_type": "code",
   "source": [
    "def process_model_results(model_dict: dict, model_name: str):    \n",
    "    column_dict = {'Num Units': 'num_units', 'Batch Size': 'batch_size', 'Epochs': 'epochs', 'Dense Activation': 'dense_activation', 'drop': 'drop_out'}\n",
    "    \n",
    "    model_dict['all_results'] = model_dict['all_results'].rename(column_dict, axis=1)\n",
    "    \n",
    "    model_dict['all_results'] = process_fold_results(model_dict['all_results'], model_name)\n",
    "    \n",
    "    return"
   ],
   "id": "722c2ad91ba1fa14",
   "execution_count": 9,
   "outputs": []
  },
  {
   "metadata": {
    "ExecuteTime": {
     "end_time": "2025-02-15T17:00:44.632322Z",
     "start_time": "2025-02-15T17:00:44.436324Z"
    }
   },
   "cell_type": "code",
   "source": [
    "for model in qing_cheng_models:\n",
    "    process_model_results(model, qing_cheng_model_name)\n",
    "    \n",
    "for model in vallen_models:\n",
    "    process_model_results(model, vallen_model_name)"
   ],
   "id": "e01c4d315f7779b5",
   "execution_count": 10,
   "outputs": []
  },
  {
   "metadata": {},
   "cell_type": "markdown",
   "source": "# Plot",
   "id": "de7dcddaf8b881d0"
  },
  {
   "metadata": {
    "ExecuteTime": {
     "end_time": "2025-02-15T17:00:44.647456Z",
     "start_time": "2025-02-15T17:00:44.634882Z"
    }
   },
   "cell_type": "code",
   "source": [
    "def plot_best_model_by_metric(model_a: pd.DataFrame, model_b: pd.DataFrame, metric: str='accuracy'):\n",
    "    best_models = pd.concat([\n",
    "        model_a.sort_values(metric, ascending=False).head(1), \n",
    "        model_b.sort_values(metric, ascending=False).head(1),\n",
    "    ])\n",
    "    \n",
    "    sns.barplot(y=metric, x='model', data=best_models, hue='model')\n",
    "    plt.yticks(np.arange(0, 1.1, 0.1))\n",
    "    plt.show()"
   ],
   "id": "4b5c29bd1a807288",
   "execution_count": 11,
   "outputs": []
  },
  {
   "metadata": {},
   "cell_type": "markdown",
   "source": "## Accuracy",
   "id": "de2f29af923c4781"
  },
  {
   "metadata": {
    "ExecuteTime": {
     "end_time": "2025-02-15T17:00:45.848226Z",
     "start_time": "2025-02-15T17:00:44.649459Z"
    }
   },
   "cell_type": "code",
   "source": [
    "for index in range(len(qing_cheng_models)):\n",
    "    plot_best_model_by_metric(\n",
    "        qing_cheng_models[index]['all_results'],\n",
    "        vallen_models[index]['all_results'],\n",
    "        'accuracy'\n",
    "    )"
   ],
   "id": "e2e8376a1e409744",
   "execution_count": 12,
   "outputs": []
  },
  {
   "metadata": {},
   "cell_type": "markdown",
   "source": "## Precision",
   "id": "daeb5816565a52b3"
  },
  {
   "metadata": {
    "ExecuteTime": {
     "end_time": "2025-02-15T17:00:46.943938Z",
     "start_time": "2025-02-15T17:00:45.850231Z"
    }
   },
   "cell_type": "code",
   "source": [
    "for index in range(len(qing_cheng_models)):\n",
    "    plot_best_model_by_metric(\n",
    "        qing_cheng_models[index]['all_results'],\n",
    "        vallen_models[index]['all_results'],\n",
    "        'precision'\n",
    "    )"
   ],
   "id": "52c65ad8ef568641",
   "execution_count": 13,
   "outputs": []
  },
  {
   "metadata": {},
   "cell_type": "markdown",
   "source": "## Recall",
   "id": "ea56922e8441e0f2"
  },
  {
   "metadata": {
    "ExecuteTime": {
     "end_time": "2025-02-15T17:00:48.145321Z",
     "start_time": "2025-02-15T17:00:46.944937Z"
    }
   },
   "cell_type": "code",
   "source": [
    "for index in range(len(qing_cheng_models)):\n",
    "    plot_best_model_by_metric(\n",
    "        qing_cheng_models[index]['all_results'],\n",
    "        vallen_models[index]['all_results'],\n",
    "        'recall'\n",
    "    )"
   ],
   "id": "91b86cec657b8b3",
   "execution_count": 14,
   "outputs": []
  },
  {
   "metadata": {},
   "cell_type": "markdown",
   "source": "## F1",
   "id": "f2d04e45e7fb913d"
  },
  {
   "metadata": {
    "ExecuteTime": {
     "end_time": "2025-02-15T17:00:49.356996Z",
     "start_time": "2025-02-15T17:00:48.147916Z"
    }
   },
   "cell_type": "code",
   "source": [
    "for index in range(len(qing_cheng_models)):\n",
    "    plot_best_model_by_metric(\n",
    "        qing_cheng_models[index]['all_results'],\n",
    "        vallen_models[index]['all_results'],\n",
    "        'f1'\n",
    "    )"
   ],
   "id": "893bcf2f7cd7b38e",
   "execution_count": 15,
   "outputs": []
  },
  {
   "metadata": {},
   "cell_type": "markdown",
   "source": "# ---",
   "id": "ec8b0d18c3b18a42"
  },
  {
   "metadata": {
    "ExecuteTime": {
     "end_time": "2025-02-15T18:43:56.771913Z",
     "start_time": "2025-02-15T18:43:56.756031Z"
    }
   },
   "cell_type": "code",
   "source": "qing_cheng_models[6]['all_results'].sort_values('accuracy', ascending=False).head(1)",
   "id": "c71f2a7972e1962",
   "execution_count": 32,
   "outputs": []
  },
  {
   "metadata": {
    "ExecuteTime": {
     "end_time": "2025-02-15T18:44:00.375799Z",
     "start_time": "2025-02-15T18:44:00.349706Z"
    }
   },
   "cell_type": "code",
   "source": "vallen_models[6]['all_results'].sort_values('accuracy', ascending=False).head(1)",
   "id": "9e43dfd8f827f0ba",
   "execution_count": 33,
   "outputs": []
  }
 ],
 "metadata": {
  "kernelspec": {
   "display_name": "Python 3",
   "language": "python",
   "name": "python3"
  },
  "language_info": {
   "codemirror_mode": {
    "name": "ipython",
    "version": 2
   },
   "file_extension": ".py",
   "mimetype": "text/x-python",
   "name": "python",
   "nbconvert_exporter": "python",
   "pygments_lexer": "ipython2",
   "version": "2.7.6"
  }
 },
 "nbformat": 4,
 "nbformat_minor": 5
}

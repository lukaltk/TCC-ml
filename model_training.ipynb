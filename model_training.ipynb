{
 "cells": [
  {
   "metadata": {},
   "cell_type": "markdown",
   "source": "# Imports",
   "id": "f74f1e62bfce7da"
  },
  {
   "cell_type": "code",
   "id": "initial_id",
   "metadata": {
    "collapsed": true,
    "ExecuteTime": {
     "end_time": "2025-04-28T23:41:19.927939Z",
     "start_time": "2025-04-28T23:41:15.440410Z"
    }
   },
   "source": [
    "import matplotlib.pyplot as plt\n",
    "import numpy as np\n",
    "import os\n",
    "import pandas as pd\n",
    "import random\n",
    "from scipy.fft import fft, fftfreq\n",
    "from sklearn.metrics import accuracy_score, precision_score, recall_score, f1_score\n",
    "from sklearn.model_selection import train_test_split, StratifiedKFold\n",
    "from sklearn.preprocessing import StandardScaler\n",
    "import tensorflow as tf\n",
    "# from tensorflow.keras import Sequential\n",
    "from tensorflow.keras import Input, Model\n",
    "# from tensorflow.keras.layers import Dense, LSTM, Dropout, Flatten, MultiHeadAttention\n",
    "from tensorflow.keras.layers import Dense, Dropout, Flatten, MultiHeadAttention\n",
    "from tensorflow.keras.utils import to_categorical\n",
    "import zlib"
   ],
   "outputs": [],
   "execution_count": 1
  },
  {
   "metadata": {},
   "cell_type": "markdown",
   "source": "# GPU",
   "id": "db8f0edd3292f4f1"
  },
  {
   "metadata": {
    "ExecuteTime": {
     "end_time": "2025-04-28T23:41:19.990268Z",
     "start_time": "2025-04-28T23:41:19.929355Z"
    }
   },
   "cell_type": "code",
   "source": [
    "print('Tensorflow version: ', tf.__version__)\n",
    "print(\"Nº GPUs Available: \", len(tf.config.list_physical_devices('GPU')))"
   ],
   "id": "265fe399216f5e3a",
   "outputs": [
    {
     "name": "stdout",
     "output_type": "stream",
     "text": [
      "Tensorflow version:  2.10.1\n",
      "Nº GPUs Available:  1\n"
     ]
    }
   ],
   "execution_count": 2
  },
  {
   "metadata": {
    "ExecuteTime": {
     "end_time": "2025-04-28T23:41:20.005209Z",
     "start_time": "2025-04-28T23:41:19.992502Z"
    }
   },
   "cell_type": "code",
   "source": "tf.config.list_physical_devices('GPU')",
   "id": "515ae6bf060f8469",
   "outputs": [
    {
     "data": {
      "text/plain": [
       "[PhysicalDevice(name='/physical_device:GPU:0', device_type='GPU')]"
      ]
     },
     "execution_count": 3,
     "metadata": {},
     "output_type": "execute_result"
    }
   ],
   "execution_count": 3
  },
  {
   "metadata": {},
   "cell_type": "markdown",
   "source": [
    "## Arquivo\n",
    "Exemplo: { TIPO_DE_SENSOR }-{ ESTADO }-{ CANAL-&-POSIÇÃO }-{ CANAL-&-POSIÇÃO }-{ DATA }.npy"
   ],
   "id": "5642e0a31e98e22f"
  },
  {
   "metadata": {
    "ExecuteTime": {
     "end_time": "2025-04-28T23:41:20.020398Z",
     "start_time": "2025-04-28T23:41:20.007228Z"
    }
   },
   "cell_type": "code",
   "source": [
    "# sensor_name = 'qing_cheng'\n",
    "sensor_name = 'vallen'\n",
    "\n",
    "model_index = 8\n",
    "\n",
    "# --- Training settings ---\n",
    "\n",
    "include_anomalia = False\n",
    "include_spray = False\n",
    "\n",
    "exclude_channel_1 = False\n",
    "\n",
    "position_training = False\n",
    "\n",
    "if model_index in [3, 4, 7, 8]:\n",
    "    include_anomalia = True\n",
    "    include_spray = True\n",
    "    \n",
    "if model_index in [2, 4, 6, 8]:\n",
    "    exclude_channel_1 = True\n",
    "    \n",
    "if model_index > 4:\n",
    "    position_training = True\n",
    "    \n",
    "print(f'include_anomalia: {include_anomalia}')\n",
    "print(f'include_spray: {include_spray}')\n",
    "print(f'exclude_channel_1: {exclude_channel_1}')\n",
    "print(f'position_training: {position_training}')"
   ],
   "id": "344015d6a8753ff6",
   "outputs": [
    {
     "name": "stdout",
     "output_type": "stream",
     "text": [
      "include_anomalia: True\n",
      "include_spray: True\n",
      "exclude_channel_1: True\n",
      "position_training: True\n"
     ]
    }
   ],
   "execution_count": 4
  },
  {
   "metadata": {
    "ExecuteTime": {
     "end_time": "2025-04-28T23:41:20.036277Z",
     "start_time": "2025-04-28T23:41:20.023049Z"
    }
   },
   "cell_type": "code",
   "source": [
    "path_normalidade = f'./data/{sensor_name}/normalidade'\n",
    "path_normalidade_anomalia = f'./data/{sensor_name}/normalidade_anomalia'\n",
    "path_normalidade_spray = f'./data/{sensor_name}/normalidade_spray'\n",
    "\n",
    "path_vazamento = f'./data/{sensor_name}/vazamento_5_bar'\n",
    "path_vazamento_anomalia = f'./data/{sensor_name}/vazamento_5_bar_anomalia'\n",
    "path_vazamento_spray = f'./data/{sensor_name}/vazamento_5_bar_spray'"
   ],
   "id": "f9725fd0a217bfd6",
   "outputs": [],
   "execution_count": 5
  },
  {
   "metadata": {
    "ExecuteTime": {
     "end_time": "2025-04-28T23:41:20.051909Z",
     "start_time": "2025-04-28T23:41:20.038006Z"
    }
   },
   "cell_type": "code",
   "source": [
    "model_name_df = pd.read_csv('./Model_Index.csv')\n",
    "model_name_df.index = model_name_df.index + 1"
   ],
   "id": "a4834c82a9522ce0",
   "outputs": [],
   "execution_count": 6
  },
  {
   "metadata": {
    "ExecuteTime": {
     "end_time": "2025-04-28T23:41:20.067294Z",
     "start_time": "2025-04-28T23:41:20.053910Z"
    }
   },
   "cell_type": "code",
   "source": [
    "model_name = model_name_df['nome_do_arquivo'].loc[model_index] if (model_index > 0)  else 'TEST'\n",
    "\n",
    "print(f'Model file name: {model_name}')\n",
    "print(f'Model index: {model_index}')"
   ],
   "id": "d52e9581757e00d7",
   "outputs": [
    {
     "name": "stdout",
     "output_type": "stream",
     "text": [
      "Model file name: position_canal_2_ruido\n",
      "Model index: 8\n"
     ]
    }
   ],
   "execution_count": 7
  },
  {
   "metadata": {},
   "cell_type": "markdown",
   "source": "# Obter dados",
   "id": "2d4d805436c7baa1"
  },
  {
   "metadata": {
    "ExecuteTime": {
     "end_time": "2025-04-28T23:41:20.082890Z",
     "start_time": "2025-04-28T23:41:20.068805Z"
    }
   },
   "cell_type": "code",
   "source": [
    "def load_npy_file(compressed_file_path: str, position_1, position_2, state):\n",
    "    # Lê o arquivo comprimido\n",
    "    with open(compressed_file_path, 'rb') as compressed_file:\n",
    "        compressed_data = compressed_file.read()\n",
    "\n",
    "    # Descomprime os dados\n",
    "    decompressed_data = zlib.decompress(compressed_data)\n",
    "\n",
    "    # Converte os dados descomprimidos em um array NumPy\n",
    "    decompressed_array = np.frombuffer(decompressed_data, dtype=np.float64)\n",
    "\n",
    "    # Supondo que os dados estão organizados em dois canais alternadamente\n",
    "    channel_1 = decompressed_array[::2]  # Pega todos os elementos nos índices pares\n",
    "    channel_2 = decompressed_array[1::2]  # Pega todos os elementos nos índices ímpares\n",
    "\n",
    "    # DataFrame Pandas com os dados dos canais\n",
    "    data = {\n",
    "        'posicao_canal_1': position_1,\n",
    "        'valor_canal_1': channel_1,\n",
    "        'posicao_canal_2': position_2,\n",
    "        'valor_canal_2': channel_2,\n",
    "        'estado': state,\n",
    "    }\n",
    "\n",
    "    df = pd.DataFrame(data)\n",
    "\n",
    "    return df"
   ],
   "id": "e5ff507c850dc667",
   "outputs": [],
   "execution_count": 8
  },
  {
   "metadata": {
    "ExecuteTime": {
     "end_time": "2025-04-28T23:41:20.098555Z",
     "start_time": "2025-04-28T23:41:20.085318Z"
    }
   },
   "cell_type": "code",
   "source": [
    "def get_file_paths(path: str):\n",
    "    file_paths = []\n",
    "\n",
    "    for dir_path, _, file_names in os.walk(path):\n",
    "        for file_name in file_names:\n",
    "            file_path = os.path.join(dir_path, file_name)\n",
    "            file_paths.append(file_path)\n",
    "\n",
    "    return file_paths"
   ],
   "id": "b8505e5ebdcf7777",
   "outputs": [],
   "execution_count": 9
  },
  {
   "metadata": {
    "ExecuteTime": {
     "end_time": "2025-04-28T23:41:20.113913Z",
     "start_time": "2025-04-28T23:41:20.101575Z"
    }
   },
   "cell_type": "code",
   "source": [
    "def mount_data_frames(paths: list[str]):\n",
    "  data_frame_dict = {}\n",
    "\n",
    "  for path in paths:\n",
    "    file_name = path.split('/')[-1]\n",
    "    data_info = file_name.split('-')[:4]\n",
    "    # data_info[0] -> Tipo de sensor\n",
    "    # data_info[1] -> Estado\n",
    "    # data_info[2] e data_info[3] -> Canal & Posição\n",
    "\n",
    "    state = data_info[1]\n",
    "    channel_1 = data_info[2].split('_')[-1]\n",
    "    channel_2 = data_info[3].split('_')[-1]\n",
    "\n",
    "    # DF -> | POSICAO_CANAL_1 | POSICAO_VALOR_1 | POSICAO_CANAL_2 | POSICAO_VALOR_2 | ESTADO |\n",
    "    df = load_npy_file(path, channel_1, channel_2, state)\n",
    "    data_frame_dict[channel_2] = df\n",
    "\n",
    "  return data_frame_dict"
   ],
   "id": "ef7bba0460d37e88",
   "outputs": [],
   "execution_count": 10
  },
  {
   "metadata": {},
   "cell_type": "markdown",
   "source": "## Normalidade",
   "id": "955d3f76c4c29be6"
  },
  {
   "metadata": {
    "ExecuteTime": {
     "end_time": "2025-04-28T23:41:20.129177Z",
     "start_time": "2025-04-28T23:41:20.115711Z"
    }
   },
   "cell_type": "code",
   "source": "paths_normalidade = get_file_paths(path_normalidade)",
   "id": "1123f0fc851376be",
   "outputs": [],
   "execution_count": 11
  },
  {
   "metadata": {
    "ExecuteTime": {
     "end_time": "2025-04-28T23:41:20.145045Z",
     "start_time": "2025-04-28T23:41:20.131177Z"
    }
   },
   "cell_type": "code",
   "source": "paths_normalidade",
   "id": "3890a438fa9f87ba",
   "outputs": [
    {
     "data": {
      "text/plain": [
       "['./data/vallen/normalidade\\\\V-N-C1_1-C2_2-2024-03-12_16-17-07.npy',\n",
       " './data/vallen/normalidade\\\\V-N-C1_1-C2_3-2024-03-12_16-18-25.npy',\n",
       " './data/vallen/normalidade\\\\V-N-C1_1-C2_4-2024-03-12_16-19-48.npy']"
      ]
     },
     "execution_count": 12,
     "metadata": {},
     "output_type": "execute_result"
    }
   ],
   "execution_count": 12
  },
  {
   "metadata": {
    "ExecuteTime": {
     "end_time": "2025-04-28T23:41:23.573892Z",
     "start_time": "2025-04-28T23:41:20.147161Z"
    }
   },
   "cell_type": "code",
   "source": "df_normalidade = mount_data_frames(paths_normalidade)",
   "id": "a537808466eb820e",
   "outputs": [],
   "execution_count": 13
  },
  {
   "metadata": {
    "ExecuteTime": {
     "end_time": "2025-04-28T23:41:23.605012Z",
     "start_time": "2025-04-28T23:41:23.578148Z"
    }
   },
   "cell_type": "code",
   "source": "df_normalidade",
   "id": "b255da064ad25d39",
   "outputs": [
    {
     "data": {
      "text/plain": [
       "{'2':         posicao_canal_1  valor_canal_1 posicao_canal_2  valor_canal_2 estado\n",
       " 0                     1      -1.014252               2       0.621490      N\n",
       " 1                     1      -1.006918               2       0.610242      N\n",
       " 2                     1      -0.995917               2       0.598993      N\n",
       " 3                     1      -0.992249               2       0.587744      N\n",
       " 4                     1      -0.973914               2       0.583994      N\n",
       " ...                 ...            ...             ...            ...    ...\n",
       " 9999995               1       0.100544               2       0.032797      N\n",
       " 9999996               1      -0.005802               2       0.021548      N\n",
       " 9999997               1      -0.108481               2       0.010299      N\n",
       " 9999998               1      -0.211159               2      -0.012199      N\n",
       " 9999999               1      -0.310171               2      -0.019698      N\n",
       " \n",
       " [10000000 rows x 5 columns],\n",
       " '3':         posicao_canal_1  valor_canal_1 posicao_canal_2  valor_canal_2 estado\n",
       " 0                     1      -0.970247               3      -0.087192      N\n",
       " 1                     1      -0.948244               3      -0.079692      N\n",
       " 2                     1      -0.918908               3      -0.079692      N\n",
       " 3                     1      -0.900572               3      -0.075943      N\n",
       " 4                     1      -0.874903               3      -0.072193      N\n",
       " ...                 ...            ...             ...            ...    ...\n",
       " 9999995               1       0.247227               3      -0.180933      N\n",
       " 9999996               1       0.258228               3      -0.180933      N\n",
       " 9999997               1       0.269230               3      -0.180933      N\n",
       " 9999998               1       0.276564               3      -0.184682      N\n",
       " 9999999               1       0.287565               3      -0.184682      N\n",
       " \n",
       " [10000000 rows x 5 columns],\n",
       " '4':         posicao_canal_1  valor_canal_1 posicao_canal_2  valor_canal_2 estado\n",
       " 0                     1      -0.467855               4      -0.034697      N\n",
       " 1                     1      -0.427517               4      -0.038446      N\n",
       " 2                     1      -0.387179               4      -0.038446      N\n",
       " 3                     1      -0.343174               4      -0.045946      N\n",
       " 4                     1      -0.302836               4      -0.042196      N\n",
       " ...                 ...            ...             ...            ...    ...\n",
       " 9999995               1       2.502488               4       0.111539      N\n",
       " 9999996               1       2.458483               4       0.115289      N\n",
       " 9999997               1       2.410811               4       0.122788      N\n",
       " 9999998               1       2.359472               4       0.126538      N\n",
       " 9999999               1       2.304465               4       0.134037      N\n",
       " \n",
       " [10000000 rows x 5 columns]}"
      ]
     },
     "execution_count": 14,
     "metadata": {},
     "output_type": "execute_result"
    }
   ],
   "execution_count": 14
  },
  {
   "metadata": {},
   "cell_type": "markdown",
   "source": "## Normalidade anomalia",
   "id": "38d782005d0ff380"
  },
  {
   "metadata": {
    "ExecuteTime": {
     "end_time": "2025-04-28T23:41:23.620915Z",
     "start_time": "2025-04-28T23:41:23.607272Z"
    }
   },
   "cell_type": "code",
   "source": "paths_normalidade_anomalia = get_file_paths(path_normalidade_anomalia)",
   "id": "10778d7d7e234115",
   "outputs": [],
   "execution_count": 15
  },
  {
   "metadata": {
    "ExecuteTime": {
     "end_time": "2025-04-28T23:41:23.636398Z",
     "start_time": "2025-04-28T23:41:23.622300Z"
    }
   },
   "cell_type": "code",
   "source": "paths_normalidade_anomalia",
   "id": "64f528aa054b8ad",
   "outputs": [
    {
     "data": {
      "text/plain": [
       "['./data/vallen/normalidade_anomalia\\\\V-N_A-C1_1-C2_2-2024-03-12_16-28-14.npy',\n",
       " './data/vallen/normalidade_anomalia\\\\V-N_A-C1_1-C2_3-2024-03-12_16-26-13.npy',\n",
       " './data/vallen/normalidade_anomalia\\\\V-N_A-C1_1-C2_4-2024-03-12_16-23-47.npy']"
      ]
     },
     "execution_count": 16,
     "metadata": {},
     "output_type": "execute_result"
    }
   ],
   "execution_count": 16
  },
  {
   "metadata": {
    "ExecuteTime": {
     "end_time": "2025-04-28T23:41:26.947185Z",
     "start_time": "2025-04-28T23:41:23.638917Z"
    }
   },
   "cell_type": "code",
   "source": "df_normalidade_anomalia = mount_data_frames(paths_normalidade_anomalia)",
   "id": "e7204c5c5065410c",
   "outputs": [],
   "execution_count": 17
  },
  {
   "metadata": {
    "ExecuteTime": {
     "end_time": "2025-04-28T23:41:26.963020Z",
     "start_time": "2025-04-28T23:41:26.948691Z"
    }
   },
   "cell_type": "code",
   "source": "df_normalidade_anomalia",
   "id": "7113a24bb76958a8",
   "outputs": [
    {
     "data": {
      "text/plain": [
       "{'2':         posicao_canal_1  valor_canal_1 posicao_canal_2  valor_canal_2 estado\n",
       " 0                     1       1.926755               2       0.047795    N_A\n",
       " 1                     1       1.930422               2       0.059044    N_A\n",
       " 2                     1       1.937756               2       0.066544    N_A\n",
       " 3                     1       1.941423               2       0.066544    N_A\n",
       " 4                     1       1.945090               2       0.077793    N_A\n",
       " ...                 ...            ...             ...            ...    ...\n",
       " 9999995               1       0.144549               2       0.182783    N_A\n",
       " 9999996               1       0.144549               2       0.190282    N_A\n",
       " 9999997               1       0.151883               2       0.190282    N_A\n",
       " 9999998               1       0.148216               2       0.197781    N_A\n",
       " 9999999               1       0.148216               2       0.201531    N_A\n",
       " \n",
       " [10000000 rows x 5 columns],\n",
       " '3':         posicao_canal_1  valor_canal_1 posicao_canal_2  valor_canal_2 estado\n",
       " 0                     1      -1.131599               3       0.242777    N_A\n",
       " 1                     1      -1.149934               3       0.235277    N_A\n",
       " 2                     1      -1.171937               3       0.231528    N_A\n",
       " 3                     1      -1.201274               3       0.231528    N_A\n",
       " 4                     1      -1.226943               3       0.220279    N_A\n",
       " ...                 ...            ...             ...            ...    ...\n",
       " 9999995               1       0.261896               3       0.066544    N_A\n",
       " 9999996               1       0.276564               3       0.059044    N_A\n",
       " 9999997               1       0.291232               3       0.047795    N_A\n",
       " 9999998               1       0.305901               3       0.036547    N_A\n",
       " 9999999               1       0.316902               3       0.025298    N_A\n",
       " \n",
       " [10000000 rows x 5 columns],\n",
       " '4':         posicao_canal_1  valor_canal_1 posicao_canal_2  valor_canal_2 estado\n",
       " 0                     1       0.342572               4      -2.085750    N_A\n",
       " 1                     1       0.298566               4      -1.980760    N_A\n",
       " 2                     1       0.254561               4      -1.872020    N_A\n",
       " 3                     1       0.210556               4      -1.774530    N_A\n",
       " 4                     1       0.155550               4      -1.677039    N_A\n",
       " ...                 ...            ...             ...            ...    ...\n",
       " 9999995               1       3.411927               4      -0.664636    N_A\n",
       " 9999996               1       3.400925               4      -0.657137    N_A\n",
       " 9999997               1       3.393591               4      -0.642138    N_A\n",
       " 9999998               1       3.375256               4      -0.634639    N_A\n",
       " 9999999               1       3.360587               4      -0.627140    N_A\n",
       " \n",
       " [10000000 rows x 5 columns]}"
      ]
     },
     "execution_count": 18,
     "metadata": {},
     "output_type": "execute_result"
    }
   ],
   "execution_count": 18
  },
  {
   "metadata": {},
   "cell_type": "markdown",
   "source": "## Normalidade spray",
   "id": "85d3442ff289a942"
  },
  {
   "metadata": {
    "ExecuteTime": {
     "end_time": "2025-04-28T23:41:26.978143Z",
     "start_time": "2025-04-28T23:41:26.965244Z"
    }
   },
   "cell_type": "code",
   "source": "paths_normalidade_spray = get_file_paths(path_normalidade_spray)",
   "id": "51564170a0fb9831",
   "outputs": [],
   "execution_count": 19
  },
  {
   "metadata": {
    "ExecuteTime": {
     "end_time": "2025-04-28T23:41:26.994133Z",
     "start_time": "2025-04-28T23:41:26.980041Z"
    }
   },
   "cell_type": "code",
   "source": "paths_normalidade_spray",
   "id": "e1d552174e9f86d9",
   "outputs": [
    {
     "data": {
      "text/plain": [
       "['./data/vallen/normalidade_spray\\\\V-N_S-C1_1-C2_2-2024-03-13_08-44-34.npy',\n",
       " './data/vallen/normalidade_spray\\\\V-N_S-C1_1-C2_3-2024-03-13_08-45-56.npy',\n",
       " './data/vallen/normalidade_spray\\\\V-N_S-C1_1-C2_4-2024-03-13_08-47-34.npy']"
      ]
     },
     "execution_count": 20,
     "metadata": {},
     "output_type": "execute_result"
    }
   ],
   "execution_count": 20
  },
  {
   "metadata": {
    "ExecuteTime": {
     "end_time": "2025-04-28T23:41:29.994297Z",
     "start_time": "2025-04-28T23:41:26.996340Z"
    }
   },
   "cell_type": "code",
   "source": "df_normalidade_spray = mount_data_frames(paths_normalidade_spray)",
   "id": "766b6cbfb16fb9e4",
   "outputs": [],
   "execution_count": 21
  },
  {
   "metadata": {
    "ExecuteTime": {
     "end_time": "2025-04-28T23:41:30.009726Z",
     "start_time": "2025-04-28T23:41:29.996144Z"
    }
   },
   "cell_type": "code",
   "source": "df_normalidade_spray",
   "id": "f6f6051c37a4a4de",
   "outputs": [
    {
     "data": {
      "text/plain": [
       "{'2':         posicao_canal_1  valor_canal_1 posicao_canal_2  valor_canal_2 estado\n",
       " 0                     1       0.617603               2      -0.064694    N_S\n",
       " 1                     1       0.610269               2      -0.079692    N_S\n",
       " 2                     1       0.602935               2      -0.090941    N_S\n",
       " 3                     1       0.580932               2      -0.105940    N_S\n",
       " 4                     1       0.555263               2      -0.117189    N_S\n",
       " ...                 ...            ...             ...            ...    ...\n",
       " 9999995               1      -0.174488               2      -0.570895    N_S\n",
       " 9999996               1      -0.130483               2      -0.548397    N_S\n",
       " 9999997               1      -0.075477               2      -0.525900    N_S\n",
       " 9999998               1      -0.020470               2      -0.503402    N_S\n",
       " 9999999               1       0.034536               2      -0.484653    N_S\n",
       " \n",
       " [10000000 rows x 5 columns],\n",
       " '3':         posicao_canal_1  valor_canal_1 posicao_canal_2  valor_canal_2 estado\n",
       " 0                     1      -0.709883               3       0.299021    N_S\n",
       " 1                     1      -0.706216               3       0.306521    N_S\n",
       " 2                     1      -0.702549               3       0.314020    N_S\n",
       " 3                     1      -0.695215               3       0.314020    N_S\n",
       " 4                     1      -0.680547               3       0.317770    N_S\n",
       " ...                 ...            ...             ...            ...    ...\n",
       " 9999995               1       0.272897               3      -0.120938    N_S\n",
       " 9999996               1       0.236226               3      -0.132187    N_S\n",
       " 9999997               1       0.199555               3      -0.135937    N_S\n",
       " 9999998               1       0.159217               3      -0.139687    N_S\n",
       " 9999999               1       0.111545               3      -0.143436    N_S\n",
       " \n",
       " [10000000 rows x 5 columns],\n",
       " '4':         posicao_canal_1  valor_canal_1 posicao_canal_2  valor_canal_2 estado\n",
       " 0                     1      -1.714666               4       0.040296    N_S\n",
       " 1                     1      -1.696331               4       0.029047    N_S\n",
       " 2                     1      -1.677995               4       0.017798    N_S\n",
       " 3                     1      -1.644992               4       0.010299    N_S\n",
       " 4                     1      -1.615655               4       0.006549    N_S\n",
       " ...                 ...            ...             ...            ...    ...\n",
       " 9999995               1      -0.137817               4       0.017798    N_S\n",
       " 9999996               1      -0.189157               4       0.021548    N_S\n",
       " 9999997               1      -0.244163               4       0.017798    N_S\n",
       " 9999998               1      -0.291835               4       0.014049    N_S\n",
       " 9999999               1      -0.343174               4       0.014049    N_S\n",
       " \n",
       " [10000000 rows x 5 columns]}"
      ]
     },
     "execution_count": 22,
     "metadata": {},
     "output_type": "execute_result"
    }
   ],
   "execution_count": 22
  },
  {
   "metadata": {},
   "cell_type": "markdown",
   "source": "## Vazamento",
   "id": "b669d245131bc201"
  },
  {
   "metadata": {
    "ExecuteTime": {
     "end_time": "2025-04-28T23:41:30.025099Z",
     "start_time": "2025-04-28T23:41:30.012027Z"
    }
   },
   "cell_type": "code",
   "source": "paths_vazamento = get_file_paths(path_vazamento)",
   "id": "8f0bcb3f062b867c",
   "outputs": [],
   "execution_count": 23
  },
  {
   "metadata": {
    "ExecuteTime": {
     "end_time": "2025-04-28T23:41:30.040949Z",
     "start_time": "2025-04-28T23:41:30.027098Z"
    }
   },
   "cell_type": "code",
   "source": "paths_vazamento",
   "id": "9dc08a7b20388898",
   "outputs": [
    {
     "data": {
      "text/plain": [
       "['./data/vallen/vazamento_5_bar\\\\V-V5b-C1_1-C2_2-2024-03-13_10-57-11.npy',\n",
       " './data/vallen/vazamento_5_bar\\\\V-V5b-C1_1-C2_3-2024-03-13_10-57-59.npy',\n",
       " './data/vallen/vazamento_5_bar\\\\V-V5b-C1_1-C2_4-2024-03-13_10-58-49.npy']"
      ]
     },
     "execution_count": 24,
     "metadata": {},
     "output_type": "execute_result"
    }
   ],
   "execution_count": 24
  },
  {
   "metadata": {
    "ExecuteTime": {
     "end_time": "2025-04-28T23:41:33.209186Z",
     "start_time": "2025-04-28T23:41:30.043316Z"
    }
   },
   "cell_type": "code",
   "source": "df_vazamento = mount_data_frames(paths_vazamento)",
   "id": "d37c360e6045da3",
   "outputs": [],
   "execution_count": 25
  },
  {
   "metadata": {
    "ExecuteTime": {
     "end_time": "2025-04-28T23:41:33.256804Z",
     "start_time": "2025-04-28T23:41:33.223048Z"
    }
   },
   "cell_type": "code",
   "source": "df_vazamento",
   "id": "c8139aa47a96e52f",
   "outputs": [
    {
     "data": {
      "text/plain": [
       "{'2':         posicao_canal_1  valor_canal_1 posicao_canal_2  valor_canal_2 estado\n",
       " 0                     1      -0.079144               2      -0.023448    V5b\n",
       " 1                     1      -0.082811               2      -0.034697    V5b\n",
       " 2                     1      -0.086478               2      -0.038446    V5b\n",
       " 3                     1      -0.101146               2      -0.034697    V5b\n",
       " 4                     1      -0.112148               2      -0.049695    V5b\n",
       " ...                 ...            ...             ...            ...    ...\n",
       " 9999995               1       0.346239               2       0.047795    V5b\n",
       " 9999996               1       0.313235               2       0.051545    V5b\n",
       " 9999997               1       0.283898               2       0.055295    V5b\n",
       " 9999998               1       0.247227               2       0.055295    V5b\n",
       " 9999999               1       0.210556               2       0.047795    V5b\n",
       " \n",
       " [10000000 rows x 5 columns],\n",
       " '3':         posicao_canal_1  valor_canal_1 posicao_canal_2  valor_canal_2 estado\n",
       " 0                     1      -0.394514               3      -0.012199    V5b\n",
       " 1                     1      -0.416516               3      -0.000950    V5b\n",
       " 2                     1      -0.412849               3      -0.012199    V5b\n",
       " 3                     1      -0.416516               3      -0.000950    V5b\n",
       " 4                     1      -0.409182               3       0.002800    V5b\n",
       " ...                 ...            ...             ...            ...    ...\n",
       " 9999995               1      -0.024138               3      -0.015948    V5b\n",
       " 9999996               1      -0.009469               3      -0.019698    V5b\n",
       " 9999997               1       0.012533               3      -0.019698    V5b\n",
       " 9999998               1       0.034536               3      -0.015948    V5b\n",
       " 9999999               1       0.045537               3      -0.015948    V5b\n",
       " \n",
       " [10000000 rows x 5 columns],\n",
       " '4':         posicao_canal_1  valor_canal_1 posicao_canal_2  valor_canal_2 estado\n",
       " 0                     1       0.514925               4       0.047795    V5b\n",
       " 1                     1       0.500256               4       0.047795    V5b\n",
       " 2                     1       0.481921               4       0.051545    V5b\n",
       " 3                     1       0.470920               4       0.051545    V5b\n",
       " 4                     1       0.459918               4       0.051545    V5b\n",
       " ...                 ...            ...             ...            ...    ...\n",
       " 9999995               1      -0.398181               4       0.014049    V5b\n",
       " 9999996               1      -0.390847               4       0.014049    V5b\n",
       " 9999997               1      -0.387179               4       0.021548    V5b\n",
       " 9999998               1      -0.390847               4       0.021548    V5b\n",
       " 9999999               1      -0.390847               4       0.021548    V5b\n",
       " \n",
       " [10000000 rows x 5 columns]}"
      ]
     },
     "execution_count": 26,
     "metadata": {},
     "output_type": "execute_result"
    }
   ],
   "execution_count": 26
  },
  {
   "metadata": {},
   "cell_type": "markdown",
   "source": "## Vazamento anomalia",
   "id": "a53b045751654b58"
  },
  {
   "metadata": {
    "ExecuteTime": {
     "end_time": "2025-04-28T23:41:33.271948Z",
     "start_time": "2025-04-28T23:41:33.260380Z"
    }
   },
   "cell_type": "code",
   "source": "paths_vazamento_anomalia = get_file_paths(path_vazamento_anomalia)",
   "id": "238a0962a1fcfbfb",
   "outputs": [],
   "execution_count": 27
  },
  {
   "metadata": {
    "ExecuteTime": {
     "end_time": "2025-04-28T23:41:33.302231Z",
     "start_time": "2025-04-28T23:41:33.277501Z"
    }
   },
   "cell_type": "code",
   "source": "paths_vazamento_anomalia",
   "id": "d7efa027fbc1df2d",
   "outputs": [
    {
     "data": {
      "text/plain": [
       "['./data/vallen/vazamento_5_bar_anomalia\\\\V-V5b_A-C1_1-C2_3-2024-03-13_11-12-03.npy',\n",
       " './data/vallen/vazamento_5_bar_anomalia\\\\V-V5b_A-C1_1-C2_4-2024-03-13_11-09-10.npy']"
      ]
     },
     "execution_count": 28,
     "metadata": {},
     "output_type": "execute_result"
    }
   ],
   "execution_count": 28
  },
  {
   "metadata": {
    "ExecuteTime": {
     "end_time": "2025-04-28T23:41:35.813528Z",
     "start_time": "2025-04-28T23:41:33.306247Z"
    }
   },
   "cell_type": "code",
   "source": "df_vazamento_anomalia = mount_data_frames(paths_vazamento_anomalia)",
   "id": "279bca407ec3e8f6",
   "outputs": [],
   "execution_count": 29
  },
  {
   "metadata": {
    "ExecuteTime": {
     "end_time": "2025-04-28T23:28:46.806362Z",
     "start_time": "2025-04-28T23:28:46.792395Z"
    }
   },
   "cell_type": "code",
   "source": "df_vazamento_anomalia",
   "id": "edb6fb768e170632",
   "outputs": [
    {
     "data": {
      "text/plain": [
       "{'2':         posicao_canal_1  valor_canal_1 posicao_canal_2  valor_canal_2 estado\n",
       " 0                     1      -0.002135               2       0.014049  V5b_A\n",
       " 1                     1      -0.002135               2       0.017798  V5b_A\n",
       " 2                     1       0.001532               2       0.014049  V5b_A\n",
       " 3                     1       0.005199               2       0.006549  V5b_A\n",
       " 4                     1       0.001532               2       0.010299  V5b_A\n",
       " ...                 ...            ...             ...            ...    ...\n",
       " 9999995               1       0.012533               2       0.014049  V5b_A\n",
       " 9999996               1       0.005199               2       0.014049  V5b_A\n",
       " 9999997               1       0.008866               2       0.017798  V5b_A\n",
       " 9999998               1       0.008866               2       0.017798  V5b_A\n",
       " 9999999               1       0.001532               2       0.017798  V5b_A\n",
       " \n",
       " [10000000 rows x 5 columns],\n",
       " '3':         posicao_canal_1  valor_canal_1 posicao_canal_2  valor_canal_2 estado\n",
       " 0                     1      -0.020470               3       0.010299  V5b_A\n",
       " 1                     1      -0.013136               3       0.010299  V5b_A\n",
       " 2                     1      -0.005802               3       0.006549  V5b_A\n",
       " 3                     1      -0.005802               3       0.006549  V5b_A\n",
       " 4                     1       0.001532               3       0.002800  V5b_A\n",
       " ...                 ...            ...             ...            ...    ...\n",
       " 9999995               1       0.078541               3       0.006549  V5b_A\n",
       " 9999996               1       0.078541               3       0.002800  V5b_A\n",
       " 9999997               1       0.082208               3       0.010299  V5b_A\n",
       " 9999998               1       0.078541               3       0.002800  V5b_A\n",
       " 9999999               1       0.071207               3       0.002800  V5b_A\n",
       " \n",
       " [10000000 rows x 5 columns],\n",
       " '4':         posicao_canal_1  valor_canal_1 posicao_canal_2  valor_canal_2 estado\n",
       " 0                     1       0.034536               4       0.006549  V5b_A\n",
       " 1                     1       0.034536               4       0.014049  V5b_A\n",
       " 2                     1       0.023535               4       0.014049  V5b_A\n",
       " 3                     1       0.016200               4       0.014049  V5b_A\n",
       " 4                     1       0.012533               4       0.014049  V5b_A\n",
       " ...                 ...            ...             ...            ...    ...\n",
       " 9999995               1       0.038203               4       0.006549  V5b_A\n",
       " 9999996               1       0.030869               4       0.010299  V5b_A\n",
       " 9999997               1       0.023535               4       0.002800  V5b_A\n",
       " 9999998               1       0.019868               4       0.010299  V5b_A\n",
       " 9999999               1       0.016200               4       0.021548  V5b_A\n",
       " \n",
       " [10000000 rows x 5 columns]}"
      ]
     },
     "execution_count": 30,
     "metadata": {},
     "output_type": "execute_result"
    }
   ],
   "execution_count": 30
  },
  {
   "metadata": {},
   "cell_type": "markdown",
   "source": "## Vazamento spray",
   "id": "19e297bee0eab89"
  },
  {
   "metadata": {
    "ExecuteTime": {
     "end_time": "2025-04-28T23:28:46.821932Z",
     "start_time": "2025-04-28T23:28:46.807371Z"
    }
   },
   "cell_type": "code",
   "source": "paths_vazamento_spray = get_file_paths(path_vazamento_spray)",
   "id": "507338d76fc802d8",
   "outputs": [],
   "execution_count": 31
  },
  {
   "metadata": {
    "ExecuteTime": {
     "end_time": "2025-04-28T23:28:46.837683Z",
     "start_time": "2025-04-28T23:28:46.823059Z"
    }
   },
   "cell_type": "code",
   "source": "paths_vazamento_spray",
   "id": "2de02a822746b270",
   "outputs": [
    {
     "data": {
      "text/plain": [
       "['./data/qing_cheng/vazamento_5_bar_spray\\\\Qc-V5b_S-C1_1-C2_2-2024-03-13_11-18-51.npy',\n",
       " './data/qing_cheng/vazamento_5_bar_spray\\\\Qc-V5b_S-C1_1-C2_3-2024-03-13_11-20-58.npy',\n",
       " './data/qing_cheng/vazamento_5_bar_spray\\\\Qc-V5b_S-C1_1-C2_4-2024-03-13_11-23-20.npy']"
      ]
     },
     "execution_count": 32,
     "metadata": {},
     "output_type": "execute_result"
    }
   ],
   "execution_count": 32
  },
  {
   "metadata": {
    "ExecuteTime": {
     "end_time": "2025-04-28T23:28:49.493509Z",
     "start_time": "2025-04-28T23:28:46.839190Z"
    }
   },
   "cell_type": "code",
   "source": "df_vazamento_spray = mount_data_frames(paths_vazamento_spray)",
   "id": "8557fa1b60e13826",
   "outputs": [],
   "execution_count": 33
  },
  {
   "metadata": {
    "ExecuteTime": {
     "end_time": "2025-01-16T00:32:26.791655Z",
     "start_time": "2025-01-16T00:32:26.762520Z"
    }
   },
   "cell_type": "code",
   "source": "df_vazamento_spray",
   "id": "fa5765ea086a2af9",
   "execution_count": 130,
   "outputs": []
  },
  {
   "metadata": {},
   "cell_type": "markdown",
   "source": "# Sliding Window",
   "id": "ae12a7ddc53347b0"
  },
  {
   "metadata": {
    "ExecuteTime": {
     "end_time": "2025-01-16T00:32:26.806640Z",
     "start_time": "2025-01-16T00:32:26.794643Z"
    }
   },
   "cell_type": "code",
   "source": [
    "def sliding_window(data, size):\n",
    "    windows = []\n",
    "    for i in range(0, len(data), size):\n",
    "        window = data.iloc[i:i+size]\n",
    "        windows.append(window)\n",
    "    return windows"
   ],
   "id": "206e62fc330ee1c2",
   "execution_count": 131,
   "outputs": []
  },
  {
   "metadata": {
    "ExecuteTime": {
     "end_time": "2025-01-16T00:32:26.821916Z",
     "start_time": "2025-01-16T00:32:26.809682Z"
    }
   },
   "cell_type": "code",
   "source": [
    "# Tamanho da janela de slicing\n",
    "window_size = 10000 # refere-se a 0.01s, considerando a coleta de 1MHz"
   ],
   "id": "b5b1ce65cedcaaac",
   "execution_count": 132,
   "outputs": []
  },
  {
   "metadata": {
    "ExecuteTime": {
     "end_time": "2025-01-16T00:32:27.700466Z",
     "start_time": "2025-01-16T00:32:26.824068Z"
    }
   },
   "cell_type": "code",
   "source": [
    "# Aplicar a função de sliding window a cada dataframe em cada dicionário\n",
    "normalidade_windows = {key: sliding_window(df, window_size) for key, df in df_normalidade.items()}\n",
    "normalidade_anomalia_windows = {key: sliding_window(df, window_size) for key, df in df_normalidade_anomalia.items()}\n",
    "normalidade_spray_windows = {key: sliding_window(df, window_size) for key, df in df_normalidade_spray.items()}\n",
    "\n",
    "vazamento_windows = {key: sliding_window(df, window_size) for key, df in df_vazamento.items()}\n",
    "vazamento_anomalia_windows = {key: sliding_window(df, window_size) for key, df in df_vazamento_anomalia.items()}\n",
    "vazamento_spray_windows = {key: sliding_window(df, window_size) for key, df in df_normalidade_spray.items()}"
   ],
   "id": "fa56b1917e922e33",
   "execution_count": 133,
   "outputs": []
  },
  {
   "metadata": {
    "ExecuteTime": {
     "end_time": "2025-01-16T00:32:27.715381Z",
     "start_time": "2025-01-16T00:32:27.702844Z"
    }
   },
   "cell_type": "code",
   "source": [
    "print('---Normalidade---')\n",
    "print(f'Rótulos: {normalidade_windows.keys()}')\n",
    "print(f'Quantidade de janelas: {len(normalidade_windows[\"2\"])}')\n",
    "print(f'Tamanho das janela: {len(normalidade_windows[\"2\"][0])}')\n",
    "print('-----------------\\n')\n",
    "\n",
    "print('---Normalidade anomalia---')\n",
    "print(f'Rótulos: {normalidade_anomalia_windows.keys()}')\n",
    "print(f'Quantidade de janelas: {len(normalidade_anomalia_windows[\"2\"])}')\n",
    "print(f'Tamanho das janela: {len(normalidade_anomalia_windows[\"2\"][0])}')\n",
    "print('--------------------------\\n')\n",
    "\n",
    "print('---Normalidade spray---')\n",
    "print(f'Rótulos: {normalidade_spray_windows.keys()}')\n",
    "print(f'Quantidade de janelas: {len(normalidade_spray_windows[\"2\"])}')\n",
    "print(f'Tamanho das janela: {len(normalidade_spray_windows[\"2\"][0])}')\n",
    "print('-----------------------\\n')"
   ],
   "id": "47f4a3c53dbd9c99",
   "execution_count": 134,
   "outputs": []
  },
  {
   "metadata": {
    "ExecuteTime": {
     "end_time": "2025-01-16T00:32:27.730917Z",
     "start_time": "2025-01-16T00:32:27.717381Z"
    }
   },
   "cell_type": "code",
   "source": [
    "print('---Vazamento---')\n",
    "print(f'Rótulos: {vazamento_windows.keys()}')\n",
    "print(f'Quantidade de janelas: {len(vazamento_windows[\"2\"])}')\n",
    "print(f'Tamanho das janela: {len(vazamento_windows[\"2\"][0])}')\n",
    "print('---------------\\n')\n",
    "\n",
    "print('---Vazamento anomalia---')\n",
    "print(f'Rótulos: {vazamento_anomalia_windows.keys()}')\n",
    "print(f'Quantidade de janelas: {len(vazamento_anomalia_windows[\"3\"])}')\n",
    "print(f'Tamanho das janela: {len(vazamento_anomalia_windows[\"3\"][0])}')\n",
    "print('------------------------\\n')\n",
    "\n",
    "print('---Vazamento spray---')\n",
    "print(f'Rótulos: {vazamento_spray_windows.keys()}')\n",
    "print(f'Quantidade de janelas: {len(vazamento_spray_windows[\"2\"])}')\n",
    "print(f'Tamanho das janela: {len(vazamento_spray_windows[\"2\"][0])}')\n",
    "print('---------------------\\n')"
   ],
   "id": "103923425c37a9d6",
   "execution_count": 135,
   "outputs": []
  },
  {
   "metadata": {},
   "cell_type": "markdown",
   "source": "# Downsample",
   "id": "fed62325d8e97d1b"
  },
  {
   "metadata": {
    "ExecuteTime": {
     "end_time": "2025-01-16T00:32:27.746441Z",
     "start_time": "2025-01-16T00:32:27.732426Z"
    }
   },
   "cell_type": "code",
   "source": [
    "def downsample_dataframe(df, size):\n",
    "    # Calcular o fator de downsample\n",
    "    downsample_factor = len(df) // size\n",
    "    \n",
    "    # Selecionar cada enésimo elemento, onde n é o downsample_factor\n",
    "    downsampled_df = df.iloc[::downsample_factor]\n",
    "    \n",
    "    return downsampled_df"
   ],
   "id": "1c606308d6c51d39",
   "execution_count": 136,
   "outputs": []
  },
  {
   "metadata": {
    "ExecuteTime": {
     "end_time": "2025-01-16T00:32:27.762538Z",
     "start_time": "2025-01-16T00:32:27.748541Z"
    }
   },
   "cell_type": "code",
   "source": [
    "def apply_downsample(df_dict: dict, size: int):\n",
    "    df_dict_ds = {}\n",
    "    \n",
    "    # Loop sobre cada key:value em df_windows e downsample cada elemento\n",
    "    for key, dfs in df_dict.items():\n",
    "        df_dict_ds[key] = []\n",
    "        \n",
    "        for df in dfs:\n",
    "            # Downsample do DataFrame\n",
    "            df_dict_ds[key].append(downsample_dataframe(df, size).reset_index(drop=True))\n",
    "            \n",
    "    return df_dict_ds"
   ],
   "id": "8fea1a47e7f354c5",
   "execution_count": 137,
   "outputs": []
  },
  {
   "metadata": {
    "ExecuteTime": {
     "end_time": "2025-01-16T00:32:27.778088Z",
     "start_time": "2025-01-16T00:32:27.765055Z"
    }
   },
   "cell_type": "code",
   "source": [
    "# Valor de referência para o downsample\n",
    "new_size = 2500"
   ],
   "id": "c4e4b32eb6119eb4",
   "execution_count": 138,
   "outputs": []
  },
  {
   "metadata": {
    "ExecuteTime": {
     "end_time": "2025-01-16T00:32:31.022696Z",
     "start_time": "2025-01-16T00:32:27.780594Z"
    }
   },
   "cell_type": "code",
   "source": [
    "normalidade_windows_ds = apply_downsample(normalidade_windows, new_size)\n",
    "normalidade_anomalia_windows_ds = apply_downsample(normalidade_anomalia_windows, new_size)\n",
    "normalidade_spray_windows_ds = apply_downsample(normalidade_spray_windows, new_size)\n",
    "\n",
    "vazamento_windows_ds = apply_downsample(vazamento_windows, new_size)\n",
    "vazamento_anomalia_windows_ds = apply_downsample(vazamento_anomalia_windows, new_size)\n",
    "vazamento_spray_windows_ds = apply_downsample(vazamento_spray_windows, new_size)"
   ],
   "id": "6a2bf9b56159e9fc",
   "execution_count": 139,
   "outputs": []
  },
  {
   "metadata": {
    "ExecuteTime": {
     "end_time": "2025-01-16T00:32:31.037881Z",
     "start_time": "2025-01-16T00:32:31.024914Z"
    }
   },
   "cell_type": "code",
   "source": [
    "print('---Normalidade---')\n",
    "print(f'Rótulos: {normalidade_windows_ds.keys()}')\n",
    "print(f'Quantidade de janelas: {len(normalidade_windows_ds[\"2\"])}')\n",
    "print(f'Tamanho das janela: {len(normalidade_windows_ds[\"2\"][0])}')\n",
    "print('-----------------\\n')\n",
    "\n",
    "print('---Normalidade anomalia---')\n",
    "print(f'Rótulos: {normalidade_anomalia_windows_ds.keys()}')\n",
    "print(f'Quantidade de janelas: {len(normalidade_anomalia_windows_ds[\"2\"])}')\n",
    "print(f'Tamanho das janela: {len(normalidade_anomalia_windows_ds[\"2\"][0])}')\n",
    "print('--------------------------\\n')\n",
    "\n",
    "print('---Normalidade spray---')\n",
    "print(f'Rótulos: {normalidade_spray_windows_ds.keys()}')\n",
    "print(f'Quantidade de janelas: {len(normalidade_spray_windows_ds[\"2\"])}')\n",
    "print(f'Tamanho das janela: {len(normalidade_spray_windows_ds[\"2\"][0])}')\n",
    "print('-----------------------\\n')"
   ],
   "id": "a4e487ebb0722148",
   "execution_count": 140,
   "outputs": []
  },
  {
   "metadata": {
    "ExecuteTime": {
     "end_time": "2025-01-16T00:32:31.053895Z",
     "start_time": "2025-01-16T00:32:31.039968Z"
    }
   },
   "cell_type": "code",
   "source": [
    "print('---Vazamento---')\n",
    "print(f'Rótulos: {vazamento_windows_ds.keys()}')\n",
    "print(f'Quantidade de janelas: {len(vazamento_windows_ds[\"2\"])}')\n",
    "print(f'Tamanho das janela: {len(vazamento_windows_ds[\"2\"][0])}')\n",
    "print('---------------\\n')\n",
    "\n",
    "print('---Vazamento anomalia---')\n",
    "print(f'Rótulos: {vazamento_anomalia_windows_ds.keys()}')\n",
    "print(f'Quantidade de janelas: {len(vazamento_anomalia_windows_ds[\"3\"])}')\n",
    "print(f'Tamanho das janela: {len(vazamento_anomalia_windows_ds[\"3\"][0])}')\n",
    "print('------------------------\\n')\n",
    "\n",
    "print('---Vazamento spray---')\n",
    "print(f'Rótulos: {vazamento_spray_windows_ds.keys()}')\n",
    "print(f'Quantidade de janelas: {len(vazamento_spray_windows_ds[\"2\"])}')\n",
    "print(f'Tamanho das janela: {len(vazamento_spray_windows_ds[\"2\"][0])}')\n",
    "print('---------------------\\n')"
   ],
   "id": "380d144d90a1b040",
   "execution_count": 141,
   "outputs": []
  },
  {
   "metadata": {},
   "cell_type": "markdown",
   "source": "### Optou-se por retirar dados de normalidade pela semelhança entre eles, com principal objetivo de reduzir custo computacional para treinar o modelo final",
   "id": "b2087c96012ef471"
  },
  {
   "metadata": {
    "ExecuteTime": {
     "end_time": "2025-01-16T00:32:31.069535Z",
     "start_time": "2025-01-16T00:32:31.055897Z"
    }
   },
   "cell_type": "code",
   "source": "random.seed(42)",
   "id": "218f006c2b9629bf",
   "execution_count": 142,
   "outputs": []
  },
  {
   "metadata": {
    "ExecuteTime": {
     "end_time": "2025-01-16T00:32:31.085331Z",
     "start_time": "2025-01-16T00:32:31.071294Z"
    }
   },
   "cell_type": "code",
   "source": [
    "def normality_sampling(df_dict: dict, keep_percentage: float):\n",
    "    df_dict_n = {}\n",
    "    \n",
    "    # Loop sobre cada key:value em df_windows\n",
    "    for key, value in df_dict.items():\n",
    "        # Número de elementos a serem mantidos\n",
    "        num_to_keep = int(len(value) * keep_percentage)\n",
    "        \n",
    "        # Selecionar aleatoriamente os índices dos elementos a serem mantidos\n",
    "        indices_to_keep = random.sample(range(len(value)), num_to_keep)\n",
    "        \n",
    "        # Filtrar a lista de dataframes mantendo apenas os elementos selecionados\n",
    "        df_dict_n[key] = [value[i] for i in indices_to_keep]\n",
    "        \n",
    "    return df_dict_n\n",
    "    \n",
    "    # Agora df_windows contém apenas x% dos elementos originais para cada key:value"
   ],
   "id": "864f398a42a6a577",
   "execution_count": 143,
   "outputs": []
  },
  {
   "metadata": {
    "ExecuteTime": {
     "end_time": "2025-01-16T00:32:31.100533Z",
     "start_time": "2025-01-16T00:32:31.087331Z"
    }
   },
   "cell_type": "code",
   "source": [
    "# Porcentagem de elementos a serem mantidos\n",
    "keep_percentage_vazamento = 1 # tem que ser pelo menos 10%\n",
    "\n",
    "keep_percentage_normalidade = keep_percentage_vazamento/9 # sempre 1/9 da quantidade de dados de cada classe para não gerar desbalanceamento"
   ],
   "id": "c0a0bb5dcd915f82",
   "execution_count": 144,
   "outputs": []
  },
  {
   "metadata": {
    "ExecuteTime": {
     "end_time": "2025-01-16T00:32:31.761229Z",
     "start_time": "2025-01-16T00:32:31.102710Z"
    }
   },
   "cell_type": "code",
   "source": [
    "normalidade_windows_ds_n = normality_sampling(normalidade_windows_ds, keep_percentage_normalidade)\n",
    "normalidade_anomalia_windows_ds_n = normality_sampling(normalidade_anomalia_windows_ds, keep_percentage_normalidade)\n",
    "normalidade_spray_windows_ds_n = normality_sampling(normalidade_spray_windows_ds, keep_percentage_normalidade)\n",
    "\n",
    "vazamento_windows_ds_n = normality_sampling(vazamento_windows_ds, keep_percentage_vazamento)\n",
    "vazamento_anomalia_windows_ds_n = normality_sampling(vazamento_anomalia_windows_ds, keep_percentage_vazamento)\n",
    "vazamento_spray_windows_ds_n = normality_sampling(vazamento_spray_windows_ds, keep_percentage_vazamento)"
   ],
   "id": "d1118ddaa4f683ce",
   "execution_count": 145,
   "outputs": []
  },
  {
   "metadata": {
    "ExecuteTime": {
     "end_time": "2025-01-16T00:32:31.776897Z",
     "start_time": "2025-01-16T00:32:31.762734Z"
    }
   },
   "cell_type": "code",
   "source": [
    "print('---Normalidade---')\n",
    "print(f'Rótulos: {normalidade_windows_ds_n.keys()}')\n",
    "print(f'Quantidade de janelas: {len(normalidade_windows_ds_n[\"2\"])}')\n",
    "print(f'Tamanho das janela: {len(normalidade_windows_ds_n[\"2\"][0])}')\n",
    "print('-----------------\\n')\n",
    "\n",
    "print('---Normalidade anomalia---')\n",
    "print(f'Rótulos: {normalidade_anomalia_windows_ds_n.keys()}')\n",
    "print(f'Quantidade de janelas: {len(normalidade_anomalia_windows_ds_n[\"2\"])}')\n",
    "print(f'Tamanho das janela: {len(normalidade_anomalia_windows_ds_n[\"2\"][0])}')\n",
    "print('--------------------------\\n')\n",
    "\n",
    "print('---Normalidade spray---')\n",
    "print(f'Rótulos: {normalidade_spray_windows_ds_n.keys()}')\n",
    "print(f'Quantidade de janelas: {len(normalidade_spray_windows_ds_n[\"2\"])}')\n",
    "print(f'Tamanho das janela: {len(normalidade_spray_windows_ds_n[\"2\"][0])}')\n",
    "print('-----------------------\\n')"
   ],
   "id": "8f0e0d68cca3021b",
   "execution_count": 146,
   "outputs": []
  },
  {
   "metadata": {
    "ExecuteTime": {
     "end_time": "2025-01-16T00:32:31.792725Z",
     "start_time": "2025-01-16T00:32:31.778900Z"
    }
   },
   "cell_type": "code",
   "source": [
    "print('---Vazamento---')\n",
    "print(f'Rótulos: {vazamento_windows_ds_n.keys()}')\n",
    "print(f'Quantidade de janelas: {len(vazamento_windows_ds_n[\"2\"])}')\n",
    "print(f'Tamanho das janela: {len(vazamento_windows_ds_n[\"2\"][0])}')\n",
    "print('---------------\\n')\n",
    "\n",
    "print('---Vazamento anomalia---')\n",
    "print(f'Rótulos: {vazamento_anomalia_windows_ds_n.keys()}')\n",
    "print(f'Quantidade de janelas: {len(vazamento_anomalia_windows_ds_n[\"3\"])}')\n",
    "print(f'Tamanho das janela: {len(vazamento_anomalia_windows_ds_n[\"3\"][0])}')\n",
    "print('------------------------\\n')\n",
    "\n",
    "print('---Vazamento spray---')\n",
    "print(f'Rótulos: {vazamento_spray_windows_ds_n.keys()}')\n",
    "print(f'Quantidade de janelas: {len(vazamento_spray_windows_ds_n[\"2\"])}')\n",
    "print(f'Tamanho das janela: {len(vazamento_spray_windows_ds_n[\"2\"][0])}')\n",
    "print('---------------------\\n')"
   ],
   "id": "1e392ae4d2dab9ed",
   "execution_count": 147,
   "outputs": []
  },
  {
   "metadata": {},
   "cell_type": "markdown",
   "source": "# FFT",
   "id": "81b6b054ed371e59"
  },
  {
   "metadata": {
    "ExecuteTime": {
     "end_time": "2025-01-16T00:32:31.808267Z",
     "start_time": "2025-01-16T00:32:31.794848Z"
    }
   },
   "cell_type": "code",
   "source": [
    "def fft_transform(df, canal, fs, n):\n",
    "    t = 1/fs\n",
    "    # x = np.linspace(0.0, N*T, N, endpoint=False)\n",
    "    y_values = df[canal].values\n",
    "\n",
    "    # valor imaginario\n",
    "    yf = fft(y_values)\n",
    "    xf = fftfreq(n, t)[:n//2]\n",
    "\n",
    "    yf = 2.0/n * np.abs(yf[:n//2])\n",
    "\n",
    "    return xf, yf"
   ],
   "id": "e94b8c3226d62909",
   "execution_count": 148,
   "outputs": []
  },
  {
   "metadata": {
    "ExecuteTime": {
     "end_time": "2025-01-16T00:32:31.823684Z",
     "start_time": "2025-01-16T00:32:31.813812Z"
    }
   },
   "cell_type": "code",
   "source": [
    "def mount_fft_data_frames(df_windows, element_size, fs, n):\n",
    "    windows_fft = {}\n",
    "    xf1, xf2 = None, None\n",
    "    \n",
    "    # Inicializando cada valor do dicionário como uma lista de dataframes vazios\n",
    "    for sensor_position in df_windows:\n",
    "        windows_fft[sensor_position] = [pd.DataFrame(columns=['canal_1', 'canal_2']) for _ in range(element_size)]\n",
    "    \n",
    "    # tira a fft e filtra para todas as janelas de tempo em df_windows e salva em df_windows_fft\n",
    "    for sensor_position in df_windows:\n",
    "        for index, _ in enumerate(df_windows[sensor_position]):\n",
    "            xf1, windows_fft[sensor_position][index]['canal_1'] = fft_transform(df_windows[sensor_position][index], 'valor_canal_1', fs, n)\n",
    "            xf2, windows_fft[sensor_position][index]['canal_2'] = fft_transform(df_windows[sensor_position][index], 'valor_canal_2', fs, n)\n",
    "            windows_fft[sensor_position][index].reset_index(drop=True, inplace=True)\n",
    "            \n",
    "    return windows_fft, xf1, xf2"
   ],
   "id": "2b77d36e7a10bf88",
   "execution_count": 149,
   "outputs": []
  },
  {
   "metadata": {
    "ExecuteTime": {
     "end_time": "2025-01-16T00:32:31.839238Z",
     "start_time": "2025-01-16T00:32:31.825683Z"
    }
   },
   "cell_type": "code",
   "source": [
    "fft_fs = 1000000.0/(window_size/new_size)\n",
    "fft_N = new_size"
   ],
   "id": "5c6e147a10c4933b",
   "execution_count": 150,
   "outputs": []
  },
  {
   "metadata": {},
   "cell_type": "markdown",
   "source": "## Normalidade",
   "id": "3bcf9fa2372a2c19"
  },
  {
   "metadata": {
    "ExecuteTime": {
     "end_time": "2025-01-16T00:32:32.151131Z",
     "start_time": "2025-01-16T00:32:31.840745Z"
    }
   },
   "cell_type": "code",
   "source": [
    "normalidade_dfs_fft_size = len(normalidade_windows_ds_n['2'])\n",
    "normalidade_windows_fft, normalidade_xf1, normalidade_xf2 = mount_fft_data_frames(normalidade_windows_ds_n, normalidade_dfs_fft_size, fft_fs, fft_N)"
   ],
   "id": "2bdc4a3474e96110",
   "execution_count": 151,
   "outputs": []
  },
  {
   "metadata": {
    "ExecuteTime": {
     "end_time": "2025-01-16T00:32:32.461877Z",
     "start_time": "2025-01-16T00:32:32.153644Z"
    }
   },
   "cell_type": "code",
   "source": [
    "plt.figure(figsize=(10, 6))\n",
    "plt.plot(normalidade_xf1, normalidade_windows_fft['2'][12]['canal_1'], label='Canal 1')\n",
    "plt.plot(normalidade_xf1, normalidade_windows_fft['2'][12]['canal_2'], label='Canal 2')\n",
    "plt.xlabel('Frequência')\n",
    "plt.ylabel('Magnitude')\n",
    "plt.title('Normalidade')\n",
    "plt.legend()\n",
    "plt.show()"
   ],
   "id": "781b2b833b51f7e0",
   "execution_count": 152,
   "outputs": []
  },
  {
   "metadata": {
    "ExecuteTime": {
     "end_time": "2025-01-16T00:32:32.477508Z",
     "start_time": "2025-01-16T00:32:32.463918Z"
    }
   },
   "cell_type": "code",
   "source": [
    "print(normalidade_xf1[150])\n",
    "print(normalidade_xf1[700])"
   ],
   "id": "4f9afade1bd09085",
   "execution_count": 153,
   "outputs": []
  },
  {
   "metadata": {},
   "cell_type": "markdown",
   "source": "## Normalidade anomalia",
   "id": "d16ec777d20df635"
  },
  {
   "metadata": {
    "ExecuteTime": {
     "end_time": "2025-01-16T00:32:32.789638Z",
     "start_time": "2025-01-16T00:32:32.479725Z"
    }
   },
   "cell_type": "code",
   "source": [
    "normalidade_anomalia_dfs_fft_size = len(normalidade_anomalia_windows_ds_n['2'])\n",
    "normalidade_anomalia_windows_fft, normalidade_anomalia_xf1, normalidade_anomalia_xf2 = mount_fft_data_frames(normalidade_anomalia_windows_ds_n, normalidade_anomalia_dfs_fft_size, fft_fs, fft_N)"
   ],
   "id": "21e4d774b6898b08",
   "execution_count": 154,
   "outputs": []
  },
  {
   "metadata": {
    "ExecuteTime": {
     "end_time": "2025-01-16T00:32:33.022015Z",
     "start_time": "2025-01-16T00:32:32.791649Z"
    }
   },
   "cell_type": "code",
   "source": [
    "plt.figure(figsize=(10, 6))\n",
    "plt.plot(normalidade_anomalia_xf1, normalidade_anomalia_windows_fft['2'][12]['canal_1'], label='Canal 1')\n",
    "plt.plot(normalidade_anomalia_xf1, normalidade_anomalia_windows_fft['2'][12]['canal_2'], label='Canal 2')\n",
    "plt.xlabel('Frequência')\n",
    "plt.ylabel('Magnitude')\n",
    "plt.title('Normalidade anomalia')\n",
    "plt.legend()\n",
    "plt.show()"
   ],
   "id": "642b07a9febd0831",
   "execution_count": 155,
   "outputs": []
  },
  {
   "metadata": {
    "ExecuteTime": {
     "end_time": "2025-01-16T00:32:33.037451Z",
     "start_time": "2025-01-16T00:32:33.024736Z"
    }
   },
   "cell_type": "code",
   "source": [
    "print(normalidade_anomalia_xf1[150])\n",
    "print(normalidade_anomalia_xf1[700])"
   ],
   "id": "7b44577803ccf408",
   "execution_count": 156,
   "outputs": []
  },
  {
   "metadata": {},
   "cell_type": "markdown",
   "source": "## Normalidade spray",
   "id": "356ec0cb2f2f223b"
  },
  {
   "metadata": {
    "ExecuteTime": {
     "end_time": "2025-01-16T00:32:33.332730Z",
     "start_time": "2025-01-16T00:32:33.039450Z"
    }
   },
   "cell_type": "code",
   "source": [
    "normalidade_spray_dfs_fft_size = len(normalidade_spray_windows_ds_n['2'])\n",
    "normalidade_spray_windows_fft, normalidade_spray_xf1, normalidade_spray_xf2 = mount_fft_data_frames(normalidade_spray_windows_ds_n, normalidade_spray_dfs_fft_size, fft_fs, fft_N)"
   ],
   "id": "da05da3fccc42768",
   "execution_count": 157,
   "outputs": []
  },
  {
   "metadata": {
    "ExecuteTime": {
     "end_time": "2025-01-16T00:32:33.565927Z",
     "start_time": "2025-01-16T00:32:33.334250Z"
    }
   },
   "cell_type": "code",
   "source": [
    "plt.figure(figsize=(10, 6))\n",
    "plt.plot(normalidade_spray_xf1, normalidade_spray_windows_fft['2'][12]['canal_1'], label='Canal 1')\n",
    "plt.plot(normalidade_spray_xf1, normalidade_spray_windows_fft['2'][12]['canal_2'], label='Canal 2')\n",
    "plt.xlabel('Frequência')\n",
    "plt.ylabel('Magnitude')\n",
    "plt.title('Normalidade spray')\n",
    "plt.legend()\n",
    "plt.show()"
   ],
   "id": "62efc240e69bce40",
   "execution_count": 158,
   "outputs": []
  },
  {
   "metadata": {
    "ExecuteTime": {
     "end_time": "2025-01-16T00:32:33.580973Z",
     "start_time": "2025-01-16T00:32:33.567925Z"
    }
   },
   "cell_type": "code",
   "source": [
    "print(normalidade_spray_xf1[150])\n",
    "print(normalidade_spray_xf1[700])"
   ],
   "id": "ce3c8c95f2d5c35c",
   "execution_count": 159,
   "outputs": []
  },
  {
   "metadata": {},
   "cell_type": "markdown",
   "source": "## Vazamento",
   "id": "c663c20f71e994c3"
  },
  {
   "metadata": {
    "ExecuteTime": {
     "end_time": "2025-01-16T00:32:36.557822Z",
     "start_time": "2025-01-16T00:32:33.582584Z"
    }
   },
   "cell_type": "code",
   "source": [
    "vazamento_dfs_fft_size = len(vazamento_windows_ds_n['2'])\n",
    "vazamento_windows_fft, vazamento_xf1, vazamento_xf2 = mount_fft_data_frames(vazamento_windows_ds_n, vazamento_dfs_fft_size, fft_fs, fft_N)"
   ],
   "id": "c3f800cfacd10ed7",
   "execution_count": 160,
   "outputs": []
  },
  {
   "metadata": {
    "ExecuteTime": {
     "end_time": "2025-01-16T00:32:36.774145Z",
     "start_time": "2025-01-16T00:32:36.559640Z"
    }
   },
   "cell_type": "code",
   "source": [
    "plt.figure(figsize=(10, 6))\n",
    "plt.plot(vazamento_xf1, vazamento_windows_fft['2'][12]['canal_1'], label='Canal 1')\n",
    "plt.plot(vazamento_xf1, vazamento_windows_fft['2'][12]['canal_2'], label='Canal 2')\n",
    "plt.xlabel('Frequência')\n",
    "plt.ylabel('Magnitude')\n",
    "plt.title('Vazamento')\n",
    "plt.legend()\n",
    "plt.show()"
   ],
   "id": "738524a6bcf50142",
   "execution_count": 161,
   "outputs": []
  },
  {
   "metadata": {
    "ExecuteTime": {
     "end_time": "2025-01-16T00:32:36.789723Z",
     "start_time": "2025-01-16T00:32:36.776462Z"
    }
   },
   "cell_type": "code",
   "source": [
    "print(vazamento_xf1[150])\n",
    "print(vazamento_xf1[700])"
   ],
   "id": "e764de4c0b3eaa35",
   "execution_count": 162,
   "outputs": []
  },
  {
   "metadata": {},
   "cell_type": "markdown",
   "source": "## Vazamento anomalia",
   "id": "dd0d2f8f4c7fa040"
  },
  {
   "metadata": {
    "ExecuteTime": {
     "end_time": "2025-01-16T00:32:39.309051Z",
     "start_time": "2025-01-16T00:32:36.791909Z"
    }
   },
   "cell_type": "code",
   "source": [
    "vazamento_anomalia_dfs_fft_size = len(vazamento_anomalia_windows_ds_n['3'])\n",
    "vazamento_anomalia_windows_fft, vazamento_anomalia_xf1, vazamento_anomalia_xf2 = mount_fft_data_frames(vazamento_anomalia_windows_ds_n, vazamento_anomalia_dfs_fft_size, fft_fs, fft_N)"
   ],
   "id": "bc9e6103f5f11ff5",
   "execution_count": 163,
   "outputs": []
  },
  {
   "metadata": {
    "ExecuteTime": {
     "end_time": "2025-01-16T00:32:39.545318Z",
     "start_time": "2025-01-16T00:32:39.311170Z"
    }
   },
   "cell_type": "code",
   "source": [
    "plt.figure(figsize=(10, 6))\n",
    "plt.plot(vazamento_anomalia_xf1, vazamento_anomalia_windows_fft['3'][12]['canal_1'], label='Canal 1')\n",
    "plt.plot(vazamento_anomalia_xf1, vazamento_anomalia_windows_fft['3'][12]['canal_2'], label='Canal 2')\n",
    "plt.xlabel('Frequência')\n",
    "plt.ylabel('Magnitude')\n",
    "plt.title('Vazamento anomalia')\n",
    "plt.legend()\n",
    "plt.show()"
   ],
   "id": "d27c67659a4627e8",
   "execution_count": 164,
   "outputs": []
  },
  {
   "metadata": {
    "ExecuteTime": {
     "end_time": "2025-01-16T00:32:39.561058Z",
     "start_time": "2025-01-16T00:32:39.547317Z"
    }
   },
   "cell_type": "code",
   "source": [
    "print(vazamento_anomalia_xf1[150])\n",
    "print(vazamento_anomalia_xf1[700])"
   ],
   "id": "f5cea82bfaeecfa",
   "execution_count": 165,
   "outputs": []
  },
  {
   "metadata": {},
   "cell_type": "markdown",
   "source": "## Vazamento spray",
   "id": "679eec90a7a9c3fe"
  },
  {
   "metadata": {
    "ExecuteTime": {
     "end_time": "2025-01-16T00:32:42.600970Z",
     "start_time": "2025-01-16T00:32:39.563571Z"
    }
   },
   "cell_type": "code",
   "source": [
    "vazamento_spray_dfs_fft_size = len(vazamento_spray_windows_ds_n['2'])\n",
    "vazamento_spray_windows_fft, vazamento_spray_xf1, vazamento_spray_xf2 = mount_fft_data_frames(vazamento_spray_windows_ds_n, vazamento_spray_dfs_fft_size, fft_fs, fft_N)"
   ],
   "id": "36283540711c282c",
   "execution_count": 166,
   "outputs": []
  },
  {
   "metadata": {
    "ExecuteTime": {
     "end_time": "2025-01-16T00:32:42.818520Z",
     "start_time": "2025-01-16T00:32:42.602970Z"
    }
   },
   "cell_type": "code",
   "source": [
    "plt.figure(figsize=(10, 6))\n",
    "plt.plot(vazamento_spray_xf1, vazamento_spray_windows_fft['2'][12]['canal_1'], label='Canal 1')\n",
    "plt.plot(vazamento_spray_xf1, vazamento_spray_windows_fft['2'][12]['canal_2'], label='Canal 2')\n",
    "plt.xlabel('Frequência')\n",
    "plt.ylabel('Magnitude')\n",
    "plt.title('Vazamento spray')\n",
    "plt.legend()\n",
    "plt.show()"
   ],
   "id": "d6f1abe2f0174657",
   "execution_count": 167,
   "outputs": []
  },
  {
   "metadata": {
    "ExecuteTime": {
     "end_time": "2025-01-16T00:32:42.833984Z",
     "start_time": "2025-01-16T00:32:42.819518Z"
    }
   },
   "cell_type": "code",
   "source": [
    "print(vazamento_spray_xf1[150])\n",
    "print(vazamento_spray_xf1[700])"
   ],
   "id": "9ebc4c9eaa80954a",
   "execution_count": 168,
   "outputs": []
  },
  {
   "metadata": {},
   "cell_type": "markdown",
   "source": "## Sampling",
   "id": "8de6c7c84d10b72a"
  },
  {
   "metadata": {
    "ExecuteTime": {
     "end_time": "2025-01-16T00:32:42.848755Z",
     "start_time": "2025-01-16T00:32:42.835984Z"
    }
   },
   "cell_type": "code",
   "source": [
    "def fft_sampling(df_windows_fft: dict):\n",
    "    df_windows_fft_sampled = {}\n",
    "    \n",
    "    for sensor_position in df_windows_fft:\n",
    "        df_windows_fft_sampled[sensor_position] = []\n",
    "        \n",
    "        for index, sample in enumerate(df_windows_fft[sensor_position]):\n",
    "            df_windows_fft_sampled[sensor_position].append(sample[150:700].reset_index(drop=True))\n",
    "            # df_windows_fft_sampled[sensor_position].append(sample[0:700].reset_index(drop=True))\n",
    "            \n",
    "    return df_windows_fft_sampled"
   ],
   "id": "4efc39d9e07e726",
   "execution_count": 169,
   "outputs": []
  },
  {
   "metadata": {
    "ExecuteTime": {
     "end_time": "2025-01-16T00:32:43.981645Z",
     "start_time": "2025-01-16T00:32:42.850753Z"
    }
   },
   "cell_type": "code",
   "source": [
    "normalidade_windows_fft_s = fft_sampling(normalidade_windows_fft)\n",
    "normalidade_anomalia_windows_fft_s = fft_sampling(normalidade_anomalia_windows_fft)\n",
    "normalidade_spray_windows_fft_s = fft_sampling(normalidade_spray_windows_fft)\n",
    "\n",
    "vazamento_windows_fft_s = fft_sampling(vazamento_windows_fft)\n",
    "vazamento_anomalia_windows_fft_s = fft_sampling(vazamento_anomalia_windows_fft)\n",
    "vazamento_spray_windows_fft_s = fft_sampling(vazamento_spray_windows_fft)"
   ],
   "id": "2f0e62230acb62f1",
   "execution_count": 170,
   "outputs": []
  },
  {
   "metadata": {
    "ExecuteTime": {
     "end_time": "2025-01-16T00:32:45.078998Z",
     "start_time": "2025-01-16T00:32:43.984030Z"
    }
   },
   "cell_type": "code",
   "source": [
    "plt.figure(figsize=(10, 6))\n",
    "plt.plot(vazamento_xf1[150:700], vazamento_windows_fft_s['2'][12]['canal_1'], label='Canal 1')\n",
    "plt.plot(vazamento_xf1[150:700], vazamento_windows_fft_s['2'][12]['canal_2'], label='Canal 2')\n",
    "# plt.plot(vazamento_xf1[0:700], vazamento_windows_fft_s['2'][12]['canal_1'], label='Canal 1')\n",
    "# plt.plot(vazamento_xf1[0:700], vazamento_windows_fft_s['2'][12]['canal_2'], label='Canal 2')\n",
    "plt.xlabel('Frequência')\n",
    "plt.ylabel('Magnitude')\n",
    "plt.title('Vazamento')\n",
    "plt.legend()\n",
    "plt.show()"
   ],
   "id": "be1a5a2599b342c8",
   "execution_count": 171,
   "outputs": []
  },
  {
   "metadata": {},
   "cell_type": "markdown",
   "source": "# Standard-Scaler",
   "id": "522c15408ec21e50"
  },
  {
   "metadata": {
    "ExecuteTime": {
     "end_time": "2025-01-16T00:32:45.094439Z",
     "start_time": "2025-01-16T00:32:45.081315Z"
    }
   },
   "cell_type": "code",
   "source": [
    "def apply_scaler(df_windows_fft: dict):\n",
    "    df_windows_fft_scaled = {}\n",
    "    \n",
    "    for key, value_list in df_windows_fft.items():\n",
    "        df_windows_fft_scaled[key] = []\n",
    "        \n",
    "        for df in value_list:\n",
    "            df_scaled = pd.DataFrame()\n",
    "            \n",
    "            # Inicialize o StandardScaler\n",
    "            scaler = StandardScaler()\n",
    "            \n",
    "            # Ajuste o scaler aos dados e transforme os valores\n",
    "            scaled_values_1 = scaler.fit_transform(df[['canal_1']])\n",
    "            scaled_values_2 = scaler.fit_transform(df[['canal_2']])\n",
    "            \n",
    "            # Substitua os valores na coluna 'valor_sensor' pelos valores normalizados\n",
    "            df_scaled['canal_1'] = scaled_values_1.flatten()\n",
    "            df_scaled['canal_2'] = scaled_values_2.flatten()\n",
    "            \n",
    "            df_windows_fft_scaled[key].append(df_scaled)\n",
    "            \n",
    "    return df_windows_fft_scaled"
   ],
   "id": "e06018693455283d",
   "execution_count": 172,
   "outputs": []
  },
  {
   "metadata": {
    "ExecuteTime": {
     "end_time": "2024-09-14T23:31:31.795059Z",
     "start_time": "2024-09-14T23:30:55.351872Z"
    }
   },
   "cell_type": "code",
   "source": [
    "normalidade_windows_fft_scaled = apply_scaler(normalidade_windows_fft_s)\n",
    "normalidade_anomalia_windows_fft_scaled = apply_scaler(normalidade_anomalia_windows_fft_s)\n",
    "normalidade_spray_windows_fft_scaled = apply_scaler(normalidade_windows_fft_s)\n",
    "\n",
    "vazamento_windows_fft_scaled = apply_scaler(vazamento_windows_fft_s)\n",
    "vazamento_anomalia_windows_fft_scaled = apply_scaler(vazamento_anomalia_windows_fft_s)\n",
    "vazamento_spray_windows_fft_scaled = apply_scaler(vazamento_spray_windows_fft_s)"
   ],
   "id": "f21184d2e0be7857",
   "execution_count": 167,
   "outputs": []
  },
  {
   "metadata": {},
   "cell_type": "markdown",
   "source": "# Prepare Labels",
   "id": "d5c51f5695eb061"
  },
  {
   "metadata": {
    "ExecuteTime": {
     "end_time": "2024-09-14T23:31:32.079067Z",
     "start_time": "2024-09-14T23:31:31.796657Z"
    }
   },
   "cell_type": "code",
   "source": [
    "all_windows = []\n",
    "labels = []"
   ],
   "id": "4b1cb60fff3101da",
   "execution_count": 168,
   "outputs": []
  },
  {
   "metadata": {
    "ExecuteTime": {
     "end_time": "2024-09-14T23:31:32.094350Z",
     "start_time": "2024-09-14T23:31:32.081211Z"
    }
   },
   "cell_type": "code",
   "source": [
    "def prepare_info(df_windows_fft: dict, label):    \n",
    "    for key, value in df_windows_fft.items():\n",
    "        data = []\n",
    "        \n",
    "        if exclude_channel_1:\n",
    "            for df in value:\n",
    "                data.append(df.drop('canal_1', axis=1))\n",
    "                \n",
    "        else:\n",
    "            data = value\n",
    "        \n",
    "        if position_training and (label != 0):\n",
    "            labels.extend([int(key) - 1] * len(value))\n",
    "            \n",
    "        else:\n",
    "            labels.extend([label] * len(value))\n",
    "        \n",
    "        all_windows.extend(data)"
   ],
   "id": "3c8fd264dcb60a58",
   "execution_count": 169,
   "outputs": []
  },
  {
   "metadata": {
    "ExecuteTime": {
     "end_time": "2024-09-14T23:31:34.922197Z",
     "start_time": "2024-09-14T23:31:32.098876Z"
    }
   },
   "cell_type": "code",
   "source": [
    "prepare_info(normalidade_windows_fft_scaled, 0)\n",
    "prepare_info(vazamento_windows_fft_scaled, 1)\n",
    "\n",
    "if include_anomalia:\n",
    "    prepare_info(normalidade_anomalia_windows_fft_scaled, 0)\n",
    "    prepare_info(vazamento_anomalia_windows_fft_scaled, 1)\n",
    "\n",
    "if include_spray:\n",
    "    prepare_info(normalidade_spray_windows_fft_scaled, 0)\n",
    "    prepare_info(vazamento_spray_windows_fft_scaled, 1)"
   ],
   "id": "dbde7ac14a11afff",
   "execution_count": 170,
   "outputs": []
  },
  {
   "metadata": {
    "ExecuteTime": {
     "end_time": "2024-09-14T23:31:35.186489Z",
     "start_time": "2024-09-14T23:31:34.924201Z"
    }
   },
   "cell_type": "code",
   "source": [
    "# Convertendo as listas de dataframes em uma única lista de numpy arrays\n",
    "X = np.array(all_windows)\n",
    "y = np.array(labels)"
   ],
   "id": "1756ef354c0e6bd3",
   "execution_count": 171,
   "outputs": []
  },
  {
   "metadata": {
    "ExecuteTime": {
     "end_time": "2024-09-14T23:31:35.217837Z",
     "start_time": "2024-09-14T23:31:35.189008Z"
    }
   },
   "cell_type": "code",
   "source": "X_train, X_test, y_train, y_test = train_test_split(X, y, test_size=0.2, random_state=42)",
   "id": "c3dd609347596d10",
   "execution_count": 172,
   "outputs": []
  },
  {
   "metadata": {},
   "cell_type": "markdown",
   "source": "# Model training",
   "id": "2917e159590b740e"
  },
  {
   "metadata": {
    "ExecuteTime": {
     "end_time": "2024-09-14T23:31:35.233648Z",
     "start_time": "2024-09-14T23:31:35.221448Z"
    }
   },
   "cell_type": "code",
   "source": [
    "input_length = 1 if exclude_channel_1 else 2\n",
    "print(f\"Input length: {input_length}\")"
   ],
   "id": "2c11896fdd8663fb",
   "execution_count": 173,
   "outputs": []
  },
  {
   "metadata": {
    "ExecuteTime": {
     "end_time": "2024-09-14T23:31:35.249143Z",
     "start_time": "2024-09-14T23:31:35.236077Z"
    }
   },
   "cell_type": "code",
   "source": [
    "output_length = len(np.unique(labels))\n",
    "print(f\"Output length: {output_length}\")"
   ],
   "id": "2792c5fec646a65c",
   "execution_count": 174,
   "outputs": []
  },
  {
   "metadata": {
    "ExecuteTime": {
     "end_time": "2024-09-14T23:31:35.264660Z",
     "start_time": "2024-09-14T23:31:35.251143Z"
    }
   },
   "cell_type": "code",
   "source": [
    "def baseline_model(num_units, dense_activation, drop, optimizer):\n",
    "    input_layer = Input(shape=(len(X[0]), input_length))\n",
    "\n",
    "    layer_1 = MultiHeadAttention(num_heads=2, key_dim=2)(input_layer, input_layer)\n",
    "    layer_1 = Flatten()(layer_1)\n",
    "\n",
    "    # layer_1 = LSTM(num_units//4)(input_layer)\n",
    "\n",
    "    layer_1 = Dropout(drop)(layer_1)\n",
    "\n",
    "    layer_2 = Dense(num_units, activation=dense_activation)(layer_1)\n",
    "    layer_2 = Dropout(drop)(layer_2)\n",
    "\n",
    "    layer_3 = Dense(num_units//2, activation=dense_activation)(layer_2)\n",
    "    layer_3 = Dropout(drop)(layer_3)\n",
    "\n",
    "    output_layer = Dense(output_length, activation='softmax')(layer_3)\n",
    "    base_model = Model(inputs = input_layer, outputs = output_layer)\n",
    "\n",
    "    base_model.compile(loss='categorical_crossentropy', optimizer=optimizer, metrics=['accuracy'])\n",
    "    return base_model"
   ],
   "id": "37fb73c706537b53",
   "execution_count": 175,
   "outputs": []
  },
  {
   "metadata": {
    "ExecuteTime": {
     "end_time": "2024-09-14T23:31:35.280719Z",
     "start_time": "2024-09-14T23:31:35.267662Z"
    }
   },
   "cell_type": "code",
   "source": [
    "# num_units_list = [32]\n",
    "# drop_list = [0.2]\n",
    "# batch_sizes = [64]\n",
    "# epochs_list = [60]\n",
    "# optimizer_list = ['Adam']\n",
    "# dense_activations = [\"relu\"]\n",
    "\n",
    "# num_units_list = [32, 64, 128, 256, 512, 1024]\n",
    "# drop_list = [0.2, 0.5] \n",
    "# batch_sizes = [32]\n",
    "# epochs_list = [10, 100] \n",
    "# optimizer_list = ['Adam']\n",
    "# dense_activations = [\"relu\"]\n",
    "\n",
    "# num_units_list = [1024]\n",
    "# drop_list = [0.2] \n",
    "# batch_sizes = [8]\n",
    "# epochs_list = [50]\n",
    "# optimizer_list = ['Adam']\n",
    "# dense_activations = [\"relu\"]\n",
    "\n",
    "# num_units_list = [32]\n",
    "# drop_list = [0.3]\n",
    "# batch_sizes = [16]\n",
    "# epochs_list = [130]\n",
    "# optimizer_list = ['Adam']\n",
    "# dense_activations = [\"relu\"]\n",
    "\n",
    "# num_units_list = [512]\n",
    "# drop_list = [0.2]\n",
    "# batch_sizes = [8]\n",
    "# epochs_list = [60]\n",
    "# optimizer_list = ['Adam']\n",
    "# dense_activations = [\"relu\"]\n",
    "\n",
    "num_units_list = [32, 64, 128, 512]\n",
    "drop_list = [0.2, 0.5]\n",
    "batch_sizes = [8, 32, 64]\n",
    "epochs_list = [35, 60, 100]\n",
    "optimizer_list = ['Adam']\n",
    "dense_activations = [\"relu\"]\n",
    "\n",
    "# batch_sizes < drop_list < epochs_list < num_units_list"
   ],
   "id": "20dedb24438bd769",
   "execution_count": 176,
   "outputs": []
  },
  {
   "metadata": {
    "ExecuteTime": {
     "end_time": "2024-09-14T23:31:35.296757Z",
     "start_time": "2024-09-14T23:31:35.282716Z"
    }
   },
   "cell_type": "code",
   "source": [
    "kf = StratifiedKFold(n_splits=5, shuffle=True, random_state=42)\n",
    "results = []\n",
    "best_model = None\n",
    "best_accuracy = 0"
   ],
   "id": "df13a1f8d7156371",
   "execution_count": 177,
   "outputs": []
  },
  {
   "metadata": {
    "ExecuteTime": {
     "end_time": "2024-09-15T23:34:29.517499Z",
     "start_time": "2024-09-14T23:31:35.300275Z"
    }
   },
   "cell_type": "code",
   "source": [
    "# Loop over the different types of layers and hyperparameters\n",
    "for num_units in num_units_list:\n",
    "    for batch_size in batch_sizes:\n",
    "        for epochs in epochs_list:\n",
    "            for dense_activation in dense_activations:\n",
    "                for drop in drop_list:\n",
    "                    for optimizer in optimizer_list:\n",
    "                        print(f\"Training model with {num_units} units, batch size {batch_size}, epochs {epochs}, dense_activation {dense_activation}, dropout {drop}, optimizer {optimizer}...\")\n",
    "                        fold_results = []\n",
    "                        fold_number = 0\n",
    "                        accuracy = 0\n",
    "                        precision = 0\n",
    "                        recall = 0\n",
    "                        f1 = 0\n",
    "                        for train_index, test_index in kf.split(X, y):\n",
    "                            X_train, X_test = X[train_index], X[test_index]\n",
    "                            y_train, y_test = y[train_index], y[test_index]\n",
    "                            y_train_encoded = to_categorical(y_train)\n",
    "                            y_test_encoded = to_categorical(y_test)\n",
    "\n",
    "                            # Creating and training the model\n",
    "                            model = baseline_model(num_units, dense_activation, drop, optimizer)\n",
    "                            history = model.fit(X_train, y_train_encoded, epochs=epochs, batch_size=batch_size, validation_data=(X_test, y_test_encoded), verbose=1)\n",
    "\n",
    "                            # Evaluating the model\n",
    "                            y_pred = np.argmax(model.predict(X_test), axis=-1)\n",
    "\n",
    "                            new_acc = accuracy_score(np.argmax(y_test_encoded, axis=1), y_pred)\n",
    "                            accuracy += new_acc\n",
    "\n",
    "                            new_precision = precision_score(np.argmax(y_test_encoded, axis=1), y_pred, average='weighted')\n",
    "                            precision += new_precision\n",
    "\n",
    "                            new_recall = recall_score(np.argmax(y_test_encoded, axis=1), y_pred, average='weighted')\n",
    "                            recall += new_recall\n",
    "\n",
    "                            new_f1 = f1_score(np.argmax(y_test_encoded, axis=1), y_pred, average='weighted')\n",
    "                            f1 += new_f1\n",
    "\n",
    "                            fold_results.append((new_acc, new_precision, new_recall, new_f1))\n",
    "\n",
    "                            fold_number += 1\n",
    "\n",
    "                        # Update best model\n",
    "                        if (accuracy/fold_number) > best_accuracy:\n",
    "                            best_accuracy = accuracy/fold_number\n",
    "                            best_model = model\n",
    "                            best_dense_activation = dense_activation\n",
    "                            best_num_units = num_units\n",
    "                            best_batch_size = batch_size\n",
    "                            best_epochs = epochs\n",
    "                            best_dropout = drop\n",
    "                            best_optimizer = optimizer\n",
    "\n",
    "                        # Saving the results for later analysis\n",
    "                        results.append((num_units, batch_size, epochs, dense_activation, drop, optimizer, fold_results))\n",
    "\n",
    "# Convert the best result into a DataFrame\n",
    "best_results = []\n",
    "best_results.append((best_accuracy, best_dense_activation, best_num_units, best_batch_size, best_epochs, best_dropout, best_optimizer))\n",
    "best_results_df = pd.DataFrame(best_results, columns=['best_accuracy', 'best_dense_activation', 'best_num_units', 'best_batch_size', 'best_epochs', 'best_dropout', 'best_optimizer'])\n",
    "best_results_df.to_csv(f'./model/{sensor_name}/{model_index}/{model_name}-best_results.csv', index=False)\n",
    "\n",
    "# Convert the results into a DataFrame\n",
    "results_df = pd.DataFrame(results, columns=['Num Units', 'Batch Size', 'Epochs', 'Dense Activation', 'drop', 'optimizer', 'Fold Results (accuracy, precision, recall, f1)'])\n",
    "results_df.to_csv(f'./model/{sensor_name}/{model_index}/{model_name}-all_results.csv', index=False)\n",
    "\n",
    "# Save the best model to .h5 file\n",
    "best_model.save(f'./model/{sensor_name}/{model_index}/{model_name}-best_model.h5')"
   ],
   "id": "3fc9e90a88c60b40",
   "execution_count": 178,
   "outputs": []
  },
  {
   "metadata": {
    "ExecuteTime": {
     "end_time": "2024-09-15T23:34:29.592995Z",
     "start_time": "2024-09-15T23:34:29.527244Z"
    }
   },
   "cell_type": "code",
   "source": [
    "# Save X and y to npy file\n",
    "np.save(f'./model/{sensor_name}/{model_index}/{model_name}-x.npy', X)\n",
    "np.save(f'./model/{sensor_name}/{model_index}/{model_name}-y.npy', y)"
   ],
   "id": "7eeb6c54edf6f7c1",
   "execution_count": 179,
   "outputs": []
  }
 ],
 "metadata": {
  "kernelspec": {
   "display_name": "Python 3",
   "language": "python",
   "name": "python3"
  },
  "language_info": {
   "codemirror_mode": {
    "name": "ipython",
    "version": 2
   },
   "file_extension": ".py",
   "mimetype": "text/x-python",
   "name": "python",
   "nbconvert_exporter": "python",
   "pygments_lexer": "ipython2",
   "version": "2.7.6"
  }
 },
 "nbformat": 4,
 "nbformat_minor": 5
}

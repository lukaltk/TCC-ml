{
 "cells": [
  {
   "metadata": {},
   "cell_type": "markdown",
   "source": "# Imports",
   "id": "48f1c352713064f6"
  },
  {
   "metadata": {
    "ExecuteTime": {
     "end_time": "2024-08-28T14:52:22.032938Z",
     "start_time": "2024-08-28T14:52:17.367233Z"
    }
   },
   "cell_type": "code",
   "source": [
    "from keras.models import load_model\n",
    "import matplotlib.pyplot as plt\n",
    "import numpy as np\n",
    "import pandas as pd\n",
    "import seaborn as sns\n",
    "from sklearn.metrics import confusion_matrix"
   ],
   "id": "e82de2baef4dbf1a",
   "outputs": [],
   "execution_count": 1
  },
  {
   "metadata": {},
   "cell_type": "markdown",
   "source": "# Model load",
   "id": "b19576c07df1016d"
  },
  {
   "metadata": {
    "ExecuteTime": {
     "end_time": "2024-08-28T14:52:22.047655Z",
     "start_time": "2024-08-28T14:52:22.034973Z"
    }
   },
   "cell_type": "code",
   "source": [
    "# sensor_name = 'qing_cheng'\n",
    "sensor_name = 'vallen'\n",
    "\n",
    "model_index = 4"
   ],
   "id": "13baa43c0cf5224a",
   "outputs": [],
   "execution_count": 2
  },
  {
   "metadata": {
    "ExecuteTime": {
     "end_time": "2024-08-28T14:52:22.079509Z",
     "start_time": "2024-08-28T14:52:22.048866Z"
    }
   },
   "cell_type": "code",
   "source": [
    "model_name_df = pd.read_csv('./Model_Index.csv')\n",
    "model_name_df.index = model_name_df.index + 1\n",
    "\n",
    "model_name = model_name_df['nome_do_arquivo'].loc[model_index] if (model_index > 0)  else 'TEST'\n",
    "\n",
    "print(f'Model file name: {model_name}')\n",
    "print(f'Model index: {model_index}')"
   ],
   "id": "e95b883c0ca633d3",
   "outputs": [
    {
     "name": "stdout",
     "output_type": "stream",
     "text": [
      "Model file name: boolean_canal_2_ruido\n",
      "Model index: 4\n"
     ]
    }
   ],
   "execution_count": 3
  },
  {
   "cell_type": "code",
   "id": "initial_id",
   "metadata": {
    "collapsed": true,
    "ExecuteTime": {
     "end_time": "2024-08-28T14:52:24.090514Z",
     "start_time": "2024-08-28T14:52:22.082509Z"
    }
   },
   "source": "model = load_model(f'./model/{sensor_name}/{model_index}/{model_name}-best_model.h5')",
   "outputs": [],
   "execution_count": 4
  },
  {
   "metadata": {
    "ExecuteTime": {
     "end_time": "2024-08-28T14:52:24.151173Z",
     "start_time": "2024-08-28T14:52:24.091833Z"
    }
   },
   "cell_type": "code",
   "source": [
    "X = np.load(f'./model/{sensor_name}/{model_index}/{model_name}-x.npy')\n",
    "y = np.load(f'./model/{sensor_name}/{model_index}/{model_name}-y.npy')"
   ],
   "id": "67c73d4ebcbb8a7d",
   "outputs": [],
   "execution_count": 5
  },
  {
   "metadata": {},
   "cell_type": "markdown",
   "source": "# Model analysis",
   "id": "2e910daf88b9146d"
  },
  {
   "metadata": {
    "ExecuteTime": {
     "end_time": "2024-08-28T14:52:28.034928Z",
     "start_time": "2024-08-28T14:52:24.152951Z"
    }
   },
   "cell_type": "code",
   "source": "y_pred = model.predict(X)",
   "id": "f293b8e6c6782603",
   "outputs": [
    {
     "name": "stdout",
     "output_type": "stream",
     "text": [
      "282/282 [==============================] - 4s 6ms/step\n"
     ]
    }
   ],
   "execution_count": 6
  },
  {
   "metadata": {
    "ExecuteTime": {
     "end_time": "2024-08-28T14:52:28.049761Z",
     "start_time": "2024-08-28T14:52:28.036392Z"
    }
   },
   "cell_type": "code",
   "source": "y_pred_classes = np.argmax(y_pred, axis=1)",
   "id": "26458bccbc0e4915",
   "outputs": [],
   "execution_count": 7
  },
  {
   "metadata": {
    "ExecuteTime": {
     "end_time": "2024-08-28T14:52:28.065180Z",
     "start_time": "2024-08-28T14:52:28.052598Z"
    }
   },
   "cell_type": "code",
   "source": [
    "conf_matrix = confusion_matrix(y, y_pred_classes)\n",
    "conf_matrix_percent = conf_matrix / conf_matrix.sum(axis=1)[:, np.newaxis] * 100"
   ],
   "id": "f60d55c7cda88a3b",
   "outputs": [],
   "execution_count": 8
  },
  {
   "metadata": {
    "ExecuteTime": {
     "end_time": "2024-08-28T14:52:28.225200Z",
     "start_time": "2024-08-28T14:52:28.067891Z"
    }
   },
   "cell_type": "code",
   "source": [
    "# class_labels = ['No Leakage', 'Leakage']\n",
    "class_labels = ['No Leakage', 'Leakage in position 2', 'Leakage in position 3', 'Leakage in position 4']\n",
    "\n",
    "if 1 <= model_index <= 4:\n",
    "    class_labels = ['No Leakage', 'Leakage']\n",
    "elif 4 < model_index <= 8:\n",
    "    class_labels = ['No Leakage', 'Leakage in position 2', 'Leakage in position 3', 'Leakage in position 4']\n",
    "\n",
    "conf_matrix_df = pd.DataFrame(conf_matrix_percent, index=class_labels, columns=class_labels)\n",
    "plt.figure(figsize=(8, 6))\n",
    "heatmap = sns.heatmap(conf_matrix_df, annot=True, cmap='Blues', fmt='.1f', cbar=False, square=True, linewidths=0.5)\n",
    "\n",
    "# Rotate x-axis labels by 45 degrees\n",
    "heatmap.set_xticklabels(heatmap.get_xticklabels(), rotation=45, ha='right')\n",
    "\n",
    "plt.title('Confusion matrix per sensor position (%)')\n",
    "plt.show()"
   ],
   "id": "69d526c753d3cd76",
   "outputs": [
    {
     "data": {
      "text/plain": [
       "<Figure size 800x600 with 1 Axes>"
      ],
      "image/png": "[encoded data removed]"
     },
     "metadata": {},
     "output_type": "display_data"
    }
   ],
   "execution_count": 9
  },
  {
   "metadata": {},
   "cell_type": "markdown",
   "source": "# ---",
   "id": "e6aa67fc301f6d0d"
  },
  {
   "metadata": {
    "ExecuteTime": {
     "end_time": "2024-08-28T14:52:28.241604Z",
     "start_time": "2024-08-28T14:52:28.226628Z"
    }
   },
   "cell_type": "code",
   "source": "index = 420",
   "id": "65008ae67ac532f0",
   "outputs": [],
   "execution_count": 10
  },
  {
   "metadata": {
    "ExecuteTime": {
     "end_time": "2024-08-28T14:52:28.318489Z",
     "start_time": "2024-08-28T14:52:28.242486Z"
    }
   },
   "cell_type": "code",
   "source": [
    "y_1 = model.predict(\n",
    "    np.array(\n",
    "        [ X[index] ]\n",
    "    )\n",
    ")"
   ],
   "id": "259d0d34e49ba304",
   "outputs": [
    {
     "name": "stdout",
     "output_type": "stream",
     "text": [
      "1/1 [==============================] - 0s 23ms/step\n"
     ]
    }
   ],
   "execution_count": 11
  },
  {
   "metadata": {
    "ExecuteTime": {
     "end_time": "2024-08-28T14:52:28.333967Z",
     "start_time": "2024-08-28T14:52:28.319655Z"
    }
   },
   "cell_type": "code",
   "source": "y_1",
   "id": "3d00cda76f8a3ad6",
   "outputs": [
    {
     "data": {
      "text/plain": [
       "array([[0., 1.]], dtype=float32)"
      ]
     },
     "execution_count": 12,
     "metadata": {},
     "output_type": "execute_result"
    }
   ],
   "execution_count": 12
  },
  {
   "metadata": {
    "ExecuteTime": {
     "end_time": "2024-08-28T14:52:28.349384Z",
     "start_time": "2024-08-28T14:52:28.335488Z"
    }
   },
   "cell_type": "code",
   "source": "y[index]",
   "id": "dbf479e0ccbefaab",
   "outputs": [
    {
     "data": {
      "text/plain": [
       "1"
      ]
     },
     "execution_count": 13,
     "metadata": {},
     "output_type": "execute_result"
    }
   ],
   "execution_count": 13
  }
 ],
 "metadata": {
  "kernelspec": {
   "display_name": "Python 3",
   "language": "python",
   "name": "python3"
  },
  "language_info": {
   "codemirror_mode": {
    "name": "ipython",
    "version": 2
   },
   "file_extension": ".py",
   "mimetype": "text/x-python",
   "name": "python",
   "nbconvert_exporter": "python",
   "pygments_lexer": "ipython2",
   "version": "2.7.6"
  }
 },
 "nbformat": 4,
 "nbformat_minor": 5
}

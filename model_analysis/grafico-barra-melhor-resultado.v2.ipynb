{
 "cells": [
  {
   "metadata": {},
   "cell_type": "markdown",
   "source": "# Imports",
   "id": "cee696e695dfbbde"
  },
  {
   "cell_type": "code",
   "id": "initial_id",
   "metadata": {
    "collapsed": true,
    "ExecuteTime": {
     "end_time": "2025-02-06T22:14:11.508502Z",
     "start_time": "2025-02-06T22:14:11.495612Z"
    }
   },
   "source": [
    "import matplotlib.pyplot as plt\n",
    "import numpy as np\n",
    "import os\n",
    "import pandas as pd\n",
    "import seaborn as sns"
   ],
   "outputs": [],
   "execution_count": 1
  },
  {
   "metadata": {},
   "cell_type": "markdown",
   "source": "# Model load",
   "id": "7860b6f255bb5286"
  },
  {
   "metadata": {
    "ExecuteTime": {
     "end_time": "2025-02-06T22:14:17.522253Z",
     "start_time": "2025-02-06T22:14:17.514246Z"
    }
   },
   "cell_type": "code",
   "source": [
    "path_qing_cheng = '../model/qing_cheng'\n",
    "path_vallen = '../model/vallen'\n",
    "\n",
    "qing_cheng_model_name = 'Qing-Cheng'\n",
    "vallen_model_name = 'Vallen'"
   ],
   "id": "b79acee676e98e64",
   "outputs": [],
   "execution_count": 2
  },
  {
   "metadata": {
    "ExecuteTime": {
     "end_time": "2025-02-06T22:14:21.251688Z",
     "start_time": "2025-02-06T22:14:21.241294Z"
    }
   },
   "cell_type": "code",
   "source": [
    "def get_file_paths(path: str):\n",
    "    file_paths = []\n",
    "\n",
    "    for dir_path, _, file_names in os.walk(path):\n",
    "        file_path = {}\n",
    "        \n",
    "        for file_name in file_names:\n",
    "            \n",
    "            if file_name.endswith('all_results.csv'):\n",
    "                file_path['all_results'] = os.path.join(dir_path, file_name)\n",
    "                \n",
    "        if len(file_path) > 0:\n",
    "            file_paths.append(file_path)\n",
    "\n",
    "    return file_paths"
   ],
   "id": "e4d1bccabefa9f9f",
   "outputs": [],
   "execution_count": 3
  },
  {
   "metadata": {
    "ExecuteTime": {
     "end_time": "2025-02-06T22:14:26.174240Z",
     "start_time": "2025-02-06T22:14:26.160676Z"
    }
   },
   "cell_type": "code",
   "source": [
    "paths_qing_cheng = get_file_paths(path_qing_cheng)\n",
    "paths_vallen = get_file_paths(path_vallen)"
   ],
   "id": "1a1e9c6cb167f889",
   "outputs": [],
   "execution_count": 4
  },
  {
   "metadata": {
    "ExecuteTime": {
     "end_time": "2025-02-06T22:14:29.911185Z",
     "start_time": "2025-02-06T22:14:29.893946Z"
    }
   },
   "cell_type": "code",
   "source": [
    "def load_model_result(path_dict: dict):    \n",
    "    all_results = pd.read_csv(path_dict['all_results'])\n",
    "    \n",
    "    return {\n",
    "        'all_results': all_results,\n",
    "    }"
   ],
   "id": "fe828ab4c4995629",
   "outputs": [],
   "execution_count": 5
  },
  {
   "metadata": {
    "ExecuteTime": {
     "end_time": "2025-02-06T22:14:34.357385Z",
     "start_time": "2025-02-06T22:14:34.321203Z"
    }
   },
   "cell_type": "code",
   "source": [
    "qing_cheng_models = [load_model_result(path) for path in paths_qing_cheng]\n",
    "vallen_models = [load_model_result(path) for path in paths_vallen]"
   ],
   "id": "b3bce6be412a88a2",
   "outputs": [],
   "execution_count": 6
  },
  {
   "metadata": {
    "ExecuteTime": {
     "end_time": "2025-02-06T22:14:38.691439Z",
     "start_time": "2025-02-06T22:14:38.687919Z"
    }
   },
   "cell_type": "code",
   "source": "# Analysis",
   "id": "978b5560d90ee4c3",
   "outputs": [],
   "execution_count": 7
  },
  {
   "metadata": {
    "ExecuteTime": {
     "end_time": "2025-02-06T22:14:43.356343Z",
     "start_time": "2025-02-06T22:14:43.348525Z"
    }
   },
   "cell_type": "code",
   "source": [
    "def process_scores (scores: list):\n",
    "    transposed_scores = list(zip(*scores))\n",
    "    \n",
    "    return [np.mean(score) for score in transposed_scores]"
   ],
   "id": "fae328aa920f1ab6",
   "outputs": [],
   "execution_count": 8
  },
  {
   "metadata": {
    "ExecuteTime": {
     "end_time": "2025-02-06T22:14:48.687108Z",
     "start_time": "2025-02-06T22:14:48.676761Z"
    }
   },
   "cell_type": "code",
   "source": [
    "def process_fold_results (df: pd.DataFrame, model_name):\n",
    "    new_df = df.copy()\n",
    "    \n",
    "    fold_results_df = new_df['Fold Results (accuracy, precision, recall, f1)'].apply(lambda row: eval(row))\n",
    "    \n",
    "    new_df.drop('Fold Results (accuracy, precision, recall, f1)',  axis=1, inplace=True)\n",
    "    \n",
    "    results_means_df = fold_results_df.apply(process_scores)\n",
    "    \n",
    "    new_df['accuracy'] = results_means_df.apply(lambda row: row[0])\n",
    "    new_df['precision'] = results_means_df.apply(lambda row: row[1])\n",
    "    new_df['recall'] = results_means_df.apply(lambda row: row[2])\n",
    "    new_df['f1'] = results_means_df.apply(lambda row: row[3])\n",
    "                                          \n",
    "    new_df['model'] = new_df.apply(lambda row: f\"{model_name}({ row['num_units'] },{ row['batch_size'] },{ row['epochs'] },{ row['drop_out'] })\", axis=1)\n",
    "    \n",
    "    return new_df"
   ],
   "id": "23295ca31953b78b",
   "outputs": [],
   "execution_count": 9
  },
  {
   "metadata": {
    "ExecuteTime": {
     "end_time": "2025-02-06T22:14:52.478851Z",
     "start_time": "2025-02-06T22:14:52.468487Z"
    }
   },
   "cell_type": "code",
   "source": [
    "def process_model_results(model_dict: dict, model_name: str):    \n",
    "    column_dict = {'Num Units': 'num_units', 'Batch Size': 'batch_size', 'Epochs': 'epochs', 'Dense Activation': 'dense_activation', 'drop': 'drop_out'}\n",
    "    \n",
    "    model_dict['all_results'] = model_dict['all_results'].rename(column_dict, axis=1)\n",
    "    \n",
    "    model_dict['all_results'] = process_fold_results(model_dict['all_results'], model_name)\n",
    "    \n",
    "    return"
   ],
   "id": "890cc226b6eb07fd",
   "outputs": [],
   "execution_count": 10
  },
  {
   "metadata": {
    "ExecuteTime": {
     "end_time": "2025-02-06T22:14:57.056083Z",
     "start_time": "2025-02-06T22:14:56.852323Z"
    }
   },
   "cell_type": "code",
   "source": [
    "for model in qing_cheng_models:\n",
    "    process_model_results(model, qing_cheng_model_name)\n",
    "    \n",
    "for model in vallen_models:\n",
    "    process_model_results(model, vallen_model_name)"
   ],
   "id": "7852badc52abfa9",
   "outputs": [],
   "execution_count": 11
  },
  {
   "metadata": {},
   "cell_type": "markdown",
   "source": "# Plot",
   "id": "bcc8c94018f1a485"
  },
  {
   "metadata": {
    "ExecuteTime": {
     "end_time": "2025-02-06T22:15:08.167277Z",
     "start_time": "2025-02-06T22:15:08.153199Z"
    }
   },
   "cell_type": "code",
   "source": [
    "def parse_best_model_to_bar_plot(dfs, index = 7):\n",
    "    metrics = ['accuracy', 'precision', 'recall', 'f1']\n",
    "\n",
    "    best_model = pd.DataFrame()\n",
    "\n",
    "    for metric in metrics:\n",
    "        best_result = dfs[index]['all_results'].sort_values(metric, ascending=False).head(1)[['accuracy', 'precision', 'recall', 'f1', 'model']]\n",
    "        \n",
    "        model = best_result['model'].iloc[0]\n",
    "        \n",
    "        best_result = best_result.drop(columns=['model'], axis=1).T.reset_index()\n",
    "        \n",
    "        best_result.columns = [\"Metric\", \"Value\"]\n",
    "        \n",
    "        best_result['Model'] = model\n",
    "        \n",
    "        best_result['Sort by'] = metric\n",
    "        \n",
    "        best_model = pd.concat([best_model, best_result]).reset_index(drop=True)\n",
    "        \n",
    "    return best_model"
   ],
   "id": "cc08a6411d2ca8e7",
   "outputs": [],
   "execution_count": 12
  },
  {
   "metadata": {
    "ExecuteTime": {
     "end_time": "2025-02-06T22:15:12.569078Z",
     "start_time": "2025-02-06T22:15:12.537008Z"
    }
   },
   "cell_type": "code",
   "source": [
    "best_qing_cheng_model = parse_best_model_to_bar_plot(qing_cheng_models, 7)\n",
    "best_vallen_model = parse_best_model_to_bar_plot(vallen_models, 7)"
   ],
   "id": "193c621b68f2e00a",
   "outputs": [],
   "execution_count": 13
  },
  {
   "metadata": {
    "ExecuteTime": {
     "end_time": "2025-02-06T22:16:24.383617Z",
     "start_time": "2025-02-06T22:16:23.740086Z"
    }
   },
   "cell_type": "code",
   "source": [
    "fig, axes = plt.subplots(1, 2, figsize=(14, 6), sharey=True, gridspec_kw={'wspace': 0.05})\n",
    "\n",
    "for i, best_model in enumerate([best_qing_cheng_model, best_vallen_model]):\n",
    "    ax = axes[i]\n",
    "    sns.barplot(x=\"Metric\", y=\"Value\", hue=\"Model\", data=best_model, palette=\"coolwarm\", ax=ax)\n",
    "\n",
    "    ax.set_xlabel(\"Metric\")\n",
    "    ax.set_ylabel(\"Value\")\n",
    "\n",
    "    ax.legend(title=\"Model\", bbox_to_anchor=(1, 1))\n",
    "    ax.grid(axis=\"y\", linestyle=\"--\", alpha=0.7)\n",
    "    \n",
    "plt.yticks(np.arange(0, 1.1, 0.1))\n",
    "plt.suptitle(\"Comparação de Métricas entre Modelos\", fontsize=14)\n",
    "plt.show()"
   ],
   "id": "cbfc090e647630e5",
   "outputs": [
    {
     "data": {
      "text/plain": [
       "<Figure size 1400x600 with 2 Axes>"
      ],
      "image/png": "[encoded data removed]"
     },
     "metadata": {},
     "output_type": "display_data"
    }
   ],
   "execution_count": 14
  },
  {
   "metadata": {},
   "cell_type": "code",
   "outputs": [],
   "execution_count": null,
   "source": "",
   "id": "3543064e5031ad63"
  }
 ],
 "metadata": {
  "kernelspec": {
   "display_name": "Python 3",
   "language": "python",
   "name": "python3"
  },
  "language_info": {
   "codemirror_mode": {
    "name": "ipython",
    "version": 2
   },
   "file_extension": ".py",
   "mimetype": "text/x-python",
   "name": "python",
   "nbconvert_exporter": "python",
   "pygments_lexer": "ipython2",
   "version": "2.7.6"
  }
 },
 "nbformat": 4,
 "nbformat_minor": 5
}

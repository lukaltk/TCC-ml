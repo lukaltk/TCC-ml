{
 "cells": [
  {
   "metadata": {},
   "cell_type": "markdown",
   "source": "# Imports",
   "id": "f74f1e62bfce7da"
  },
  {
   "cell_type": "code",
   "id": "initial_id",
   "metadata": {
    "collapsed": true,
    "ExecuteTime": {
     "end_time": "2024-08-03T20:19:25.815090Z",
     "start_time": "2024-08-03T20:19:25.808211Z"
    }
   },
   "source": [
    "import matplotlib.pyplot as plt\n",
    "import numpy as np\n",
    "import os\n",
    "import pandas as pd\n",
    "import random\n",
    "from scipy.fft import fft, fftfreq\n",
    "from sklearn.metrics import accuracy_score, precision_score, recall_score, f1_score\n",
    "from sklearn.model_selection import train_test_split, StratifiedKFold\n",
    "from sklearn.preprocessing import StandardScaler\n",
    "import tensorflow as tf\n",
    "# from tensorflow.keras import Sequential\n",
    "from tensorflow.keras import Input, Model\n",
    "# from tensorflow.keras.layers import Dense, LSTM, Dropout, Flatten, MultiHeadAttention\n",
    "from tensorflow.keras.layers import Dense, Dropout, Flatten, MultiHeadAttention\n",
    "from tensorflow.keras.utils import to_categorical\n",
    "import zlib"
   ],
   "outputs": [],
   "execution_count": 2
  },
  {
   "metadata": {},
   "cell_type": "markdown",
   "source": "# GPU",
   "id": "db8f0edd3292f4f1"
  },
  {
   "metadata": {
    "ExecuteTime": {
     "end_time": "2024-08-03T20:19:27.155466Z",
     "start_time": "2024-08-03T20:19:26.920017Z"
    }
   },
   "cell_type": "code",
   "source": [
    "print('Tensorflow version: ', tf.__version__)\n",
    "print(\"Nº GPUs Available: \", len(tf.config.list_physical_devices('GPU')))"
   ],
   "id": "265fe399216f5e3a",
   "outputs": [
    {
     "name": "stdout",
     "output_type": "stream",
     "text": [
      "Tensorflow version:  2.10.1\n",
      "Nº GPUs Available:  1\n"
     ]
    }
   ],
   "execution_count": 3
  },
  {
   "metadata": {
    "ExecuteTime": {
     "end_time": "2024-08-03T20:19:27.171348Z",
     "start_time": "2024-08-03T20:19:27.157298Z"
    }
   },
   "cell_type": "code",
   "source": "tf.config.list_physical_devices('GPU')",
   "id": "515ae6bf060f8469",
   "outputs": [
    {
     "data": {
      "text/plain": [
       "[PhysicalDevice(name='/physical_device:GPU:0', device_type='GPU')]"
      ]
     },
     "execution_count": 4,
     "metadata": {},
     "output_type": "execute_result"
    }
   ],
   "execution_count": 4
  },
  {
   "metadata": {},
   "cell_type": "markdown",
   "source": [
    "## Arquivo\n",
    "Exemplo: { TIPO_DE_SENSOR }-{ ESTADO }-{ CANAL-&-POSIÇÃO }-{ CANAL-&-POSIÇÃO }-{ DATA }.npy"
   ],
   "id": "5642e0a31e98e22f"
  },
  {
   "metadata": {
    "ExecuteTime": {
     "end_time": "2024-08-03T20:19:27.186628Z",
     "start_time": "2024-08-03T20:19:27.172854Z"
    }
   },
   "cell_type": "code",
   "source": [
    "sensor_name = 'qing_cheng'\n",
    "model_index = 0\n",
    "\n",
    "# --- Training settings ---\n",
    "\n",
    "include_anomalia = True\n",
    "include_spray = True\n",
    "\n",
    "exclude_channel_1 = False\n",
    "\n",
    "position_training = True"
   ],
   "id": "344015d6a8753ff6",
   "outputs": [],
   "execution_count": 5
  },
  {
   "metadata": {
    "ExecuteTime": {
     "end_time": "2024-08-03T20:19:27.202874Z",
     "start_time": "2024-08-03T20:19:27.188211Z"
    }
   },
   "cell_type": "code",
   "source": [
    "path_normalidade = f'./data/{sensor_name}/normalidade'\n",
    "path_normalidade_anomalia = f'./data/{sensor_name}/normalidade_anomalia'\n",
    "path_normalidade_spray = f'./data/{sensor_name}/normalidade_spray'\n",
    "\n",
    "path_vazamento = f'./data/{sensor_name}/vazamento_5_bar'\n",
    "path_vazamento_anomalia = f'./data/{sensor_name}/vazamento_5_bar_anomalia'\n",
    "path_vazamento_spray = f'./data/{sensor_name}/vazamento_5_bar_spray'"
   ],
   "id": "f9725fd0a217bfd6",
   "outputs": [],
   "execution_count": 6
  },
  {
   "metadata": {
    "ExecuteTime": {
     "end_time": "2024-08-03T20:19:27.233229Z",
     "start_time": "2024-08-03T20:19:27.205059Z"
    }
   },
   "cell_type": "code",
   "source": [
    "model_name_df = pd.read_csv('./Model_Index.csv')\n",
    "model_name_df.index = model_name_df.index + 1"
   ],
   "id": "a4834c82a9522ce0",
   "outputs": [],
   "execution_count": 7
  },
  {
   "metadata": {
    "ExecuteTime": {
     "end_time": "2024-08-03T20:19:27.248862Z",
     "start_time": "2024-08-03T20:19:27.235750Z"
    }
   },
   "cell_type": "code",
   "source": [
    "model_name = model_name_df['nome_do_arquivo'].loc[model_index] if (model_index > 0)  else 'TEST'\n",
    "\n",
    "print(f'Model file name: {model_name}')\n",
    "print(f'Model index: {model_index}')"
   ],
   "id": "d52e9581757e00d7",
   "outputs": [
    {
     "name": "stdout",
     "output_type": "stream",
     "text": [
      "Model file name: TEST\n",
      "Model index: 0\n"
     ]
    }
   ],
   "execution_count": 8
  },
  {
   "metadata": {},
   "cell_type": "markdown",
   "source": "# Obter dados",
   "id": "2d4d805436c7baa1"
  },
  {
   "metadata": {
    "ExecuteTime": {
     "end_time": "2024-08-03T20:19:27.405939Z",
     "start_time": "2024-08-03T20:19:27.392792Z"
    }
   },
   "cell_type": "code",
   "source": [
    "def load_npy_file(compressed_file_path: str, position_1, position_2, state):\n",
    "    # Lê o arquivo comprimido\n",
    "    with open(compressed_file_path, 'rb') as compressed_file:\n",
    "        compressed_data = compressed_file.read()\n",
    "\n",
    "    # Descomprime os dados\n",
    "    decompressed_data = zlib.decompress(compressed_data)\n",
    "\n",
    "    # Converte os dados descomprimidos em um array NumPy\n",
    "    decompressed_array = np.frombuffer(decompressed_data, dtype=np.float64)\n",
    "\n",
    "    # Supondo que os dados estão organizados em dois canais alternadamente\n",
    "    channel_1 = decompressed_array[::2]  # Pega todos os elementos nos índices pares\n",
    "    channel_2 = decompressed_array[1::2]  # Pega todos os elementos nos índices ímpares\n",
    "\n",
    "    # DataFrame Pandas com os dados dos canais\n",
    "    data = {\n",
    "        'posicao_canal_1': position_1,\n",
    "        'valor_canal_1': channel_1,\n",
    "        'posicao_canal_2': position_2,\n",
    "        'valor_canal_2': channel_2,\n",
    "        'estado': state,\n",
    "    }\n",
    "\n",
    "    df = pd.DataFrame(data)\n",
    "\n",
    "    return df"
   ],
   "id": "e5ff507c850dc667",
   "outputs": [],
   "execution_count": 9
  },
  {
   "metadata": {
    "ExecuteTime": {
     "end_time": "2024-08-03T20:19:27.544727Z",
     "start_time": "2024-08-03T20:19:27.531372Z"
    }
   },
   "cell_type": "code",
   "source": [
    "def get_file_paths(path: str):\n",
    "    file_paths = []\n",
    "\n",
    "    for dir_path, _, file_names in os.walk(path):\n",
    "        for file_name in file_names:\n",
    "            file_path = os.path.join(dir_path, file_name)\n",
    "            file_paths.append(file_path)\n",
    "\n",
    "    return file_paths"
   ],
   "id": "b8505e5ebdcf7777",
   "outputs": [],
   "execution_count": 10
  },
  {
   "metadata": {
    "ExecuteTime": {
     "end_time": "2024-08-03T20:19:27.637595Z",
     "start_time": "2024-08-03T20:19:27.630427Z"
    }
   },
   "cell_type": "code",
   "source": [
    "def mount_data_frames(paths: list[str]):\n",
    "  data_frame_dict = {}\n",
    "\n",
    "  for path in paths:\n",
    "    file_name = path.split('/')[-1]\n",
    "    data_info = file_name.split('-')[:4]\n",
    "    # data_info[0] -> Tipo de sensor\n",
    "    # data_info[1] -> Estado\n",
    "    # data_info[2] e data_info[3] -> Canal & Posição\n",
    "\n",
    "    state = data_info[1]\n",
    "    channel_1 = data_info[2].split('_')[-1]\n",
    "    channel_2 = data_info[3].split('_')[-1]\n",
    "\n",
    "    # DF -> | POSICAO_CANAL_1 | POSICAO_VALOR_1 | POSICAO_CANAL_2 | POSICAO_VALOR_2 | ESTADO |\n",
    "    df = load_npy_file(path, channel_1, channel_2, state)\n",
    "    data_frame_dict[channel_2] = df\n",
    "\n",
    "  return data_frame_dict"
   ],
   "id": "ef7bba0460d37e88",
   "outputs": [],
   "execution_count": 11
  },
  {
   "metadata": {},
   "cell_type": "markdown",
   "source": "## Normalidade",
   "id": "955d3f76c4c29be6"
  },
  {
   "metadata": {
    "ExecuteTime": {
     "end_time": "2024-08-03T20:19:27.746401Z",
     "start_time": "2024-08-03T20:19:27.741434Z"
    }
   },
   "cell_type": "code",
   "source": "paths_normalidade = get_file_paths(path_normalidade)",
   "id": "1123f0fc851376be",
   "outputs": [],
   "execution_count": 12
  },
  {
   "metadata": {
    "ExecuteTime": {
     "end_time": "2024-08-03T20:19:27.791669Z",
     "start_time": "2024-08-03T20:19:27.775484Z"
    }
   },
   "cell_type": "code",
   "source": "paths_normalidade",
   "id": "3890a438fa9f87ba",
   "outputs": [
    {
     "data": {
      "text/plain": [
       "['./data/qing_cheng/normalidade\\\\Qc-N-C1_1-C2_2-2024-03-12_16-14-21.npy',\n",
       " './data/qing_cheng/normalidade\\\\Qc-N-C1_1-C2_3-2024-03-12_16-15-11.npy',\n",
       " './data/qing_cheng/normalidade\\\\Qc-N-C1_1-C2_4-2024-03-12_16-16-00.npy']"
      ]
     },
     "execution_count": 13,
     "metadata": {},
     "output_type": "execute_result"
    }
   ],
   "execution_count": 13
  },
  {
   "metadata": {
    "ExecuteTime": {
     "end_time": "2024-08-03T20:19:30.625386Z",
     "start_time": "2024-08-03T20:19:27.858138Z"
    }
   },
   "cell_type": "code",
   "source": "df_normalidade = mount_data_frames(paths_normalidade)",
   "id": "a537808466eb820e",
   "outputs": [],
   "execution_count": 14
  },
  {
   "metadata": {
    "ExecuteTime": {
     "end_time": "2024-08-03T20:19:30.671706Z",
     "start_time": "2024-08-03T20:19:30.626687Z"
    }
   },
   "cell_type": "code",
   "source": "df_normalidade",
   "id": "b255da064ad25d39",
   "outputs": [
    {
     "data": {
      "text/plain": [
       "{'2':         posicao_canal_1  valor_canal_1 posicao_canal_2  valor_canal_2 estado\n",
       " 0                     1       0.023535               2       0.010299      N\n",
       " 1                     1       0.019868               2       0.010299      N\n",
       " 2                     1       0.016200               2       0.010299      N\n",
       " 3                     1       0.012533               2       0.006549      N\n",
       " 4                     1       0.016200               2       0.006549      N\n",
       " ...                 ...            ...             ...            ...    ...\n",
       " 9999995               1      -0.009469               2       0.014049      N\n",
       " 9999996               1      -0.020470               2       0.017798      N\n",
       " 9999997               1      -0.020470               2       0.021548      N\n",
       " 9999998               1      -0.024138               2       0.014049      N\n",
       " 9999999               1      -0.031472               2       0.017798      N\n",
       " \n",
       " [10000000 rows x 5 columns],\n",
       " '3':         posicao_canal_1  valor_canal_1 posicao_canal_2  valor_canal_2 estado\n",
       " 0                     1      -0.013136               3      -0.000950      N\n",
       " 1                     1      -0.016803               3      -0.000950      N\n",
       " 2                     1      -0.020470               3       0.002800      N\n",
       " 3                     1      -0.020470               3       0.006549      N\n",
       " 4                     1      -0.027805               3       0.006549      N\n",
       " ...                 ...            ...             ...            ...    ...\n",
       " 9999995               1       0.016200               3       0.002800      N\n",
       " 9999996               1       0.012533               3       0.006549      N\n",
       " 9999997               1       0.016200               3      -0.000950      N\n",
       " 9999998               1       0.012533               3       0.006549      N\n",
       " 9999999               1       0.019868               3       0.002800      N\n",
       " \n",
       " [10000000 rows x 5 columns],\n",
       " '4':         posicao_canal_1  valor_canal_1 posicao_canal_2  valor_canal_2 estado\n",
       " 0                     1      -0.013136               4       0.002800      N\n",
       " 1                     1      -0.020470               4       0.002800      N\n",
       " 2                     1      -0.020470               4      -0.004699      N\n",
       " 3                     1      -0.020470               4      -0.000950      N\n",
       " 4                     1      -0.020470               4      -0.000950      N\n",
       " ...                 ...            ...             ...            ...    ...\n",
       " 9999995               1       0.023535               4       0.002800      N\n",
       " 9999996               1       0.030869               4       0.006549      N\n",
       " 9999997               1       0.034536               4      -0.000950      N\n",
       " 9999998               1       0.030869               4       0.010299      N\n",
       " 9999999               1       0.030869               4       0.010299      N\n",
       " \n",
       " [10000000 rows x 5 columns]}"
      ]
     },
     "execution_count": 15,
     "metadata": {},
     "output_type": "execute_result"
    }
   ],
   "execution_count": 15
  },
  {
   "metadata": {},
   "cell_type": "markdown",
   "source": "## Normalidade anomalia",
   "id": "38d782005d0ff380"
  },
  {
   "metadata": {
    "ExecuteTime": {
     "end_time": "2024-08-03T20:19:30.687465Z",
     "start_time": "2024-08-03T20:19:30.674298Z"
    }
   },
   "cell_type": "code",
   "source": "paths_normalidade_anomalia = get_file_paths(path_normalidade_anomalia)",
   "id": "10778d7d7e234115",
   "outputs": [],
   "execution_count": 16
  },
  {
   "metadata": {
    "ExecuteTime": {
     "end_time": "2024-08-03T20:19:30.702930Z",
     "start_time": "2024-08-03T20:19:30.688546Z"
    }
   },
   "cell_type": "code",
   "source": "paths_normalidade_anomalia",
   "id": "64f528aa054b8ad",
   "outputs": [
    {
     "data": {
      "text/plain": [
       "['./data/qing_cheng/normalidade_anomalia\\\\Qc-N_A-C1_1-C2_2-2024-03-12_16-29-55.npy',\n",
       " './data/qing_cheng/normalidade_anomalia\\\\Qc-N_A-C1_1-C2_3-2024-03-12_16-31-28.npy',\n",
       " './data/qing_cheng/normalidade_anomalia\\\\Qc-N_A-C1_1-C2_4-2024-03-12_16-32-52.npy']"
      ]
     },
     "execution_count": 17,
     "metadata": {},
     "output_type": "execute_result"
    }
   ],
   "execution_count": 17
  },
  {
   "metadata": {
    "ExecuteTime": {
     "end_time": "2024-08-03T20:19:33.744341Z",
     "start_time": "2024-08-03T20:19:30.706461Z"
    }
   },
   "cell_type": "code",
   "source": "df_normalidade_anomalia = mount_data_frames(paths_normalidade_anomalia)",
   "id": "e7204c5c5065410c",
   "outputs": [],
   "execution_count": 18
  },
  {
   "metadata": {
    "ExecuteTime": {
     "end_time": "2024-08-03T20:19:33.775197Z",
     "start_time": "2024-08-03T20:19:33.746353Z"
    }
   },
   "cell_type": "code",
   "source": "df_normalidade_anomalia",
   "id": "7113a24bb76958a8",
   "outputs": [
    {
     "data": {
      "text/plain": [
       "{'2':         posicao_canal_1  valor_canal_1 posicao_canal_2  valor_canal_2 estado\n",
       " 0                     1       0.019868               2      -0.012199    N_A\n",
       " 1                     1       0.023535               2      -0.019698    N_A\n",
       " 2                     1       0.030869               2      -0.019698    N_A\n",
       " 3                     1       0.034536               2      -0.012199    N_A\n",
       " 4                     1       0.030869               2      -0.012199    N_A\n",
       " ...                 ...            ...             ...            ...    ...\n",
       " 9999995               1       0.056538               2       0.002800    N_A\n",
       " 9999996               1       0.063873               2       0.006549    N_A\n",
       " 9999997               1       0.060206               2      -0.000950    N_A\n",
       " 9999998               1       0.056538               2       0.006549    N_A\n",
       " 9999999               1       0.052871               2       0.010299    N_A\n",
       " \n",
       " [10000000 rows x 5 columns],\n",
       " '3':         posicao_canal_1  valor_canal_1 posicao_canal_2  valor_canal_2 estado\n",
       " 0                     1      -0.082811               3       0.010299    N_A\n",
       " 1                     1      -0.079144               3       0.006549    N_A\n",
       " 2                     1      -0.079144               3       0.006549    N_A\n",
       " 3                     1      -0.075477               3       0.010299    N_A\n",
       " 4                     1      -0.071810               3       0.006549    N_A\n",
       " ...                 ...            ...             ...            ...    ...\n",
       " 9999995               1      -0.071810               3       0.017798    N_A\n",
       " 9999996               1      -0.075477               3       0.010299    N_A\n",
       " 9999997               1      -0.071810               3       0.006549    N_A\n",
       " 9999998               1      -0.075477               3       0.006549    N_A\n",
       " 9999999               1      -0.068143               3       0.010299    N_A\n",
       " \n",
       " [10000000 rows x 5 columns],\n",
       " '4':         posicao_canal_1  valor_canal_1 posicao_canal_2  valor_canal_2 estado\n",
       " 0                     1       0.012533               4      -0.004699    N_A\n",
       " 1                     1       0.016200               4      -0.000950    N_A\n",
       " 2                     1       0.012533               4       0.006549    N_A\n",
       " 3                     1       0.016200               4       0.002800    N_A\n",
       " 4                     1       0.019868               4       0.010299    N_A\n",
       " ...                 ...            ...             ...            ...    ...\n",
       " 9999995               1      -0.035139               4       0.002800    N_A\n",
       " 9999996               1      -0.035139               4       0.002800    N_A\n",
       " 9999997               1      -0.042473               4       0.002800    N_A\n",
       " 9999998               1      -0.038806               4       0.006549    N_A\n",
       " 9999999               1      -0.035139               4       0.010299    N_A\n",
       " \n",
       " [10000000 rows x 5 columns]}"
      ]
     },
     "execution_count": 19,
     "metadata": {},
     "output_type": "execute_result"
    }
   ],
   "execution_count": 19
  },
  {
   "metadata": {},
   "cell_type": "markdown",
   "source": "## Normalidade spray",
   "id": "85d3442ff289a942"
  },
  {
   "metadata": {
    "ExecuteTime": {
     "end_time": "2024-08-03T20:19:33.791192Z",
     "start_time": "2024-08-03T20:19:33.777672Z"
    }
   },
   "cell_type": "code",
   "source": "paths_normalidade_spray = get_file_paths(path_normalidade_spray)",
   "id": "51564170a0fb9831",
   "outputs": [],
   "execution_count": 20
  },
  {
   "metadata": {
    "ExecuteTime": {
     "end_time": "2024-08-03T20:19:33.806847Z",
     "start_time": "2024-08-03T20:19:33.793444Z"
    }
   },
   "cell_type": "code",
   "source": "paths_normalidade_spray",
   "id": "e1d552174e9f86d9",
   "outputs": [
    {
     "data": {
      "text/plain": [
       "['./data/qing_cheng/normalidade_spray\\\\Qc-N_S-C1_1-C2_2-2024-03-13_08-39-53.npy',\n",
       " './data/qing_cheng/normalidade_spray\\\\Qc-N_S-C1_1-C2_3-2024-03-13_08-41-32.npy',\n",
       " './data/qing_cheng/normalidade_spray\\\\Qc-N_S-C1_1-C2_4-2024-03-13_08-43-01.npy']"
      ]
     },
     "execution_count": 21,
     "metadata": {},
     "output_type": "execute_result"
    }
   ],
   "execution_count": 21
  },
  {
   "metadata": {
    "ExecuteTime": {
     "end_time": "2024-08-03T20:19:36.646085Z",
     "start_time": "2024-08-03T20:19:33.808368Z"
    }
   },
   "cell_type": "code",
   "source": "df_normalidade_spray = mount_data_frames(paths_normalidade_spray)",
   "id": "766b6cbfb16fb9e4",
   "outputs": [],
   "execution_count": 22
  },
  {
   "metadata": {
    "ExecuteTime": {
     "end_time": "2024-08-03T20:19:36.661370Z",
     "start_time": "2024-08-03T20:19:36.647266Z"
    }
   },
   "cell_type": "code",
   "source": "df_normalidade_spray",
   "id": "f6f6051c37a4a4de",
   "outputs": [
    {
     "data": {
      "text/plain": [
       "{'2':         posicao_canal_1  valor_canal_1 posicao_canal_2  valor_canal_2 estado\n",
       " 0                     1      -0.013136               2       0.010299    N_S\n",
       " 1                     1      -0.009469               2       0.006549    N_S\n",
       " 2                     1      -0.013136               2       0.006549    N_S\n",
       " 3                     1      -0.013136               2       0.010299    N_S\n",
       " 4                     1      -0.009469               2       0.002800    N_S\n",
       " ...                 ...            ...             ...            ...    ...\n",
       " 9999995               1       0.012533               2       0.010299    N_S\n",
       " 9999996               1       0.016200               2       0.010299    N_S\n",
       " 9999997               1       0.023535               2       0.006549    N_S\n",
       " 9999998               1       0.023535               2       0.006549    N_S\n",
       " 9999999               1       0.030869               2       0.010299    N_S\n",
       " \n",
       " [10000000 rows x 5 columns],\n",
       " '3':         posicao_canal_1  valor_canal_1 posicao_canal_2  valor_canal_2 estado\n",
       " 0                     1       0.001532               3       0.002800    N_S\n",
       " 1                     1      -0.002135               3      -0.000950    N_S\n",
       " 2                     1      -0.005802               3      -0.000950    N_S\n",
       " 3                     1      -0.002135               3      -0.000950    N_S\n",
       " 4                     1      -0.002135               3      -0.000950    N_S\n",
       " ...                 ...            ...             ...            ...    ...\n",
       " 9999995               1       0.027202               3       0.014049    N_S\n",
       " 9999996               1       0.023535               3       0.010299    N_S\n",
       " 9999997               1       0.019868               3       0.014049    N_S\n",
       " 9999998               1       0.023535               3       0.017798    N_S\n",
       " 9999999               1       0.019868               3       0.017798    N_S\n",
       " \n",
       " [10000000 rows x 5 columns],\n",
       " '4':         posicao_canal_1  valor_canal_1 posicao_canal_2  valor_canal_2 estado\n",
       " 0                     1      -0.005802               4      -0.000950    N_S\n",
       " 1                     1      -0.005802               4      -0.000950    N_S\n",
       " 2                     1       0.001532               4       0.002800    N_S\n",
       " 3                     1       0.001532               4       0.002800    N_S\n",
       " 4                     1       0.008866               4       0.006549    N_S\n",
       " ...                 ...            ...             ...            ...    ...\n",
       " 9999995               1       0.034536               4       0.014049    N_S\n",
       " 9999996               1       0.030869               4       0.014049    N_S\n",
       " 9999997               1       0.030869               4       0.010299    N_S\n",
       " 9999998               1       0.030869               4       0.014049    N_S\n",
       " 9999999               1       0.027202               4       0.010299    N_S\n",
       " \n",
       " [10000000 rows x 5 columns]}"
      ]
     },
     "execution_count": 23,
     "metadata": {},
     "output_type": "execute_result"
    }
   ],
   "execution_count": 23
  },
  {
   "metadata": {},
   "cell_type": "markdown",
   "source": "## Vazamento",
   "id": "b669d245131bc201"
  },
  {
   "metadata": {
    "ExecuteTime": {
     "end_time": "2024-08-03T20:19:36.676757Z",
     "start_time": "2024-08-03T20:19:36.661879Z"
    }
   },
   "cell_type": "code",
   "source": "paths_vazamento = get_file_paths(path_vazamento)",
   "id": "8f0bcb3f062b867c",
   "outputs": [],
   "execution_count": 24
  },
  {
   "metadata": {
    "ExecuteTime": {
     "end_time": "2024-08-03T20:19:36.693330Z",
     "start_time": "2024-08-03T20:19:36.677917Z"
    }
   },
   "cell_type": "code",
   "source": "paths_vazamento",
   "id": "9dc08a7b20388898",
   "outputs": [
    {
     "data": {
      "text/plain": [
       "['./data/qing_cheng/vazamento_5_bar\\\\Qc-V5b-C1_1-C2_2-2024-03-13_10-54-31.npy',\n",
       " './data/qing_cheng/vazamento_5_bar\\\\Qc-V5b-C1_1-C2_3-2024-03-13_10-55-19.npy',\n",
       " './data/qing_cheng/vazamento_5_bar\\\\Qc-V5b-C1_1-C2_4-2024-03-13_10-56-14.npy']"
      ]
     },
     "execution_count": 25,
     "metadata": {},
     "output_type": "execute_result"
    }
   ],
   "execution_count": 25
  },
  {
   "metadata": {
    "ExecuteTime": {
     "end_time": "2024-08-03T20:19:39.271702Z",
     "start_time": "2024-08-03T20:19:36.694675Z"
    }
   },
   "cell_type": "code",
   "source": "df_vazamento = mount_data_frames(paths_vazamento)",
   "id": "d37c360e6045da3",
   "outputs": [],
   "execution_count": 26
  },
  {
   "metadata": {
    "ExecuteTime": {
     "end_time": "2024-08-03T20:19:39.287609Z",
     "start_time": "2024-08-03T20:19:39.275588Z"
    }
   },
   "cell_type": "code",
   "source": "df_vazamento",
   "id": "c8139aa47a96e52f",
   "outputs": [
    {
     "data": {
      "text/plain": [
       "{'2':         posicao_canal_1  valor_canal_1 posicao_canal_2  valor_canal_2 estado\n",
       " 0                     1      -0.002135               2       0.006549    V5b\n",
       " 1                     1      -0.009469               2       0.010299    V5b\n",
       " 2                     1      -0.009469               2       0.010299    V5b\n",
       " 3                     1      -0.005802               2       0.002800    V5b\n",
       " 4                     1      -0.002135               2       0.006549    V5b\n",
       " ...                 ...            ...             ...            ...    ...\n",
       " 9999995               1      -0.002135               2       0.002800    V5b\n",
       " 9999996               1      -0.005802               2       0.010299    V5b\n",
       " 9999997               1      -0.002135               2       0.010299    V5b\n",
       " 9999998               1      -0.002135               2       0.010299    V5b\n",
       " 9999999               1      -0.002135               2       0.010299    V5b\n",
       " \n",
       " [10000000 rows x 5 columns],\n",
       " '3':         posicao_canal_1  valor_canal_1 posicao_canal_2  valor_canal_2 estado\n",
       " 0                     1      -0.024138               3       0.010299    V5b\n",
       " 1                     1      -0.027805               3       0.006549    V5b\n",
       " 2                     1      -0.020470               3       0.010299    V5b\n",
       " 3                     1      -0.020470               3       0.017798    V5b\n",
       " 4                     1      -0.016803               3       0.014049    V5b\n",
       " ...                 ...            ...             ...            ...    ...\n",
       " 9999995               1       0.001532               3       0.006549    V5b\n",
       " 9999996               1      -0.002135               3       0.006549    V5b\n",
       " 9999997               1       0.005199               3       0.010299    V5b\n",
       " 9999998               1       0.008866               3       0.010299    V5b\n",
       " 9999999               1       0.012533               3       0.010299    V5b\n",
       " \n",
       " [10000000 rows x 5 columns],\n",
       " '4':         posicao_canal_1  valor_canal_1 posicao_canal_2  valor_canal_2 estado\n",
       " 0                     1      -0.020470               4       0.002800    V5b\n",
       " 1                     1      -0.024138               4       0.006549    V5b\n",
       " 2                     1      -0.020470               4       0.002800    V5b\n",
       " 3                     1      -0.016803               4       0.002800    V5b\n",
       " 4                     1      -0.013136               4       0.002800    V5b\n",
       " ...                 ...            ...             ...            ...    ...\n",
       " 9999995               1      -0.031472               4       0.010299    V5b\n",
       " 9999996               1      -0.027805               4       0.010299    V5b\n",
       " 9999997               1      -0.020470               4       0.002800    V5b\n",
       " 9999998               1      -0.013136               4       0.002800    V5b\n",
       " 9999999               1      -0.005802               4       0.006549    V5b\n",
       " \n",
       " [10000000 rows x 5 columns]}"
      ]
     },
     "execution_count": 27,
     "metadata": {},
     "output_type": "execute_result"
    }
   ],
   "execution_count": 27
  },
  {
   "metadata": {},
   "cell_type": "markdown",
   "source": "## Vazamento anomalia",
   "id": "a53b045751654b58"
  },
  {
   "metadata": {
    "ExecuteTime": {
     "end_time": "2024-08-03T20:19:39.303229Z",
     "start_time": "2024-08-03T20:19:39.289126Z"
    }
   },
   "cell_type": "code",
   "source": "paths_vazamento_anomalia = get_file_paths(path_vazamento_anomalia)",
   "id": "238a0962a1fcfbfb",
   "outputs": [],
   "execution_count": 28
  },
  {
   "metadata": {
    "ExecuteTime": {
     "end_time": "2024-08-03T20:19:39.318794Z",
     "start_time": "2024-08-03T20:19:39.304748Z"
    }
   },
   "cell_type": "code",
   "source": "paths_vazamento_anomalia",
   "id": "d7efa027fbc1df2d",
   "outputs": [
    {
     "data": {
      "text/plain": [
       "['./data/qing_cheng/vazamento_5_bar_anomalia\\\\Qc-V5b_A-C1_1-C2_2-2024-03-13_11-17-57.npy',\n",
       " './data/qing_cheng/vazamento_5_bar_anomalia\\\\Qc-V5b_A-C1_1-C2_3-2024-03-13_11-19-55.npy',\n",
       " './data/qing_cheng/vazamento_5_bar_anomalia\\\\Qc-V5b_A-C1_1-C2_4-2024-03-13_11-21-50.npy']"
      ]
     },
     "execution_count": 29,
     "metadata": {},
     "output_type": "execute_result"
    }
   ],
   "execution_count": 29
  },
  {
   "metadata": {
    "ExecuteTime": {
     "end_time": "2024-08-03T20:19:41.766821Z",
     "start_time": "2024-08-03T20:19:39.319797Z"
    }
   },
   "cell_type": "code",
   "source": "df_vazamento_anomalia = mount_data_frames(paths_vazamento_anomalia)",
   "id": "279bca407ec3e8f6",
   "outputs": [],
   "execution_count": 30
  },
  {
   "metadata": {
    "ExecuteTime": {
     "end_time": "2024-08-03T20:19:41.782127Z",
     "start_time": "2024-08-03T20:19:41.768843Z"
    }
   },
   "cell_type": "code",
   "source": "df_vazamento_anomalia",
   "id": "edb6fb768e170632",
   "outputs": [
    {
     "data": {
      "text/plain": [
       "{'2':         posicao_canal_1  valor_canal_1 posicao_canal_2  valor_canal_2 estado\n",
       " 0                     1      -0.002135               2       0.014049  V5b_A\n",
       " 1                     1      -0.002135               2       0.017798  V5b_A\n",
       " 2                     1       0.001532               2       0.014049  V5b_A\n",
       " 3                     1       0.005199               2       0.006549  V5b_A\n",
       " 4                     1       0.001532               2       0.010299  V5b_A\n",
       " ...                 ...            ...             ...            ...    ...\n",
       " 9999995               1       0.012533               2       0.014049  V5b_A\n",
       " 9999996               1       0.005199               2       0.014049  V5b_A\n",
       " 9999997               1       0.008866               2       0.017798  V5b_A\n",
       " 9999998               1       0.008866               2       0.017798  V5b_A\n",
       " 9999999               1       0.001532               2       0.017798  V5b_A\n",
       " \n",
       " [10000000 rows x 5 columns],\n",
       " '3':         posicao_canal_1  valor_canal_1 posicao_canal_2  valor_canal_2 estado\n",
       " 0                     1      -0.020470               3       0.010299  V5b_A\n",
       " 1                     1      -0.013136               3       0.010299  V5b_A\n",
       " 2                     1      -0.005802               3       0.006549  V5b_A\n",
       " 3                     1      -0.005802               3       0.006549  V5b_A\n",
       " 4                     1       0.001532               3       0.002800  V5b_A\n",
       " ...                 ...            ...             ...            ...    ...\n",
       " 9999995               1       0.078541               3       0.006549  V5b_A\n",
       " 9999996               1       0.078541               3       0.002800  V5b_A\n",
       " 9999997               1       0.082208               3       0.010299  V5b_A\n",
       " 9999998               1       0.078541               3       0.002800  V5b_A\n",
       " 9999999               1       0.071207               3       0.002800  V5b_A\n",
       " \n",
       " [10000000 rows x 5 columns],\n",
       " '4':         posicao_canal_1  valor_canal_1 posicao_canal_2  valor_canal_2 estado\n",
       " 0                     1       0.034536               4       0.006549  V5b_A\n",
       " 1                     1       0.034536               4       0.014049  V5b_A\n",
       " 2                     1       0.023535               4       0.014049  V5b_A\n",
       " 3                     1       0.016200               4       0.014049  V5b_A\n",
       " 4                     1       0.012533               4       0.014049  V5b_A\n",
       " ...                 ...            ...             ...            ...    ...\n",
       " 9999995               1       0.038203               4       0.006549  V5b_A\n",
       " 9999996               1       0.030869               4       0.010299  V5b_A\n",
       " 9999997               1       0.023535               4       0.002800  V5b_A\n",
       " 9999998               1       0.019868               4       0.010299  V5b_A\n",
       " 9999999               1       0.016200               4       0.021548  V5b_A\n",
       " \n",
       " [10000000 rows x 5 columns]}"
      ]
     },
     "execution_count": 31,
     "metadata": {},
     "output_type": "execute_result"
    }
   ],
   "execution_count": 31
  },
  {
   "metadata": {},
   "cell_type": "markdown",
   "source": "## Vazamento spray",
   "id": "19e297bee0eab89"
  },
  {
   "metadata": {
    "ExecuteTime": {
     "end_time": "2024-08-03T20:19:41.797817Z",
     "start_time": "2024-08-03T20:19:41.783642Z"
    }
   },
   "cell_type": "code",
   "source": "paths_vazamento_spray = get_file_paths(path_vazamento_spray)",
   "id": "507338d76fc802d8",
   "outputs": [],
   "execution_count": 32
  },
  {
   "metadata": {
    "ExecuteTime": {
     "end_time": "2024-08-03T20:19:41.813421Z",
     "start_time": "2024-08-03T20:19:41.798885Z"
    }
   },
   "cell_type": "code",
   "source": "paths_vazamento_spray",
   "id": "2de02a822746b270",
   "outputs": [
    {
     "data": {
      "text/plain": [
       "['./data/qing_cheng/vazamento_5_bar_spray\\\\Qc-V5b_S-C1_1-C2_2-2024-03-13_11-18-51.npy',\n",
       " './data/qing_cheng/vazamento_5_bar_spray\\\\Qc-V5b_S-C1_1-C2_3-2024-03-13_11-20-58.npy',\n",
       " './data/qing_cheng/vazamento_5_bar_spray\\\\Qc-V5b_S-C1_1-C2_4-2024-03-13_11-23-20.npy']"
      ]
     },
     "execution_count": 33,
     "metadata": {},
     "output_type": "execute_result"
    }
   ],
   "execution_count": 33
  },
  {
   "metadata": {
    "ExecuteTime": {
     "end_time": "2024-08-03T20:19:44.236472Z",
     "start_time": "2024-08-03T20:19:41.814894Z"
    }
   },
   "cell_type": "code",
   "source": "df_vazamento_spray = mount_data_frames(paths_vazamento_spray)",
   "id": "8557fa1b60e13826",
   "outputs": [],
   "execution_count": 34
  },
  {
   "metadata": {
    "ExecuteTime": {
     "end_time": "2024-08-03T20:19:44.252106Z",
     "start_time": "2024-08-03T20:19:44.237519Z"
    }
   },
   "cell_type": "code",
   "source": "df_vazamento_spray",
   "id": "fa5765ea086a2af9",
   "outputs": [
    {
     "data": {
      "text/plain": [
       "{'2':         posicao_canal_1  valor_canal_1 posicao_canal_2  valor_canal_2 estado\n",
       " 0                     1      -0.020470               2       0.002800  V5b_S\n",
       " 1                     1      -0.013136               2       0.002800  V5b_S\n",
       " 2                     1      -0.005802               2       0.006549  V5b_S\n",
       " 3                     1      -0.005802               2       0.002800  V5b_S\n",
       " 4                     1       0.001532               2      -0.000950  V5b_S\n",
       " ...                 ...            ...             ...            ...    ...\n",
       " 9999995               1       0.016200               2       0.006549  V5b_S\n",
       " 9999996               1       0.016200               2       0.010299  V5b_S\n",
       " 9999997               1       0.016200               2       0.010299  V5b_S\n",
       " 9999998               1       0.008866               2       0.006549  V5b_S\n",
       " 9999999               1       0.005199               2       0.002800  V5b_S\n",
       " \n",
       " [10000000 rows x 5 columns],\n",
       " '3':         posicao_canal_1  valor_canal_1 posicao_canal_2  valor_canal_2 estado\n",
       " 0                     1       0.027202               3       0.010299  V5b_S\n",
       " 1                     1       0.023535               3       0.002800  V5b_S\n",
       " 2                     1       0.023535               3       0.002800  V5b_S\n",
       " 3                     1       0.023535               3       0.002800  V5b_S\n",
       " 4                     1       0.030869               3       0.002800  V5b_S\n",
       " ...                 ...            ...             ...            ...    ...\n",
       " 9999995               1      -0.016803               3       0.010299  V5b_S\n",
       " 9999996               1      -0.013136               3       0.014049  V5b_S\n",
       " 9999997               1      -0.009469               3       0.010299  V5b_S\n",
       " 9999998               1      -0.005802               3       0.010299  V5b_S\n",
       " 9999999               1      -0.009469               3       0.010299  V5b_S\n",
       " \n",
       " [10000000 rows x 5 columns],\n",
       " '4':         posicao_canal_1  valor_canal_1 posicao_canal_2  valor_canal_2 estado\n",
       " 0                     1      -0.005802               4       0.010299  V5b_S\n",
       " 1                     1      -0.009469               4       0.010299  V5b_S\n",
       " 2                     1      -0.016803               4       0.010299  V5b_S\n",
       " 3                     1      -0.016803               4       0.014049  V5b_S\n",
       " 4                     1      -0.020470               4       0.010299  V5b_S\n",
       " ...                 ...            ...             ...            ...    ...\n",
       " 9999995               1       0.052871               4       0.010299  V5b_S\n",
       " 9999996               1       0.067540               4       0.010299  V5b_S\n",
       " 9999997               1       0.074874               4       0.006549  V5b_S\n",
       " 9999998               1       0.085875               4       0.010299  V5b_S\n",
       " 9999999               1       0.093209               4       0.010299  V5b_S\n",
       " \n",
       " [10000000 rows x 5 columns]}"
      ]
     },
     "execution_count": 35,
     "metadata": {},
     "output_type": "execute_result"
    }
   ],
   "execution_count": 35
  },
  {
   "metadata": {},
   "cell_type": "markdown",
   "source": "# Sliding Window",
   "id": "ae12a7ddc53347b0"
  },
  {
   "metadata": {
    "ExecuteTime": {
     "end_time": "2024-08-03T20:19:44.328890Z",
     "start_time": "2024-08-03T20:19:44.253619Z"
    }
   },
   "cell_type": "code",
   "source": [
    "def sliding_window(data, size):\n",
    "    windows = []\n",
    "    for i in range(0, len(data), size):\n",
    "        window = data.iloc[i:i+size]\n",
    "        windows.append(window)\n",
    "    return windows"
   ],
   "id": "206e62fc330ee1c2",
   "outputs": [],
   "execution_count": 36
  },
  {
   "metadata": {
    "ExecuteTime": {
     "end_time": "2024-08-03T20:19:44.344528Z",
     "start_time": "2024-08-03T20:19:44.329961Z"
    }
   },
   "cell_type": "code",
   "source": [
    "# Tamanho da janela de slicing\n",
    "window_size = 10000 # refere-se a 0.01s, considerando a coleta de 1MHz"
   ],
   "id": "b5b1ce65cedcaaac",
   "outputs": [],
   "execution_count": 37
  },
  {
   "metadata": {
    "ExecuteTime": {
     "end_time": "2024-08-03T20:19:45.073530Z",
     "start_time": "2024-08-03T20:19:44.345649Z"
    }
   },
   "cell_type": "code",
   "source": [
    "# Aplicar a função de sliding window a cada dataframe em cada dicionário\n",
    "normalidade_windows = {key: sliding_window(df, window_size) for key, df in df_normalidade.items()}\n",
    "normalidade_anomalia_windows = {key: sliding_window(df, window_size) for key, df in df_normalidade_anomalia.items()}\n",
    "normalidade_spray_windows = {key: sliding_window(df, window_size) for key, df in df_normalidade_spray.items()}\n",
    "\n",
    "vazamento_windows = {key: sliding_window(df, window_size) for key, df in df_vazamento.items()}\n",
    "vazamento_anomalia_windows = {key: sliding_window(df, window_size) for key, df in df_vazamento_anomalia.items()}\n",
    "vazamento_spray_windows = {key: sliding_window(df, window_size) for key, df in df_normalidade_spray.items()}"
   ],
   "id": "fa56b1917e922e33",
   "outputs": [],
   "execution_count": 38
  },
  {
   "metadata": {
    "ExecuteTime": {
     "end_time": "2024-08-03T20:19:45.089217Z",
     "start_time": "2024-08-03T20:19:45.075668Z"
    }
   },
   "cell_type": "code",
   "source": [
    "print('---Normalidade---')\n",
    "print(f'Rótulos: {normalidade_windows.keys()}')\n",
    "print(f'Quantidade de janelas: {len(normalidade_windows[\"2\"])}')\n",
    "print(f'Tamanho das janela: {len(normalidade_windows[\"2\"][0])}')\n",
    "print('-----------------\\n')\n",
    "\n",
    "print('---Normalidade anomalia---')\n",
    "print(f'Rótulos: {normalidade_anomalia_windows.keys()}')\n",
    "print(f'Quantidade de janelas: {len(normalidade_anomalia_windows[\"2\"])}')\n",
    "print(f'Tamanho das janela: {len(normalidade_anomalia_windows[\"2\"][0])}')\n",
    "print('--------------------------\\n')\n",
    "\n",
    "print('---Normalidade spray---')\n",
    "print(f'Rótulos: {normalidade_spray_windows.keys()}')\n",
    "print(f'Quantidade de janelas: {len(normalidade_spray_windows[\"2\"])}')\n",
    "print(f'Tamanho das janela: {len(normalidade_spray_windows[\"2\"][0])}')\n",
    "print('-----------------------\\n')"
   ],
   "id": "47f4a3c53dbd9c99",
   "outputs": [
    {
     "name": "stdout",
     "output_type": "stream",
     "text": [
      "---Normalidade---\n",
      "Rótulos: dict_keys(['2', '3', '4'])\n",
      "Quantidade de janelas: 1000\n",
      "Tamanho das janela: 10000\n",
      "-----------------\n",
      "\n",
      "---Normalidade anomalia---\n",
      "Rótulos: dict_keys(['2', '3', '4'])\n",
      "Quantidade de janelas: 1000\n",
      "Tamanho das janela: 10000\n",
      "--------------------------\n",
      "\n",
      "---Normalidade spray---\n",
      "Rótulos: dict_keys(['2', '3', '4'])\n",
      "Quantidade de janelas: 1000\n",
      "Tamanho das janela: 10000\n",
      "-----------------------\n",
      "\n"
     ]
    }
   ],
   "execution_count": 39
  },
  {
   "metadata": {
    "ExecuteTime": {
     "end_time": "2024-08-03T20:19:45.105394Z",
     "start_time": "2024-08-03T20:19:45.091219Z"
    }
   },
   "cell_type": "code",
   "source": [
    "print('---Vazamento---')\n",
    "print(f'Rótulos: {vazamento_windows.keys()}')\n",
    "print(f'Quantidade de janelas: {len(vazamento_windows[\"2\"])}')\n",
    "print(f'Tamanho das janela: {len(vazamento_windows[\"2\"][0])}')\n",
    "print('---------------\\n')\n",
    "\n",
    "print('---Vazamento anomalia---')\n",
    "print(f'Rótulos: {vazamento_anomalia_windows.keys()}')\n",
    "print(f'Quantidade de janelas: {len(vazamento_anomalia_windows[\"2\"])}')\n",
    "print(f'Tamanho das janela: {len(vazamento_anomalia_windows[\"2\"][0])}')\n",
    "print('------------------------\\n')\n",
    "\n",
    "print('---Vazamento spray---')\n",
    "print(f'Rótulos: {vazamento_spray_windows.keys()}')\n",
    "print(f'Quantidade de janelas: {len(vazamento_spray_windows[\"2\"])}')\n",
    "print(f'Tamanho das janela: {len(vazamento_spray_windows[\"2\"][0])}')\n",
    "print('---------------------\\n')"
   ],
   "id": "103923425c37a9d6",
   "outputs": [
    {
     "name": "stdout",
     "output_type": "stream",
     "text": [
      "---Vazamento---\n",
      "Rótulos: dict_keys(['2', '3', '4'])\n",
      "Quantidade de janelas: 1000\n",
      "Tamanho das janela: 10000\n",
      "---------------\n",
      "\n",
      "---Vazamento anomalia---\n",
      "Rótulos: dict_keys(['2', '3', '4'])\n",
      "Quantidade de janelas: 1000\n",
      "Tamanho das janela: 10000\n",
      "------------------------\n",
      "\n",
      "---Vazamento spray---\n",
      "Rótulos: dict_keys(['2', '3', '4'])\n",
      "Quantidade de janelas: 1000\n",
      "Tamanho das janela: 10000\n",
      "---------------------\n",
      "\n"
     ]
    }
   ],
   "execution_count": 40
  },
  {
   "metadata": {},
   "cell_type": "markdown",
   "source": "# Downsample",
   "id": "fed62325d8e97d1b"
  },
  {
   "metadata": {
    "ExecuteTime": {
     "end_time": "2024-08-03T20:19:45.120936Z",
     "start_time": "2024-08-03T20:19:45.106912Z"
    }
   },
   "cell_type": "code",
   "source": [
    "def downsample_dataframe(df, size):\n",
    "    # Calcular o fator de downsample\n",
    "    downsample_factor = len(df) // size\n",
    "    \n",
    "    # Selecionar cada enésimo elemento, onde n é o downsample_factor\n",
    "    downsampled_df = df.iloc[::downsample_factor]\n",
    "    \n",
    "    return downsampled_df"
   ],
   "id": "1c606308d6c51d39",
   "outputs": [],
   "execution_count": 41
  },
  {
   "metadata": {
    "ExecuteTime": {
     "end_time": "2024-08-03T20:19:45.136453Z",
     "start_time": "2024-08-03T20:19:45.121948Z"
    }
   },
   "cell_type": "code",
   "source": [
    "def apply_downsample(df_dict: dict, size: int):\n",
    "    df_dict_ds = {}\n",
    "    \n",
    "    # Loop sobre cada key:value em df_windows e downsample cada elemento\n",
    "    for key, dfs in df_dict.items():\n",
    "        df_dict_ds[key] = []\n",
    "        \n",
    "        for df in dfs:\n",
    "            # Downsample do DataFrame\n",
    "            df_dict_ds[key].append(downsample_dataframe(df, size).reset_index(drop=True))\n",
    "            \n",
    "    return df_dict_ds"
   ],
   "id": "8fea1a47e7f354c5",
   "outputs": [],
   "execution_count": 42
  },
  {
   "metadata": {
    "ExecuteTime": {
     "end_time": "2024-08-03T20:19:45.151866Z",
     "start_time": "2024-08-03T20:19:45.138599Z"
    }
   },
   "cell_type": "code",
   "source": [
    "# Valor de referência para o downsample\n",
    "new_size = 2500"
   ],
   "id": "c4e4b32eb6119eb4",
   "outputs": [],
   "execution_count": 43
  },
  {
   "metadata": {
    "ExecuteTime": {
     "end_time": "2024-08-03T20:19:47.849148Z",
     "start_time": "2024-08-03T20:19:45.153448Z"
    }
   },
   "cell_type": "code",
   "source": [
    "normalidade_windows_ds = apply_downsample(normalidade_windows, new_size)\n",
    "normalidade_anomalia_windows_ds = apply_downsample(normalidade_anomalia_windows, new_size)\n",
    "normalidade_spray_windows_ds = apply_downsample(normalidade_spray_windows, new_size)\n",
    "\n",
    "vazamento_windows_ds = apply_downsample(vazamento_windows, new_size)\n",
    "vazamento_anomalia_windows_ds = apply_downsample(vazamento_anomalia_windows, new_size)\n",
    "vazamento_spray_windows_ds = apply_downsample(vazamento_spray_windows, new_size)"
   ],
   "id": "6a2bf9b56159e9fc",
   "outputs": [],
   "execution_count": 44
  },
  {
   "metadata": {
    "ExecuteTime": {
     "end_time": "2024-08-03T20:19:47.864958Z",
     "start_time": "2024-08-03T20:19:47.850341Z"
    }
   },
   "cell_type": "code",
   "source": [
    "print('---Normalidade---')\n",
    "print(f'Rótulos: {normalidade_windows_ds.keys()}')\n",
    "print(f'Quantidade de janelas: {len(normalidade_windows_ds[\"2\"])}')\n",
    "print(f'Tamanho das janela: {len(normalidade_windows_ds[\"2\"][0])}')\n",
    "print('-----------------\\n')\n",
    "\n",
    "print('---Normalidade anomalia---')\n",
    "print(f'Rótulos: {normalidade_anomalia_windows_ds.keys()}')\n",
    "print(f'Quantidade de janelas: {len(normalidade_anomalia_windows_ds[\"2\"])}')\n",
    "print(f'Tamanho das janela: {len(normalidade_anomalia_windows_ds[\"2\"][0])}')\n",
    "print('--------------------------\\n')\n",
    "\n",
    "print('---Normalidade spray---')\n",
    "print(f'Rótulos: {normalidade_spray_windows_ds.keys()}')\n",
    "print(f'Quantidade de janelas: {len(normalidade_spray_windows_ds[\"2\"])}')\n",
    "print(f'Tamanho das janela: {len(normalidade_spray_windows_ds[\"2\"][0])}')\n",
    "print('-----------------------\\n')"
   ],
   "id": "a4e487ebb0722148",
   "outputs": [
    {
     "name": "stdout",
     "output_type": "stream",
     "text": [
      "---Normalidade---\n",
      "Rótulos: dict_keys(['2', '3', '4'])\n",
      "Quantidade de janelas: 1000\n",
      "Tamanho das janela: 2500\n",
      "-----------------\n",
      "\n",
      "---Normalidade anomalia---\n",
      "Rótulos: dict_keys(['2', '3', '4'])\n",
      "Quantidade de janelas: 1000\n",
      "Tamanho das janela: 2500\n",
      "--------------------------\n",
      "\n",
      "---Normalidade spray---\n",
      "Rótulos: dict_keys(['2', '3', '4'])\n",
      "Quantidade de janelas: 1000\n",
      "Tamanho das janela: 2500\n",
      "-----------------------\n",
      "\n"
     ]
    }
   ],
   "execution_count": 45
  },
  {
   "metadata": {
    "ExecuteTime": {
     "end_time": "2024-08-03T20:19:47.880285Z",
     "start_time": "2024-08-03T20:19:47.866969Z"
    }
   },
   "cell_type": "code",
   "source": [
    "print('---Vazamento---')\n",
    "print(f'Rótulos: {vazamento_windows_ds.keys()}')\n",
    "print(f'Quantidade de janelas: {len(vazamento_windows_ds[\"2\"])}')\n",
    "print(f'Tamanho das janela: {len(vazamento_windows_ds[\"2\"][0])}')\n",
    "print('---------------\\n')\n",
    "\n",
    "print('---Vazamento anomalia---')\n",
    "print(f'Rótulos: {vazamento_anomalia_windows_ds.keys()}')\n",
    "print(f'Quantidade de janelas: {len(vazamento_anomalia_windows_ds[\"2\"])}')\n",
    "print(f'Tamanho das janela: {len(vazamento_anomalia_windows_ds[\"2\"][0])}')\n",
    "print('------------------------\\n')\n",
    "\n",
    "print('---Vazamento spray---')\n",
    "print(f'Rótulos: {vazamento_spray_windows_ds.keys()}')\n",
    "print(f'Quantidade de janelas: {len(vazamento_spray_windows_ds[\"2\"])}')\n",
    "print(f'Tamanho das janela: {len(vazamento_spray_windows_ds[\"2\"][0])}')\n",
    "print('---------------------\\n')"
   ],
   "id": "380d144d90a1b040",
   "outputs": [
    {
     "name": "stdout",
     "output_type": "stream",
     "text": [
      "---Vazamento---\n",
      "Rótulos: dict_keys(['2', '3', '4'])\n",
      "Quantidade de janelas: 1000\n",
      "Tamanho das janela: 2500\n",
      "---------------\n",
      "\n",
      "---Vazamento anomalia---\n",
      "Rótulos: dict_keys(['2', '3', '4'])\n",
      "Quantidade de janelas: 1000\n",
      "Tamanho das janela: 2500\n",
      "------------------------\n",
      "\n",
      "---Vazamento spray---\n",
      "Rótulos: dict_keys(['2', '3', '4'])\n",
      "Quantidade de janelas: 1000\n",
      "Tamanho das janela: 2500\n",
      "---------------------\n",
      "\n"
     ]
    }
   ],
   "execution_count": 46
  },
  {
   "metadata": {},
   "cell_type": "markdown",
   "source": "### Optou-se por retirar dados de normalidade pela semelhança entre eles, com principal objetivo de reduzir custo computacional para treinar o modelo final",
   "id": "b2087c96012ef471"
  },
  {
   "metadata": {
    "ExecuteTime": {
     "end_time": "2024-08-03T20:19:47.895424Z",
     "start_time": "2024-08-03T20:19:47.881589Z"
    }
   },
   "cell_type": "code",
   "source": "random.seed(42)",
   "id": "218f006c2b9629bf",
   "outputs": [],
   "execution_count": 47
  },
  {
   "metadata": {
    "ExecuteTime": {
     "end_time": "2024-08-03T20:19:47.911496Z",
     "start_time": "2024-08-03T20:19:47.896464Z"
    }
   },
   "cell_type": "code",
   "source": [
    "def normality_sampling(df_dict: dict, keep_percentage: float):\n",
    "    df_dict_n = {}\n",
    "    \n",
    "    # Loop sobre cada key:value em df_windows\n",
    "    for key, value in df_dict.items():\n",
    "        # Número de elementos a serem mantidos\n",
    "        num_to_keep = int(len(value) * keep_percentage)\n",
    "        \n",
    "        # Selecionar aleatoriamente os índices dos elementos a serem mantidos\n",
    "        indices_to_keep = random.sample(range(len(value)), num_to_keep)\n",
    "        \n",
    "        # Filtrar a lista de dataframes mantendo apenas os elementos selecionados\n",
    "        df_dict_n[key] = [value[i] for i in indices_to_keep]\n",
    "        \n",
    "    return df_dict_n\n",
    "    \n",
    "    # Agora df_windows contém apenas x% dos elementos originais para cada key:value"
   ],
   "id": "864f398a42a6a577",
   "outputs": [],
   "execution_count": 48
  },
  {
   "metadata": {
    "ExecuteTime": {
     "end_time": "2024-08-03T20:19:47.926230Z",
     "start_time": "2024-08-03T20:19:47.913498Z"
    }
   },
   "cell_type": "code",
   "source": [
    "# Porcentagem de elementos a serem mantidos\n",
    "keep_percentage_vazamento = 1 # tem que ser pelo menos 10%\n",
    "\n",
    "keep_percentage_normalidade = keep_percentage_vazamento/9 # sempre 1/9 da quantidade de dados de cada classe para não gerar desbalanceamento"
   ],
   "id": "c0a0bb5dcd915f82",
   "outputs": [],
   "execution_count": 49
  },
  {
   "metadata": {
    "ExecuteTime": {
     "end_time": "2024-08-03T20:19:47.941031Z",
     "start_time": "2024-08-03T20:19:47.927231Z"
    }
   },
   "cell_type": "code",
   "source": [
    "normalidade_windows_ds_n = normality_sampling(normalidade_windows_ds, keep_percentage_normalidade)\n",
    "normalidade_anomalia_windows_ds_n = normality_sampling(normalidade_anomalia_windows_ds, keep_percentage_normalidade)\n",
    "normalidade_spray_windows_ds_n = normality_sampling(normalidade_spray_windows_ds, keep_percentage_normalidade)\n",
    "\n",
    "vazamento_windows_ds_n = normality_sampling(vazamento_windows_ds, keep_percentage_vazamento)\n",
    "vazamento_anomalia_windows_ds_n = normality_sampling(vazamento_anomalia_windows_ds, keep_percentage_vazamento)\n",
    "vazamento_spray_windows_ds_n = normality_sampling(vazamento_spray_windows_ds, keep_percentage_vazamento)"
   ],
   "id": "d1118ddaa4f683ce",
   "outputs": [],
   "execution_count": 50
  },
  {
   "metadata": {
    "ExecuteTime": {
     "end_time": "2024-08-03T20:19:47.956482Z",
     "start_time": "2024-08-03T20:19:47.942139Z"
    }
   },
   "cell_type": "code",
   "source": [
    "print('---Normalidade---')\n",
    "print(f'Rótulos: {normalidade_windows_ds_n.keys()}')\n",
    "print(f'Quantidade de janelas: {len(normalidade_windows_ds_n[\"2\"])}')\n",
    "print(f'Tamanho das janela: {len(normalidade_windows_ds_n[\"2\"][0])}')\n",
    "print('-----------------\\n')\n",
    "\n",
    "print('---Normalidade anomalia---')\n",
    "print(f'Rótulos: {normalidade_anomalia_windows_ds_n.keys()}')\n",
    "print(f'Quantidade de janelas: {len(normalidade_anomalia_windows_ds_n[\"2\"])}')\n",
    "print(f'Tamanho das janela: {len(normalidade_anomalia_windows_ds_n[\"2\"][0])}')\n",
    "print('--------------------------\\n')\n",
    "\n",
    "print('---Normalidade spray---')\n",
    "print(f'Rótulos: {normalidade_spray_windows_ds_n.keys()}')\n",
    "print(f'Quantidade de janelas: {len(normalidade_spray_windows_ds_n[\"2\"])}')\n",
    "print(f'Tamanho das janela: {len(normalidade_spray_windows_ds_n[\"2\"][0])}')\n",
    "print('-----------------------\\n')"
   ],
   "id": "8f0e0d68cca3021b",
   "outputs": [
    {
     "name": "stdout",
     "output_type": "stream",
     "text": [
      "---Normalidade---\n",
      "Rótulos: dict_keys(['2', '3', '4'])\n",
      "Quantidade de janelas: 111\n",
      "Tamanho das janela: 2500\n",
      "-----------------\n",
      "\n",
      "---Normalidade anomalia---\n",
      "Rótulos: dict_keys(['2', '3', '4'])\n",
      "Quantidade de janelas: 111\n",
      "Tamanho das janela: 2500\n",
      "--------------------------\n",
      "\n",
      "---Normalidade spray---\n",
      "Rótulos: dict_keys(['2', '3', '4'])\n",
      "Quantidade de janelas: 111\n",
      "Tamanho das janela: 2500\n",
      "-----------------------\n",
      "\n"
     ]
    }
   ],
   "execution_count": 51
  },
  {
   "metadata": {
    "ExecuteTime": {
     "end_time": "2024-08-03T20:19:47.971292Z",
     "start_time": "2024-08-03T20:19:47.957549Z"
    }
   },
   "cell_type": "code",
   "source": [
    "print('---Vazamento---')\n",
    "print(f'Rótulos: {vazamento_windows_ds_n.keys()}')\n",
    "print(f'Quantidade de janelas: {len(vazamento_windows_ds_n[\"2\"])}')\n",
    "print(f'Tamanho das janela: {len(vazamento_windows_ds_n[\"2\"][0])}')\n",
    "print('---------------\\n')\n",
    "\n",
    "print('---Vazamento anomalia---')\n",
    "print(f'Rótulos: {vazamento_anomalia_windows_ds_n.keys()}')\n",
    "print(f'Quantidade de janelas: {len(vazamento_anomalia_windows_ds_n[\"2\"])}')\n",
    "print(f'Tamanho das janela: {len(vazamento_anomalia_windows_ds_n[\"2\"][0])}')\n",
    "print('------------------------\\n')\n",
    "\n",
    "print('---Vazamento spray---')\n",
    "print(f'Rótulos: {vazamento_spray_windows_ds_n.keys()}')\n",
    "print(f'Quantidade de janelas: {len(vazamento_spray_windows_ds_n[\"2\"])}')\n",
    "print(f'Tamanho das janela: {len(vazamento_spray_windows_ds_n[\"2\"][0])}')\n",
    "print('---------------------\\n')"
   ],
   "id": "1e392ae4d2dab9ed",
   "outputs": [
    {
     "name": "stdout",
     "output_type": "stream",
     "text": [
      "---Vazamento---\n",
      "Rótulos: dict_keys(['2', '3', '4'])\n",
      "Quantidade de janelas: 1000\n",
      "Tamanho das janela: 2500\n",
      "---------------\n",
      "\n",
      "---Vazamento anomalia---\n",
      "Rótulos: dict_keys(['2', '3', '4'])\n",
      "Quantidade de janelas: 1000\n",
      "Tamanho das janela: 2500\n",
      "------------------------\n",
      "\n",
      "---Vazamento spray---\n",
      "Rótulos: dict_keys(['2', '3', '4'])\n",
      "Quantidade de janelas: 1000\n",
      "Tamanho das janela: 2500\n",
      "---------------------\n",
      "\n"
     ]
    }
   ],
   "execution_count": 52
  },
  {
   "metadata": {},
   "cell_type": "markdown",
   "source": "# FFT",
   "id": "81b6b054ed371e59"
  },
  {
   "metadata": {
    "ExecuteTime": {
     "end_time": "2024-08-03T20:19:47.987001Z",
     "start_time": "2024-08-03T20:19:47.972290Z"
    }
   },
   "cell_type": "code",
   "source": [
    "def fft_transform(df, canal, fs, n):\n",
    "    t = 1/fs\n",
    "    # x = np.linspace(0.0, N*T, N, endpoint=False)\n",
    "    y_values = df[canal].values\n",
    "\n",
    "    # valor imaginario\n",
    "    yf = fft(y_values)\n",
    "    xf = fftfreq(n, t)[:n//2]\n",
    "\n",
    "    yf = 2.0/n * np.abs(yf[:n//2])\n",
    "\n",
    "    return xf, yf"
   ],
   "id": "e94b8c3226d62909",
   "outputs": [],
   "execution_count": 53
  },
  {
   "metadata": {
    "ExecuteTime": {
     "end_time": "2024-08-03T20:19:48.002246Z",
     "start_time": "2024-08-03T20:19:47.993258Z"
    }
   },
   "cell_type": "code",
   "source": [
    "def mount_fft_data_frames(df_windows, element_size, fs, n):\n",
    "    windows_fft = {}\n",
    "    xf1, xf2 = None, None\n",
    "    \n",
    "    # Inicializando cada valor do dicionário como uma lista de dataframes vazios\n",
    "    for i in range(2, 5):\n",
    "        key = f'{i}'\n",
    "        windows_fft[key] = [pd.DataFrame(columns=['canal_1', 'canal_2']) for _ in range(element_size)]\n",
    "    \n",
    "    # tira a fft e filtra para todas as janelas de tempo em df_windows e salva em df_windows_fft\n",
    "    for sensor_position in df_windows:\n",
    "        for index, _ in enumerate(df_windows[sensor_position]):\n",
    "            xf1, windows_fft[sensor_position][index]['canal_1'] = fft_transform(df_windows[sensor_position][index], 'valor_canal_1', fs, n)\n",
    "            xf2, windows_fft[sensor_position][index]['canal_2'] = fft_transform(df_windows[sensor_position][index], 'valor_canal_2', fs, n)\n",
    "            windows_fft[sensor_position][index].reset_index(drop=True, inplace=True)\n",
    "            \n",
    "    return windows_fft, xf1, xf2"
   ],
   "id": "2b77d36e7a10bf88",
   "outputs": [],
   "execution_count": 54
  },
  {
   "metadata": {
    "ExecuteTime": {
     "end_time": "2024-08-03T20:19:48.017613Z",
     "start_time": "2024-08-03T20:19:48.003763Z"
    }
   },
   "cell_type": "code",
   "source": [
    "fft_fs = 1000000.0/(window_size/new_size)\n",
    "fft_N = new_size"
   ],
   "id": "5c6e147a10c4933b",
   "outputs": [],
   "execution_count": 55
  },
  {
   "metadata": {},
   "cell_type": "markdown",
   "source": "## Normalidade",
   "id": "3bcf9fa2372a2c19"
  },
  {
   "metadata": {
    "ExecuteTime": {
     "end_time": "2024-08-03T20:19:48.301349Z",
     "start_time": "2024-08-03T20:19:48.018773Z"
    }
   },
   "cell_type": "code",
   "source": [
    "normalidade_dfs_fft_size = len(normalidade_windows_ds_n['2'])\n",
    "normalidade_windows_fft, normalidade_xf1, normalidade_xf2 = mount_fft_data_frames(normalidade_windows_ds_n, normalidade_dfs_fft_size, fft_fs, fft_N)"
   ],
   "id": "2bdc4a3474e96110",
   "outputs": [],
   "execution_count": 56
  },
  {
   "metadata": {
    "ExecuteTime": {
     "end_time": "2024-08-03T20:19:48.567751Z",
     "start_time": "2024-08-03T20:19:48.302458Z"
    }
   },
   "cell_type": "code",
   "source": [
    "plt.figure(figsize=(10, 6))\n",
    "plt.plot(normalidade_xf1, normalidade_windows_fft['2'][12]['canal_1'], label='Canal 1')\n",
    "plt.plot(normalidade_xf1, normalidade_windows_fft['2'][12]['canal_2'], label='Canal 2')\n",
    "plt.xlabel('Frequência')\n",
    "plt.ylabel('Magnitude')\n",
    "plt.title('Normalidade')\n",
    "plt.legend()\n",
    "plt.show()"
   ],
   "id": "781b2b833b51f7e0",
   "outputs": [
    {
     "data": {
      "text/plain": [
       "<Figure size 1000x600 with 1 Axes>"
      ],
      "image/png": "[encoded data removed]"
     },
     "metadata": {},
     "output_type": "display_data"
    }
   ],
   "execution_count": 57
  },
  {
   "metadata": {
    "ExecuteTime": {
     "end_time": "2024-08-03T20:19:48.583464Z",
     "start_time": "2024-08-03T20:19:48.568751Z"
    }
   },
   "cell_type": "code",
   "source": [
    "print(normalidade_xf1[150])\n",
    "print(normalidade_xf1[700])"
   ],
   "id": "4f9afade1bd09085",
   "outputs": [
    {
     "name": "stdout",
     "output_type": "stream",
     "text": [
      "15000.0\n",
      "70000.0\n"
     ]
    }
   ],
   "execution_count": 58
  },
  {
   "metadata": {},
   "cell_type": "markdown",
   "source": "## Normalidade anomalia",
   "id": "d16ec777d20df635"
  },
  {
   "metadata": {
    "ExecuteTime": {
     "end_time": "2024-08-03T20:19:48.852670Z",
     "start_time": "2024-08-03T20:19:48.584523Z"
    }
   },
   "cell_type": "code",
   "source": [
    "normalidade_anomalia_dfs_fft_size = len(normalidade_anomalia_windows_ds_n['2'])\n",
    "normalidade_anomalia_windows_fft, normalidade_anomalia_xf1, normalidade_anomalia_xf2 = mount_fft_data_frames(normalidade_anomalia_windows_ds_n, normalidade_anomalia_dfs_fft_size, fft_fs, fft_N)"
   ],
   "id": "21e4d774b6898b08",
   "outputs": [],
   "execution_count": 59
  },
  {
   "metadata": {
    "ExecuteTime": {
     "end_time": "2024-08-03T20:19:49.086759Z",
     "start_time": "2024-08-03T20:19:48.854758Z"
    }
   },
   "cell_type": "code",
   "source": [
    "plt.figure(figsize=(10, 6))\n",
    "plt.plot(normalidade_anomalia_xf1, normalidade_anomalia_windows_fft['2'][12]['canal_1'], label='Canal 1')\n",
    "plt.plot(normalidade_anomalia_xf1, normalidade_anomalia_windows_fft['2'][12]['canal_2'], label='Canal 2')\n",
    "plt.xlabel('Frequência')\n",
    "plt.ylabel('Magnitude')\n",
    "plt.title('Normalidade anomalia')\n",
    "plt.legend()\n",
    "plt.show()"
   ],
   "id": "642b07a9febd0831",
   "outputs": [
    {
     "data": {
      "text/plain": [
       "<Figure size 1000x600 with 1 Axes>"
      ],
      "image/png": "[encoded data removed]"
     },
     "metadata": {},
     "output_type": "display_data"
    }
   ],
   "execution_count": 60
  },
  {
   "metadata": {
    "ExecuteTime": {
     "end_time": "2024-08-03T20:19:49.102414Z",
     "start_time": "2024-08-03T20:19:49.088042Z"
    }
   },
   "cell_type": "code",
   "source": [
    "print(normalidade_anomalia_xf1[150])\n",
    "print(normalidade_anomalia_xf1[700])"
   ],
   "id": "7b44577803ccf408",
   "outputs": [
    {
     "name": "stdout",
     "output_type": "stream",
     "text": [
      "15000.0\n",
      "70000.0\n"
     ]
    }
   ],
   "execution_count": 61
  },
  {
   "metadata": {},
   "cell_type": "markdown",
   "source": "## Normalidade spray",
   "id": "356ec0cb2f2f223b"
  },
  {
   "metadata": {
    "ExecuteTime": {
     "end_time": "2024-08-03T20:19:49.368396Z",
     "start_time": "2024-08-03T20:19:49.103925Z"
    }
   },
   "cell_type": "code",
   "source": [
    "normalidade_spray_dfs_fft_size = len(normalidade_spray_windows_ds_n['2'])\n",
    "normalidade_spray_windows_fft, normalidade_spray_xf1, normalidade_spray_xf2 = mount_fft_data_frames(normalidade_spray_windows_ds_n, normalidade_spray_dfs_fft_size, fft_fs, fft_N)"
   ],
   "id": "da05da3fccc42768",
   "outputs": [],
   "execution_count": 62
  },
  {
   "metadata": {
    "ExecuteTime": {
     "end_time": "2024-08-03T20:19:49.587702Z",
     "start_time": "2024-08-03T20:19:49.369732Z"
    }
   },
   "cell_type": "code",
   "source": [
    "plt.figure(figsize=(10, 6))\n",
    "plt.plot(normalidade_spray_xf1, normalidade_spray_windows_fft['2'][12]['canal_1'], label='Canal 1')\n",
    "plt.plot(normalidade_spray_xf1, normalidade_spray_windows_fft['2'][12]['canal_2'], label='Canal 2')\n",
    "plt.xlabel('Frequência')\n",
    "plt.ylabel('Magnitude')\n",
    "plt.title('Normalidade spray')\n",
    "plt.legend()\n",
    "plt.show()"
   ],
   "id": "62efc240e69bce40",
   "outputs": [
    {
     "data": {
      "text/plain": [
       "<Figure size 1000x600 with 1 Axes>"
      ],
      "image/png": "[encoded data removed]"
     },
     "metadata": {},
     "output_type": "display_data"
    }
   ],
   "execution_count": 63
  },
  {
   "metadata": {
    "ExecuteTime": {
     "end_time": "2024-08-03T20:19:49.603497Z",
     "start_time": "2024-08-03T20:19:49.589750Z"
    }
   },
   "cell_type": "code",
   "source": [
    "print(normalidade_spray_xf1[150])\n",
    "print(normalidade_spray_xf1[700])"
   ],
   "id": "ce3c8c95f2d5c35c",
   "outputs": [
    {
     "name": "stdout",
     "output_type": "stream",
     "text": [
      "15000.0\n",
      "70000.0\n"
     ]
    }
   ],
   "execution_count": 64
  },
  {
   "metadata": {},
   "cell_type": "markdown",
   "source": "## Vazamento",
   "id": "c663c20f71e994c3"
  },
  {
   "metadata": {
    "ExecuteTime": {
     "end_time": "2024-08-03T20:19:52.150751Z",
     "start_time": "2024-08-03T20:19:49.605631Z"
    }
   },
   "cell_type": "code",
   "source": [
    "vazamento_dfs_fft_size = len(vazamento_windows_ds_n['2'])\n",
    "vazamento_windows_fft, vazamento_xf1, vazamento_xf2 = mount_fft_data_frames(vazamento_windows_ds_n, vazamento_dfs_fft_size, fft_fs, fft_N)"
   ],
   "id": "c3f800cfacd10ed7",
   "outputs": [],
   "execution_count": 65
  },
  {
   "metadata": {
    "ExecuteTime": {
     "end_time": "2024-08-03T20:19:52.353473Z",
     "start_time": "2024-08-03T20:19:52.152182Z"
    }
   },
   "cell_type": "code",
   "source": [
    "plt.figure(figsize=(10, 6))\n",
    "plt.plot(vazamento_xf1, vazamento_windows_fft['2'][12]['canal_1'], label='Canal 1')\n",
    "plt.plot(vazamento_xf1, vazamento_windows_fft['2'][12]['canal_2'], label='Canal 2')\n",
    "plt.xlabel('Frequência')\n",
    "plt.ylabel('Magnitude')\n",
    "plt.title('Vazamento')\n",
    "plt.legend()\n",
    "plt.show()"
   ],
   "id": "738524a6bcf50142",
   "outputs": [
    {
     "data": {
      "text/plain": [
       "<Figure size 1000x600 with 1 Axes>"
      ],
      "image/png": "[encoded data removed]"
     },
     "metadata": {},
     "output_type": "display_data"
    }
   ],
   "execution_count": 66
  },
  {
   "metadata": {
    "ExecuteTime": {
     "end_time": "2024-08-03T20:19:52.369138Z",
     "start_time": "2024-08-03T20:19:52.355579Z"
    }
   },
   "cell_type": "code",
   "source": [
    "print(vazamento_xf1[150])\n",
    "print(vazamento_xf1[700])"
   ],
   "id": "e764de4c0b3eaa35",
   "outputs": [
    {
     "name": "stdout",
     "output_type": "stream",
     "text": [
      "15000.0\n",
      "70000.0\n"
     ]
    }
   ],
   "execution_count": 67
  },
  {
   "metadata": {},
   "cell_type": "markdown",
   "source": "## Vazamento anomalia",
   "id": "dd0d2f8f4c7fa040"
  },
  {
   "metadata": {
    "ExecuteTime": {
     "end_time": "2024-08-03T20:19:55.060665Z",
     "start_time": "2024-08-03T20:19:52.370788Z"
    }
   },
   "cell_type": "code",
   "source": [
    "vazamento_anomalia_dfs_fft_size = len(vazamento_anomalia_windows_ds_n['2'])\n",
    "vazamento_anomalia_windows_fft, vazamento_anomalia_xf1, vazamento_anomalia_xf2 = mount_fft_data_frames(vazamento_anomalia_windows_ds_n, vazamento_anomalia_dfs_fft_size, fft_fs, fft_N)"
   ],
   "id": "bc9e6103f5f11ff5",
   "outputs": [],
   "execution_count": 68
  },
  {
   "metadata": {
    "ExecuteTime": {
     "end_time": "2024-08-03T20:19:55.267508Z",
     "start_time": "2024-08-03T20:19:55.061666Z"
    }
   },
   "cell_type": "code",
   "source": [
    "plt.figure(figsize=(10, 6))\n",
    "plt.plot(vazamento_anomalia_xf1, vazamento_anomalia_windows_fft['2'][12]['canal_1'], label='Canal 1')\n",
    "plt.plot(vazamento_anomalia_xf1, vazamento_anomalia_windows_fft['2'][12]['canal_2'], label='Canal 2')\n",
    "plt.xlabel('Frequência')\n",
    "plt.ylabel('Magnitude')\n",
    "plt.title('Vazamento anomalia')\n",
    "plt.legend()\n",
    "plt.show()"
   ],
   "id": "d27c67659a4627e8",
   "outputs": [
    {
     "data": {
      "text/plain": [
       "<Figure size 1000x600 with 1 Axes>"
      ],
      "image/png": "[encoded data removed]"
     },
     "metadata": {},
     "output_type": "display_data"
    }
   ],
   "execution_count": 69
  },
  {
   "metadata": {
    "ExecuteTime": {
     "end_time": "2024-08-03T20:19:55.283760Z",
     "start_time": "2024-08-03T20:19:55.268567Z"
    }
   },
   "cell_type": "code",
   "source": [
    "print(vazamento_anomalia_xf1[150])\n",
    "print(vazamento_anomalia_xf1[700])"
   ],
   "id": "f5cea82bfaeecfa",
   "outputs": [
    {
     "name": "stdout",
     "output_type": "stream",
     "text": [
      "15000.0\n",
      "70000.0\n"
     ]
    }
   ],
   "execution_count": 70
  },
  {
   "metadata": {},
   "cell_type": "markdown",
   "source": "## Vazamento spray",
   "id": "679eec90a7a9c3fe"
  },
  {
   "metadata": {
    "ExecuteTime": {
     "end_time": "2024-08-03T20:19:57.540709Z",
     "start_time": "2024-08-03T20:19:55.284783Z"
    }
   },
   "cell_type": "code",
   "source": [
    "vazamento_spray_dfs_fft_size = len(vazamento_spray_windows_ds_n['2'])\n",
    "vazamento_spray_windows_fft, vazamento_spray_xf1, vazamento_spray_xf2 = mount_fft_data_frames(vazamento_spray_windows_ds_n, vazamento_spray_dfs_fft_size, fft_fs, fft_N)"
   ],
   "id": "36283540711c282c",
   "outputs": [],
   "execution_count": 71
  },
  {
   "metadata": {
    "ExecuteTime": {
     "end_time": "2024-08-03T20:19:57.775141Z",
     "start_time": "2024-08-03T20:19:57.542766Z"
    }
   },
   "cell_type": "code",
   "source": [
    "plt.figure(figsize=(10, 6))\n",
    "plt.plot(vazamento_spray_xf1, vazamento_spray_windows_fft['2'][12]['canal_1'], label='Canal 1')\n",
    "plt.plot(vazamento_spray_xf1, vazamento_spray_windows_fft['2'][12]['canal_2'], label='Canal 2')\n",
    "plt.xlabel('Frequência')\n",
    "plt.ylabel('Magnitude')\n",
    "plt.title('Vazamento spray')\n",
    "plt.legend()\n",
    "plt.show()"
   ],
   "id": "d6f1abe2f0174657",
   "outputs": [
    {
     "data": {
      "text/plain": [
       "<Figure size 1000x600 with 1 Axes>"
      ],
      "image/png": "[encoded data removed]"
     },
     "metadata": {},
     "output_type": "display_data"
    }
   ],
   "execution_count": 72
  },
  {
   "metadata": {
    "ExecuteTime": {
     "end_time": "2024-08-03T20:19:57.791187Z",
     "start_time": "2024-08-03T20:19:57.777139Z"
    }
   },
   "cell_type": "code",
   "source": [
    "print(vazamento_spray_xf1[150])\n",
    "print(vazamento_spray_xf1[700])"
   ],
   "id": "9ebc4c9eaa80954a",
   "outputs": [
    {
     "name": "stdout",
     "output_type": "stream",
     "text": [
      "15000.0\n",
      "70000.0\n"
     ]
    }
   ],
   "execution_count": 73
  },
  {
   "metadata": {},
   "cell_type": "markdown",
   "source": "## Sampling",
   "id": "8de6c7c84d10b72a"
  },
  {
   "metadata": {
    "ExecuteTime": {
     "end_time": "2024-08-03T20:19:57.806024Z",
     "start_time": "2024-08-03T20:19:57.792190Z"
    }
   },
   "cell_type": "code",
   "source": [
    "def fft_sampling(df_windows_fft: dict):\n",
    "    df_windows_fft_sampled = {}\n",
    "    \n",
    "    for sensor_position in df_windows_fft:\n",
    "        df_windows_fft_sampled[sensor_position] = []\n",
    "        \n",
    "        for index, sample in enumerate(df_windows_fft[sensor_position]):\n",
    "            df_windows_fft_sampled[sensor_position].append(sample[150:700].reset_index(drop=True))\n",
    "            \n",
    "    return df_windows_fft_sampled"
   ],
   "id": "4efc39d9e07e726",
   "outputs": [],
   "execution_count": 74
  },
  {
   "metadata": {
    "ExecuteTime": {
     "end_time": "2024-08-03T20:19:59.351166Z",
     "start_time": "2024-08-03T20:19:57.807094Z"
    }
   },
   "cell_type": "code",
   "source": [
    "normalidade_windows_fft_s = fft_sampling(normalidade_windows_fft)\n",
    "normalidade_anomalia_windows_fft_s = fft_sampling(normalidade_anomalia_windows_fft)\n",
    "normalidade_spray_windows_fft_s = fft_sampling(normalidade_spray_windows_fft)\n",
    "\n",
    "vazamento_windows_fft_s = fft_sampling(vazamento_windows_fft)\n",
    "vazamento_anomalia_windows_fft_s = fft_sampling(vazamento_anomalia_windows_fft)\n",
    "vazamento_spray_windows_fft_s = fft_sampling(vazamento_spray_windows_fft)"
   ],
   "id": "2f0e62230acb62f1",
   "outputs": [],
   "execution_count": 75
  },
  {
   "metadata": {
    "ExecuteTime": {
     "end_time": "2024-08-03T20:19:59.555142Z",
     "start_time": "2024-08-03T20:19:59.352182Z"
    }
   },
   "cell_type": "code",
   "source": [
    "plt.figure(figsize=(10, 6))\n",
    "plt.plot(vazamento_xf1[150:700], vazamento_windows_fft_s['2'][12]['canal_1'], label='Canal 1')\n",
    "plt.plot(vazamento_xf1[150:700], vazamento_windows_fft_s['2'][12]['canal_2'], label='Canal 2')\n",
    "plt.xlabel('Frequência')\n",
    "plt.ylabel('Magnitude')\n",
    "plt.title('Vazamento')\n",
    "plt.legend()\n",
    "plt.show()"
   ],
   "id": "be1a5a2599b342c8",
   "outputs": [
    {
     "data": {
      "text/plain": [
       "<Figure size 1000x600 with 1 Axes>"
      ],
      "image/png": "[encoded data removed]"
     },
     "metadata": {},
     "output_type": "display_data"
    }
   ],
   "execution_count": 76
  },
  {
   "metadata": {},
   "cell_type": "markdown",
   "source": "# Standard-Scaler",
   "id": "522c15408ec21e50"
  },
  {
   "metadata": {
    "ExecuteTime": {
     "end_time": "2024-08-03T20:19:59.570305Z",
     "start_time": "2024-08-03T20:19:59.557339Z"
    }
   },
   "cell_type": "code",
   "source": [
    "def apply_scaler(df_windows_fft: dict):\n",
    "    df_windows_fft_scaled = {}\n",
    "    \n",
    "    for key, value_list in df_windows_fft.items():\n",
    "        df_windows_fft_scaled[key] = []\n",
    "        \n",
    "        for df in value_list:\n",
    "            df_scaled = pd.DataFrame()\n",
    "            \n",
    "            # Inicialize o StandardScaler\n",
    "            scaler = StandardScaler()\n",
    "            \n",
    "            # Ajuste o scaler aos dados e transforme os valores\n",
    "            scaled_values_1 = scaler.fit_transform(df[['canal_1']])\n",
    "            scaled_values_2 = scaler.fit_transform(df[['canal_2']])\n",
    "            \n",
    "            # Substitua os valores na coluna 'valor_sensor' pelos valores normalizados\n",
    "            df_scaled['canal_1'] = scaled_values_1.flatten()\n",
    "            df_scaled['canal_2'] = scaled_values_2.flatten()\n",
    "            \n",
    "            df_windows_fft_scaled[key].append(df_scaled)\n",
    "            \n",
    "    return df_windows_fft_scaled"
   ],
   "id": "e06018693455283d",
   "outputs": [],
   "execution_count": 77
  },
  {
   "metadata": {
    "ExecuteTime": {
     "end_time": "2024-08-03T20:20:36.915833Z",
     "start_time": "2024-08-03T20:19:59.572319Z"
    }
   },
   "cell_type": "code",
   "source": [
    "normalidade_windows_fft_scaled = apply_scaler(normalidade_windows_fft_s)\n",
    "normalidade_anomalia_windows_fft_scaled = apply_scaler(normalidade_anomalia_windows_fft_s)\n",
    "normalidade_spray_windows_fft_scaled = apply_scaler(normalidade_windows_fft_s)\n",
    "\n",
    "vazamento_windows_fft_scaled = apply_scaler(vazamento_windows_fft_s)\n",
    "vazamento_anomalia_windows_fft_scaled = apply_scaler(vazamento_anomalia_windows_fft_s)\n",
    "vazamento_spray_windows_fft_scaled = apply_scaler(vazamento_spray_windows_fft_s)"
   ],
   "id": "f21184d2e0be7857",
   "outputs": [],
   "execution_count": 78
  },
  {
   "metadata": {},
   "cell_type": "markdown",
   "source": "# Prepare Labels",
   "id": "d5c51f5695eb061"
  },
  {
   "metadata": {
    "ExecuteTime": {
     "end_time": "2024-08-03T20:20:36.931609Z",
     "start_time": "2024-08-03T20:20:36.917833Z"
    }
   },
   "cell_type": "code",
   "source": [
    "all_windows = []\n",
    "labels = []"
   ],
   "id": "4b1cb60fff3101da",
   "outputs": [],
   "execution_count": 79
  },
  {
   "metadata": {
    "ExecuteTime": {
     "end_time": "2024-08-03T20:20:36.947425Z",
     "start_time": "2024-08-03T20:20:36.933613Z"
    }
   },
   "cell_type": "code",
   "source": [
    "def prepare_info(df_windows_fft: dict, label):    \n",
    "    for key, value in df_windows_fft.items():\n",
    "        data = []\n",
    "        \n",
    "        if exclude_channel_1:\n",
    "            for df in value:\n",
    "                data.append(df.drop('canal_1', axis=1))\n",
    "                \n",
    "        else:\n",
    "            data = value\n",
    "        \n",
    "        if position_training and (label != 0):\n",
    "            labels.extend([int(key) - 1] * len(value))\n",
    "            \n",
    "        else:\n",
    "            labels.extend([label] * len(value))\n",
    "        \n",
    "        all_windows.extend(data)"
   ],
   "id": "3c8fd264dcb60a58",
   "outputs": [],
   "execution_count": 80
  },
  {
   "metadata": {
    "ExecuteTime": {
     "end_time": "2024-08-03T20:20:36.962665Z",
     "start_time": "2024-08-03T20:20:36.949031Z"
    }
   },
   "cell_type": "code",
   "source": [
    "prepare_info(normalidade_windows_fft_scaled, 0)\n",
    "prepare_info(vazamento_windows_fft_scaled, 1)\n",
    "\n",
    "if include_anomalia:\n",
    "    prepare_info(normalidade_anomalia_windows_fft_scaled, 0)\n",
    "    prepare_info(vazamento_anomalia_windows_fft_scaled, 1)\n",
    "\n",
    "if include_spray:\n",
    "    prepare_info(normalidade_spray_windows_fft_scaled, 0)\n",
    "    prepare_info(vazamento_spray_windows_fft_scaled, 1)"
   ],
   "id": "dbde7ac14a11afff",
   "outputs": [],
   "execution_count": 81
  },
  {
   "metadata": {
    "ExecuteTime": {
     "end_time": "2024-08-03T20:20:37.369833Z",
     "start_time": "2024-08-03T20:20:36.964087Z"
    }
   },
   "cell_type": "code",
   "source": [
    "# Convertendo as listas de dataframes em uma única lista de numpy arrays\n",
    "X = np.array(all_windows)\n",
    "y = np.array(labels)"
   ],
   "id": "1756ef354c0e6bd3",
   "outputs": [],
   "execution_count": 82
  },
  {
   "metadata": {
    "ExecuteTime": {
     "end_time": "2024-08-03T20:20:37.400988Z",
     "start_time": "2024-08-03T20:20:37.370834Z"
    }
   },
   "cell_type": "code",
   "source": "X_train, X_test, y_train, y_test = train_test_split(X, y, test_size=0.2, random_state=42)",
   "id": "c3dd609347596d10",
   "outputs": [],
   "execution_count": 83
  },
  {
   "metadata": {},
   "cell_type": "markdown",
   "source": "# Model training",
   "id": "2917e159590b740e"
  },
  {
   "metadata": {
    "ExecuteTime": {
     "end_time": "2024-08-03T20:20:37.415940Z",
     "start_time": "2024-08-03T20:20:37.401990Z"
    }
   },
   "cell_type": "code",
   "source": [
    "input_length = 1 if exclude_channel_1 else 2\n",
    "print(f\"Input length: {input_length}\")"
   ],
   "id": "2c11896fdd8663fb",
   "outputs": [
    {
     "name": "stdout",
     "output_type": "stream",
     "text": [
      "Input length: 2\n"
     ]
    }
   ],
   "execution_count": 84
  },
  {
   "metadata": {
    "ExecuteTime": {
     "end_time": "2024-08-03T20:20:37.431386Z",
     "start_time": "2024-08-03T20:20:37.416987Z"
    }
   },
   "cell_type": "code",
   "source": [
    "output_length = len(np.unique(labels))\n",
    "print(f\"Output length: {output_length}\")"
   ],
   "id": "2792c5fec646a65c",
   "outputs": [
    {
     "name": "stdout",
     "output_type": "stream",
     "text": [
      "Output length: 4\n"
     ]
    }
   ],
   "execution_count": 85
  },
  {
   "metadata": {
    "ExecuteTime": {
     "end_time": "2024-08-03T20:20:37.446578Z",
     "start_time": "2024-08-03T20:20:37.432390Z"
    }
   },
   "cell_type": "code",
   "source": [
    "def baseline_model(num_units, dense_activation, drop, optimizer):\n",
    "    input_layer = Input(shape=(len(X[0]), input_length))\n",
    "\n",
    "    layer_1 = MultiHeadAttention(num_heads=2, key_dim=2)(input_layer, input_layer)\n",
    "    layer_1 = Flatten()(layer_1)\n",
    "\n",
    "    # layer_1 = LSTM(num_units//4)(input_layer)\n",
    "\n",
    "    layer_1 = Dropout(drop)(layer_1)\n",
    "\n",
    "    layer_2 = Dense(num_units, activation=dense_activation)(layer_1)\n",
    "    layer_2 = Dropout(drop)(layer_2)\n",
    "\n",
    "    layer_3 = Dense(num_units//2, activation=dense_activation)(layer_2)\n",
    "    layer_3 = Dropout(drop)(layer_3)\n",
    "\n",
    "    output_layer = Dense(output_length, activation='softmax')(layer_3)\n",
    "    base_model = Model(inputs = input_layer, outputs = output_layer)\n",
    "\n",
    "    base_model.compile(loss='categorical_crossentropy', optimizer=optimizer, metrics=['accuracy'])\n",
    "    return base_model"
   ],
   "id": "37fb73c706537b53",
   "outputs": [],
   "execution_count": 86
  },
  {
   "metadata": {
    "ExecuteTime": {
     "end_time": "2024-08-03T20:20:37.462479Z",
     "start_time": "2024-08-03T20:20:37.447578Z"
    }
   },
   "cell_type": "code",
   "source": [
    "# num_units_list = [32]\n",
    "# drop_list = [0.2] \n",
    "# batch_sizes = [8]\n",
    "# epochs_list = [10]\n",
    "# optimizer_list = ['Adam']\n",
    "# dense_activations = [\"relu\"]\n",
    "\n",
    "# num_units_list = [32, 64, 128]\n",
    "# drop_list = [0.2, 0.3, 0.5] \n",
    "# batch_sizes = [32]\n",
    "# epochs_list = [10]\n",
    "# optimizer_list = ['Adam']\n",
    "# dense_activations = [\"relu\"]\n",
    "\n",
    "# num_units_list = [1024]\n",
    "# drop_list = [0.2] \n",
    "# batch_sizes = [8]\n",
    "# epochs_list = [50]\n",
    "# optimizer_list = ['Adam']\n",
    "# dense_activations = [\"relu\"]\n",
    "\n",
    "num_units_list = [512, 1024, 1536, 2048]\n",
    "drop_list = [0.2]\n",
    "batch_sizes = [8]\n",
    "epochs_list = [50]\n",
    "optimizer_list = ['Adam']\n",
    "dense_activations = [\"relu\"]"
   ],
   "id": "20dedb24438bd769",
   "outputs": [],
   "execution_count": 87
  },
  {
   "metadata": {
    "ExecuteTime": {
     "end_time": "2024-08-03T20:20:37.477808Z",
     "start_time": "2024-08-03T20:20:37.463577Z"
    }
   },
   "cell_type": "code",
   "source": [
    "kf = StratifiedKFold(n_splits=5, shuffle=True, random_state=42)\n",
    "results = []\n",
    "best_model = None\n",
    "best_accuracy = 0"
   ],
   "id": "df13a1f8d7156371",
   "outputs": [],
   "execution_count": 88
  },
  {
   "metadata": {
    "ExecuteTime": {
     "end_time": "2024-08-03T16:02:11.570360Z",
     "start_time": "2024-08-03T15:06:57.647038Z"
    }
   },
   "cell_type": "code",
   "source": [
    "# Loop over the different types of layers and hyperparameters\n",
    "for num_units in num_units_list:\n",
    "    for batch_size in batch_sizes:\n",
    "        for epochs in epochs_list:\n",
    "            for dense_activation in dense_activations:\n",
    "                for drop in drop_list:\n",
    "                    for optimizer in optimizer_list:\n",
    "                        print(f\"Training model with {num_units} units, batch size {batch_size}, epochs {epochs}, dense_activation {dense_activation}, dropout {drop}, optimizer {optimizer}...\")\n",
    "                        fold_results = []\n",
    "                        fold_number = 0\n",
    "                        accuracy = 0\n",
    "                        precision = 0\n",
    "                        recall = 0\n",
    "                        f1 = 0\n",
    "                        for train_index, test_index in kf.split(X, y):\n",
    "                            X_train, X_test = X[train_index], X[test_index]\n",
    "                            y_train, y_test = y[train_index], y[test_index]\n",
    "                            y_train_encoded = to_categorical(y_train)\n",
    "                            y_test_encoded = to_categorical(y_test)\n",
    "\n",
    "                            # Creating and training the model\n",
    "                            model = baseline_model(num_units, dense_activation, drop, optimizer)\n",
    "                            history = model.fit(X_train, y_train_encoded, epochs=epochs, batch_size=batch_size, validation_data=(X_test, y_test_encoded), verbose=1)\n",
    "\n",
    "                            # Evaluating the model\n",
    "                            y_pred = np.argmax(model.predict(X_test), axis=-1)\n",
    "\n",
    "                            new_acc = accuracy_score(np.argmax(y_test_encoded, axis=1), y_pred)\n",
    "                            accuracy += new_acc\n",
    "\n",
    "                            new_precision = precision_score(np.argmax(y_test_encoded, axis=1), y_pred, average='weighted')\n",
    "                            precision += new_precision\n",
    "\n",
    "                            new_recall = recall_score(np.argmax(y_test_encoded, axis=1), y_pred, average='weighted')\n",
    "                            recall += new_recall\n",
    "\n",
    "                            new_f1 = f1_score(np.argmax(y_test_encoded, axis=1), y_pred, average='weighted')\n",
    "                            f1 += new_f1\n",
    "\n",
    "                            fold_results.append((new_acc, new_precision, new_recall, new_f1))\n",
    "\n",
    "                            fold_number += 1\n",
    "\n",
    "                        # Update best model\n",
    "                        if (accuracy/fold_number) > best_accuracy:\n",
    "                            best_accuracy = accuracy/fold_number\n",
    "                            best_model = model\n",
    "                            best_dense_activation = dense_activation\n",
    "                            best_num_units = num_units\n",
    "                            best_batch_size = batch_size\n",
    "                            best_epochs = epochs\n",
    "                            best_dropout = drop\n",
    "                            best_optimizer = optimizer\n",
    "\n",
    "                        # Saving the results for later analysis\n",
    "                        results.append((num_units, batch_size, epochs, dense_activation, drop, optimizer, fold_results))\n",
    "\n",
    "# Convert the best result into a DataFrame\n",
    "best_results = []\n",
    "best_results.append((best_accuracy, best_dense_activation, best_num_units, best_batch_size, best_epochs, best_dropout, best_optimizer))\n",
    "best_results_df = pd.DataFrame(best_results, columns=['best_accuracy', 'best_dense_activation', 'best_num_units', 'best_batch_size', 'best_epochs', 'best_dropout', 'best_optimizer'])\n",
    "best_results_df.to_csv(f'./model/{sensor_name}/{model_index}/{model_name}-best_results.csv', index=False)\n",
    "\n",
    "# Convert the results into a DataFrame\n",
    "results_df = pd.DataFrame(results, columns=['Num Units', 'Batch Size', 'Epochs', 'Dense Activation', 'drop', 'optimizer', 'Fold Results (accuracy, precision, recall, f1)'])\n",
    "results_df.to_csv(f'./model/{sensor_name}/{model_index}/{model_name}-all_results.csv', index=False)\n",
    "\n",
    "# Save the best model to .h5 file\n",
    "best_model.save(f'./model/{sensor_name}/{model_index}/{model_name}-best_model.h5')"
   ],
   "id": "3fc9e90a88c60b40",
   "outputs": [
    {
     "name": "stdout",
     "output_type": "stream",
     "text": [
      "Training model with 128 units, batch size 8, epochs 50, dense_activation relu, dropout 0.2, optimizer Adam...\n",
      "Epoch 1/50\n",
      "1000/1000 [==============================] - 8s 7ms/step - loss: 0.6849 - accuracy: 0.7083 - val_loss: 0.2820 - val_accuracy: 0.8935\n",
      "Epoch 2/50\n",
      "1000/1000 [==============================] - 8s 8ms/step - loss: 0.2886 - accuracy: 0.8835 - val_loss: 0.2133 - val_accuracy: 0.9225\n",
      "Epoch 3/50\n",
      "1000/1000 [==============================] - 6s 6ms/step - loss: 0.2031 - accuracy: 0.9221 - val_loss: 0.1498 - val_accuracy: 0.9475\n",
      "Epoch 4/50\n",
      "1000/1000 [==============================] - 7s 7ms/step - loss: 0.1513 - accuracy: 0.9452 - val_loss: 0.1421 - val_accuracy: 0.9510\n",
      "Epoch 5/50\n",
      "1000/1000 [==============================] - 6s 6ms/step - loss: 0.1118 - accuracy: 0.9582 - val_loss: 0.1172 - val_accuracy: 0.9640\n",
      "Epoch 6/50\n",
      "1000/1000 [==============================] - 6s 6ms/step - loss: 0.1014 - accuracy: 0.9660 - val_loss: 0.1084 - val_accuracy: 0.9650\n",
      "Epoch 7/50\n",
      "1000/1000 [==============================] - 6s 6ms/step - loss: 0.0714 - accuracy: 0.9746 - val_loss: 0.1122 - val_accuracy: 0.9665\n",
      "Epoch 8/50\n",
      "1000/1000 [==============================] - 6s 6ms/step - loss: 0.0710 - accuracy: 0.9756 - val_loss: 0.1173 - val_accuracy: 0.9590\n",
      "Epoch 9/50\n",
      "1000/1000 [==============================] - 6s 6ms/step - loss: 0.0591 - accuracy: 0.9797 - val_loss: 0.1369 - val_accuracy: 0.9640\n",
      "Epoch 10/50\n",
      "1000/1000 [==============================] - 6s 6ms/step - loss: 0.0636 - accuracy: 0.9790 - val_loss: 0.1418 - val_accuracy: 0.9645\n",
      "Epoch 11/50\n",
      "1000/1000 [==============================] - 6s 6ms/step - loss: 0.0426 - accuracy: 0.9845 - val_loss: 0.1659 - val_accuracy: 0.9540\n",
      "Epoch 12/50\n",
      "1000/1000 [==============================] - 6s 6ms/step - loss: 0.0463 - accuracy: 0.9865 - val_loss: 0.0884 - val_accuracy: 0.9720\n",
      "Epoch 13/50\n",
      "1000/1000 [==============================] - 6s 6ms/step - loss: 0.0460 - accuracy: 0.9852 - val_loss: 0.1142 - val_accuracy: 0.9710\n",
      "Epoch 14/50\n",
      "1000/1000 [==============================] - 7s 7ms/step - loss: 0.0391 - accuracy: 0.9889 - val_loss: 0.1407 - val_accuracy: 0.9655\n",
      "Epoch 15/50\n",
      "1000/1000 [==============================] - 6s 6ms/step - loss: 0.0450 - accuracy: 0.9875 - val_loss: 0.1152 - val_accuracy: 0.9705\n",
      "Epoch 16/50\n",
      "1000/1000 [==============================] - 7s 7ms/step - loss: 0.0399 - accuracy: 0.9870 - val_loss: 0.0978 - val_accuracy: 0.9720\n",
      "Epoch 17/50\n",
      "1000/1000 [==============================] - 7s 7ms/step - loss: 0.0418 - accuracy: 0.9871 - val_loss: 0.0917 - val_accuracy: 0.9680\n",
      "Epoch 18/50\n",
      "1000/1000 [==============================] - 6s 6ms/step - loss: 0.0366 - accuracy: 0.9894 - val_loss: 0.1078 - val_accuracy: 0.9705\n",
      "Epoch 19/50\n",
      "1000/1000 [==============================] - 6s 6ms/step - loss: 0.0317 - accuracy: 0.9895 - val_loss: 0.1177 - val_accuracy: 0.9685\n",
      "Epoch 20/50\n",
      "1000/1000 [==============================] - 6s 6ms/step - loss: 0.0250 - accuracy: 0.9921 - val_loss: 0.0869 - val_accuracy: 0.9745\n",
      "Epoch 21/50\n",
      "1000/1000 [==============================] - 6s 6ms/step - loss: 0.0273 - accuracy: 0.9921 - val_loss: 0.1278 - val_accuracy: 0.9655\n",
      "Epoch 22/50\n",
      "1000/1000 [==============================] - 6s 6ms/step - loss: 0.0300 - accuracy: 0.9905 - val_loss: 0.1490 - val_accuracy: 0.9640\n",
      "Epoch 23/50\n",
      "1000/1000 [==============================] - 6s 6ms/step - loss: 0.0295 - accuracy: 0.9907 - val_loss: 0.1108 - val_accuracy: 0.9715\n",
      "Epoch 24/50\n",
      "1000/1000 [==============================] - 6s 6ms/step - loss: 0.0242 - accuracy: 0.9919 - val_loss: 0.1439 - val_accuracy: 0.9650\n",
      "Epoch 25/50\n",
      "1000/1000 [==============================] - 6s 6ms/step - loss: 0.0330 - accuracy: 0.9905 - val_loss: 0.1109 - val_accuracy: 0.9715\n",
      "Epoch 26/50\n",
      "1000/1000 [==============================] - 6s 6ms/step - loss: 0.0238 - accuracy: 0.9921 - val_loss: 0.1218 - val_accuracy: 0.9700\n",
      "Epoch 27/50\n",
      "1000/1000 [==============================] - 6s 6ms/step - loss: 0.0271 - accuracy: 0.9924 - val_loss: 0.1272 - val_accuracy: 0.9700\n",
      "Epoch 28/50\n",
      "1000/1000 [==============================] - 6s 6ms/step - loss: 0.0253 - accuracy: 0.9926 - val_loss: 0.1019 - val_accuracy: 0.9705\n",
      "Epoch 29/50\n",
      "1000/1000 [==============================] - 6s 6ms/step - loss: 0.0302 - accuracy: 0.9905 - val_loss: 0.1211 - val_accuracy: 0.9680\n",
      "Epoch 30/50\n",
      "1000/1000 [==============================] - 6s 6ms/step - loss: 0.0229 - accuracy: 0.9932 - val_loss: 0.1593 - val_accuracy: 0.9655\n",
      "Epoch 31/50\n",
      "1000/1000 [==============================] - 6s 6ms/step - loss: 0.0157 - accuracy: 0.9942 - val_loss: 0.1497 - val_accuracy: 0.9670\n",
      "Epoch 32/50\n",
      "1000/1000 [==============================] - 6s 6ms/step - loss: 0.0265 - accuracy: 0.9920 - val_loss: 0.1652 - val_accuracy: 0.9670\n",
      "Epoch 33/50\n",
      "1000/1000 [==============================] - 6s 6ms/step - loss: 0.0180 - accuracy: 0.9942 - val_loss: 0.1667 - val_accuracy: 0.9700\n",
      "Epoch 34/50\n",
      "1000/1000 [==============================] - 6s 6ms/step - loss: 0.0158 - accuracy: 0.9962 - val_loss: 0.1379 - val_accuracy: 0.9695\n",
      "Epoch 35/50\n",
      "1000/1000 [==============================] - 6s 6ms/step - loss: 0.0255 - accuracy: 0.9920 - val_loss: 0.1195 - val_accuracy: 0.9695\n",
      "Epoch 36/50\n",
      "1000/1000 [==============================] - 6s 6ms/step - loss: 0.0240 - accuracy: 0.9927 - val_loss: 0.1179 - val_accuracy: 0.9690\n",
      "Epoch 37/50\n",
      "1000/1000 [==============================] - 6s 6ms/step - loss: 0.0154 - accuracy: 0.9951 - val_loss: 0.1305 - val_accuracy: 0.9705\n",
      "Epoch 38/50\n",
      "1000/1000 [==============================] - 6s 6ms/step - loss: 0.0178 - accuracy: 0.9944 - val_loss: 0.1504 - val_accuracy: 0.9725\n",
      "Epoch 39/50\n",
      "1000/1000 [==============================] - 6s 6ms/step - loss: 0.0178 - accuracy: 0.9939 - val_loss: 0.1336 - val_accuracy: 0.9705\n",
      "Epoch 40/50\n",
      "1000/1000 [==============================] - 6s 6ms/step - loss: 0.0176 - accuracy: 0.9946 - val_loss: 0.1223 - val_accuracy: 0.9690\n",
      "Epoch 41/50\n",
      "1000/1000 [==============================] - 6s 6ms/step - loss: 0.0171 - accuracy: 0.9949 - val_loss: 0.1208 - val_accuracy: 0.9725\n",
      "Epoch 42/50\n",
      "1000/1000 [==============================] - 6s 6ms/step - loss: 0.0173 - accuracy: 0.9956 - val_loss: 0.1345 - val_accuracy: 0.9700\n",
      "Epoch 43/50\n",
      "1000/1000 [==============================] - 6s 6ms/step - loss: 0.0203 - accuracy: 0.9945 - val_loss: 0.1402 - val_accuracy: 0.9705\n",
      "Epoch 44/50\n",
      "1000/1000 [==============================] - 6s 6ms/step - loss: 0.0188 - accuracy: 0.9954 - val_loss: 0.1648 - val_accuracy: 0.9610\n",
      "Epoch 45/50\n",
      "1000/1000 [==============================] - 6s 6ms/step - loss: 0.0140 - accuracy: 0.9960 - val_loss: 0.1213 - val_accuracy: 0.9740\n",
      "Epoch 46/50\n",
      "1000/1000 [==============================] - 6s 6ms/step - loss: 0.0156 - accuracy: 0.9951 - val_loss: 0.1470 - val_accuracy: 0.9725\n",
      "Epoch 47/50\n",
      "1000/1000 [==============================] - 6s 6ms/step - loss: 0.0156 - accuracy: 0.9955 - val_loss: 0.1325 - val_accuracy: 0.9715\n",
      "Epoch 48/50\n",
      "1000/1000 [==============================] - 6s 6ms/step - loss: 0.0112 - accuracy: 0.9965 - val_loss: 0.1452 - val_accuracy: 0.9665\n",
      "Epoch 49/50\n",
      "1000/1000 [==============================] - 6s 6ms/step - loss: 0.0149 - accuracy: 0.9955 - val_loss: 0.1673 - val_accuracy: 0.9705\n",
      "Epoch 50/50\n",
      "1000/1000 [==============================] - 6s 6ms/step - loss: 0.0217 - accuracy: 0.9949 - val_loss: 0.1409 - val_accuracy: 0.9720\n",
      "63/63 [==============================] - 0s 4ms/step\n",
      "Epoch 1/50\n",
      "1000/1000 [==============================] - 7s 6ms/step - loss: 0.5954 - accuracy: 0.7573 - val_loss: 0.2375 - val_accuracy: 0.9205\n",
      "Epoch 2/50\n",
      "1000/1000 [==============================] - 6s 6ms/step - loss: 0.2540 - accuracy: 0.9069 - val_loss: 0.1490 - val_accuracy: 0.9455\n",
      "Epoch 3/50\n",
      "1000/1000 [==============================] - 6s 6ms/step - loss: 0.1581 - accuracy: 0.9406 - val_loss: 0.1271 - val_accuracy: 0.9550\n",
      "Epoch 4/50\n",
      "1000/1000 [==============================] - 6s 6ms/step - loss: 0.1365 - accuracy: 0.9536 - val_loss: 0.1490 - val_accuracy: 0.9460\n",
      "Epoch 5/50\n",
      "1000/1000 [==============================] - 6s 6ms/step - loss: 0.1054 - accuracy: 0.9622 - val_loss: 0.1346 - val_accuracy: 0.9565\n",
      "Epoch 6/50\n",
      "1000/1000 [==============================] - 6s 6ms/step - loss: 0.0882 - accuracy: 0.9681 - val_loss: 0.1619 - val_accuracy: 0.9490\n",
      "Epoch 7/50\n",
      "1000/1000 [==============================] - 6s 6ms/step - loss: 0.0806 - accuracy: 0.9707 - val_loss: 0.1274 - val_accuracy: 0.9555\n",
      "Epoch 8/50\n",
      "1000/1000 [==============================] - 6s 6ms/step - loss: 0.0722 - accuracy: 0.9766 - val_loss: 0.1141 - val_accuracy: 0.9560\n",
      "Epoch 9/50\n",
      "1000/1000 [==============================] - 6s 6ms/step - loss: 0.0673 - accuracy: 0.9770 - val_loss: 0.1412 - val_accuracy: 0.9545\n",
      "Epoch 10/50\n",
      "1000/1000 [==============================] - 6s 6ms/step - loss: 0.0603 - accuracy: 0.9775 - val_loss: 0.1526 - val_accuracy: 0.9535\n",
      "Epoch 11/50\n",
      "1000/1000 [==============================] - 7s 7ms/step - loss: 0.0589 - accuracy: 0.9794 - val_loss: 0.1639 - val_accuracy: 0.9470\n",
      "Epoch 12/50\n",
      "1000/1000 [==============================] - 7s 7ms/step - loss: 0.0508 - accuracy: 0.9837 - val_loss: 0.1283 - val_accuracy: 0.9615\n",
      "Epoch 13/50\n",
      "1000/1000 [==============================] - 7s 7ms/step - loss: 0.0417 - accuracy: 0.9846 - val_loss: 0.1828 - val_accuracy: 0.9570\n",
      "Epoch 14/50\n",
      "1000/1000 [==============================] - 7s 7ms/step - loss: 0.0508 - accuracy: 0.9852 - val_loss: 0.1809 - val_accuracy: 0.9515\n",
      "Epoch 15/50\n",
      "1000/1000 [==============================] - 7s 7ms/step - loss: 0.0473 - accuracy: 0.9845 - val_loss: 0.1721 - val_accuracy: 0.9540\n",
      "Epoch 16/50\n",
      "1000/1000 [==============================] - 7s 7ms/step - loss: 0.0374 - accuracy: 0.9870 - val_loss: 0.1649 - val_accuracy: 0.9580\n",
      "Epoch 17/50\n",
      "1000/1000 [==============================] - 6s 6ms/step - loss: 0.0409 - accuracy: 0.9867 - val_loss: 0.1678 - val_accuracy: 0.9570\n",
      "Epoch 18/50\n",
      "1000/1000 [==============================] - 6s 6ms/step - loss: 0.0345 - accuracy: 0.9895 - val_loss: 0.1561 - val_accuracy: 0.9640\n",
      "Epoch 19/50\n",
      "1000/1000 [==============================] - 6s 6ms/step - loss: 0.0387 - accuracy: 0.9885 - val_loss: 0.1599 - val_accuracy: 0.9500\n",
      "Epoch 20/50\n",
      "1000/1000 [==============================] - 6s 6ms/step - loss: 0.0304 - accuracy: 0.9890 - val_loss: 0.1616 - val_accuracy: 0.9580\n",
      "Epoch 21/50\n",
      "1000/1000 [==============================] - 6s 6ms/step - loss: 0.0331 - accuracy: 0.9894 - val_loss: 0.1836 - val_accuracy: 0.9585\n",
      "Epoch 22/50\n",
      "1000/1000 [==============================] - 6s 6ms/step - loss: 0.0297 - accuracy: 0.9905 - val_loss: 0.1703 - val_accuracy: 0.9540\n",
      "Epoch 23/50\n",
      "1000/1000 [==============================] - 6s 6ms/step - loss: 0.0291 - accuracy: 0.9901 - val_loss: 0.1961 - val_accuracy: 0.9540\n",
      "Epoch 24/50\n",
      "1000/1000 [==============================] - 6s 6ms/step - loss: 0.0281 - accuracy: 0.9912 - val_loss: 0.1512 - val_accuracy: 0.9550\n",
      "Epoch 25/50\n",
      "1000/1000 [==============================] - 6s 6ms/step - loss: 0.0304 - accuracy: 0.9909 - val_loss: 0.1932 - val_accuracy: 0.9565\n",
      "Epoch 26/50\n",
      "1000/1000 [==============================] - 6s 6ms/step - loss: 0.0260 - accuracy: 0.9915 - val_loss: 0.1571 - val_accuracy: 0.9595\n",
      "Epoch 27/50\n",
      "1000/1000 [==============================] - 6s 6ms/step - loss: 0.0262 - accuracy: 0.9927 - val_loss: 0.2032 - val_accuracy: 0.9600\n",
      "Epoch 28/50\n",
      "1000/1000 [==============================] - 6s 6ms/step - loss: 0.0288 - accuracy: 0.9915 - val_loss: 0.2123 - val_accuracy: 0.9545\n",
      "Epoch 29/50\n",
      "1000/1000 [==============================] - 6s 6ms/step - loss: 0.0211 - accuracy: 0.9944 - val_loss: 0.2466 - val_accuracy: 0.9555\n",
      "Epoch 30/50\n",
      "1000/1000 [==============================] - 6s 6ms/step - loss: 0.0246 - accuracy: 0.9919 - val_loss: 0.1746 - val_accuracy: 0.9660\n",
      "Epoch 31/50\n",
      "1000/1000 [==============================] - 6s 6ms/step - loss: 0.0257 - accuracy: 0.9930 - val_loss: 0.1828 - val_accuracy: 0.9560\n",
      "Epoch 32/50\n",
      "1000/1000 [==============================] - 6s 6ms/step - loss: 0.0251 - accuracy: 0.9937 - val_loss: 0.1709 - val_accuracy: 0.9585\n",
      "Epoch 33/50\n",
      "1000/1000 [==============================] - 6s 6ms/step - loss: 0.0201 - accuracy: 0.9944 - val_loss: 0.1926 - val_accuracy: 0.9560\n",
      "Epoch 34/50\n",
      "1000/1000 [==============================] - 6s 6ms/step - loss: 0.0247 - accuracy: 0.9929 - val_loss: 0.2220 - val_accuracy: 0.9625\n",
      "Epoch 35/50\n",
      "1000/1000 [==============================] - 6s 6ms/step - loss: 0.0220 - accuracy: 0.9937 - val_loss: 0.1628 - val_accuracy: 0.9570\n",
      "Epoch 36/50\n",
      "1000/1000 [==============================] - 6s 6ms/step - loss: 0.0192 - accuracy: 0.9945 - val_loss: 0.1921 - val_accuracy: 0.9605\n",
      "Epoch 37/50\n",
      "1000/1000 [==============================] - 6s 6ms/step - loss: 0.0199 - accuracy: 0.9942 - val_loss: 0.2003 - val_accuracy: 0.9630\n",
      "Epoch 38/50\n",
      "1000/1000 [==============================] - 6s 6ms/step - loss: 0.0160 - accuracy: 0.9950 - val_loss: 0.2030 - val_accuracy: 0.9585\n",
      "Epoch 39/50\n",
      "1000/1000 [==============================] - 6s 6ms/step - loss: 0.0185 - accuracy: 0.9945 - val_loss: 0.2144 - val_accuracy: 0.9605\n",
      "Epoch 40/50\n",
      "1000/1000 [==============================] - 6s 6ms/step - loss: 0.0185 - accuracy: 0.9944 - val_loss: 0.2172 - val_accuracy: 0.9555\n",
      "Epoch 41/50\n",
      "1000/1000 [==============================] - 7s 7ms/step - loss: 0.0198 - accuracy: 0.9944 - val_loss: 0.1967 - val_accuracy: 0.9585\n",
      "Epoch 42/50\n",
      "1000/1000 [==============================] - 7s 7ms/step - loss: 0.0235 - accuracy: 0.9935 - val_loss: 0.1546 - val_accuracy: 0.9530\n",
      "Epoch 43/50\n",
      "1000/1000 [==============================] - 6s 6ms/step - loss: 0.0190 - accuracy: 0.9944 - val_loss: 0.2047 - val_accuracy: 0.9520\n",
      "Epoch 44/50\n",
      "1000/1000 [==============================] - 6s 6ms/step - loss: 0.0165 - accuracy: 0.9942 - val_loss: 0.1964 - val_accuracy: 0.9620\n",
      "Epoch 45/50\n",
      "1000/1000 [==============================] - 6s 6ms/step - loss: 0.0162 - accuracy: 0.9951 - val_loss: 0.2113 - val_accuracy: 0.9575\n",
      "Epoch 46/50\n",
      "1000/1000 [==============================] - 6s 6ms/step - loss: 0.0201 - accuracy: 0.9939 - val_loss: 0.2105 - val_accuracy: 0.9565\n",
      "Epoch 47/50\n",
      "1000/1000 [==============================] - 6s 6ms/step - loss: 0.0179 - accuracy: 0.9939 - val_loss: 0.2099 - val_accuracy: 0.9560\n",
      "Epoch 48/50\n",
      "1000/1000 [==============================] - 6s 6ms/step - loss: 0.0239 - accuracy: 0.9925 - val_loss: 0.1801 - val_accuracy: 0.9615\n",
      "Epoch 49/50\n",
      "1000/1000 [==============================] - 6s 6ms/step - loss: 0.0170 - accuracy: 0.9949 - val_loss: 0.1987 - val_accuracy: 0.9605\n",
      "Epoch 50/50\n",
      "1000/1000 [==============================] - 7s 7ms/step - loss: 0.0156 - accuracy: 0.9961 - val_loss: 0.1823 - val_accuracy: 0.9605\n",
      "63/63 [==============================] - 0s 4ms/step\n",
      "Epoch 1/50\n",
      "1000/1000 [==============================] - 8s 7ms/step - loss: 0.7171 - accuracy: 0.6998 - val_loss: 0.2994 - val_accuracy: 0.8980\n",
      "Epoch 2/50\n",
      "1000/1000 [==============================] - 6s 6ms/step - loss: 0.2861 - accuracy: 0.8909 - val_loss: 0.1787 - val_accuracy: 0.9415\n",
      "Epoch 3/50\n",
      "1000/1000 [==============================] - 6s 6ms/step - loss: 0.1832 - accuracy: 0.9301 - val_loss: 0.1410 - val_accuracy: 0.9520\n",
      "Epoch 4/50\n",
      "1000/1000 [==============================] - 6s 6ms/step - loss: 0.1313 - accuracy: 0.9522 - val_loss: 0.1443 - val_accuracy: 0.9540\n",
      "Epoch 5/50\n",
      "1000/1000 [==============================] - 6s 6ms/step - loss: 0.1080 - accuracy: 0.9622 - val_loss: 0.1383 - val_accuracy: 0.9500\n",
      "Epoch 6/50\n",
      "1000/1000 [==============================] - 6s 6ms/step - loss: 0.0904 - accuracy: 0.9676 - val_loss: 0.1072 - val_accuracy: 0.9670\n",
      "Epoch 7/50\n",
      "1000/1000 [==============================] - 6s 6ms/step - loss: 0.0777 - accuracy: 0.9735 - val_loss: 0.1160 - val_accuracy: 0.9590\n",
      "Epoch 8/50\n",
      "1000/1000 [==============================] - 7s 7ms/step - loss: 0.0711 - accuracy: 0.9761 - val_loss: 0.1258 - val_accuracy: 0.9635\n",
      "Epoch 9/50\n",
      "1000/1000 [==============================] - 6s 6ms/step - loss: 0.0528 - accuracy: 0.9816 - val_loss: 0.1560 - val_accuracy: 0.9550\n",
      "Epoch 10/50\n",
      "1000/1000 [==============================] - 6s 6ms/step - loss: 0.0661 - accuracy: 0.9796 - val_loss: 0.1211 - val_accuracy: 0.9545\n",
      "Epoch 11/50\n",
      "1000/1000 [==============================] - 7s 7ms/step - loss: 0.0428 - accuracy: 0.9860 - val_loss: 0.1557 - val_accuracy: 0.9595\n",
      "Epoch 12/50\n",
      "1000/1000 [==============================] - 7s 7ms/step - loss: 0.0483 - accuracy: 0.9841 - val_loss: 0.1379 - val_accuracy: 0.9645\n",
      "Epoch 13/50\n",
      "1000/1000 [==============================] - 6s 6ms/step - loss: 0.0443 - accuracy: 0.9851 - val_loss: 0.1135 - val_accuracy: 0.9610\n",
      "Epoch 14/50\n",
      "1000/1000 [==============================] - 6s 6ms/step - loss: 0.0424 - accuracy: 0.9872 - val_loss: 0.1306 - val_accuracy: 0.9640\n",
      "Epoch 15/50\n",
      "1000/1000 [==============================] - 6s 6ms/step - loss: 0.0432 - accuracy: 0.9860 - val_loss: 0.1144 - val_accuracy: 0.9645\n",
      "Epoch 16/50\n",
      "1000/1000 [==============================] - 6s 6ms/step - loss: 0.0347 - accuracy: 0.9891 - val_loss: 0.1300 - val_accuracy: 0.9640\n",
      "Epoch 17/50\n",
      "1000/1000 [==============================] - 6s 6ms/step - loss: 0.0368 - accuracy: 0.9882 - val_loss: 0.1578 - val_accuracy: 0.9635\n",
      "Epoch 18/50\n",
      "1000/1000 [==============================] - 6s 6ms/step - loss: 0.0389 - accuracy: 0.9882 - val_loss: 0.1165 - val_accuracy: 0.9700\n",
      "Epoch 19/50\n",
      "1000/1000 [==============================] - 6s 6ms/step - loss: 0.0245 - accuracy: 0.9914 - val_loss: 0.1264 - val_accuracy: 0.9695\n",
      "Epoch 20/50\n",
      "1000/1000 [==============================] - 7s 7ms/step - loss: 0.0291 - accuracy: 0.9902 - val_loss: 0.1199 - val_accuracy: 0.9725\n",
      "Epoch 21/50\n",
      "1000/1000 [==============================] - 7s 7ms/step - loss: 0.0300 - accuracy: 0.9911 - val_loss: 0.1013 - val_accuracy: 0.9695\n",
      "Epoch 22/50\n",
      "1000/1000 [==============================] - 7s 7ms/step - loss: 0.0353 - accuracy: 0.9892 - val_loss: 0.1107 - val_accuracy: 0.9645\n",
      "Epoch 23/50\n",
      "1000/1000 [==============================] - 6s 6ms/step - loss: 0.0284 - accuracy: 0.9920 - val_loss: 0.1104 - val_accuracy: 0.9690\n",
      "Epoch 24/50\n",
      "1000/1000 [==============================] - 6s 6ms/step - loss: 0.0227 - accuracy: 0.9932 - val_loss: 0.1249 - val_accuracy: 0.9680\n",
      "Epoch 25/50\n",
      "1000/1000 [==============================] - 7s 7ms/step - loss: 0.0224 - accuracy: 0.9924 - val_loss: 0.1777 - val_accuracy: 0.9635\n",
      "Epoch 26/50\n",
      "1000/1000 [==============================] - 7s 7ms/step - loss: 0.0333 - accuracy: 0.9886 - val_loss: 0.1259 - val_accuracy: 0.9690\n",
      "Epoch 27/50\n",
      "1000/1000 [==============================] - 7s 7ms/step - loss: 0.0232 - accuracy: 0.9929 - val_loss: 0.1296 - val_accuracy: 0.9700\n",
      "Epoch 28/50\n",
      "1000/1000 [==============================] - 7s 7ms/step - loss: 0.0277 - accuracy: 0.9904 - val_loss: 0.1163 - val_accuracy: 0.9735\n",
      "Epoch 29/50\n",
      "1000/1000 [==============================] - 7s 7ms/step - loss: 0.0136 - accuracy: 0.9944 - val_loss: 0.1706 - val_accuracy: 0.9690\n",
      "Epoch 30/50\n",
      "1000/1000 [==============================] - 6s 6ms/step - loss: 0.0218 - accuracy: 0.9937 - val_loss: 0.1387 - val_accuracy: 0.9715\n",
      "Epoch 31/50\n",
      "1000/1000 [==============================] - 6s 6ms/step - loss: 0.0216 - accuracy: 0.9940 - val_loss: 0.1129 - val_accuracy: 0.9690\n",
      "Epoch 32/50\n",
      "1000/1000 [==============================] - 6s 6ms/step - loss: 0.0207 - accuracy: 0.9946 - val_loss: 0.1247 - val_accuracy: 0.9730\n",
      "Epoch 33/50\n",
      "1000/1000 [==============================] - 6s 6ms/step - loss: 0.0231 - accuracy: 0.9931 - val_loss: 0.1353 - val_accuracy: 0.9735\n",
      "Epoch 34/50\n",
      "1000/1000 [==============================] - 6s 6ms/step - loss: 0.0230 - accuracy: 0.9921 - val_loss: 0.1253 - val_accuracy: 0.9710\n",
      "Epoch 35/50\n",
      "1000/1000 [==============================] - 6s 6ms/step - loss: 0.0214 - accuracy: 0.9937 - val_loss: 0.1390 - val_accuracy: 0.9740\n",
      "Epoch 36/50\n",
      "1000/1000 [==============================] - 6s 6ms/step - loss: 0.0263 - accuracy: 0.9940 - val_loss: 0.1240 - val_accuracy: 0.9720\n",
      "Epoch 37/50\n",
      "1000/1000 [==============================] - 6s 6ms/step - loss: 0.0195 - accuracy: 0.9956 - val_loss: 0.1276 - val_accuracy: 0.9695\n",
      "Epoch 38/50\n",
      "1000/1000 [==============================] - 6s 6ms/step - loss: 0.0183 - accuracy: 0.9954 - val_loss: 0.1163 - val_accuracy: 0.9710\n",
      "Epoch 39/50\n",
      "1000/1000 [==============================] - 6s 6ms/step - loss: 0.0146 - accuracy: 0.9956 - val_loss: 0.1290 - val_accuracy: 0.9675\n",
      "Epoch 40/50\n",
      "1000/1000 [==============================] - 6s 6ms/step - loss: 0.0185 - accuracy: 0.9939 - val_loss: 0.1029 - val_accuracy: 0.9750\n",
      "Epoch 41/50\n",
      "1000/1000 [==============================] - 6s 6ms/step - loss: 0.0152 - accuracy: 0.9956 - val_loss: 0.1245 - val_accuracy: 0.9740\n",
      "Epoch 42/50\n",
      "1000/1000 [==============================] - 6s 6ms/step - loss: 0.0158 - accuracy: 0.9955 - val_loss: 0.2281 - val_accuracy: 0.9555\n",
      "Epoch 43/50\n",
      "1000/1000 [==============================] - 6s 6ms/step - loss: 0.0151 - accuracy: 0.9951 - val_loss: 0.1818 - val_accuracy: 0.9655\n",
      "Epoch 44/50\n",
      "1000/1000 [==============================] - 6s 6ms/step - loss: 0.0167 - accuracy: 0.9947 - val_loss: 0.1590 - val_accuracy: 0.9690\n",
      "Epoch 45/50\n",
      "1000/1000 [==============================] - 7s 7ms/step - loss: 0.0155 - accuracy: 0.9952 - val_loss: 0.1795 - val_accuracy: 0.9660\n",
      "Epoch 46/50\n",
      "1000/1000 [==============================] - 6s 6ms/step - loss: 0.0154 - accuracy: 0.9950 - val_loss: 0.1450 - val_accuracy: 0.9695\n",
      "Epoch 47/50\n",
      "1000/1000 [==============================] - 6s 6ms/step - loss: 0.0099 - accuracy: 0.9965 - val_loss: 0.1976 - val_accuracy: 0.9690\n",
      "Epoch 48/50\n",
      "1000/1000 [==============================] - 6s 6ms/step - loss: 0.0155 - accuracy: 0.9957 - val_loss: 0.1873 - val_accuracy: 0.9660\n",
      "Epoch 49/50\n",
      "1000/1000 [==============================] - 6s 6ms/step - loss: 0.0204 - accuracy: 0.9951 - val_loss: 0.1969 - val_accuracy: 0.9730\n",
      "Epoch 50/50\n",
      "1000/1000 [==============================] - 7s 7ms/step - loss: 0.0143 - accuracy: 0.9949 - val_loss: 0.1401 - val_accuracy: 0.9680\n",
      "63/63 [==============================] - 0s 4ms/step\n",
      "Epoch 1/50\n",
      "1000/1000 [==============================] - 7s 7ms/step - loss: 0.4843 - accuracy: 0.8096 - val_loss: 0.1995 - val_accuracy: 0.9285\n",
      "Epoch 2/50\n",
      "1000/1000 [==============================] - 7s 7ms/step - loss: 0.2110 - accuracy: 0.9219 - val_loss: 0.1223 - val_accuracy: 0.9560\n",
      "Epoch 3/50\n",
      "1000/1000 [==============================] - 7s 7ms/step - loss: 0.1179 - accuracy: 0.9556 - val_loss: 0.1371 - val_accuracy: 0.9515\n",
      "Epoch 4/50\n",
      "1000/1000 [==============================] - 6s 6ms/step - loss: 0.0969 - accuracy: 0.9661 - val_loss: 0.1039 - val_accuracy: 0.9575\n",
      "Epoch 5/50\n",
      "1000/1000 [==============================] - 6s 6ms/step - loss: 0.0751 - accuracy: 0.9732 - val_loss: 0.1093 - val_accuracy: 0.9605\n",
      "Epoch 6/50\n",
      "1000/1000 [==============================] - 7s 7ms/step - loss: 0.0739 - accuracy: 0.9732 - val_loss: 0.1354 - val_accuracy: 0.9615\n",
      "Epoch 7/50\n",
      "1000/1000 [==============================] - 7s 7ms/step - loss: 0.0538 - accuracy: 0.9807 - val_loss: 0.1244 - val_accuracy: 0.9655\n",
      "Epoch 8/50\n",
      "1000/1000 [==============================] - 6s 6ms/step - loss: 0.0480 - accuracy: 0.9839 - val_loss: 0.1141 - val_accuracy: 0.9670\n",
      "Epoch 9/50\n",
      "1000/1000 [==============================] - 6s 6ms/step - loss: 0.0507 - accuracy: 0.9831 - val_loss: 0.1277 - val_accuracy: 0.9555\n",
      "Epoch 10/50\n",
      "1000/1000 [==============================] - 6s 6ms/step - loss: 0.0387 - accuracy: 0.9872 - val_loss: 0.1114 - val_accuracy: 0.9675\n",
      "Epoch 11/50\n",
      "1000/1000 [==============================] - 6s 6ms/step - loss: 0.0485 - accuracy: 0.9846 - val_loss: 0.1180 - val_accuracy: 0.9645\n",
      "Epoch 12/50\n",
      "1000/1000 [==============================] - 7s 7ms/step - loss: 0.0316 - accuracy: 0.9892 - val_loss: 0.1133 - val_accuracy: 0.9640\n",
      "Epoch 13/50\n",
      "1000/1000 [==============================] - 6s 6ms/step - loss: 0.0408 - accuracy: 0.9879 - val_loss: 0.1247 - val_accuracy: 0.9625\n",
      "Epoch 14/50\n",
      "1000/1000 [==============================] - 6s 6ms/step - loss: 0.0348 - accuracy: 0.9895 - val_loss: 0.1183 - val_accuracy: 0.9660\n",
      "Epoch 15/50\n",
      "1000/1000 [==============================] - 6s 6ms/step - loss: 0.0349 - accuracy: 0.9887 - val_loss: 0.1214 - val_accuracy: 0.9690\n",
      "Epoch 16/50\n",
      "1000/1000 [==============================] - 7s 7ms/step - loss: 0.0328 - accuracy: 0.9892 - val_loss: 0.1292 - val_accuracy: 0.9685\n",
      "Epoch 17/50\n",
      "1000/1000 [==============================] - 6s 6ms/step - loss: 0.0270 - accuracy: 0.9914 - val_loss: 0.1383 - val_accuracy: 0.9660\n",
      "Epoch 18/50\n",
      "1000/1000 [==============================] - 7s 7ms/step - loss: 0.0250 - accuracy: 0.9927 - val_loss: 0.1102 - val_accuracy: 0.9705\n",
      "Epoch 19/50\n",
      "1000/1000 [==============================] - 6s 6ms/step - loss: 0.0303 - accuracy: 0.9910 - val_loss: 0.1338 - val_accuracy: 0.9680\n",
      "Epoch 20/50\n",
      "1000/1000 [==============================] - 7s 7ms/step - loss: 0.0320 - accuracy: 0.9911 - val_loss: 0.1185 - val_accuracy: 0.9665\n",
      "Epoch 21/50\n",
      "1000/1000 [==============================] - 6s 6ms/step - loss: 0.0240 - accuracy: 0.9929 - val_loss: 0.1432 - val_accuracy: 0.9680\n",
      "Epoch 22/50\n",
      "1000/1000 [==============================] - 6s 6ms/step - loss: 0.0277 - accuracy: 0.9906 - val_loss: 0.1392 - val_accuracy: 0.9685\n",
      "Epoch 23/50\n",
      "1000/1000 [==============================] - 6s 6ms/step - loss: 0.0167 - accuracy: 0.9946 - val_loss: 0.1448 - val_accuracy: 0.9705\n",
      "Epoch 24/50\n",
      "1000/1000 [==============================] - 6s 6ms/step - loss: 0.0215 - accuracy: 0.9936 - val_loss: 0.1492 - val_accuracy: 0.9680\n",
      "Epoch 25/50\n",
      "1000/1000 [==============================] - 7s 7ms/step - loss: 0.0246 - accuracy: 0.9914 - val_loss: 0.1662 - val_accuracy: 0.9680\n",
      "Epoch 26/50\n",
      "1000/1000 [==============================] - 6s 6ms/step - loss: 0.0239 - accuracy: 0.9932 - val_loss: 0.1467 - val_accuracy: 0.9665\n",
      "Epoch 27/50\n",
      "1000/1000 [==============================] - 6s 6ms/step - loss: 0.0237 - accuracy: 0.9916 - val_loss: 0.1397 - val_accuracy: 0.9680\n",
      "Epoch 28/50\n",
      "1000/1000 [==============================] - 6s 6ms/step - loss: 0.0255 - accuracy: 0.9926 - val_loss: 0.1380 - val_accuracy: 0.9670\n",
      "Epoch 29/50\n",
      "1000/1000 [==============================] - 6s 6ms/step - loss: 0.0215 - accuracy: 0.9939 - val_loss: 0.1426 - val_accuracy: 0.9655\n",
      "Epoch 30/50\n",
      "1000/1000 [==============================] - 6s 6ms/step - loss: 0.0200 - accuracy: 0.9942 - val_loss: 0.1438 - val_accuracy: 0.9665\n",
      "Epoch 31/50\n",
      "1000/1000 [==============================] - 7s 7ms/step - loss: 0.0190 - accuracy: 0.9947 - val_loss: 0.1633 - val_accuracy: 0.9690\n",
      "Epoch 32/50\n",
      "1000/1000 [==============================] - 6s 6ms/step - loss: 0.0217 - accuracy: 0.9939 - val_loss: 0.1015 - val_accuracy: 0.9720\n",
      "Epoch 33/50\n",
      "1000/1000 [==============================] - 7s 7ms/step - loss: 0.0218 - accuracy: 0.9945 - val_loss: 0.1200 - val_accuracy: 0.9700\n",
      "Epoch 34/50\n",
      "1000/1000 [==============================] - 7s 7ms/step - loss: 0.0164 - accuracy: 0.9944 - val_loss: 0.1498 - val_accuracy: 0.9680\n",
      "Epoch 35/50\n",
      "1000/1000 [==============================] - 6s 6ms/step - loss: 0.0176 - accuracy: 0.9955 - val_loss: 0.1187 - val_accuracy: 0.9705\n",
      "Epoch 36/50\n",
      "1000/1000 [==============================] - 7s 7ms/step - loss: 0.0150 - accuracy: 0.9949 - val_loss: 0.1825 - val_accuracy: 0.9665\n",
      "Epoch 37/50\n",
      "1000/1000 [==============================] - 6s 6ms/step - loss: 0.0168 - accuracy: 0.9944 - val_loss: 0.1261 - val_accuracy: 0.9710\n",
      "Epoch 38/50\n",
      "1000/1000 [==============================] - 6s 6ms/step - loss: 0.0274 - accuracy: 0.9934 - val_loss: 0.1090 - val_accuracy: 0.9700\n",
      "Epoch 39/50\n",
      "1000/1000 [==============================] - 6s 6ms/step - loss: 0.0197 - accuracy: 0.9946 - val_loss: 0.1170 - val_accuracy: 0.9695\n",
      "Epoch 40/50\n",
      "1000/1000 [==============================] - 7s 7ms/step - loss: 0.0169 - accuracy: 0.9954 - val_loss: 0.1458 - val_accuracy: 0.9625\n",
      "Epoch 41/50\n",
      "1000/1000 [==============================] - 6s 6ms/step - loss: 0.0205 - accuracy: 0.9946 - val_loss: 0.1625 - val_accuracy: 0.9715\n",
      "Epoch 42/50\n",
      "1000/1000 [==============================] - 7s 7ms/step - loss: 0.0173 - accuracy: 0.9950 - val_loss: 0.1151 - val_accuracy: 0.9725\n",
      "Epoch 43/50\n",
      "1000/1000 [==============================] - 6s 6ms/step - loss: 0.0167 - accuracy: 0.9945 - val_loss: 0.1453 - val_accuracy: 0.9700\n",
      "Epoch 44/50\n",
      "1000/1000 [==============================] - 7s 7ms/step - loss: 0.0191 - accuracy: 0.9951 - val_loss: 0.1139 - val_accuracy: 0.9655\n",
      "Epoch 45/50\n",
      "1000/1000 [==============================] - 7s 7ms/step - loss: 0.0124 - accuracy: 0.9957 - val_loss: 0.1160 - val_accuracy: 0.9710\n",
      "Epoch 46/50\n",
      "1000/1000 [==============================] - 7s 7ms/step - loss: 0.0178 - accuracy: 0.9945 - val_loss: 0.1348 - val_accuracy: 0.9675\n",
      "Epoch 47/50\n",
      "1000/1000 [==============================] - 7s 7ms/step - loss: 0.0182 - accuracy: 0.9947 - val_loss: 0.1065 - val_accuracy: 0.9695\n",
      "Epoch 48/50\n",
      "1000/1000 [==============================] - 7s 7ms/step - loss: 0.0083 - accuracy: 0.9974 - val_loss: 0.1142 - val_accuracy: 0.9715\n",
      "Epoch 49/50\n",
      "1000/1000 [==============================] - 7s 7ms/step - loss: 0.0158 - accuracy: 0.9954 - val_loss: 0.1284 - val_accuracy: 0.9700\n",
      "Epoch 50/50\n",
      "1000/1000 [==============================] - 7s 7ms/step - loss: 0.0135 - accuracy: 0.9956 - val_loss: 0.1189 - val_accuracy: 0.9675\n",
      "63/63 [==============================] - 0s 4ms/step\n",
      "Epoch 1/50\n",
      "1000/1000 [==============================] - 7s 6ms/step - loss: 0.6093 - accuracy: 0.7420 - val_loss: 0.2404 - val_accuracy: 0.9200\n",
      "Epoch 2/50\n",
      "1000/1000 [==============================] - 6s 6ms/step - loss: 0.2547 - accuracy: 0.9015 - val_loss: 0.1524 - val_accuracy: 0.9450\n",
      "Epoch 3/50\n",
      "1000/1000 [==============================] - 6s 6ms/step - loss: 0.1520 - accuracy: 0.9421 - val_loss: 0.1501 - val_accuracy: 0.9520\n",
      "Epoch 4/50\n",
      "1000/1000 [==============================] - 6s 6ms/step - loss: 0.1167 - accuracy: 0.9564 - val_loss: 0.1211 - val_accuracy: 0.9525\n",
      "Epoch 5/50\n",
      "1000/1000 [==============================] - 6s 6ms/step - loss: 0.0978 - accuracy: 0.9653 - val_loss: 0.1000 - val_accuracy: 0.9685\n",
      "Epoch 6/50\n",
      "1000/1000 [==============================] - 6s 6ms/step - loss: 0.0835 - accuracy: 0.9694 - val_loss: 0.1258 - val_accuracy: 0.9550\n",
      "Epoch 7/50\n",
      "1000/1000 [==============================] - 6s 6ms/step - loss: 0.0797 - accuracy: 0.9732 - val_loss: 0.1144 - val_accuracy: 0.9585\n",
      "Epoch 8/50\n",
      "1000/1000 [==============================] - 6s 6ms/step - loss: 0.0700 - accuracy: 0.9759 - val_loss: 0.1304 - val_accuracy: 0.9555\n",
      "Epoch 9/50\n",
      "1000/1000 [==============================] - 6s 6ms/step - loss: 0.0610 - accuracy: 0.9789 - val_loss: 0.1051 - val_accuracy: 0.9645\n",
      "Epoch 10/50\n",
      "1000/1000 [==============================] - 6s 6ms/step - loss: 0.0538 - accuracy: 0.9834 - val_loss: 0.0915 - val_accuracy: 0.9680\n",
      "Epoch 11/50\n",
      "1000/1000 [==============================] - 6s 6ms/step - loss: 0.0454 - accuracy: 0.9852 - val_loss: 0.1168 - val_accuracy: 0.9650\n",
      "Epoch 12/50\n",
      "1000/1000 [==============================] - 6s 6ms/step - loss: 0.0456 - accuracy: 0.9862 - val_loss: 0.1140 - val_accuracy: 0.9690\n",
      "Epoch 13/50\n",
      "1000/1000 [==============================] - 6s 6ms/step - loss: 0.0385 - accuracy: 0.9871 - val_loss: 0.1325 - val_accuracy: 0.9665\n",
      "Epoch 14/50\n",
      "1000/1000 [==============================] - 6s 6ms/step - loss: 0.0471 - accuracy: 0.9855 - val_loss: 0.1343 - val_accuracy: 0.9635\n",
      "Epoch 15/50\n",
      "1000/1000 [==============================] - 6s 6ms/step - loss: 0.0341 - accuracy: 0.9890 - val_loss: 0.1111 - val_accuracy: 0.9665\n",
      "Epoch 16/50\n",
      "1000/1000 [==============================] - 6s 6ms/step - loss: 0.0416 - accuracy: 0.9868 - val_loss: 0.1196 - val_accuracy: 0.9695\n",
      "Epoch 17/50\n",
      "1000/1000 [==============================] - 6s 6ms/step - loss: 0.0347 - accuracy: 0.9883 - val_loss: 0.1146 - val_accuracy: 0.9660\n",
      "Epoch 18/50\n",
      "1000/1000 [==============================] - 6s 6ms/step - loss: 0.0382 - accuracy: 0.9893 - val_loss: 0.1255 - val_accuracy: 0.9665\n",
      "Epoch 19/50\n",
      "1000/1000 [==============================] - 6s 6ms/step - loss: 0.0286 - accuracy: 0.9908 - val_loss: 0.1239 - val_accuracy: 0.9660\n",
      "Epoch 20/50\n",
      "1000/1000 [==============================] - 6s 6ms/step - loss: 0.0284 - accuracy: 0.9891 - val_loss: 0.1383 - val_accuracy: 0.9680\n",
      "Epoch 21/50\n",
      "1000/1000 [==============================] - 6s 6ms/step - loss: 0.0288 - accuracy: 0.9908 - val_loss: 0.1223 - val_accuracy: 0.9685\n",
      "Epoch 22/50\n",
      "1000/1000 [==============================] - 6s 6ms/step - loss: 0.0227 - accuracy: 0.9930 - val_loss: 0.1439 - val_accuracy: 0.9695\n",
      "Epoch 23/50\n",
      "1000/1000 [==============================] - 6s 6ms/step - loss: 0.0294 - accuracy: 0.9905 - val_loss: 0.1428 - val_accuracy: 0.9685\n",
      "Epoch 24/50\n",
      "1000/1000 [==============================] - 6s 6ms/step - loss: 0.0270 - accuracy: 0.9911 - val_loss: 0.1349 - val_accuracy: 0.9640\n",
      "Epoch 25/50\n",
      "1000/1000 [==============================] - 7s 7ms/step - loss: 0.0272 - accuracy: 0.9909 - val_loss: 0.1703 - val_accuracy: 0.9670\n",
      "Epoch 26/50\n",
      "1000/1000 [==============================] - 8s 8ms/step - loss: 0.0254 - accuracy: 0.9934 - val_loss: 0.1628 - val_accuracy: 0.9670\n",
      "Epoch 27/50\n",
      "1000/1000 [==============================] - 7s 7ms/step - loss: 0.0258 - accuracy: 0.9923 - val_loss: 0.1494 - val_accuracy: 0.9660\n",
      "Epoch 28/50\n",
      "1000/1000 [==============================] - 7s 7ms/step - loss: 0.0239 - accuracy: 0.9911 - val_loss: 0.1260 - val_accuracy: 0.9690\n",
      "Epoch 29/50\n",
      "1000/1000 [==============================] - 7s 7ms/step - loss: 0.0211 - accuracy: 0.9924 - val_loss: 0.1967 - val_accuracy: 0.9630\n",
      "Epoch 30/50\n",
      "1000/1000 [==============================] - 7s 7ms/step - loss: 0.0225 - accuracy: 0.9935 - val_loss: 0.2229 - val_accuracy: 0.9620\n",
      "Epoch 31/50\n",
      "1000/1000 [==============================] - 7s 7ms/step - loss: 0.0240 - accuracy: 0.9924 - val_loss: 0.1356 - val_accuracy: 0.9700\n",
      "Epoch 32/50\n",
      "1000/1000 [==============================] - 7s 7ms/step - loss: 0.0248 - accuracy: 0.9918 - val_loss: 0.1453 - val_accuracy: 0.9695\n",
      "Epoch 33/50\n",
      "1000/1000 [==============================] - 7s 7ms/step - loss: 0.0204 - accuracy: 0.9941 - val_loss: 0.1651 - val_accuracy: 0.9610\n",
      "Epoch 34/50\n",
      "1000/1000 [==============================] - 7s 7ms/step - loss: 0.0254 - accuracy: 0.9931 - val_loss: 0.1496 - val_accuracy: 0.9705\n",
      "Epoch 35/50\n",
      "1000/1000 [==============================] - 7s 7ms/step - loss: 0.0221 - accuracy: 0.9939 - val_loss: 0.1437 - val_accuracy: 0.9680\n",
      "Epoch 36/50\n",
      "1000/1000 [==============================] - 7s 7ms/step - loss: 0.0208 - accuracy: 0.9935 - val_loss: 0.1496 - val_accuracy: 0.9670\n",
      "Epoch 37/50\n",
      "1000/1000 [==============================] - 7s 7ms/step - loss: 0.0146 - accuracy: 0.9959 - val_loss: 0.1928 - val_accuracy: 0.9625\n",
      "Epoch 38/50\n",
      "1000/1000 [==============================] - 7s 7ms/step - loss: 0.0190 - accuracy: 0.9948 - val_loss: 0.2088 - val_accuracy: 0.9685\n",
      "Epoch 39/50\n",
      "1000/1000 [==============================] - 7s 7ms/step - loss: 0.0181 - accuracy: 0.9945 - val_loss: 0.2054 - val_accuracy: 0.9665\n",
      "Epoch 40/50\n",
      "1000/1000 [==============================] - 7s 7ms/step - loss: 0.0208 - accuracy: 0.9935 - val_loss: 0.2095 - val_accuracy: 0.9670\n",
      "Epoch 41/50\n",
      "1000/1000 [==============================] - 7s 7ms/step - loss: 0.0202 - accuracy: 0.9940 - val_loss: 0.1783 - val_accuracy: 0.9660\n",
      "Epoch 42/50\n",
      "1000/1000 [==============================] - 7s 7ms/step - loss: 0.0183 - accuracy: 0.9945 - val_loss: 0.2262 - val_accuracy: 0.9660\n",
      "Epoch 43/50\n",
      "1000/1000 [==============================] - 7s 7ms/step - loss: 0.0140 - accuracy: 0.9954 - val_loss: 0.1626 - val_accuracy: 0.9705\n",
      "Epoch 44/50\n",
      "1000/1000 [==============================] - 8s 8ms/step - loss: 0.0125 - accuracy: 0.9966 - val_loss: 0.1631 - val_accuracy: 0.9685\n",
      "Epoch 45/50\n",
      "1000/1000 [==============================] - 7s 7ms/step - loss: 0.0209 - accuracy: 0.9936 - val_loss: 0.1507 - val_accuracy: 0.9715\n",
      "Epoch 46/50\n",
      "1000/1000 [==============================] - 7s 7ms/step - loss: 0.0173 - accuracy: 0.9948 - val_loss: 0.1506 - val_accuracy: 0.9745\n",
      "Epoch 47/50\n",
      "1000/1000 [==============================] - 8s 8ms/step - loss: 0.0164 - accuracy: 0.9954 - val_loss: 0.1898 - val_accuracy: 0.9655\n",
      "Epoch 48/50\n",
      "1000/1000 [==============================] - 8s 8ms/step - loss: 0.0167 - accuracy: 0.9951 - val_loss: 0.1679 - val_accuracy: 0.9695\n",
      "Epoch 49/50\n",
      "1000/1000 [==============================] - 7s 7ms/step - loss: 0.0185 - accuracy: 0.9945 - val_loss: 0.1312 - val_accuracy: 0.9735\n",
      "Epoch 50/50\n",
      "1000/1000 [==============================] - 7s 7ms/step - loss: 0.0153 - accuracy: 0.9949 - val_loss: 0.1441 - val_accuracy: 0.9710\n",
      "63/63 [==============================] - 0s 4ms/step\n",
      "Training model with 256 units, batch size 8, epochs 50, dense_activation relu, dropout 0.2, optimizer Adam...\n",
      "Epoch 1/50\n",
      "1000/1000 [==============================] - 8s 8ms/step - loss: 0.5310 - accuracy: 0.7813 - val_loss: 0.2664 - val_accuracy: 0.8980\n",
      "Epoch 2/50\n",
      "1000/1000 [==============================] - 8s 8ms/step - loss: 0.2323 - accuracy: 0.9116 - val_loss: 0.1632 - val_accuracy: 0.9450\n",
      "Epoch 3/50\n",
      "1000/1000 [==============================] - 8s 8ms/step - loss: 0.1549 - accuracy: 0.9444 - val_loss: 0.1428 - val_accuracy: 0.9505\n",
      "Epoch 4/50\n",
      "1000/1000 [==============================] - 7s 7ms/step - loss: 0.1180 - accuracy: 0.9572 - val_loss: 0.1225 - val_accuracy: 0.9565\n",
      "Epoch 5/50\n",
      "1000/1000 [==============================] - 8s 8ms/step - loss: 0.0816 - accuracy: 0.9705 - val_loss: 0.1370 - val_accuracy: 0.9545\n",
      "Epoch 6/50\n",
      "1000/1000 [==============================] - 8s 8ms/step - loss: 0.0705 - accuracy: 0.9772 - val_loss: 0.1372 - val_accuracy: 0.9620\n",
      "Epoch 7/50\n",
      "1000/1000 [==============================] - 8s 8ms/step - loss: 0.0661 - accuracy: 0.9780 - val_loss: 0.1122 - val_accuracy: 0.9620\n",
      "Epoch 8/50\n",
      "1000/1000 [==============================] - 8s 8ms/step - loss: 0.0549 - accuracy: 0.9822 - val_loss: 0.1213 - val_accuracy: 0.9640\n",
      "Epoch 9/50\n",
      "1000/1000 [==============================] - 8s 8ms/step - loss: 0.0478 - accuracy: 0.9855 - val_loss: 0.1508 - val_accuracy: 0.9590\n",
      "Epoch 10/50\n",
      "1000/1000 [==============================] - 8s 8ms/step - loss: 0.0475 - accuracy: 0.9844 - val_loss: 0.1526 - val_accuracy: 0.9625\n",
      "Epoch 11/50\n",
      "1000/1000 [==============================] - 8s 8ms/step - loss: 0.0414 - accuracy: 0.9877 - val_loss: 0.1103 - val_accuracy: 0.9675\n",
      "Epoch 12/50\n",
      "1000/1000 [==============================] - 8s 8ms/step - loss: 0.0319 - accuracy: 0.9897 - val_loss: 0.1443 - val_accuracy: 0.9650\n",
      "Epoch 13/50\n",
      "1000/1000 [==============================] - 8s 8ms/step - loss: 0.0425 - accuracy: 0.9864 - val_loss: 0.1411 - val_accuracy: 0.9630\n",
      "Epoch 14/50\n",
      "1000/1000 [==============================] - 8s 8ms/step - loss: 0.0302 - accuracy: 0.9907 - val_loss: 0.1189 - val_accuracy: 0.9670\n",
      "Epoch 15/50\n",
      "1000/1000 [==============================] - 8s 8ms/step - loss: 0.0326 - accuracy: 0.9901 - val_loss: 0.1320 - val_accuracy: 0.9665\n",
      "Epoch 16/50\n",
      "1000/1000 [==============================] - 8s 8ms/step - loss: 0.0281 - accuracy: 0.9911 - val_loss: 0.1546 - val_accuracy: 0.9675\n",
      "Epoch 17/50\n",
      "1000/1000 [==============================] - 8s 8ms/step - loss: 0.0232 - accuracy: 0.9925 - val_loss: 0.2522 - val_accuracy: 0.9595\n",
      "Epoch 18/50\n",
      "1000/1000 [==============================] - 8s 8ms/step - loss: 0.0302 - accuracy: 0.9912 - val_loss: 0.1829 - val_accuracy: 0.9665\n",
      "Epoch 19/50\n",
      "1000/1000 [==============================] - 7s 7ms/step - loss: 0.0264 - accuracy: 0.9912 - val_loss: 0.1475 - val_accuracy: 0.9700\n",
      "Epoch 20/50\n",
      "1000/1000 [==============================] - 8s 8ms/step - loss: 0.0274 - accuracy: 0.9919 - val_loss: 0.1696 - val_accuracy: 0.9550\n",
      "Epoch 21/50\n",
      "1000/1000 [==============================] - 8s 8ms/step - loss: 0.0260 - accuracy: 0.9927 - val_loss: 0.1675 - val_accuracy: 0.9675\n",
      "Epoch 22/50\n",
      "1000/1000 [==============================] - 8s 8ms/step - loss: 0.0291 - accuracy: 0.9915 - val_loss: 0.1240 - val_accuracy: 0.9670\n",
      "Epoch 23/50\n",
      "1000/1000 [==============================] - 7s 7ms/step - loss: 0.0181 - accuracy: 0.9935 - val_loss: 0.1371 - val_accuracy: 0.9695\n",
      "Epoch 24/50\n",
      "1000/1000 [==============================] - 8s 8ms/step - loss: 0.0243 - accuracy: 0.9942 - val_loss: 0.2545 - val_accuracy: 0.9545\n",
      "Epoch 25/50\n",
      "1000/1000 [==============================] - 7s 7ms/step - loss: 0.0257 - accuracy: 0.9922 - val_loss: 0.1837 - val_accuracy: 0.9650\n",
      "Epoch 26/50\n",
      "1000/1000 [==============================] - 7s 7ms/step - loss: 0.0214 - accuracy: 0.9935 - val_loss: 0.1806 - val_accuracy: 0.9665\n",
      "Epoch 27/50\n",
      "1000/1000 [==============================] - 8s 8ms/step - loss: 0.0162 - accuracy: 0.9946 - val_loss: 0.1662 - val_accuracy: 0.9670\n",
      "Epoch 28/50\n",
      "1000/1000 [==============================] - 7s 7ms/step - loss: 0.0208 - accuracy: 0.9940 - val_loss: 0.1326 - val_accuracy: 0.9705\n",
      "Epoch 29/50\n",
      "1000/1000 [==============================] - 6s 6ms/step - loss: 0.0203 - accuracy: 0.9951 - val_loss: 0.1537 - val_accuracy: 0.9665\n",
      "Epoch 30/50\n",
      "1000/1000 [==============================] - 7s 7ms/step - loss: 0.0188 - accuracy: 0.9942 - val_loss: 0.1654 - val_accuracy: 0.9675\n",
      "Epoch 31/50\n",
      "1000/1000 [==============================] - 6s 6ms/step - loss: 0.0152 - accuracy: 0.9954 - val_loss: 0.2018 - val_accuracy: 0.9635\n",
      "Epoch 32/50\n",
      "1000/1000 [==============================] - 7s 7ms/step - loss: 0.0177 - accuracy: 0.9936 - val_loss: 0.2022 - val_accuracy: 0.9655\n",
      "Epoch 33/50\n",
      "1000/1000 [==============================] - 8s 8ms/step - loss: 0.0256 - accuracy: 0.9929 - val_loss: 0.1616 - val_accuracy: 0.9660\n",
      "Epoch 34/50\n",
      "1000/1000 [==============================] - 7s 7ms/step - loss: 0.0122 - accuracy: 0.9959 - val_loss: 0.2070 - val_accuracy: 0.9570\n",
      "Epoch 35/50\n",
      "1000/1000 [==============================] - 6s 6ms/step - loss: 0.0166 - accuracy: 0.9946 - val_loss: 0.1835 - val_accuracy: 0.9605\n",
      "Epoch 36/50\n",
      "1000/1000 [==============================] - 7s 7ms/step - loss: 0.0171 - accuracy: 0.9959 - val_loss: 0.1735 - val_accuracy: 0.9695\n",
      "Epoch 37/50\n",
      "1000/1000 [==============================] - 6s 6ms/step - loss: 0.0197 - accuracy: 0.9951 - val_loss: 0.1646 - val_accuracy: 0.9700\n",
      "Epoch 38/50\n",
      "1000/1000 [==============================] - 7s 7ms/step - loss: 0.0222 - accuracy: 0.9944 - val_loss: 0.1719 - val_accuracy: 0.9635\n",
      "Epoch 39/50\n",
      "1000/1000 [==============================] - 7s 7ms/step - loss: 0.0167 - accuracy: 0.9962 - val_loss: 0.1887 - val_accuracy: 0.9615\n",
      "Epoch 40/50\n",
      "1000/1000 [==============================] - 6s 6ms/step - loss: 0.0181 - accuracy: 0.9956 - val_loss: 0.2074 - val_accuracy: 0.9610\n",
      "Epoch 41/50\n",
      "1000/1000 [==============================] - 6s 6ms/step - loss: 0.0168 - accuracy: 0.9960 - val_loss: 0.1337 - val_accuracy: 0.9715\n",
      "Epoch 42/50\n",
      "1000/1000 [==============================] - 6s 6ms/step - loss: 0.0120 - accuracy: 0.9971 - val_loss: 0.1563 - val_accuracy: 0.9685\n",
      "Epoch 43/50\n",
      "1000/1000 [==============================] - 6s 6ms/step - loss: 0.0166 - accuracy: 0.9955 - val_loss: 0.2213 - val_accuracy: 0.9645\n",
      "Epoch 44/50\n",
      "1000/1000 [==============================] - 7s 7ms/step - loss: 0.0160 - accuracy: 0.9944 - val_loss: 0.1931 - val_accuracy: 0.9690\n",
      "Epoch 45/50\n",
      "1000/1000 [==============================] - 7s 7ms/step - loss: 0.0147 - accuracy: 0.9964 - val_loss: 0.2059 - val_accuracy: 0.9660\n",
      "Epoch 46/50\n",
      "1000/1000 [==============================] - 8s 8ms/step - loss: 0.0170 - accuracy: 0.9954 - val_loss: 0.1657 - val_accuracy: 0.9680\n",
      "Epoch 47/50\n",
      "1000/1000 [==============================] - 7s 7ms/step - loss: 0.0162 - accuracy: 0.9949 - val_loss: 0.1379 - val_accuracy: 0.9685\n",
      "Epoch 48/50\n",
      "1000/1000 [==============================] - 7s 7ms/step - loss: 0.0184 - accuracy: 0.9951 - val_loss: 0.1649 - val_accuracy: 0.9580\n",
      "Epoch 49/50\n",
      "1000/1000 [==============================] - 7s 7ms/step - loss: 0.0163 - accuracy: 0.9967 - val_loss: 0.1844 - val_accuracy: 0.9645\n",
      "Epoch 50/50\n",
      "1000/1000 [==============================] - 7s 7ms/step - loss: 0.0089 - accuracy: 0.9972 - val_loss: 0.1347 - val_accuracy: 0.9695\n",
      "63/63 [==============================] - 0s 4ms/step\n",
      "Epoch 1/50\n",
      "1000/1000 [==============================] - 8s 8ms/step - loss: 0.5005 - accuracy: 0.7980 - val_loss: 0.2403 - val_accuracy: 0.9100\n",
      "Epoch 2/50\n",
      "1000/1000 [==============================] - 7s 7ms/step - loss: 0.1832 - accuracy: 0.9320 - val_loss: 0.1067 - val_accuracy: 0.9640\n",
      "Epoch 3/50\n",
      "1000/1000 [==============================] - 7s 7ms/step - loss: 0.1185 - accuracy: 0.9586 - val_loss: 0.1164 - val_accuracy: 0.9615\n",
      "Epoch 4/50\n",
      "1000/1000 [==============================] - 7s 7ms/step - loss: 0.0810 - accuracy: 0.9691 - val_loss: 0.1172 - val_accuracy: 0.9605\n",
      "Epoch 5/50\n",
      "1000/1000 [==============================] - 8s 8ms/step - loss: 0.0835 - accuracy: 0.9721 - val_loss: 0.1016 - val_accuracy: 0.9640\n",
      "Epoch 6/50\n",
      "1000/1000 [==============================] - 7s 7ms/step - loss: 0.0646 - accuracy: 0.9785 - val_loss: 0.1107 - val_accuracy: 0.9605\n",
      "Epoch 7/50\n",
      "1000/1000 [==============================] - 7s 7ms/step - loss: 0.0555 - accuracy: 0.9816 - val_loss: 0.1169 - val_accuracy: 0.9610\n",
      "Epoch 8/50\n",
      "1000/1000 [==============================] - 7s 7ms/step - loss: 0.0453 - accuracy: 0.9844 - val_loss: 0.1304 - val_accuracy: 0.9590\n",
      "Epoch 9/50\n",
      "1000/1000 [==============================] - 7s 7ms/step - loss: 0.0408 - accuracy: 0.9859 - val_loss: 0.1251 - val_accuracy: 0.9640\n",
      "Epoch 10/50\n",
      "1000/1000 [==============================] - 7s 7ms/step - loss: 0.0336 - accuracy: 0.9895 - val_loss: 0.1823 - val_accuracy: 0.9580\n",
      "Epoch 11/50\n",
      "1000/1000 [==============================] - 7s 7ms/step - loss: 0.0419 - accuracy: 0.9860 - val_loss: 0.1489 - val_accuracy: 0.9600\n",
      "Epoch 12/50\n",
      "1000/1000 [==============================] - 7s 7ms/step - loss: 0.0303 - accuracy: 0.9901 - val_loss: 0.1257 - val_accuracy: 0.9650\n",
      "Epoch 13/50\n",
      "1000/1000 [==============================] - 7s 7ms/step - loss: 0.0349 - accuracy: 0.9899 - val_loss: 0.1730 - val_accuracy: 0.9615\n",
      "Epoch 14/50\n",
      "1000/1000 [==============================] - 7s 7ms/step - loss: 0.0241 - accuracy: 0.9922 - val_loss: 0.1956 - val_accuracy: 0.9555\n",
      "Epoch 15/50\n",
      "1000/1000 [==============================] - 7s 7ms/step - loss: 0.0344 - accuracy: 0.9897 - val_loss: 0.1468 - val_accuracy: 0.9600\n",
      "Epoch 16/50\n",
      "1000/1000 [==============================] - 7s 7ms/step - loss: 0.0266 - accuracy: 0.9911 - val_loss: 0.1813 - val_accuracy: 0.9570\n",
      "Epoch 17/50\n",
      "1000/1000 [==============================] - 7s 7ms/step - loss: 0.0253 - accuracy: 0.9924 - val_loss: 0.1475 - val_accuracy: 0.9550\n",
      "Epoch 18/50\n",
      "1000/1000 [==============================] - 7s 7ms/step - loss: 0.0282 - accuracy: 0.9902 - val_loss: 0.1533 - val_accuracy: 0.9605\n",
      "Epoch 19/50\n",
      "1000/1000 [==============================] - 7s 7ms/step - loss: 0.0287 - accuracy: 0.9920 - val_loss: 0.1541 - val_accuracy: 0.9555\n",
      "Epoch 20/50\n",
      "1000/1000 [==============================] - 7s 7ms/step - loss: 0.0237 - accuracy: 0.9926 - val_loss: 0.1508 - val_accuracy: 0.9635\n",
      "Epoch 21/50\n",
      "1000/1000 [==============================] - 7s 7ms/step - loss: 0.0186 - accuracy: 0.9941 - val_loss: 0.1938 - val_accuracy: 0.9650\n",
      "Epoch 22/50\n",
      "1000/1000 [==============================] - 7s 7ms/step - loss: 0.0232 - accuracy: 0.9927 - val_loss: 0.1773 - val_accuracy: 0.9680\n",
      "Epoch 23/50\n",
      "1000/1000 [==============================] - 7s 7ms/step - loss: 0.0203 - accuracy: 0.9934 - val_loss: 0.2089 - val_accuracy: 0.9640\n",
      "Epoch 24/50\n",
      "1000/1000 [==============================] - 7s 7ms/step - loss: 0.0190 - accuracy: 0.9949 - val_loss: 0.2487 - val_accuracy: 0.9535\n",
      "Epoch 25/50\n",
      "1000/1000 [==============================] - 7s 7ms/step - loss: 0.0220 - accuracy: 0.9931 - val_loss: 0.1980 - val_accuracy: 0.9640\n",
      "Epoch 26/50\n",
      "1000/1000 [==============================] - 7s 7ms/step - loss: 0.0171 - accuracy: 0.9950 - val_loss: 0.1701 - val_accuracy: 0.9635\n",
      "Epoch 27/50\n",
      "1000/1000 [==============================] - 7s 7ms/step - loss: 0.0194 - accuracy: 0.9947 - val_loss: 0.1911 - val_accuracy: 0.9615\n",
      "Epoch 28/50\n",
      "1000/1000 [==============================] - 7s 7ms/step - loss: 0.0155 - accuracy: 0.9957 - val_loss: 0.1876 - val_accuracy: 0.9640\n",
      "Epoch 29/50\n",
      "1000/1000 [==============================] - 7s 7ms/step - loss: 0.0171 - accuracy: 0.9944 - val_loss: 0.1756 - val_accuracy: 0.9675\n",
      "Epoch 30/50\n",
      "1000/1000 [==============================] - 7s 7ms/step - loss: 0.0182 - accuracy: 0.9949 - val_loss: 0.1801 - val_accuracy: 0.9610\n",
      "Epoch 31/50\n",
      "1000/1000 [==============================] - 7s 7ms/step - loss: 0.0152 - accuracy: 0.9949 - val_loss: 0.2172 - val_accuracy: 0.9605\n",
      "Epoch 32/50\n",
      "1000/1000 [==============================] - 7s 7ms/step - loss: 0.0217 - accuracy: 0.9934 - val_loss: 0.1637 - val_accuracy: 0.9525\n",
      "Epoch 33/50\n",
      "1000/1000 [==============================] - 7s 7ms/step - loss: 0.0170 - accuracy: 0.9947 - val_loss: 0.2031 - val_accuracy: 0.9645\n",
      "Epoch 34/50\n",
      "1000/1000 [==============================] - 8s 8ms/step - loss: 0.0216 - accuracy: 0.9944 - val_loss: 0.1686 - val_accuracy: 0.9655\n",
      "Epoch 35/50\n",
      "1000/1000 [==============================] - 8s 8ms/step - loss: 0.0136 - accuracy: 0.9964 - val_loss: 0.2151 - val_accuracy: 0.9605\n",
      "Epoch 36/50\n",
      "1000/1000 [==============================] - 7s 7ms/step - loss: 0.0192 - accuracy: 0.9952 - val_loss: 0.1651 - val_accuracy: 0.9620\n",
      "Epoch 37/50\n",
      "1000/1000 [==============================] - 8s 8ms/step - loss: 0.0123 - accuracy: 0.9957 - val_loss: 0.1881 - val_accuracy: 0.9605\n",
      "Epoch 38/50\n",
      "1000/1000 [==============================] - 8s 8ms/step - loss: 0.0206 - accuracy: 0.9942 - val_loss: 0.1437 - val_accuracy: 0.9650\n",
      "Epoch 39/50\n",
      "1000/1000 [==============================] - 8s 8ms/step - loss: 0.0202 - accuracy: 0.9935 - val_loss: 0.1783 - val_accuracy: 0.9655\n",
      "Epoch 40/50\n",
      "1000/1000 [==============================] - 7s 7ms/step - loss: 0.0138 - accuracy: 0.9952 - val_loss: 0.1670 - val_accuracy: 0.9680\n",
      "Epoch 41/50\n",
      "1000/1000 [==============================] - 8s 8ms/step - loss: 0.0119 - accuracy: 0.9957 - val_loss: 0.1312 - val_accuracy: 0.9695\n",
      "Epoch 42/50\n",
      "1000/1000 [==============================] - 7s 7ms/step - loss: 0.0087 - accuracy: 0.9965 - val_loss: 0.2311 - val_accuracy: 0.9660\n",
      "Epoch 43/50\n",
      "1000/1000 [==============================] - 7s 7ms/step - loss: 0.0135 - accuracy: 0.9959 - val_loss: 0.3137 - val_accuracy: 0.9570\n",
      "Epoch 44/50\n",
      "1000/1000 [==============================] - 8s 8ms/step - loss: 0.0184 - accuracy: 0.9951 - val_loss: 0.1867 - val_accuracy: 0.9650\n",
      "Epoch 45/50\n",
      "1000/1000 [==============================] - 8s 8ms/step - loss: 0.0169 - accuracy: 0.9966 - val_loss: 0.1948 - val_accuracy: 0.9625\n",
      "Epoch 46/50\n",
      "1000/1000 [==============================] - 8s 8ms/step - loss: 0.0108 - accuracy: 0.9967 - val_loss: 0.1549 - val_accuracy: 0.9650\n",
      "Epoch 47/50\n",
      "1000/1000 [==============================] - 8s 8ms/step - loss: 0.0107 - accuracy: 0.9972 - val_loss: 0.2099 - val_accuracy: 0.9620\n",
      "Epoch 48/50\n",
      "1000/1000 [==============================] - 7s 7ms/step - loss: 0.0174 - accuracy: 0.9945 - val_loss: 0.2246 - val_accuracy: 0.9655\n",
      "Epoch 49/50\n",
      "1000/1000 [==============================] - 7s 7ms/step - loss: 0.0070 - accuracy: 0.9974 - val_loss: 0.1742 - val_accuracy: 0.9660\n",
      "Epoch 50/50\n",
      "1000/1000 [==============================] - 7s 7ms/step - loss: 0.0088 - accuracy: 0.9967 - val_loss: 0.2513 - val_accuracy: 0.9670\n",
      "63/63 [==============================] - 0s 5ms/step\n",
      "Epoch 1/50\n",
      "1000/1000 [==============================] - 8s 7ms/step - loss: 0.6435 - accuracy: 0.7291 - val_loss: 0.2436 - val_accuracy: 0.9205\n",
      "Epoch 2/50\n",
      "1000/1000 [==============================] - 6s 6ms/step - loss: 0.2187 - accuracy: 0.9192 - val_loss: 0.2063 - val_accuracy: 0.9195\n",
      "Epoch 3/50\n",
      "1000/1000 [==============================] - 7s 7ms/step - loss: 0.1228 - accuracy: 0.9560 - val_loss: 0.1209 - val_accuracy: 0.9545\n",
      "Epoch 4/50\n",
      "1000/1000 [==============================] - 7s 7ms/step - loss: 0.1011 - accuracy: 0.9627 - val_loss: 0.1050 - val_accuracy: 0.9635\n",
      "Epoch 5/50\n",
      "1000/1000 [==============================] - 7s 7ms/step - loss: 0.0707 - accuracy: 0.9745 - val_loss: 0.1360 - val_accuracy: 0.9495\n",
      "Epoch 6/50\n",
      "1000/1000 [==============================] - 6s 6ms/step - loss: 0.0601 - accuracy: 0.9775 - val_loss: 0.1189 - val_accuracy: 0.9650\n",
      "Epoch 7/50\n",
      "1000/1000 [==============================] - 6s 6ms/step - loss: 0.0562 - accuracy: 0.9797 - val_loss: 0.1165 - val_accuracy: 0.9660\n",
      "Epoch 8/50\n",
      "1000/1000 [==============================] - 6s 6ms/step - loss: 0.0452 - accuracy: 0.9840 - val_loss: 0.1638 - val_accuracy: 0.9530\n",
      "Epoch 9/50\n",
      "1000/1000 [==============================] - 7s 7ms/step - loss: 0.0385 - accuracy: 0.9862 - val_loss: 0.1531 - val_accuracy: 0.9615\n",
      "Epoch 10/50\n",
      "1000/1000 [==============================] - 7s 7ms/step - loss: 0.0402 - accuracy: 0.9855 - val_loss: 0.1425 - val_accuracy: 0.9625\n",
      "Epoch 11/50\n",
      "1000/1000 [==============================] - 6s 6ms/step - loss: 0.0387 - accuracy: 0.9885 - val_loss: 0.1452 - val_accuracy: 0.9575\n",
      "Epoch 12/50\n",
      "1000/1000 [==============================] - 6s 6ms/step - loss: 0.0319 - accuracy: 0.9894 - val_loss: 0.2083 - val_accuracy: 0.9520\n",
      "Epoch 13/50\n",
      "1000/1000 [==============================] - 6s 6ms/step - loss: 0.0367 - accuracy: 0.9886 - val_loss: 0.1148 - val_accuracy: 0.9680\n",
      "Epoch 14/50\n",
      "1000/1000 [==============================] - 7s 7ms/step - loss: 0.0257 - accuracy: 0.9914 - val_loss: 0.1341 - val_accuracy: 0.9635\n",
      "Epoch 15/50\n",
      "1000/1000 [==============================] - 7s 7ms/step - loss: 0.0256 - accuracy: 0.9922 - val_loss: 0.1387 - val_accuracy: 0.9665\n",
      "Epoch 16/50\n",
      "1000/1000 [==============================] - 6s 6ms/step - loss: 0.0275 - accuracy: 0.9919 - val_loss: 0.1088 - val_accuracy: 0.9655\n",
      "Epoch 17/50\n",
      "1000/1000 [==============================] - 6s 6ms/step - loss: 0.0256 - accuracy: 0.9917 - val_loss: 0.1345 - val_accuracy: 0.9650\n",
      "Epoch 18/50\n",
      "1000/1000 [==============================] - 7s 7ms/step - loss: 0.0267 - accuracy: 0.9911 - val_loss: 0.1755 - val_accuracy: 0.9620\n",
      "Epoch 19/50\n",
      "1000/1000 [==============================] - 6s 6ms/step - loss: 0.0229 - accuracy: 0.9925 - val_loss: 0.2332 - val_accuracy: 0.9580\n",
      "Epoch 20/50\n",
      "1000/1000 [==============================] - 6s 6ms/step - loss: 0.0222 - accuracy: 0.9934 - val_loss: 0.1261 - val_accuracy: 0.9685\n",
      "Epoch 21/50\n",
      "1000/1000 [==============================] - 7s 7ms/step - loss: 0.0267 - accuracy: 0.9925 - val_loss: 0.1397 - val_accuracy: 0.9630\n",
      "Epoch 22/50\n",
      "1000/1000 [==============================] - 6s 6ms/step - loss: 0.0151 - accuracy: 0.9950 - val_loss: 0.1919 - val_accuracy: 0.9620\n",
      "Epoch 23/50\n",
      "1000/1000 [==============================] - 7s 7ms/step - loss: 0.0188 - accuracy: 0.9939 - val_loss: 0.1229 - val_accuracy: 0.9685\n",
      "Epoch 24/50\n",
      "1000/1000 [==============================] - 6s 6ms/step - loss: 0.0248 - accuracy: 0.9925 - val_loss: 0.1328 - val_accuracy: 0.9625\n",
      "Epoch 25/50\n",
      "1000/1000 [==============================] - 7s 7ms/step - loss: 0.0167 - accuracy: 0.9949 - val_loss: 0.1461 - val_accuracy: 0.9675\n",
      "Epoch 26/50\n",
      "1000/1000 [==============================] - 7s 7ms/step - loss: 0.0180 - accuracy: 0.9950 - val_loss: 0.1781 - val_accuracy: 0.9655\n",
      "Epoch 27/50\n",
      "1000/1000 [==============================] - 6s 6ms/step - loss: 0.0167 - accuracy: 0.9947 - val_loss: 0.1780 - val_accuracy: 0.9630\n",
      "Epoch 28/50\n",
      "1000/1000 [==============================] - 6s 6ms/step - loss: 0.0204 - accuracy: 0.9944 - val_loss: 0.1614 - val_accuracy: 0.9660\n",
      "Epoch 29/50\n",
      "1000/1000 [==============================] - 6s 6ms/step - loss: 0.0175 - accuracy: 0.9945 - val_loss: 0.2630 - val_accuracy: 0.9580\n",
      "Epoch 30/50\n",
      "1000/1000 [==============================] - 6s 6ms/step - loss: 0.0120 - accuracy: 0.9966 - val_loss: 0.1705 - val_accuracy: 0.9655\n",
      "Epoch 31/50\n",
      "1000/1000 [==============================] - 6s 6ms/step - loss: 0.0198 - accuracy: 0.9950 - val_loss: 0.1858 - val_accuracy: 0.9590\n",
      "Epoch 32/50\n",
      "1000/1000 [==============================] - 6s 6ms/step - loss: 0.0187 - accuracy: 0.9947 - val_loss: 0.1361 - val_accuracy: 0.9700\n",
      "Epoch 33/50\n",
      "1000/1000 [==============================] - 6s 6ms/step - loss: 0.0143 - accuracy: 0.9962 - val_loss: 0.1720 - val_accuracy: 0.9660\n",
      "Epoch 34/50\n",
      "1000/1000 [==============================] - 6s 6ms/step - loss: 0.0229 - accuracy: 0.9940 - val_loss: 0.1831 - val_accuracy: 0.9625\n",
      "Epoch 35/50\n",
      "1000/1000 [==============================] - 7s 7ms/step - loss: 0.0126 - accuracy: 0.9971 - val_loss: 0.1463 - val_accuracy: 0.9665\n",
      "Epoch 36/50\n",
      "1000/1000 [==============================] - 7s 7ms/step - loss: 0.0130 - accuracy: 0.9959 - val_loss: 0.1113 - val_accuracy: 0.9645\n",
      "Epoch 37/50\n",
      "1000/1000 [==============================] - 7s 6ms/step - loss: 0.0141 - accuracy: 0.9962 - val_loss: 0.1790 - val_accuracy: 0.9585\n",
      "Epoch 38/50\n",
      "1000/1000 [==============================] - 6s 6ms/step - loss: 0.0110 - accuracy: 0.9966 - val_loss: 0.1574 - val_accuracy: 0.9720\n",
      "Epoch 39/50\n",
      "1000/1000 [==============================] - 7s 7ms/step - loss: 0.0164 - accuracy: 0.9952 - val_loss: 0.1657 - val_accuracy: 0.9650\n",
      "Epoch 40/50\n",
      "1000/1000 [==============================] - 7s 7ms/step - loss: 0.0146 - accuracy: 0.9966 - val_loss: 0.2026 - val_accuracy: 0.9560\n",
      "Epoch 41/50\n",
      "1000/1000 [==============================] - 7s 7ms/step - loss: 0.0119 - accuracy: 0.9967 - val_loss: 0.1303 - val_accuracy: 0.9670\n",
      "Epoch 42/50\n",
      "1000/1000 [==============================] - 7s 7ms/step - loss: 0.0148 - accuracy: 0.9957 - val_loss: 0.1334 - val_accuracy: 0.9640\n",
      "Epoch 43/50\n",
      "1000/1000 [==============================] - 7s 7ms/step - loss: 0.0111 - accuracy: 0.9969 - val_loss: 0.1755 - val_accuracy: 0.9655\n",
      "Epoch 44/50\n",
      "1000/1000 [==============================] - 7s 7ms/step - loss: 0.0132 - accuracy: 0.9957 - val_loss: 0.1735 - val_accuracy: 0.9615\n",
      "Epoch 45/50\n",
      "1000/1000 [==============================] - 7s 7ms/step - loss: 0.0080 - accuracy: 0.9979 - val_loss: 0.1810 - val_accuracy: 0.9680\n",
      "Epoch 46/50\n",
      "1000/1000 [==============================] - 7s 7ms/step - loss: 0.0134 - accuracy: 0.9956 - val_loss: 0.2023 - val_accuracy: 0.9670\n",
      "Epoch 47/50\n",
      "1000/1000 [==============================] - 7s 7ms/step - loss: 0.0127 - accuracy: 0.9960 - val_loss: 0.1496 - val_accuracy: 0.9715\n",
      "Epoch 48/50\n",
      "1000/1000 [==============================] - 7s 7ms/step - loss: 0.0066 - accuracy: 0.9970 - val_loss: 0.1789 - val_accuracy: 0.9690\n",
      "Epoch 49/50\n",
      "1000/1000 [==============================] - 7s 7ms/step - loss: 0.0096 - accuracy: 0.9972 - val_loss: 0.1549 - val_accuracy: 0.9650\n",
      "Epoch 50/50\n",
      "1000/1000 [==============================] - 7s 7ms/step - loss: 0.0134 - accuracy: 0.9966 - val_loss: 0.1537 - val_accuracy: 0.9665\n",
      "63/63 [==============================] - 0s 4ms/step\n",
      "Epoch 1/50\n",
      "1000/1000 [==============================] - 7s 7ms/step - loss: 0.4962 - accuracy: 0.7963 - val_loss: 0.1942 - val_accuracy: 0.9150\n",
      "Epoch 2/50\n",
      "1000/1000 [==============================] - 6s 6ms/step - loss: 0.2021 - accuracy: 0.9265 - val_loss: 0.1390 - val_accuracy: 0.9520\n",
      "Epoch 3/50\n",
      "1000/1000 [==============================] - 6s 6ms/step - loss: 0.1254 - accuracy: 0.9562 - val_loss: 0.0963 - val_accuracy: 0.9675\n",
      "Epoch 4/50\n",
      "1000/1000 [==============================] - 6s 6ms/step - loss: 0.0996 - accuracy: 0.9662 - val_loss: 0.1594 - val_accuracy: 0.9445\n",
      "Epoch 5/50\n",
      "1000/1000 [==============================] - 6s 6ms/step - loss: 0.0729 - accuracy: 0.9730 - val_loss: 0.0782 - val_accuracy: 0.9695\n",
      "Epoch 6/50\n",
      "1000/1000 [==============================] - 6s 6ms/step - loss: 0.0633 - accuracy: 0.9770 - val_loss: 0.0755 - val_accuracy: 0.9760\n",
      "Epoch 7/50\n",
      "1000/1000 [==============================] - 6s 6ms/step - loss: 0.0561 - accuracy: 0.9819 - val_loss: 0.1142 - val_accuracy: 0.9710\n",
      "Epoch 8/50\n",
      "1000/1000 [==============================] - 7s 7ms/step - loss: 0.0486 - accuracy: 0.9842 - val_loss: 0.1063 - val_accuracy: 0.9715\n",
      "Epoch 9/50\n",
      "1000/1000 [==============================] - 6s 6ms/step - loss: 0.0479 - accuracy: 0.9834 - val_loss: 0.1074 - val_accuracy: 0.9720\n",
      "Epoch 10/50\n",
      "1000/1000 [==============================] - 6s 6ms/step - loss: 0.0323 - accuracy: 0.9892 - val_loss: 0.1044 - val_accuracy: 0.9720\n",
      "Epoch 11/50\n",
      "1000/1000 [==============================] - 6s 6ms/step - loss: 0.0435 - accuracy: 0.9874 - val_loss: 0.0935 - val_accuracy: 0.9690\n",
      "Epoch 12/50\n",
      "1000/1000 [==============================] - 7s 7ms/step - loss: 0.0369 - accuracy: 0.9891 - val_loss: 0.1249 - val_accuracy: 0.9700\n",
      "Epoch 13/50\n",
      "1000/1000 [==============================] - 6s 6ms/step - loss: 0.0271 - accuracy: 0.9911 - val_loss: 0.1473 - val_accuracy: 0.9650\n",
      "Epoch 14/50\n",
      "1000/1000 [==============================] - 7s 7ms/step - loss: 0.0335 - accuracy: 0.9891 - val_loss: 0.1054 - val_accuracy: 0.9745\n",
      "Epoch 15/50\n",
      "1000/1000 [==============================] - 6s 6ms/step - loss: 0.0337 - accuracy: 0.9884 - val_loss: 0.1655 - val_accuracy: 0.9645\n",
      "Epoch 16/50\n",
      "1000/1000 [==============================] - 6s 6ms/step - loss: 0.0260 - accuracy: 0.9924 - val_loss: 0.1569 - val_accuracy: 0.9655\n",
      "Epoch 17/50\n",
      "1000/1000 [==============================] - 7s 7ms/step - loss: 0.0343 - accuracy: 0.9905 - val_loss: 0.1352 - val_accuracy: 0.9660\n",
      "Epoch 18/50\n",
      "1000/1000 [==============================] - 6s 6ms/step - loss: 0.0260 - accuracy: 0.9924 - val_loss: 0.1631 - val_accuracy: 0.9685\n",
      "Epoch 19/50\n",
      "1000/1000 [==============================] - 6s 6ms/step - loss: 0.0224 - accuracy: 0.9939 - val_loss: 0.1543 - val_accuracy: 0.9655\n",
      "Epoch 20/50\n",
      "1000/1000 [==============================] - 7s 7ms/step - loss: 0.0257 - accuracy: 0.9924 - val_loss: 0.1337 - val_accuracy: 0.9715\n",
      "Epoch 21/50\n",
      "1000/1000 [==============================] - 7s 7ms/step - loss: 0.0249 - accuracy: 0.9936 - val_loss: 0.1407 - val_accuracy: 0.9745\n",
      "Epoch 22/50\n",
      "1000/1000 [==============================] - 7s 7ms/step - loss: 0.0230 - accuracy: 0.9930 - val_loss: 0.1183 - val_accuracy: 0.9700\n",
      "Epoch 23/50\n",
      "1000/1000 [==============================] - 7s 7ms/step - loss: 0.0298 - accuracy: 0.9909 - val_loss: 0.1149 - val_accuracy: 0.9710\n",
      "Epoch 24/50\n",
      "1000/1000 [==============================] - 6s 6ms/step - loss: 0.0189 - accuracy: 0.9946 - val_loss: 0.1142 - val_accuracy: 0.9740\n",
      "Epoch 25/50\n",
      "1000/1000 [==============================] - 6s 6ms/step - loss: 0.0214 - accuracy: 0.9944 - val_loss: 0.2208 - val_accuracy: 0.9595\n",
      "Epoch 26/50\n",
      "1000/1000 [==============================] - 6s 6ms/step - loss: 0.0177 - accuracy: 0.9942 - val_loss: 0.1825 - val_accuracy: 0.9670\n",
      "Epoch 27/50\n",
      "1000/1000 [==============================] - 6s 6ms/step - loss: 0.0203 - accuracy: 0.9937 - val_loss: 0.1102 - val_accuracy: 0.9735\n",
      "Epoch 28/50\n",
      "1000/1000 [==============================] - 6s 6ms/step - loss: 0.0211 - accuracy: 0.9941 - val_loss: 0.1289 - val_accuracy: 0.9690\n",
      "Epoch 29/50\n",
      "1000/1000 [==============================] - 6s 6ms/step - loss: 0.0137 - accuracy: 0.9956 - val_loss: 0.1584 - val_accuracy: 0.9675\n",
      "Epoch 30/50\n",
      "1000/1000 [==============================] - 6s 6ms/step - loss: 0.0155 - accuracy: 0.9954 - val_loss: 0.1449 - val_accuracy: 0.9685\n",
      "Epoch 31/50\n",
      "1000/1000 [==============================] - 7s 7ms/step - loss: 0.0215 - accuracy: 0.9935 - val_loss: 0.1170 - val_accuracy: 0.9740\n",
      "Epoch 32/50\n",
      "1000/1000 [==============================] - 6s 6ms/step - loss: 0.0156 - accuracy: 0.9951 - val_loss: 0.1367 - val_accuracy: 0.9710\n",
      "Epoch 33/50\n",
      "1000/1000 [==============================] - 6s 6ms/step - loss: 0.0144 - accuracy: 0.9959 - val_loss: 0.1526 - val_accuracy: 0.9715\n",
      "Epoch 34/50\n",
      "1000/1000 [==============================] - 6s 6ms/step - loss: 0.0158 - accuracy: 0.9954 - val_loss: 0.2625 - val_accuracy: 0.9620\n",
      "Epoch 35/50\n",
      "1000/1000 [==============================] - 6s 6ms/step - loss: 0.0212 - accuracy: 0.9931 - val_loss: 0.2330 - val_accuracy: 0.9610\n",
      "Epoch 36/50\n",
      "1000/1000 [==============================] - 6s 6ms/step - loss: 0.0174 - accuracy: 0.9951 - val_loss: 0.1577 - val_accuracy: 0.9675\n",
      "Epoch 37/50\n",
      "1000/1000 [==============================] - 6s 6ms/step - loss: 0.0135 - accuracy: 0.9960 - val_loss: 0.1439 - val_accuracy: 0.9705\n",
      "Epoch 38/50\n",
      "1000/1000 [==============================] - 6s 6ms/step - loss: 0.0128 - accuracy: 0.9964 - val_loss: 0.1570 - val_accuracy: 0.9735\n",
      "Epoch 39/50\n",
      "1000/1000 [==============================] - 7s 7ms/step - loss: 0.0125 - accuracy: 0.9961 - val_loss: 0.1819 - val_accuracy: 0.9695\n",
      "Epoch 40/50\n",
      "1000/1000 [==============================] - 7s 7ms/step - loss: 0.0128 - accuracy: 0.9960 - val_loss: 0.1695 - val_accuracy: 0.9695\n",
      "Epoch 41/50\n",
      "1000/1000 [==============================] - 8s 8ms/step - loss: 0.0124 - accuracy: 0.9967 - val_loss: 0.1660 - val_accuracy: 0.9665\n",
      "Epoch 42/50\n",
      "1000/1000 [==============================] - 8s 8ms/step - loss: 0.0132 - accuracy: 0.9965 - val_loss: 0.1921 - val_accuracy: 0.9690\n",
      "Epoch 43/50\n",
      "1000/1000 [==============================] - 7s 7ms/step - loss: 0.0185 - accuracy: 0.9952 - val_loss: 0.1540 - val_accuracy: 0.9710\n",
      "Epoch 44/50\n",
      "1000/1000 [==============================] - 7s 7ms/step - loss: 0.0093 - accuracy: 0.9967 - val_loss: 0.1913 - val_accuracy: 0.9715\n",
      "Epoch 45/50\n",
      "1000/1000 [==============================] - 6s 6ms/step - loss: 0.0150 - accuracy: 0.9954 - val_loss: 0.1473 - val_accuracy: 0.9715\n",
      "Epoch 46/50\n",
      "1000/1000 [==============================] - 6s 6ms/step - loss: 0.0103 - accuracy: 0.9969 - val_loss: 0.1680 - val_accuracy: 0.9665\n",
      "Epoch 47/50\n",
      "1000/1000 [==============================] - 7s 7ms/step - loss: 0.0108 - accuracy: 0.9967 - val_loss: 0.2102 - val_accuracy: 0.9710\n",
      "Epoch 48/50\n",
      "1000/1000 [==============================] - 6s 6ms/step - loss: 0.0136 - accuracy: 0.9966 - val_loss: 0.1312 - val_accuracy: 0.9710\n",
      "Epoch 49/50\n",
      "1000/1000 [==============================] - 7s 7ms/step - loss: 0.0215 - accuracy: 0.9946 - val_loss: 0.1526 - val_accuracy: 0.9695\n",
      "Epoch 50/50\n",
      "1000/1000 [==============================] - 7s 7ms/step - loss: 0.0112 - accuracy: 0.9965 - val_loss: 0.1062 - val_accuracy: 0.9750\n",
      "63/63 [==============================] - 0s 4ms/step\n",
      "Epoch 1/50\n",
      "1000/1000 [==============================] - 7s 6ms/step - loss: 0.4716 - accuracy: 0.8058 - val_loss: 0.2026 - val_accuracy: 0.9260\n",
      "Epoch 2/50\n",
      "1000/1000 [==============================] - 6s 6ms/step - loss: 0.1951 - accuracy: 0.9265 - val_loss: 0.1395 - val_accuracy: 0.9520\n",
      "Epoch 3/50\n",
      "1000/1000 [==============================] - 7s 7ms/step - loss: 0.1159 - accuracy: 0.9576 - val_loss: 0.1034 - val_accuracy: 0.9610\n",
      "Epoch 4/50\n",
      "1000/1000 [==============================] - 7s 7ms/step - loss: 0.0951 - accuracy: 0.9654 - val_loss: 0.1277 - val_accuracy: 0.9510\n",
      "Epoch 5/50\n",
      "1000/1000 [==============================] - 7s 7ms/step - loss: 0.0677 - accuracy: 0.9778 - val_loss: 0.0922 - val_accuracy: 0.9660\n",
      "Epoch 6/50\n",
      "1000/1000 [==============================] - 6s 6ms/step - loss: 0.0533 - accuracy: 0.9818 - val_loss: 0.0932 - val_accuracy: 0.9705\n",
      "Epoch 7/50\n",
      "1000/1000 [==============================] - 6s 6ms/step - loss: 0.0484 - accuracy: 0.9841 - val_loss: 0.1183 - val_accuracy: 0.9680\n",
      "Epoch 8/50\n",
      "1000/1000 [==============================] - 6s 6ms/step - loss: 0.0434 - accuracy: 0.9855 - val_loss: 0.1186 - val_accuracy: 0.9615\n",
      "Epoch 9/50\n",
      "1000/1000 [==============================] - 7s 7ms/step - loss: 0.0428 - accuracy: 0.9854 - val_loss: 0.0859 - val_accuracy: 0.9715\n",
      "Epoch 10/50\n",
      "1000/1000 [==============================] - 7s 7ms/step - loss: 0.0393 - accuracy: 0.9880 - val_loss: 0.0928 - val_accuracy: 0.9710\n",
      "Epoch 11/50\n",
      "1000/1000 [==============================] - 7s 7ms/step - loss: 0.0367 - accuracy: 0.9881 - val_loss: 0.1128 - val_accuracy: 0.9700\n",
      "Epoch 12/50\n",
      "1000/1000 [==============================] - 7s 7ms/step - loss: 0.0322 - accuracy: 0.9887 - val_loss: 0.1211 - val_accuracy: 0.9615\n",
      "Epoch 13/50\n",
      "1000/1000 [==============================] - 6s 6ms/step - loss: 0.0334 - accuracy: 0.9896 - val_loss: 0.1076 - val_accuracy: 0.9720\n",
      "Epoch 14/50\n",
      "1000/1000 [==============================] - 8s 8ms/step - loss: 0.0289 - accuracy: 0.9908 - val_loss: 0.1217 - val_accuracy: 0.9750\n",
      "Epoch 15/50\n",
      "1000/1000 [==============================] - 7s 7ms/step - loss: 0.0281 - accuracy: 0.9908 - val_loss: 0.0796 - val_accuracy: 0.9745\n",
      "Epoch 16/50\n",
      "1000/1000 [==============================] - 6s 6ms/step - loss: 0.0261 - accuracy: 0.9914 - val_loss: 0.1039 - val_accuracy: 0.9750\n",
      "Epoch 17/50\n",
      "1000/1000 [==============================] - 6s 6ms/step - loss: 0.0301 - accuracy: 0.9900 - val_loss: 0.0930 - val_accuracy: 0.9710\n",
      "Epoch 18/50\n",
      "1000/1000 [==============================] - 6s 6ms/step - loss: 0.0217 - accuracy: 0.9933 - val_loss: 0.0938 - val_accuracy: 0.9685\n",
      "Epoch 19/50\n",
      "1000/1000 [==============================] - 6s 6ms/step - loss: 0.0232 - accuracy: 0.9920 - val_loss: 0.1261 - val_accuracy: 0.9700\n",
      "Epoch 20/50\n",
      "1000/1000 [==============================] - 6s 6ms/step - loss: 0.0271 - accuracy: 0.9923 - val_loss: 0.1032 - val_accuracy: 0.9750\n",
      "Epoch 21/50\n",
      "1000/1000 [==============================] - 6s 6ms/step - loss: 0.0160 - accuracy: 0.9946 - val_loss: 0.1514 - val_accuracy: 0.9665\n",
      "Epoch 22/50\n",
      "1000/1000 [==============================] - 6s 6ms/step - loss: 0.0190 - accuracy: 0.9935 - val_loss: 0.1360 - val_accuracy: 0.9615\n",
      "Epoch 23/50\n",
      "1000/1000 [==============================] - 6s 6ms/step - loss: 0.0239 - accuracy: 0.9915 - val_loss: 0.1227 - val_accuracy: 0.9685\n",
      "Epoch 24/50\n",
      "1000/1000 [==============================] - 6s 6ms/step - loss: 0.0135 - accuracy: 0.9959 - val_loss: 0.1963 - val_accuracy: 0.9670\n",
      "Epoch 25/50\n",
      "1000/1000 [==============================] - 6s 6ms/step - loss: 0.0212 - accuracy: 0.9942 - val_loss: 0.1071 - val_accuracy: 0.9735\n",
      "Epoch 26/50\n",
      "1000/1000 [==============================] - 6s 6ms/step - loss: 0.0199 - accuracy: 0.9935 - val_loss: 0.1114 - val_accuracy: 0.9680\n",
      "Epoch 27/50\n",
      "1000/1000 [==============================] - 6s 6ms/step - loss: 0.0192 - accuracy: 0.9934 - val_loss: 0.1066 - val_accuracy: 0.9725\n",
      "Epoch 28/50\n",
      "1000/1000 [==============================] - 6s 6ms/step - loss: 0.0175 - accuracy: 0.9948 - val_loss: 0.1311 - val_accuracy: 0.9715\n",
      "Epoch 29/50\n",
      "1000/1000 [==============================] - 6s 6ms/step - loss: 0.0161 - accuracy: 0.9941 - val_loss: 0.1436 - val_accuracy: 0.9660\n",
      "Epoch 30/50\n",
      "1000/1000 [==============================] - 6s 6ms/step - loss: 0.0143 - accuracy: 0.9958 - val_loss: 0.1316 - val_accuracy: 0.9715\n",
      "Epoch 31/50\n",
      "1000/1000 [==============================] - 6s 6ms/step - loss: 0.0132 - accuracy: 0.9970 - val_loss: 0.1350 - val_accuracy: 0.9715\n",
      "Epoch 32/50\n",
      "1000/1000 [==============================] - 6s 6ms/step - loss: 0.0104 - accuracy: 0.9960 - val_loss: 0.1600 - val_accuracy: 0.9725\n",
      "Epoch 33/50\n",
      "1000/1000 [==============================] - 6s 6ms/step - loss: 0.0193 - accuracy: 0.9935 - val_loss: 0.2107 - val_accuracy: 0.9610\n",
      "Epoch 34/50\n",
      "1000/1000 [==============================] - 6s 6ms/step - loss: 0.0154 - accuracy: 0.9951 - val_loss: 0.1131 - val_accuracy: 0.9710\n",
      "Epoch 35/50\n",
      "1000/1000 [==============================] - 6s 6ms/step - loss: 0.0119 - accuracy: 0.9967 - val_loss: 0.1428 - val_accuracy: 0.9695\n",
      "Epoch 36/50\n",
      "1000/1000 [==============================] - 6s 6ms/step - loss: 0.0134 - accuracy: 0.9955 - val_loss: 0.1134 - val_accuracy: 0.9705\n",
      "Epoch 37/50\n",
      "1000/1000 [==============================] - 6s 6ms/step - loss: 0.0161 - accuracy: 0.9949 - val_loss: 0.1412 - val_accuracy: 0.9695\n",
      "Epoch 38/50\n",
      "1000/1000 [==============================] - 6s 6ms/step - loss: 0.0123 - accuracy: 0.9964 - val_loss: 0.1859 - val_accuracy: 0.9665\n",
      "Epoch 39/50\n",
      "1000/1000 [==============================] - 6s 6ms/step - loss: 0.0146 - accuracy: 0.9955 - val_loss: 0.1665 - val_accuracy: 0.9555\n",
      "Epoch 40/50\n",
      "1000/1000 [==============================] - 6s 6ms/step - loss: 0.0134 - accuracy: 0.9956 - val_loss: 0.1600 - val_accuracy: 0.9640\n",
      "Epoch 41/50\n",
      "1000/1000 [==============================] - 6s 6ms/step - loss: 0.0152 - accuracy: 0.9942 - val_loss: 0.1523 - val_accuracy: 0.9615\n",
      "Epoch 42/50\n",
      "1000/1000 [==============================] - 6s 6ms/step - loss: 0.0196 - accuracy: 0.9950 - val_loss: 0.1297 - val_accuracy: 0.9685\n",
      "Epoch 43/50\n",
      "1000/1000 [==============================] - 6s 6ms/step - loss: 0.0080 - accuracy: 0.9974 - val_loss: 0.1151 - val_accuracy: 0.9740\n",
      "Epoch 44/50\n",
      "1000/1000 [==============================] - 6s 6ms/step - loss: 0.0143 - accuracy: 0.9959 - val_loss: 0.1201 - val_accuracy: 0.9695\n",
      "Epoch 45/50\n",
      "1000/1000 [==============================] - 6s 6ms/step - loss: 0.0113 - accuracy: 0.9965 - val_loss: 0.1500 - val_accuracy: 0.9680\n",
      "Epoch 46/50\n",
      "1000/1000 [==============================] - 6s 6ms/step - loss: 0.0123 - accuracy: 0.9962 - val_loss: 0.1121 - val_accuracy: 0.9690\n",
      "Epoch 47/50\n",
      "1000/1000 [==============================] - 6s 6ms/step - loss: 0.0108 - accuracy: 0.9971 - val_loss: 0.1512 - val_accuracy: 0.9690\n",
      "Epoch 48/50\n",
      "1000/1000 [==============================] - 6s 6ms/step - loss: 0.0137 - accuracy: 0.9960 - val_loss: 0.1526 - val_accuracy: 0.9690\n",
      "Epoch 49/50\n",
      "1000/1000 [==============================] - 6s 6ms/step - loss: 0.0149 - accuracy: 0.9964 - val_loss: 0.2318 - val_accuracy: 0.9610\n",
      "Epoch 50/50\n",
      "1000/1000 [==============================] - 7s 7ms/step - loss: 0.0173 - accuracy: 0.9958 - val_loss: 0.1393 - val_accuracy: 0.9705\n",
      "63/63 [==============================] - 0s 4ms/step\n"
     ]
    }
   ],
   "execution_count": 92
  },
  {
   "metadata": {
    "ExecuteTime": {
     "end_time": "2024-08-03T16:02:11.710838Z",
     "start_time": "2024-08-03T16:02:11.573594Z"
    }
   },
   "cell_type": "code",
   "source": [
    "# Save X and y to npy file\n",
    "np.save(f'./model/{sensor_name}/{model_index}/{model_name}-x.npy', X)\n",
    "np.save(f'./model/{sensor_name}/{model_index}/{model_name}-y.npy', y)"
   ],
   "id": "7eeb6c54edf6f7c1",
   "outputs": [],
   "execution_count": 93
  }
 ],
 "metadata": {
  "kernelspec": {
   "display_name": "Python 3",
   "language": "python",
   "name": "python3"
  },
  "language_info": {
   "codemirror_mode": {
    "name": "ipython",
    "version": 2
   },
   "file_extension": ".py",
   "mimetype": "text/x-python",
   "name": "python",
   "nbconvert_exporter": "python",
   "pygments_lexer": "ipython2",
   "version": "2.7.6"
  }
 },
 "nbformat": 4,
 "nbformat_minor": 5
}

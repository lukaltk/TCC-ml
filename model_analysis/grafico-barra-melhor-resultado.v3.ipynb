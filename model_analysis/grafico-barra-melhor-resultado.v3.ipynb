{
 "cells": [
  {
   "metadata": {},
   "cell_type": "markdown",
   "source": "# Imports",
   "id": "c46e6a26e9931fb"
  },
  {
   "cell_type": "code",
   "id": "initial_id",
   "metadata": {
    "collapsed": true,
    "ExecuteTime": {
     "end_time": "2025-02-06T22:09:26.935572Z",
     "start_time": "2025-02-06T22:09:26.921196Z"
    }
   },
   "source": [
    "import matplotlib.pyplot as plt\n",
    "import numpy as np\n",
    "import os\n",
    "import pandas as pd\n",
    "import seaborn as sns"
   ],
   "outputs": [],
   "execution_count": 1
  },
  {
   "metadata": {},
   "cell_type": "markdown",
   "source": "# Model load",
   "id": "30966f234ac788a7"
  },
  {
   "metadata": {
    "ExecuteTime": {
     "end_time": "2025-02-06T22:10:28.481505Z",
     "start_time": "2025-02-06T22:10:28.474482Z"
    }
   },
   "cell_type": "code",
   "source": [
    "path_qing_cheng = '../model/qing_cheng'\n",
    "path_vallen = '../model/vallen'\n",
    "\n",
    "qing_cheng_model_name = 'Qing-Cheng'\n",
    "vallen_model_name = 'Vallen'"
   ],
   "id": "4774f5985b3c90aa",
   "outputs": [],
   "execution_count": 2
  },
  {
   "metadata": {
    "ExecuteTime": {
     "end_time": "2025-02-06T22:10:41.035901Z",
     "start_time": "2025-02-06T22:10:41.021315Z"
    }
   },
   "cell_type": "code",
   "source": [
    "def get_file_paths(path: str):\n",
    "    file_paths = []\n",
    "\n",
    "    for dir_path, _, file_names in os.walk(path):\n",
    "        file_path = {}\n",
    "        \n",
    "        for file_name in file_names:\n",
    "            \n",
    "            if file_name.endswith('all_results.csv'):\n",
    "                file_path['all_results'] = os.path.join(dir_path, file_name)\n",
    "                \n",
    "        if len(file_path) > 0:\n",
    "            file_paths.append(file_path)\n",
    "\n",
    "    return file_paths"
   ],
   "id": "d5d2aee913517f4c",
   "outputs": [],
   "execution_count": 3
  },
  {
   "metadata": {
    "ExecuteTime": {
     "end_time": "2025-02-06T22:10:49.110050Z",
     "start_time": "2025-02-06T22:10:49.097518Z"
    }
   },
   "cell_type": "code",
   "source": [
    "paths_qing_cheng = get_file_paths(path_qing_cheng)\n",
    "paths_vallen = get_file_paths(path_vallen)"
   ],
   "id": "f65c08e4f9ba3531",
   "outputs": [],
   "execution_count": 4
  },
  {
   "metadata": {
    "ExecuteTime": {
     "end_time": "2025-02-06T22:11:07.265778Z",
     "start_time": "2025-02-06T22:11:07.249872Z"
    }
   },
   "cell_type": "code",
   "source": [
    "def load_model_result(path_dict: dict):    \n",
    "    all_results = pd.read_csv(path_dict['all_results'])\n",
    "    \n",
    "    return {\n",
    "        'all_results': all_results,\n",
    "    }"
   ],
   "id": "bccb271c4eed50",
   "outputs": [],
   "execution_count": 5
  },
  {
   "metadata": {
    "ExecuteTime": {
     "end_time": "2025-02-06T22:11:14.943845Z",
     "start_time": "2025-02-06T22:11:14.716352Z"
    }
   },
   "cell_type": "code",
   "source": [
    "qing_cheng_models = [load_model_result(path) for path in paths_qing_cheng]\n",
    "vallen_models = [load_model_result(path) for path in paths_vallen]"
   ],
   "id": "470e4e14251fbf68",
   "outputs": [],
   "execution_count": 6
  },
  {
   "metadata": {},
   "cell_type": "markdown",
   "source": "# Analysis",
   "id": "f3d1508ea4878f40"
  },
  {
   "metadata": {
    "ExecuteTime": {
     "end_time": "2025-02-06T22:12:01.171036Z",
     "start_time": "2025-02-06T22:12:01.161075Z"
    }
   },
   "cell_type": "code",
   "source": [
    "def process_scores (scores: list):\n",
    "    transposed_scores = list(zip(*scores))\n",
    "    \n",
    "    return [np.mean(score) for score in transposed_scores]"
   ],
   "id": "f6b727b847f3f4ec",
   "outputs": [],
   "execution_count": 7
  },
  {
   "metadata": {
    "ExecuteTime": {
     "end_time": "2025-02-06T22:12:06.550075Z",
     "start_time": "2025-02-06T22:12:06.534160Z"
    }
   },
   "cell_type": "code",
   "source": [
    "def process_fold_results (df: pd.DataFrame, model_name):\n",
    "    new_df = df.copy()\n",
    "    \n",
    "    fold_results_df = new_df['Fold Results (accuracy, precision, recall, f1)'].apply(lambda row: eval(row))\n",
    "    \n",
    "    new_df.drop('Fold Results (accuracy, precision, recall, f1)',  axis=1, inplace=True)\n",
    "    \n",
    "    results_means_df = fold_results_df.apply(process_scores)\n",
    "    \n",
    "    new_df['accuracy'] = results_means_df.apply(lambda row: row[0])\n",
    "    new_df['precision'] = results_means_df.apply(lambda row: row[1])\n",
    "    new_df['recall'] = results_means_df.apply(lambda row: row[2])\n",
    "    new_df['f1'] = results_means_df.apply(lambda row: row[3])\n",
    "                                          \n",
    "    new_df['model'] = new_df.apply(lambda row: f\"{model_name}({ row['num_units'] },{ row['batch_size'] },{ row['epochs'] },{ row['drop_out'] })\", axis=1)\n",
    "    \n",
    "    return new_df"
   ],
   "id": "342116b9faaa8fe3",
   "outputs": [],
   "execution_count": 8
  },
  {
   "metadata": {
    "ExecuteTime": {
     "end_time": "2025-02-06T22:12:12.972125Z",
     "start_time": "2025-02-06T22:12:12.961597Z"
    }
   },
   "cell_type": "code",
   "source": [
    "def process_model_results(model_dict: dict, model_name: str):    \n",
    "    column_dict = {'Num Units': 'num_units', 'Batch Size': 'batch_size', 'Epochs': 'epochs', 'Dense Activation': 'dense_activation', 'drop': 'drop_out'}\n",
    "    \n",
    "    model_dict['all_results'] = model_dict['all_results'].rename(column_dict, axis=1)\n",
    "    \n",
    "    model_dict['all_results'] = process_fold_results(model_dict['all_results'], model_name)\n",
    "    \n",
    "    return"
   ],
   "id": "15b05b94c2865c8",
   "outputs": [],
   "execution_count": 9
  },
  {
   "metadata": {
    "ExecuteTime": {
     "end_time": "2025-02-06T22:12:18.639436Z",
     "start_time": "2025-02-06T22:12:18.423074Z"
    }
   },
   "cell_type": "code",
   "source": [
    "for model in qing_cheng_models:\n",
    "    process_model_results(model, qing_cheng_model_name)\n",
    "    \n",
    "for model in vallen_models:\n",
    "    process_model_results(model, vallen_model_name)"
   ],
   "id": "d776ae8186861337",
   "outputs": [],
   "execution_count": 10
  },
  {
   "metadata": {},
   "cell_type": "markdown",
   "source": "# Plot",
   "id": "ac51ea8376cfd3fc"
  },
  {
   "metadata": {
    "ExecuteTime": {
     "end_time": "2025-02-06T22:15:23.996670Z",
     "start_time": "2025-02-06T22:15:23.964892Z"
    }
   },
   "cell_type": "code",
   "source": [
    "best_models_set = set()\n",
    "\n",
    "acc_plot = pd.concat([\n",
    "    qing_cheng_models[7]['all_results'].sort_values('accuracy', ascending=False).head(1), \n",
    "    vallen_models[7]['all_results'].sort_values('accuracy', ascending=False).head(1),\n",
    "])\n",
    "\n",
    "acc_plot['metric'] = 'accuracy'\n",
    "\n",
    "best_models_set.update(acc_plot['model'].values)\n",
    "\n",
    "\n",
    "precision_plot = pd.concat([\n",
    "    qing_cheng_models[7]['all_results'].sort_values('precision', ascending=False).head(1), \n",
    "    vallen_models[7]['all_results'].sort_values('precision', ascending=False).head(1),\n",
    "])\n",
    "\n",
    "precision_plot['metric'] = 'precision'\n",
    "\n",
    "best_models_set.update(precision_plot['model'].values)\n",
    "\n",
    "\n",
    "recall_plot = pd.concat([\n",
    "    qing_cheng_models[7]['all_results'].sort_values('recall', ascending=False).head(1), \n",
    "    vallen_models[7]['all_results'].sort_values('recall', ascending=False).head(1),\n",
    "])\n",
    "\n",
    "recall_plot['metric'] = 'recall'\n",
    "\n",
    "best_models_set.update(recall_plot['model'].values)\n",
    "\n",
    "\n",
    "f1_plot = pd.concat([\n",
    "    qing_cheng_models[7]['all_results'].sort_values('f1', ascending=False).head(1), \n",
    "    vallen_models[7]['all_results'].sort_values('f1', ascending=False).head(1),\n",
    "])\n",
    "\n",
    "f1_plot['metric'] = 'f1'\n",
    "\n",
    "best_models_set.update(f1_plot['model'].values)"
   ],
   "id": "7cc9c491de0f94ac",
   "outputs": [],
   "execution_count": 15
  },
  {
   "metadata": {
    "ExecuteTime": {
     "end_time": "2025-02-06T22:15:30.497924Z",
     "start_time": "2025-02-06T22:15:30.483409Z"
    }
   },
   "cell_type": "code",
   "source": [
    "best_models = sorted(best_models_set, reverse=True)\n",
    "color_palettes = sns.color_palette('pastel', len(best_models_set)).as_hex()"
   ],
   "id": "d9b36bf3228f0359",
   "outputs": [],
   "execution_count": 16
  },
  {
   "metadata": {
    "ExecuteTime": {
     "end_time": "2025-02-06T22:15:37.325680Z",
     "start_time": "2025-02-06T22:15:37.305104Z"
    }
   },
   "cell_type": "code",
   "source": [
    "color_dict = dict(zip(best_models, color_palettes))\n",
    "color_dict"
   ],
   "id": "abbec0c144d5d2ce",
   "outputs": [
    {
     "data": {
      "text/plain": [
       "{'Vallen(512,8,100,0.2)': '#a1c9f4',\n",
       " 'Vallen(512,32,60,0.2)': '#ffb482',\n",
       " 'Qing-Cheng(64,64,35,0.2)': '#8de5a1',\n",
       " 'Qing-Cheng(32,32,35,0.2)': '#ff9f9b',\n",
       " 'Qing-Cheng(128,32,100,0.5)': '#d0bbff'}"
      ]
     },
     "execution_count": 17,
     "metadata": {},
     "output_type": "execute_result"
    }
   ],
   "execution_count": 17
  },
  {
   "metadata": {
    "ExecuteTime": {
     "end_time": "2025-02-06T22:15:41.449099Z",
     "start_time": "2025-02-06T22:15:41.429931Z"
    }
   },
   "cell_type": "code",
   "source": [
    "model_dict = dict(zip(color_palettes, best_models))\n",
    "model_dict"
   ],
   "id": "3b1ac9fa9189ea16",
   "outputs": [
    {
     "data": {
      "text/plain": [
       "{'#a1c9f4': 'Vallen(512,8,100,0.2)',\n",
       " '#ffb482': 'Vallen(512,32,60,0.2)',\n",
       " '#8de5a1': 'Qing-Cheng(64,64,35,0.2)',\n",
       " '#ff9f9b': 'Qing-Cheng(32,32,35,0.2)',\n",
       " '#d0bbff': 'Qing-Cheng(128,32,100,0.5)'}"
      ]
     },
     "execution_count": 18,
     "metadata": {},
     "output_type": "execute_result"
    }
   ],
   "execution_count": 18
  },
  {
   "metadata": {
    "ExecuteTime": {
     "end_time": "2025-02-06T22:15:46.144578Z",
     "start_time": "2025-02-06T22:15:45.460968Z"
    }
   },
   "cell_type": "code",
   "source": [
    "fig, axes = plt.subplots(1, 4, figsize=(20, 6), sharey=True, gridspec_kw={'wspace': 0.05})\n",
    "\n",
    "new_handles = []\n",
    "new_labels = []\n",
    "\n",
    "labels_set = set()\n",
    "\n",
    "for i, best_model in enumerate([acc_plot, precision_plot, recall_plot, f1_plot]):\n",
    "    ax = axes[i]\n",
    "    \n",
    "    metric = best_model['metric'].iloc[0]\n",
    "    \n",
    "    model_a = best_model['model'].iloc[0]\n",
    "    model_b = best_model['model'].iloc[1]\n",
    "    \n",
    "    palette = [color_dict[model_a], color_dict[model_b]]\n",
    "    \n",
    "    sns.barplot(x='model', y=metric, hue=palette, data=best_model, palette=palette, ax=ax)\n",
    "\n",
    "    ax.set_xlabel(metric.capitalize(), fontsize=12, labelpad=15, weight='bold')\n",
    "    ax.set_ylabel('Value')\n",
    "\n",
    "    # ax.legend(title='Model', bbox_to_anchor=(1, 1))\n",
    "    ax.grid(axis='y', linestyle='--', alpha=0.7)\n",
    "    \n",
    "    handles, labels = ax.get_legend_handles_labels()\n",
    "    \n",
    "    for handle, label in zip(handles, labels):\n",
    "        if label not in labels_set:\n",
    "            new_handles.append(handle)\n",
    "            new_labels.append(model_dict[label])\n",
    "            \n",
    "            labels_set.add(label)\n",
    "            \n",
    "    ax.legend([], [], frameon=False)\n",
    "\n",
    "axes[3].legend(new_handles, new_labels, loc='lower right', bbox_to_anchor=(1,1),framealpha=1, edgecolor='black')\n",
    "\n",
    "plt.yticks(np.arange(0, 1.1, 0.1))\n",
    "# plt.suptitle('Comparação de Métricas entre Modelos', fontsize=14)\n",
    "plt.show()"
   ],
   "id": "cb6466ea59d13df0",
   "outputs": [
    {
     "data": {
      "text/plain": [
       "<Figure size 2000x600 with 4 Axes>"
      ],
      "image/png": "[encoded data removed]"
     },
     "metadata": {},
     "output_type": "display_data"
    }
   ],
   "execution_count": 19
  },
  {
   "metadata": {},
   "cell_type": "code",
   "outputs": [],
   "execution_count": null,
   "source": "",
   "id": "a963a37f5b5f42be"
  }
 ],
 "metadata": {
  "kernelspec": {
   "display_name": "Python 3",
   "language": "python",
   "name": "python3"
  },
  "language_info": {
   "codemirror_mode": {
    "name": "ipython",
    "version": 2
   },
   "file_extension": ".py",
   "mimetype": "text/x-python",
   "name": "python",
   "nbconvert_exporter": "python",
   "pygments_lexer": "ipython2",
   "version": "2.7.6"
  }
 },
 "nbformat": 4,
 "nbformat_minor": 5
}

{
 "cells": [
  {
   "metadata": {},
   "cell_type": "markdown",
   "source": "# Imports",
   "id": "48f1c352713064f6"
  },
  {
   "metadata": {
    "ExecuteTime": {
     "end_time": "2024-10-20T17:36:51.143490Z",
     "start_time": "2024-10-20T17:36:47.625119Z"
    }
   },
   "cell_type": "code",
   "source": [
    "from keras.models import load_model\n",
    "import matplotlib.pyplot as plt\n",
    "import numpy as np\n",
    "import pandas as pd\n",
    "import seaborn as sns\n",
    "from sklearn.metrics import confusion_matrix"
   ],
   "id": "e82de2baef4dbf1a",
   "execution_count": 1,
   "outputs": []
  },
  {
   "metadata": {},
   "cell_type": "markdown",
   "source": "# Model load",
   "id": "b19576c07df1016d"
  },
  {
   "metadata": {
    "ExecuteTime": {
     "end_time": "2024-10-20T17:36:51.158844Z",
     "start_time": "2024-10-20T17:36:51.144677Z"
    }
   },
   "cell_type": "code",
   "source": [
    "sensor_name = 'qing_cheng'\n",
    "# sensor_name = 'vallen'\n",
    "\n",
    "model_index = 8"
   ],
   "id": "13baa43c0cf5224a",
   "execution_count": 2,
   "outputs": []
  },
  {
   "metadata": {
    "ExecuteTime": {
     "end_time": "2024-10-20T17:36:51.174566Z",
     "start_time": "2024-10-20T17:36:51.161847Z"
    }
   },
   "cell_type": "code",
   "source": [
    "model_name_df = pd.read_csv('./Model_Index.csv')\n",
    "model_name_df.index = model_name_df.index + 1\n",
    "\n",
    "model_name = model_name_df['nome_do_arquivo'].loc[model_index] if (model_index > 0)  else 'TEST'\n",
    "\n",
    "print(f'Model file name: {model_name}')\n",
    "print(f'Model index: {model_index}')"
   ],
   "id": "e95b883c0ca633d3",
   "execution_count": 3,
   "outputs": []
  },
  {
   "cell_type": "code",
   "id": "initial_id",
   "metadata": {
    "collapsed": true,
    "ExecuteTime": {
     "end_time": "2024-10-20T17:36:52.524187Z",
     "start_time": "2024-10-20T17:36:51.176073Z"
    }
   },
   "source": "model = load_model(f'./model/{sensor_name}/{model_index}/{model_name}-best_model.h5')",
   "execution_count": 4,
   "outputs": []
  },
  {
   "metadata": {
    "ExecuteTime": {
     "end_time": "2024-10-20T17:36:52.554889Z",
     "start_time": "2024-10-20T17:36:52.526183Z"
    }
   },
   "cell_type": "code",
   "source": [
    "X = np.load(f'./model/{sensor_name}/{model_index}/{model_name}-x.npy')\n",
    "y = np.load(f'./model/{sensor_name}/{model_index}/{model_name}-y.npy')"
   ],
   "id": "67c73d4ebcbb8a7d",
   "execution_count": 5,
   "outputs": []
  },
  {
   "metadata": {
    "ExecuteTime": {
     "end_time": "2024-10-20T17:36:56.105510Z",
     "start_time": "2024-10-20T17:36:52.558581Z"
    }
   },
   "cell_type": "code",
   "source": "y_pred = model.predict(X)",
   "id": "f293b8e6c6782603",
   "execution_count": 6,
   "outputs": []
  },
  {
   "metadata": {
    "ExecuteTime": {
     "end_time": "2024-10-20T17:36:56.121198Z",
     "start_time": "2024-10-20T17:36:56.108528Z"
    }
   },
   "cell_type": "code",
   "source": "y_pred_classes = np.argmax(y_pred, axis=1)",
   "id": "26458bccbc0e4915",
   "execution_count": 7,
   "outputs": []
  },
  {
   "metadata": {
    "ExecuteTime": {
     "end_time": "2024-10-20T17:36:56.136538Z",
     "start_time": "2024-10-20T17:36:56.123201Z"
    }
   },
   "cell_type": "code",
   "source": [
    "# class_labels = ['No Leakage', 'Leakage']\n",
    "class_labels = ['No Leakage', 'Leakage in position 2', 'Leakage in position 3', 'Leakage in position 4']\n",
    "\n",
    "if 1 <= model_index <= 4:\n",
    "    class_labels = ['No Leakage', 'Leakage']\n",
    "elif 4 < model_index <= 8:\n",
    "    class_labels = ['No Leakage', 'Leakage in position 2', 'Leakage in position 3', 'Leakage in position 4']"
   ],
   "id": "b2cdce5e9cfd7145",
   "execution_count": 8,
   "outputs": []
  },
  {
   "metadata": {},
   "cell_type": "markdown",
   "source": "# Confusion matrix",
   "id": "68284ac7a0cd5d49"
  },
  {
   "metadata": {
    "ExecuteTime": {
     "end_time": "2024-10-20T17:36:56.152431Z",
     "start_time": "2024-10-20T17:36:56.138793Z"
    }
   },
   "cell_type": "code",
   "source": "conf_matrix = confusion_matrix(y, y_pred_classes)",
   "id": "f60d55c7cda88a3b",
   "execution_count": 9,
   "outputs": []
  },
  {
   "metadata": {
    "ExecuteTime": {
     "end_time": "2024-10-20T17:36:56.402742Z",
     "start_time": "2024-10-20T17:36:56.154666Z"
    }
   },
   "cell_type": "code",
   "source": [
    "conf_matrix_df = pd.DataFrame(conf_matrix, index=class_labels, columns=class_labels)\n",
    "plt.figure(figsize=(8, 6))\n",
    "heatmap = sns.heatmap(conf_matrix_df, annot=True, cmap='Blues', fmt='.1f', cbar=False, square=True, linewidths=0.5)\n",
    "\n",
    "# Rotate x-axis labels by 45 degrees\n",
    "heatmap.set_xticklabels(heatmap.get_xticklabels(), rotation=45, ha='right')\n",
    "\n",
    "plt.title('Confusion matrix per sensor position (%)')\n",
    "plt.suptitle(sensor_name.upper())\n",
    "plt.show()"
   ],
   "id": "b6841d26d5b3ca10",
   "execution_count": 10,
   "outputs": []
  },
  {
   "metadata": {},
   "cell_type": "markdown",
   "source": "# Confusion matrix (%)",
   "id": "2e910daf88b9146d"
  },
  {
   "metadata": {
    "ExecuteTime": {
     "end_time": "2024-10-20T17:36:56.417709Z",
     "start_time": "2024-10-20T17:36:56.406647Z"
    }
   },
   "cell_type": "code",
   "source": "conf_matrix_percent = conf_matrix / conf_matrix.sum(axis=1)[:, np.newaxis] * 100",
   "id": "d3067e1f230627f3",
   "execution_count": 11,
   "outputs": []
  },
  {
   "metadata": {
    "ExecuteTime": {
     "end_time": "2024-10-20T17:36:56.634876Z",
     "start_time": "2024-10-20T17:36:56.419720Z"
    }
   },
   "cell_type": "code",
   "source": [
    "conf_matrix_df = pd.DataFrame(conf_matrix_percent, index=class_labels, columns=class_labels)\n",
    "plt.figure(figsize=(8, 6))\n",
    "heatmap = sns.heatmap(conf_matrix_df, annot=True, cmap='Blues', fmt='.1f', cbar=False, square=True, linewidths=0.5)\n",
    "\n",
    "# Rotate x-axis labels by 45 degrees\n",
    "heatmap.set_xticklabels(heatmap.get_xticklabels(), rotation=45, ha='right')\n",
    "\n",
    "plt.title('Confusion matrix per sensor position (%)')\n",
    "plt.suptitle(sensor_name.upper())\n",
    "plt.show()"
   ],
   "id": "69d526c753d3cd76",
   "execution_count": 12,
   "outputs": []
  },
  {
   "metadata": {},
   "cell_type": "markdown",
   "source": "# Precision per position",
   "id": "a66173a21f800620"
  },
  {
   "metadata": {
    "ExecuteTime": {
     "end_time": "2024-10-20T17:36:56.649923Z",
     "start_time": "2024-10-20T17:36:56.636385Z"
    }
   },
   "cell_type": "code",
   "source": [
    "acc_position_x = [25, 60, 95]\n",
    "acc_position_y = np.diag(conf_matrix_percent)[1:]"
   ],
   "id": "ee9f5459185be15d",
   "execution_count": 13,
   "outputs": []
  },
  {
   "metadata": {
    "ExecuteTime": {
     "end_time": "2024-10-20T17:36:56.665370Z",
     "start_time": "2024-10-20T17:36:56.651922Z"
    }
   },
   "cell_type": "code",
   "source": "acc_position_y",
   "id": "248e79100e78af9f",
   "execution_count": 14,
   "outputs": []
  },
  {
   "metadata": {
    "ExecuteTime": {
     "end_time": "2024-10-20T17:36:56.896667Z",
     "start_time": "2024-10-20T17:36:56.667457Z"
    }
   },
   "cell_type": "code",
   "source": [
    "# Criando um gráfico de linha conectando os 3 pontos\n",
    "plt.plot(acc_position_x, acc_position_y, marker='o')  # 'marker=o' para adicionar marcadores nos pontos\n",
    "\n",
    "# Adicionar títulos e rótulos dos eixos\n",
    "plt.title('Gráfico com 3 Pontos')\n",
    "plt.xlabel('Eixo X')\n",
    "plt.ylabel('Eixo Y')\n",
    "\n",
    "# Exibir o gráfico\n",
    "plt.show()"
   ],
   "id": "96634d4107d69283",
   "execution_count": 15,
   "outputs": []
  },
  {
   "metadata": {
    "ExecuteTime": {
     "end_time": "2024-10-20T17:36:57.143634Z",
     "start_time": "2024-10-20T17:36:56.899045Z"
    }
   },
   "cell_type": "code",
   "source": [
    "sns.regplot(x=acc_position_x, y=acc_position_y, ci=None)\n",
    "plt.title('Gráfico com Regressão Linear')\n",
    "plt.xlabel('Eixo X')\n",
    "plt.ylabel('Eixo Y')\n",
    "\n",
    "# Exibir o gráfico\n",
    "plt.show()"
   ],
   "id": "143396519d3766fa",
   "execution_count": 16,
   "outputs": []
  },
  {
   "metadata": {
    "ExecuteTime": {
     "end_time": "2024-10-20T17:40:26.469797Z",
     "start_time": "2024-10-20T17:40:26.155576Z"
    }
   },
   "cell_type": "code",
   "source": [
    "sns.regplot(x=acc_position_x, y=acc_position_y, ci=None, lowess=True)\n",
    "plt.title('Gráfico com Regressão Linear')\n",
    "plt.xlabel('Eixo X')\n",
    "plt.ylabel('Eixo Y')\n",
    "\n",
    "# Exibir o gráfico\n",
    "plt.show()"
   ],
   "id": "ed124aea0441c840",
   "execution_count": 26,
   "outputs": []
  },
  {
   "metadata": {
    "ExecuteTime": {
     "end_time": "2024-10-20T18:11:37.427700Z",
     "start_time": "2024-10-20T18:11:37.111986Z"
    }
   },
   "cell_type": "code",
   "source": [
    "# Ajustando uma curva polinomial de grau 2 (parábola)\n",
    "coeficientes = np.polyfit(acc_position_x, acc_position_y, 2)  # 2 indica o grau do polinômio\n",
    "polinomio = np.poly1d(coeficientes)\n",
    "\n",
    "# Gerar valores de y para os valores de x da curva ajustada\n",
    "y_ajustado = polinomio(acc_position_x)\n",
    "\n",
    "# Plotando os pontos e a curva ajustada\n",
    "plt.scatter(acc_position_x, acc_position_y, color='r', label='Pontos Originais')\n",
    "\n",
    "sns.regplot(x=acc_position_x, y=acc_position_y, color='#148f77', ci=None, scatter=False)\n",
    "\n",
    "plt.plot(acc_position_x, y_ajustado, color='#3498db', label='Curva Ajustada (Grau 2)', alpha=0.5)\n",
    "\n",
    "# Adicionar títulos e rótulos dos eixos\n",
    "plt.title('Gráfico com Regressão Polinomial (Grau 2)')\n",
    "plt.xlabel('Eixo X')\n",
    "plt.ylabel('Eixo Y')\n",
    "plt.legend()\n",
    "\n",
    "# Exibir o gráfico\n",
    "plt.show()"
   ],
   "id": "a2817c616be23739",
   "execution_count": 60,
   "outputs": []
  },
  {
   "metadata": {
    "ExecuteTime": {
     "end_time": "2024-10-20T18:12:39.994742Z",
     "start_time": "2024-10-20T18:12:39.739225Z"
    }
   },
   "cell_type": "code",
   "source": [
    "# Ajustando uma curva polinomial de grau 2 (parábola)\n",
    "coeficientes = np.polyfit(acc_position_x, acc_position_y, 1)  # 2 indica o grau do polinômio\n",
    "polinomio = np.poly1d(coeficientes)\n",
    "\n",
    "# Gerar valores de y para os valores de x da curva ajustada\n",
    "y_ajustado = polinomio(acc_position_x)\n",
    "\n",
    "# Criando um gráfico de linha conectando os 3 pontos\n",
    "plt.plot(acc_position_x, acc_position_y, marker='o')  # 'marker=o' para adicionar marcadores nos pontos\n",
    "plt.plot(acc_position_x, y_ajustado, color='#3498db', label='Curva Ajustada (Grau 2)', alpha=0.5)\n",
    "\n",
    "# Adicionar títulos e rótulos dos eixos\n",
    "plt.title('Gráfico com 3 Pontos')\n",
    "plt.xlabel('Eixo X')\n",
    "plt.ylabel('Eixo Y')\n",
    "\n",
    "# Exibir o gráfico\n",
    "plt.show()"
   ],
   "id": "a6f1e6e86f43f020",
   "execution_count": 61,
   "outputs": []
  },
  {
   "metadata": {},
   "cell_type": "code",
   "execution_count": null,
   "source": "",
   "id": "9cbcf6487b86f48e",
   "outputs": []
  }
 ],
 "metadata": {
  "kernelspec": {
   "display_name": "Python 3",
   "language": "python",
   "name": "python3"
  },
  "language_info": {
   "codemirror_mode": {
    "name": "ipython",
    "version": 2
   },
   "file_extension": ".py",
   "mimetype": "text/x-python",
   "name": "python",
   "nbconvert_exporter": "python",
   "pygments_lexer": "ipython2",
   "version": "2.7.6"
  }
 },
 "nbformat": 4,
 "nbformat_minor": 5
}

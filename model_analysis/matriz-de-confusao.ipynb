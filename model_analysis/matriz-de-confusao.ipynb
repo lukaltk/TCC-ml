{
 "cells": [
  {
   "metadata": {},
   "cell_type": "markdown",
   "source": "# Imports",
   "id": "e57b667949785ece"
  },
  {
   "cell_type": "code",
   "id": "initial_id",
   "metadata": {
    "collapsed": true,
    "ExecuteTime": {
     "end_time": "2024-11-02T18:00:22.076464Z",
     "start_time": "2024-11-02T18:00:22.057380Z"
    }
   },
   "source": [
    "from keras.models import load_model\n",
    "import matplotlib.pyplot as plt\n",
    "import numpy as np\n",
    "import os\n",
    "import pandas as pd\n",
    "import seaborn as sns\n",
    "from sklearn.metrics import confusion_matrix"
   ],
   "execution_count": 36,
   "outputs": []
  },
  {
   "metadata": {},
   "cell_type": "markdown",
   "source": "# Model load",
   "id": "fbe5efcb20626d6"
  },
  {
   "metadata": {
    "ExecuteTime": {
     "end_time": "2024-11-02T18:00:22.092192Z",
     "start_time": "2024-11-02T18:00:22.078907Z"
    }
   },
   "cell_type": "code",
   "source": [
    "path_qing_cheng = '../model/qing_cheng'\n",
    "path_vallen = '../model/vallen'\n",
    "\n",
    "qing_cheng_model_name = 'Qing-Cheng'\n",
    "vallen_model_name = 'Vallen'"
   ],
   "id": "ef475dcdc5b66f25",
   "execution_count": 37,
   "outputs": []
  },
  {
   "metadata": {
    "ExecuteTime": {
     "end_time": "2024-11-02T18:00:22.108092Z",
     "start_time": "2024-11-02T18:00:22.094200Z"
    }
   },
   "cell_type": "code",
   "source": [
    "def get_file_paths(path: str):\n",
    "    file_paths = []\n",
    "\n",
    "    for dir_path, _, file_names in os.walk(path):\n",
    "        file_path = {}\n",
    "        \n",
    "        for file_name in file_names:\n",
    "            \n",
    "            if file_name.endswith('.h5'):\n",
    "                file_path['model'] = os.path.join(dir_path, file_name)\n",
    "                \n",
    "            elif file_name.endswith('x.npy'):\n",
    "                file_path['x'] = os.path.join(dir_path, file_name)\n",
    "                \n",
    "            elif file_name.endswith('y.npy'):\n",
    "                file_path['y'] = os.path.join(dir_path, file_name)\n",
    "                \n",
    "        if len(file_path) > 0:\n",
    "            file_paths.append(file_path)\n",
    "\n",
    "    return file_paths"
   ],
   "id": "33e8aa4bff683232",
   "execution_count": 38,
   "outputs": []
  },
  {
   "metadata": {
    "ExecuteTime": {
     "end_time": "2024-11-02T18:00:22.123035Z",
     "start_time": "2024-11-02T18:00:22.110103Z"
    }
   },
   "cell_type": "code",
   "source": [
    "paths_qing_cheng = get_file_paths(path_qing_cheng)\n",
    "paths_vallen = get_file_paths(path_vallen)"
   ],
   "id": "6a46addf8a943a2e",
   "execution_count": 39,
   "outputs": []
  },
  {
   "metadata": {
    "ExecuteTime": {
     "end_time": "2024-11-02T18:01:04.750484Z",
     "start_time": "2024-11-02T18:01:04.734346Z"
    }
   },
   "cell_type": "code",
   "source": [
    "def load_model_result(path_dict: dict):\n",
    "    model = load_model(path_dict['model'])\n",
    "    x = np.load(path_dict['x'])\n",
    "    y = np.load(path_dict['y'])\n",
    "    \n",
    "    y_predicted = model.predict(x)\n",
    "    y_predicted_classes = np.argmax(y_predicted, axis=1)\n",
    "    \n",
    "    return {\n",
    "        'model': model, \n",
    "        'x': x, \n",
    "        'y': y, \n",
    "        'y_predicted': y_predicted, \n",
    "        'y_predicted_classes': y_predicted_classes,\n",
    "    }"
   ],
   "id": "445a3c9aa24601bb",
   "execution_count": 42,
   "outputs": []
  },
  {
   "metadata": {
    "ExecuteTime": {
     "end_time": "2024-11-02T18:01:35.355904Z",
     "start_time": "2024-11-02T18:01:04.956433Z"
    }
   },
   "cell_type": "code",
   "source": [
    "qing_cheng_models = [load_model_result(path) for path in paths_qing_cheng]\n",
    "vallen_models = [load_model_result(path) for path in paths_vallen]"
   ],
   "id": "a37ff1ea96617c74",
   "execution_count": 43,
   "outputs": []
  },
  {
   "metadata": {},
   "cell_type": "markdown",
   "source": "# Plot",
   "id": "f1ba0e03acd566e"
  },
  {
   "metadata": {
    "ExecuteTime": {
     "end_time": "2024-11-02T18:01:35.371696Z",
     "start_time": "2024-11-02T18:01:35.359880Z"
    }
   },
   "cell_type": "code",
   "source": [
    "position_class_label = ['No Leakage', 'Leakage in position 2', 'Leakage in position 3', 'Leakage in position 4']\n",
    "boolean_class_label = ['No Leakage', 'Leakage']"
   ],
   "id": "83b795c3881d39ae",
   "execution_count": 44,
   "outputs": []
  },
  {
   "metadata": {
    "ExecuteTime": {
     "end_time": "2024-11-02T18:01:35.417658Z",
     "start_time": "2024-11-02T18:01:35.405770Z"
    }
   },
   "cell_type": "code",
   "source": [
    "def plot_confusion_matrix(model_a:dict, model_a_name: str, model_b:dict, model_b_name:str, class_labels: list[str], title:str):\n",
    "    matrix_a = confusion_matrix(model_a['y'], model_a['y_predicted_classes'])\n",
    "    matrix_b = confusion_matrix(model_b['y'], model_b['y_predicted_classes'])\n",
    "    \n",
    "    matrix_a_percent = matrix_a / matrix_a.sum(axis=1)[:, np.newaxis] * 100\n",
    "    matrix_b_percent = matrix_b / matrix_b.sum(axis=1)[:, np.newaxis] * 100\n",
    "    \n",
    "    matrix_a_df = pd.DataFrame(matrix_a_percent, columns=class_labels, index=class_labels)\n",
    "    matrix_b_df = pd.DataFrame(matrix_b_percent, columns=class_labels, index=class_labels)\n",
    "    \n",
    "    fig, (ax1, ax2) = plt.subplots(1, 2, figsize=(14, 6))\n",
    "    \n",
    "    heatmap_a = sns.heatmap(matrix_a_df, annot=True, cmap='Blues', fmt='.1f', cbar=False, square=True, linewidths=0.5, ax=ax1)\n",
    "    heatmap_b = sns.heatmap(matrix_b_df, annot=True, cmap='Blues', fmt='.1f', cbar=False, square=True, linewidths=0.5, ax=ax2)\n",
    "    \n",
    "    # Rotate x-axis labels by 45 degrees\n",
    "    heatmap_a.set_xticklabels(heatmap_a.get_xticklabels(), rotation=45, ha='right')\n",
    "    heatmap_b.set_xticklabels(heatmap_b.get_xticklabels(), rotation=45, ha='right')\n",
    "    \n",
    "    ax1.set_title(f'{model_a_name}')\n",
    "    ax2.set_title(f'{model_b_name}')\n",
    "    \n",
    "    plt.suptitle(title, y=1.05)\n",
    "    \n",
    "    plt.tight_layout()\n",
    "    plt.show()"
   ],
   "id": "5c5bb856c492f761",
   "execution_count": 46,
   "outputs": []
  },
  {
   "metadata": {
    "ExecuteTime": {
     "end_time": "2024-11-02T18:01:37.922944Z",
     "start_time": "2024-11-02T18:01:35.419947Z"
    }
   },
   "cell_type": "code",
   "source": [
    "for index in range(len(qing_cheng_models)):\n",
    "    if index < 4:\n",
    "        plot_confusion_matrix(\n",
    "            qing_cheng_models[index], \n",
    "            qing_cheng_model_name, \n",
    "            vallen_models[index], \n",
    "            vallen_model_name, \n",
    "            boolean_class_label, \n",
    "            'Confusion matrix: Binary state (%)'\n",
    "        )\n",
    "    \n",
    "    else:\n",
    "        plot_confusion_matrix(\n",
    "            qing_cheng_models[index], \n",
    "            qing_cheng_model_name, \n",
    "            vallen_models[index], \n",
    "            vallen_model_name, \n",
    "            position_class_label,\n",
    "            'Confusion matrix: Sensor position (%)'\n",
    "        )"
   ],
   "id": "ca312394c5bd0adf",
   "execution_count": 47,
   "outputs": []
  }
 ],
 "metadata": {
  "kernelspec": {
   "display_name": "Python 3",
   "language": "python",
   "name": "python3"
  },
  "language_info": {
   "codemirror_mode": {
    "name": "ipython",
    "version": 2
   },
   "file_extension": ".py",
   "mimetype": "text/x-python",
   "name": "python",
   "nbconvert_exporter": "python",
   "pygments_lexer": "ipython2",
   "version": "2.7.6"
  }
 },
 "nbformat": 4,
 "nbformat_minor": 5
}

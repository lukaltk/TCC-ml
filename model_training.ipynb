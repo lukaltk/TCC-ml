{
 "cells": [
  {
   "metadata": {},
   "cell_type": "markdown",
   "source": "# Imports",
   "id": "f74f1e62bfce7da"
  },
  {
   "cell_type": "code",
   "id": "initial_id",
   "metadata": {
    "collapsed": true,
    "ExecuteTime": {
     "end_time": "2024-08-14T22:37:59.705542Z",
     "start_time": "2024-08-14T22:37:59.693683Z"
    }
   },
   "source": [
    "import matplotlib.pyplot as plt\n",
    "import numpy as np\n",
    "import os\n",
    "import pandas as pd\n",
    "import random\n",
    "from scipy.fft import fft, fftfreq\n",
    "from sklearn.metrics import accuracy_score, precision_score, recall_score, f1_score\n",
    "from sklearn.model_selection import train_test_split, StratifiedKFold\n",
    "from sklearn.preprocessing import StandardScaler\n",
    "import tensorflow as tf\n",
    "# from tensorflow.keras import Sequential\n",
    "from tensorflow.keras import Input, Model\n",
    "# from tensorflow.keras.layers import Dense, LSTM, Dropout, Flatten, MultiHeadAttention\n",
    "from tensorflow.keras.layers import Dense, Dropout, Flatten, MultiHeadAttention\n",
    "from tensorflow.keras.utils import to_categorical\n",
    "import zlib"
   ],
   "outputs": [],
   "execution_count": 90
  },
  {
   "metadata": {},
   "cell_type": "markdown",
   "source": "# GPU",
   "id": "db8f0edd3292f4f1"
  },
  {
   "metadata": {
    "ExecuteTime": {
     "end_time": "2024-08-14T22:38:00.817340Z",
     "start_time": "2024-08-14T22:38:00.797303Z"
    }
   },
   "cell_type": "code",
   "source": [
    "print('Tensorflow version: ', tf.__version__)\n",
    "print(\"Nº GPUs Available: \", len(tf.config.list_physical_devices('GPU')))"
   ],
   "id": "265fe399216f5e3a",
   "outputs": [
    {
     "name": "stdout",
     "output_type": "stream",
     "text": [
      "Tensorflow version:  2.10.1\n",
      "Nº GPUs Available:  1\n"
     ]
    }
   ],
   "execution_count": 91
  },
  {
   "metadata": {
    "ExecuteTime": {
     "end_time": "2024-08-14T22:38:00.863940Z",
     "start_time": "2024-08-14T22:38:00.847001Z"
    }
   },
   "cell_type": "code",
   "source": "tf.config.list_physical_devices('GPU')",
   "id": "515ae6bf060f8469",
   "outputs": [
    {
     "data": {
      "text/plain": [
       "[PhysicalDevice(name='/physical_device:GPU:0', device_type='GPU')]"
      ]
     },
     "execution_count": 92,
     "metadata": {},
     "output_type": "execute_result"
    }
   ],
   "execution_count": 92
  },
  {
   "metadata": {},
   "cell_type": "markdown",
   "source": [
    "## Arquivo\n",
    "Exemplo: { TIPO_DE_SENSOR }-{ ESTADO }-{ CANAL-&-POSIÇÃO }-{ CANAL-&-POSIÇÃO }-{ DATA }.npy"
   ],
   "id": "5642e0a31e98e22f"
  },
  {
   "metadata": {
    "ExecuteTime": {
     "end_time": "2024-08-14T22:38:00.942679Z",
     "start_time": "2024-08-14T22:38:00.935669Z"
    }
   },
   "cell_type": "code",
   "source": [
    "# sensor_name = 'qing_cheng'\n",
    "sensor_name = 'vallen'\n",
    "\n",
    "model_index = 8\n",
    "\n",
    "# --- Training settings ---\n",
    "\n",
    "include_anomalia = True\n",
    "include_spray = True\n",
    "\n",
    "exclude_channel_1 = True\n",
    "\n",
    "position_training = True"
   ],
   "id": "344015d6a8753ff6",
   "outputs": [],
   "execution_count": 93
  },
  {
   "metadata": {
    "ExecuteTime": {
     "end_time": "2024-08-14T22:38:01.051057Z",
     "start_time": "2024-08-14T22:38:01.039666Z"
    }
   },
   "cell_type": "code",
   "source": [
    "path_normalidade = f'./data/{sensor_name}/normalidade'\n",
    "path_normalidade_anomalia = f'./data/{sensor_name}/normalidade_anomalia'\n",
    "path_normalidade_spray = f'./data/{sensor_name}/normalidade_spray'\n",
    "\n",
    "path_vazamento = f'./data/{sensor_name}/vazamento_5_bar'\n",
    "path_vazamento_anomalia = f'./data/{sensor_name}/vazamento_5_bar_anomalia'\n",
    "path_vazamento_spray = f'./data/{sensor_name}/vazamento_5_bar_spray'"
   ],
   "id": "f9725fd0a217bfd6",
   "outputs": [],
   "execution_count": 94
  },
  {
   "metadata": {
    "ExecuteTime": {
     "end_time": "2024-08-14T22:38:01.130306Z",
     "start_time": "2024-08-14T22:38:01.110605Z"
    }
   },
   "cell_type": "code",
   "source": [
    "model_name_df = pd.read_csv('./Model_Index.csv')\n",
    "model_name_df.index = model_name_df.index + 1"
   ],
   "id": "a4834c82a9522ce0",
   "outputs": [],
   "execution_count": 95
  },
  {
   "metadata": {
    "ExecuteTime": {
     "end_time": "2024-08-14T22:38:01.238238Z",
     "start_time": "2024-08-14T22:38:01.223410Z"
    }
   },
   "cell_type": "code",
   "source": [
    "model_name = model_name_df['nome_do_arquivo'].loc[model_index] if (model_index > 0)  else 'TEST'\n",
    "\n",
    "print(f'Model file name: {model_name}')\n",
    "print(f'Model index: {model_index}')"
   ],
   "id": "d52e9581757e00d7",
   "outputs": [
    {
     "name": "stdout",
     "output_type": "stream",
     "text": [
      "Model file name: position_canal_2_ruido\n",
      "Model index: 8\n"
     ]
    }
   ],
   "execution_count": 96
  },
  {
   "metadata": {},
   "cell_type": "markdown",
   "source": "# Obter dados",
   "id": "2d4d805436c7baa1"
  },
  {
   "metadata": {
    "ExecuteTime": {
     "end_time": "2024-08-14T22:38:01.284460Z",
     "start_time": "2024-08-14T22:38:01.271397Z"
    }
   },
   "cell_type": "code",
   "source": [
    "def load_npy_file(compressed_file_path: str, position_1, position_2, state):\n",
    "    # Lê o arquivo comprimido\n",
    "    with open(compressed_file_path, 'rb') as compressed_file:\n",
    "        compressed_data = compressed_file.read()\n",
    "\n",
    "    # Descomprime os dados\n",
    "    decompressed_data = zlib.decompress(compressed_data)\n",
    "\n",
    "    # Converte os dados descomprimidos em um array NumPy\n",
    "    decompressed_array = np.frombuffer(decompressed_data, dtype=np.float64)\n",
    "\n",
    "    # Supondo que os dados estão organizados em dois canais alternadamente\n",
    "    channel_1 = decompressed_array[::2]  # Pega todos os elementos nos índices pares\n",
    "    channel_2 = decompressed_array[1::2]  # Pega todos os elementos nos índices ímpares\n",
    "\n",
    "    # DataFrame Pandas com os dados dos canais\n",
    "    data = {\n",
    "        'posicao_canal_1': position_1,\n",
    "        'valor_canal_1': channel_1,\n",
    "        'posicao_canal_2': position_2,\n",
    "        'valor_canal_2': channel_2,\n",
    "        'estado': state,\n",
    "    }\n",
    "\n",
    "    df = pd.DataFrame(data)\n",
    "\n",
    "    return df"
   ],
   "id": "e5ff507c850dc667",
   "outputs": [],
   "execution_count": 97
  },
  {
   "metadata": {
    "ExecuteTime": {
     "end_time": "2024-08-14T22:38:01.394501Z",
     "start_time": "2024-08-14T22:38:01.386606Z"
    }
   },
   "cell_type": "code",
   "source": [
    "def get_file_paths(path: str):\n",
    "    file_paths = []\n",
    "\n",
    "    for dir_path, _, file_names in os.walk(path):\n",
    "        for file_name in file_names:\n",
    "            file_path = os.path.join(dir_path, file_name)\n",
    "            file_paths.append(file_path)\n",
    "\n",
    "    return file_paths"
   ],
   "id": "b8505e5ebdcf7777",
   "outputs": [],
   "execution_count": 98
  },
  {
   "metadata": {
    "ExecuteTime": {
     "end_time": "2024-08-14T22:38:01.471066Z",
     "start_time": "2024-08-14T22:38:01.465813Z"
    }
   },
   "cell_type": "code",
   "source": [
    "def mount_data_frames(paths: list[str]):\n",
    "  data_frame_dict = {}\n",
    "\n",
    "  for path in paths:\n",
    "    file_name = path.split('/')[-1]\n",
    "    data_info = file_name.split('-')[:4]\n",
    "    # data_info[0] -> Tipo de sensor\n",
    "    # data_info[1] -> Estado\n",
    "    # data_info[2] e data_info[3] -> Canal & Posição\n",
    "\n",
    "    state = data_info[1]\n",
    "    channel_1 = data_info[2].split('_')[-1]\n",
    "    channel_2 = data_info[3].split('_')[-1]\n",
    "\n",
    "    # DF -> | POSICAO_CANAL_1 | POSICAO_VALOR_1 | POSICAO_CANAL_2 | POSICAO_VALOR_2 | ESTADO |\n",
    "    df = load_npy_file(path, channel_1, channel_2, state)\n",
    "    data_frame_dict[channel_2] = df\n",
    "\n",
    "  return data_frame_dict"
   ],
   "id": "ef7bba0460d37e88",
   "outputs": [],
   "execution_count": 99
  },
  {
   "metadata": {},
   "cell_type": "markdown",
   "source": "## Normalidade",
   "id": "955d3f76c4c29be6"
  },
  {
   "metadata": {
    "ExecuteTime": {
     "end_time": "2024-08-14T22:38:01.549651Z",
     "start_time": "2024-08-14T22:38:01.537475Z"
    }
   },
   "cell_type": "code",
   "source": "paths_normalidade = get_file_paths(path_normalidade)",
   "id": "1123f0fc851376be",
   "outputs": [],
   "execution_count": 100
  },
  {
   "metadata": {
    "ExecuteTime": {
     "end_time": "2024-08-14T22:38:01.611408Z",
     "start_time": "2024-08-14T22:38:01.595382Z"
    }
   },
   "cell_type": "code",
   "source": "paths_normalidade",
   "id": "3890a438fa9f87ba",
   "outputs": [
    {
     "data": {
      "text/plain": [
       "['./data/vallen/normalidade\\\\V-N-C1_1-C2_2-2024-03-12_16-17-07.npy',\n",
       " './data/vallen/normalidade\\\\V-N-C1_1-C2_3-2024-03-12_16-18-25.npy',\n",
       " './data/vallen/normalidade\\\\V-N-C1_1-C2_4-2024-03-12_16-19-48.npy']"
      ]
     },
     "execution_count": 101,
     "metadata": {},
     "output_type": "execute_result"
    }
   ],
   "execution_count": 101
  },
  {
   "metadata": {
    "ExecuteTime": {
     "end_time": "2024-08-14T22:38:05.948873Z",
     "start_time": "2024-08-14T22:38:01.674927Z"
    }
   },
   "cell_type": "code",
   "source": "df_normalidade = mount_data_frames(paths_normalidade)",
   "id": "a537808466eb820e",
   "outputs": [],
   "execution_count": 102
  },
  {
   "metadata": {
    "ExecuteTime": {
     "end_time": "2024-08-14T22:38:05.995364Z",
     "start_time": "2024-08-14T22:38:05.954948Z"
    }
   },
   "cell_type": "code",
   "source": "df_normalidade",
   "id": "b255da064ad25d39",
   "outputs": [
    {
     "data": {
      "text/plain": [
       "{'2':         posicao_canal_1  valor_canal_1 posicao_canal_2  valor_canal_2 estado\n",
       " 0                     1      -1.014252               2       0.621490      N\n",
       " 1                     1      -1.006918               2       0.610242      N\n",
       " 2                     1      -0.995917               2       0.598993      N\n",
       " 3                     1      -0.992249               2       0.587744      N\n",
       " 4                     1      -0.973914               2       0.583994      N\n",
       " ...                 ...            ...             ...            ...    ...\n",
       " 9999995               1       0.100544               2       0.032797      N\n",
       " 9999996               1      -0.005802               2       0.021548      N\n",
       " 9999997               1      -0.108481               2       0.010299      N\n",
       " 9999998               1      -0.211159               2      -0.012199      N\n",
       " 9999999               1      -0.310171               2      -0.019698      N\n",
       " \n",
       " [10000000 rows x 5 columns],\n",
       " '3':         posicao_canal_1  valor_canal_1 posicao_canal_2  valor_canal_2 estado\n",
       " 0                     1      -0.970247               3      -0.087192      N\n",
       " 1                     1      -0.948244               3      -0.079692      N\n",
       " 2                     1      -0.918908               3      -0.079692      N\n",
       " 3                     1      -0.900572               3      -0.075943      N\n",
       " 4                     1      -0.874903               3      -0.072193      N\n",
       " ...                 ...            ...             ...            ...    ...\n",
       " 9999995               1       0.247227               3      -0.180933      N\n",
       " 9999996               1       0.258228               3      -0.180933      N\n",
       " 9999997               1       0.269230               3      -0.180933      N\n",
       " 9999998               1       0.276564               3      -0.184682      N\n",
       " 9999999               1       0.287565               3      -0.184682      N\n",
       " \n",
       " [10000000 rows x 5 columns],\n",
       " '4':         posicao_canal_1  valor_canal_1 posicao_canal_2  valor_canal_2 estado\n",
       " 0                     1      -0.467855               4      -0.034697      N\n",
       " 1                     1      -0.427517               4      -0.038446      N\n",
       " 2                     1      -0.387179               4      -0.038446      N\n",
       " 3                     1      -0.343174               4      -0.045946      N\n",
       " 4                     1      -0.302836               4      -0.042196      N\n",
       " ...                 ...            ...             ...            ...    ...\n",
       " 9999995               1       2.502488               4       0.111539      N\n",
       " 9999996               1       2.458483               4       0.115289      N\n",
       " 9999997               1       2.410811               4       0.122788      N\n",
       " 9999998               1       2.359472               4       0.126538      N\n",
       " 9999999               1       2.304465               4       0.134037      N\n",
       " \n",
       " [10000000 rows x 5 columns]}"
      ]
     },
     "execution_count": 103,
     "metadata": {},
     "output_type": "execute_result"
    }
   ],
   "execution_count": 103
  },
  {
   "metadata": {},
   "cell_type": "markdown",
   "source": "## Normalidade anomalia",
   "id": "38d782005d0ff380"
  },
  {
   "metadata": {
    "ExecuteTime": {
     "end_time": "2024-08-14T22:38:06.011006Z",
     "start_time": "2024-08-14T22:38:05.997656Z"
    }
   },
   "cell_type": "code",
   "source": "paths_normalidade_anomalia = get_file_paths(path_normalidade_anomalia)",
   "id": "10778d7d7e234115",
   "outputs": [],
   "execution_count": 104
  },
  {
   "metadata": {
    "ExecuteTime": {
     "end_time": "2024-08-14T22:38:06.026312Z",
     "start_time": "2024-08-14T22:38:06.015418Z"
    }
   },
   "cell_type": "code",
   "source": "paths_normalidade_anomalia",
   "id": "64f528aa054b8ad",
   "outputs": [
    {
     "data": {
      "text/plain": [
       "['./data/vallen/normalidade_anomalia\\\\V-N_A-C1_1-C2_2-2024-03-12_16-28-14.npy',\n",
       " './data/vallen/normalidade_anomalia\\\\V-N_A-C1_1-C2_3-2024-03-12_16-26-13.npy',\n",
       " './data/vallen/normalidade_anomalia\\\\V-N_A-C1_1-C2_4-2024-03-12_16-23-47.npy']"
      ]
     },
     "execution_count": 105,
     "metadata": {},
     "output_type": "execute_result"
    }
   ],
   "execution_count": 105
  },
  {
   "metadata": {
    "ExecuteTime": {
     "end_time": "2024-08-14T22:38:09.615975Z",
     "start_time": "2024-08-14T22:38:06.029151Z"
    }
   },
   "cell_type": "code",
   "source": "df_normalidade_anomalia = mount_data_frames(paths_normalidade_anomalia)",
   "id": "e7204c5c5065410c",
   "outputs": [],
   "execution_count": 106
  },
  {
   "metadata": {
    "ExecuteTime": {
     "end_time": "2024-08-14T22:38:09.647327Z",
     "start_time": "2024-08-14T22:38:09.616982Z"
    }
   },
   "cell_type": "code",
   "source": "df_normalidade_anomalia",
   "id": "7113a24bb76958a8",
   "outputs": [
    {
     "data": {
      "text/plain": [
       "{'2':         posicao_canal_1  valor_canal_1 posicao_canal_2  valor_canal_2 estado\n",
       " 0                     1       1.926755               2       0.047795    N_A\n",
       " 1                     1       1.930422               2       0.059044    N_A\n",
       " 2                     1       1.937756               2       0.066544    N_A\n",
       " 3                     1       1.941423               2       0.066544    N_A\n",
       " 4                     1       1.945090               2       0.077793    N_A\n",
       " ...                 ...            ...             ...            ...    ...\n",
       " 9999995               1       0.144549               2       0.182783    N_A\n",
       " 9999996               1       0.144549               2       0.190282    N_A\n",
       " 9999997               1       0.151883               2       0.190282    N_A\n",
       " 9999998               1       0.148216               2       0.197781    N_A\n",
       " 9999999               1       0.148216               2       0.201531    N_A\n",
       " \n",
       " [10000000 rows x 5 columns],\n",
       " '3':         posicao_canal_1  valor_canal_1 posicao_canal_2  valor_canal_2 estado\n",
       " 0                     1      -1.131599               3       0.242777    N_A\n",
       " 1                     1      -1.149934               3       0.235277    N_A\n",
       " 2                     1      -1.171937               3       0.231528    N_A\n",
       " 3                     1      -1.201274               3       0.231528    N_A\n",
       " 4                     1      -1.226943               3       0.220279    N_A\n",
       " ...                 ...            ...             ...            ...    ...\n",
       " 9999995               1       0.261896               3       0.066544    N_A\n",
       " 9999996               1       0.276564               3       0.059044    N_A\n",
       " 9999997               1       0.291232               3       0.047795    N_A\n",
       " 9999998               1       0.305901               3       0.036547    N_A\n",
       " 9999999               1       0.316902               3       0.025298    N_A\n",
       " \n",
       " [10000000 rows x 5 columns],\n",
       " '4':         posicao_canal_1  valor_canal_1 posicao_canal_2  valor_canal_2 estado\n",
       " 0                     1       0.342572               4      -2.085750    N_A\n",
       " 1                     1       0.298566               4      -1.980760    N_A\n",
       " 2                     1       0.254561               4      -1.872020    N_A\n",
       " 3                     1       0.210556               4      -1.774530    N_A\n",
       " 4                     1       0.155550               4      -1.677039    N_A\n",
       " ...                 ...            ...             ...            ...    ...\n",
       " 9999995               1       3.411927               4      -0.664636    N_A\n",
       " 9999996               1       3.400925               4      -0.657137    N_A\n",
       " 9999997               1       3.393591               4      -0.642138    N_A\n",
       " 9999998               1       3.375256               4      -0.634639    N_A\n",
       " 9999999               1       3.360587               4      -0.627140    N_A\n",
       " \n",
       " [10000000 rows x 5 columns]}"
      ]
     },
     "execution_count": 107,
     "metadata": {},
     "output_type": "execute_result"
    }
   ],
   "execution_count": 107
  },
  {
   "metadata": {},
   "cell_type": "markdown",
   "source": "## Normalidade spray",
   "id": "85d3442ff289a942"
  },
  {
   "metadata": {
    "ExecuteTime": {
     "end_time": "2024-08-14T22:38:09.663847Z",
     "start_time": "2024-08-14T22:38:09.649323Z"
    }
   },
   "cell_type": "code",
   "source": "paths_normalidade_spray = get_file_paths(path_normalidade_spray)",
   "id": "51564170a0fb9831",
   "outputs": [],
   "execution_count": 108
  },
  {
   "metadata": {
    "ExecuteTime": {
     "end_time": "2024-08-14T22:38:09.679261Z",
     "start_time": "2024-08-14T22:38:09.665801Z"
    }
   },
   "cell_type": "code",
   "source": "paths_normalidade_spray",
   "id": "e1d552174e9f86d9",
   "outputs": [
    {
     "data": {
      "text/plain": [
       "['./data/vallen/normalidade_spray\\\\V-N_S-C1_1-C2_2-2024-03-13_08-44-34.npy',\n",
       " './data/vallen/normalidade_spray\\\\V-N_S-C1_1-C2_3-2024-03-13_08-45-56.npy',\n",
       " './data/vallen/normalidade_spray\\\\V-N_S-C1_1-C2_4-2024-03-13_08-47-34.npy']"
      ]
     },
     "execution_count": 109,
     "metadata": {},
     "output_type": "execute_result"
    }
   ],
   "execution_count": 109
  },
  {
   "metadata": {
    "ExecuteTime": {
     "end_time": "2024-08-14T22:38:12.566041Z",
     "start_time": "2024-08-14T22:38:09.680479Z"
    }
   },
   "cell_type": "code",
   "source": "df_normalidade_spray = mount_data_frames(paths_normalidade_spray)",
   "id": "766b6cbfb16fb9e4",
   "outputs": [],
   "execution_count": 110
  },
  {
   "metadata": {
    "ExecuteTime": {
     "end_time": "2024-08-14T22:38:12.581585Z",
     "start_time": "2024-08-14T22:38:12.568382Z"
    }
   },
   "cell_type": "code",
   "source": "df_normalidade_spray",
   "id": "f6f6051c37a4a4de",
   "outputs": [
    {
     "data": {
      "text/plain": [
       "{'2':         posicao_canal_1  valor_canal_1 posicao_canal_2  valor_canal_2 estado\n",
       " 0                     1       0.617603               2      -0.064694    N_S\n",
       " 1                     1       0.610269               2      -0.079692    N_S\n",
       " 2                     1       0.602935               2      -0.090941    N_S\n",
       " 3                     1       0.580932               2      -0.105940    N_S\n",
       " 4                     1       0.555263               2      -0.117189    N_S\n",
       " ...                 ...            ...             ...            ...    ...\n",
       " 9999995               1      -0.174488               2      -0.570895    N_S\n",
       " 9999996               1      -0.130483               2      -0.548397    N_S\n",
       " 9999997               1      -0.075477               2      -0.525900    N_S\n",
       " 9999998               1      -0.020470               2      -0.503402    N_S\n",
       " 9999999               1       0.034536               2      -0.484653    N_S\n",
       " \n",
       " [10000000 rows x 5 columns],\n",
       " '3':         posicao_canal_1  valor_canal_1 posicao_canal_2  valor_canal_2 estado\n",
       " 0                     1      -0.709883               3       0.299021    N_S\n",
       " 1                     1      -0.706216               3       0.306521    N_S\n",
       " 2                     1      -0.702549               3       0.314020    N_S\n",
       " 3                     1      -0.695215               3       0.314020    N_S\n",
       " 4                     1      -0.680547               3       0.317770    N_S\n",
       " ...                 ...            ...             ...            ...    ...\n",
       " 9999995               1       0.272897               3      -0.120938    N_S\n",
       " 9999996               1       0.236226               3      -0.132187    N_S\n",
       " 9999997               1       0.199555               3      -0.135937    N_S\n",
       " 9999998               1       0.159217               3      -0.139687    N_S\n",
       " 9999999               1       0.111545               3      -0.143436    N_S\n",
       " \n",
       " [10000000 rows x 5 columns],\n",
       " '4':         posicao_canal_1  valor_canal_1 posicao_canal_2  valor_canal_2 estado\n",
       " 0                     1      -1.714666               4       0.040296    N_S\n",
       " 1                     1      -1.696331               4       0.029047    N_S\n",
       " 2                     1      -1.677995               4       0.017798    N_S\n",
       " 3                     1      -1.644992               4       0.010299    N_S\n",
       " 4                     1      -1.615655               4       0.006549    N_S\n",
       " ...                 ...            ...             ...            ...    ...\n",
       " 9999995               1      -0.137817               4       0.017798    N_S\n",
       " 9999996               1      -0.189157               4       0.021548    N_S\n",
       " 9999997               1      -0.244163               4       0.017798    N_S\n",
       " 9999998               1      -0.291835               4       0.014049    N_S\n",
       " 9999999               1      -0.343174               4       0.014049    N_S\n",
       " \n",
       " [10000000 rows x 5 columns]}"
      ]
     },
     "execution_count": 111,
     "metadata": {},
     "output_type": "execute_result"
    }
   ],
   "execution_count": 111
  },
  {
   "metadata": {},
   "cell_type": "markdown",
   "source": "## Vazamento",
   "id": "b669d245131bc201"
  },
  {
   "metadata": {
    "ExecuteTime": {
     "end_time": "2024-08-14T22:38:12.597172Z",
     "start_time": "2024-08-14T22:38:12.583592Z"
    }
   },
   "cell_type": "code",
   "source": "paths_vazamento = get_file_paths(path_vazamento)",
   "id": "8f0bcb3f062b867c",
   "outputs": [],
   "execution_count": 112
  },
  {
   "metadata": {
    "ExecuteTime": {
     "end_time": "2024-08-14T22:38:12.613816Z",
     "start_time": "2024-08-14T22:38:12.599306Z"
    }
   },
   "cell_type": "code",
   "source": "paths_vazamento",
   "id": "9dc08a7b20388898",
   "outputs": [
    {
     "data": {
      "text/plain": [
       "['./data/vallen/vazamento_5_bar\\\\V-V5b-C1_1-C2_2-2024-03-13_10-57-11.npy',\n",
       " './data/vallen/vazamento_5_bar\\\\V-V5b-C1_1-C2_3-2024-03-13_10-57-59.npy',\n",
       " './data/vallen/vazamento_5_bar\\\\V-V5b-C1_1-C2_4-2024-03-13_10-58-49.npy']"
      ]
     },
     "execution_count": 113,
     "metadata": {},
     "output_type": "execute_result"
    }
   ],
   "execution_count": 113
  },
  {
   "metadata": {
    "ExecuteTime": {
     "end_time": "2024-08-14T22:38:15.467388Z",
     "start_time": "2024-08-14T22:38:12.616040Z"
    }
   },
   "cell_type": "code",
   "source": "df_vazamento = mount_data_frames(paths_vazamento)",
   "id": "d37c360e6045da3",
   "outputs": [],
   "execution_count": 114
  },
  {
   "metadata": {
    "ExecuteTime": {
     "end_time": "2024-08-14T22:38:15.499066Z",
     "start_time": "2024-08-14T22:38:15.471456Z"
    }
   },
   "cell_type": "code",
   "source": "df_vazamento",
   "id": "c8139aa47a96e52f",
   "outputs": [
    {
     "data": {
      "text/plain": [
       "{'2':         posicao_canal_1  valor_canal_1 posicao_canal_2  valor_canal_2 estado\n",
       " 0                     1      -0.079144               2      -0.023448    V5b\n",
       " 1                     1      -0.082811               2      -0.034697    V5b\n",
       " 2                     1      -0.086478               2      -0.038446    V5b\n",
       " 3                     1      -0.101146               2      -0.034697    V5b\n",
       " 4                     1      -0.112148               2      -0.049695    V5b\n",
       " ...                 ...            ...             ...            ...    ...\n",
       " 9999995               1       0.346239               2       0.047795    V5b\n",
       " 9999996               1       0.313235               2       0.051545    V5b\n",
       " 9999997               1       0.283898               2       0.055295    V5b\n",
       " 9999998               1       0.247227               2       0.055295    V5b\n",
       " 9999999               1       0.210556               2       0.047795    V5b\n",
       " \n",
       " [10000000 rows x 5 columns],\n",
       " '3':         posicao_canal_1  valor_canal_1 posicao_canal_2  valor_canal_2 estado\n",
       " 0                     1      -0.394514               3      -0.012199    V5b\n",
       " 1                     1      -0.416516               3      -0.000950    V5b\n",
       " 2                     1      -0.412849               3      -0.012199    V5b\n",
       " 3                     1      -0.416516               3      -0.000950    V5b\n",
       " 4                     1      -0.409182               3       0.002800    V5b\n",
       " ...                 ...            ...             ...            ...    ...\n",
       " 9999995               1      -0.024138               3      -0.015948    V5b\n",
       " 9999996               1      -0.009469               3      -0.019698    V5b\n",
       " 9999997               1       0.012533               3      -0.019698    V5b\n",
       " 9999998               1       0.034536               3      -0.015948    V5b\n",
       " 9999999               1       0.045537               3      -0.015948    V5b\n",
       " \n",
       " [10000000 rows x 5 columns],\n",
       " '4':         posicao_canal_1  valor_canal_1 posicao_canal_2  valor_canal_2 estado\n",
       " 0                     1       0.514925               4       0.047795    V5b\n",
       " 1                     1       0.500256               4       0.047795    V5b\n",
       " 2                     1       0.481921               4       0.051545    V5b\n",
       " 3                     1       0.470920               4       0.051545    V5b\n",
       " 4                     1       0.459918               4       0.051545    V5b\n",
       " ...                 ...            ...             ...            ...    ...\n",
       " 9999995               1      -0.398181               4       0.014049    V5b\n",
       " 9999996               1      -0.390847               4       0.014049    V5b\n",
       " 9999997               1      -0.387179               4       0.021548    V5b\n",
       " 9999998               1      -0.390847               4       0.021548    V5b\n",
       " 9999999               1      -0.390847               4       0.021548    V5b\n",
       " \n",
       " [10000000 rows x 5 columns]}"
      ]
     },
     "execution_count": 115,
     "metadata": {},
     "output_type": "execute_result"
    }
   ],
   "execution_count": 115
  },
  {
   "metadata": {},
   "cell_type": "markdown",
   "source": "## Vazamento anomalia",
   "id": "a53b045751654b58"
  },
  {
   "metadata": {
    "ExecuteTime": {
     "end_time": "2024-08-14T22:38:15.514807Z",
     "start_time": "2024-08-14T22:38:15.500247Z"
    }
   },
   "cell_type": "code",
   "source": "paths_vazamento_anomalia = get_file_paths(path_vazamento_anomalia)",
   "id": "238a0962a1fcfbfb",
   "outputs": [],
   "execution_count": 116
  },
  {
   "metadata": {
    "ExecuteTime": {
     "end_time": "2024-08-14T22:38:15.530467Z",
     "start_time": "2024-08-14T22:38:15.516269Z"
    }
   },
   "cell_type": "code",
   "source": "paths_vazamento_anomalia",
   "id": "d7efa027fbc1df2d",
   "outputs": [
    {
     "data": {
      "text/plain": [
       "['./data/vallen/vazamento_5_bar_anomalia\\\\V-V5b_A-C1_1-C2_3-2024-03-13_11-12-03.npy',\n",
       " './data/vallen/vazamento_5_bar_anomalia\\\\V-V5b_A-C1_1-C2_4-2024-03-13_11-09-10.npy']"
      ]
     },
     "execution_count": 117,
     "metadata": {},
     "output_type": "execute_result"
    }
   ],
   "execution_count": 117
  },
  {
   "metadata": {
    "ExecuteTime": {
     "end_time": "2024-08-14T22:38:17.525210Z",
     "start_time": "2024-08-14T22:38:15.532468Z"
    }
   },
   "cell_type": "code",
   "source": "df_vazamento_anomalia = mount_data_frames(paths_vazamento_anomalia)",
   "id": "279bca407ec3e8f6",
   "outputs": [],
   "execution_count": 118
  },
  {
   "metadata": {
    "ExecuteTime": {
     "end_time": "2024-08-14T22:38:17.540479Z",
     "start_time": "2024-08-14T22:38:17.527858Z"
    }
   },
   "cell_type": "code",
   "source": "df_vazamento_anomalia",
   "id": "edb6fb768e170632",
   "outputs": [
    {
     "data": {
      "text/plain": [
       "{'3':         posicao_canal_1  valor_canal_1 posicao_canal_2  valor_canal_2 estado\n",
       " 0                     1      -0.211159               3      -0.023448  V5b_A\n",
       " 1                     1      -0.200158               3      -0.023448  V5b_A\n",
       " 2                     1      -0.192824               3      -0.015948  V5b_A\n",
       " 3                     1      -0.181822               3      -0.015948  V5b_A\n",
       " 4                     1      -0.170821               3      -0.015948  V5b_A\n",
       " ...                 ...            ...             ...            ...    ...\n",
       " 9999995               1       0.074874               3       0.036547  V5b_A\n",
       " 9999996               1       0.096876               3       0.036547  V5b_A\n",
       " 9999997               1       0.115212               3       0.032797  V5b_A\n",
       " 9999998               1       0.144549               3       0.036547  V5b_A\n",
       " 9999999               1       0.177552               3       0.036547  V5b_A\n",
       " \n",
       " [10000000 rows x 5 columns],\n",
       " '4':         posicao_canal_1  valor_canal_1 posicao_canal_2  valor_canal_2 estado\n",
       " 0                     1      -0.020470               4      -0.004699  V5b_A\n",
       " 1                     1      -0.027805               4      -0.004699  V5b_A\n",
       " 2                     1      -0.031472               4      -0.012199  V5b_A\n",
       " 3                     1      -0.038806               4      -0.008449  V5b_A\n",
       " 4                     1      -0.042473               4      -0.008449  V5b_A\n",
       " ...                 ...            ...             ...            ...    ...\n",
       " 9999995               1       0.573598               4       0.036547  V5b_A\n",
       " 9999996               1       0.555263               4       0.040296  V5b_A\n",
       " 9999997               1       0.533260               4       0.044046  V5b_A\n",
       " 9999998               1       0.503924               4       0.044046  V5b_A\n",
       " 9999999               1       0.474587               4       0.040296  V5b_A\n",
       " \n",
       " [10000000 rows x 5 columns]}"
      ]
     },
     "execution_count": 119,
     "metadata": {},
     "output_type": "execute_result"
    }
   ],
   "execution_count": 119
  },
  {
   "metadata": {},
   "cell_type": "markdown",
   "source": "## Vazamento spray",
   "id": "19e297bee0eab89"
  },
  {
   "metadata": {
    "ExecuteTime": {
     "end_time": "2024-08-14T22:38:17.555783Z",
     "start_time": "2024-08-14T22:38:17.541482Z"
    }
   },
   "cell_type": "code",
   "source": "paths_vazamento_spray = get_file_paths(path_vazamento_spray)",
   "id": "507338d76fc802d8",
   "outputs": [],
   "execution_count": 120
  },
  {
   "metadata": {
    "ExecuteTime": {
     "end_time": "2024-08-14T22:38:17.570718Z",
     "start_time": "2024-08-14T22:38:17.557619Z"
    }
   },
   "cell_type": "code",
   "source": "paths_vazamento_spray",
   "id": "2de02a822746b270",
   "outputs": [
    {
     "data": {
      "text/plain": [
       "['./data/vallen/vazamento_5_bar_spray\\\\V-V5b_S-C1_1-C2_2-2024-03-13_11-15-32.npy',\n",
       " './data/vallen/vazamento_5_bar_spray\\\\V-V5b_S-C1_1-C2_3-2024-03-13_11-12-53.npy',\n",
       " './data/vallen/vazamento_5_bar_spray\\\\V-V5b_S-C1_1-C2_4-2024-03-13_11-10-00.npy']"
      ]
     },
     "execution_count": 121,
     "metadata": {},
     "output_type": "execute_result"
    }
   ],
   "execution_count": 121
  },
  {
   "metadata": {
    "ExecuteTime": {
     "end_time": "2024-08-14T22:38:20.419334Z",
     "start_time": "2024-08-14T22:38:17.572901Z"
    }
   },
   "cell_type": "code",
   "source": "df_vazamento_spray = mount_data_frames(paths_vazamento_spray)",
   "id": "8557fa1b60e13826",
   "outputs": [],
   "execution_count": 122
  },
  {
   "metadata": {
    "ExecuteTime": {
     "end_time": "2024-08-14T22:38:20.435015Z",
     "start_time": "2024-08-14T22:38:20.421365Z"
    }
   },
   "cell_type": "code",
   "source": "df_vazamento_spray",
   "id": "fa5765ea086a2af9",
   "outputs": [
    {
     "data": {
      "text/plain": [
       "{'2':         posicao_canal_1  valor_canal_1 posicao_canal_2  valor_canal_2 estado\n",
       " 0                     1       0.276564               2       0.051545  V5b_S\n",
       " 1                     1       0.283898               2       0.044046  V5b_S\n",
       " 2                     1       0.287565               2       0.047795  V5b_S\n",
       " 3                     1       0.291232               2       0.040296  V5b_S\n",
       " 4                     1       0.294899               2       0.040296  V5b_S\n",
       " ...                 ...            ...             ...            ...    ...\n",
       " 9999995               1       0.529593               2      -0.053445  V5b_S\n",
       " 9999996               1       0.522259               2      -0.064694  V5b_S\n",
       " 9999997               1       0.492922               2      -0.075943  V5b_S\n",
       " 9999998               1       0.470920               2      -0.075943  V5b_S\n",
       " 9999999               1       0.448917               2      -0.079692  V5b_S\n",
       " \n",
       " [10000000 rows x 5 columns],\n",
       " '3':         posicao_canal_1  valor_canal_1 posicao_canal_2  valor_canal_2 estado\n",
       " 0                     1      -0.148819               3       0.029047  V5b_S\n",
       " 1                     1      -0.130483               3       0.029047  V5b_S\n",
       " 2                     1      -0.104814               3       0.032797  V5b_S\n",
       " 3                     1      -0.075477               3       0.040296  V5b_S\n",
       " 4                     1      -0.046140               3       0.036547  V5b_S\n",
       " ...                 ...            ...             ...            ...    ...\n",
       " 9999995               1       0.188554               3      -0.000950  V5b_S\n",
       " 9999996               1       0.188554               3       0.002800  V5b_S\n",
       " 9999997               1       0.177552               3       0.002800  V5b_S\n",
       " 9999998               1       0.173885               3       0.010299  V5b_S\n",
       " 9999999               1       0.166551               3       0.010299  V5b_S\n",
       " \n",
       " [10000000 rows x 5 columns],\n",
       " '4':         posicao_canal_1  valor_canal_1 posicao_canal_2  valor_canal_2 estado\n",
       " 0                     1      -0.152486               4       0.017798  V5b_S\n",
       " 1                     1      -0.156153               4       0.010299  V5b_S\n",
       " 2                     1      -0.148819               4       0.010299  V5b_S\n",
       " 3                     1      -0.137817               4       0.010299  V5b_S\n",
       " 4                     1      -0.115815               4       0.017798  V5b_S\n",
       " ...                 ...            ...             ...            ...    ...\n",
       " 9999995               1      -0.420183               4       0.021548  V5b_S\n",
       " 9999996               1      -0.420183               4       0.014049  V5b_S\n",
       " 9999997               1      -0.420183               4       0.014049  V5b_S\n",
       " 9999998               1      -0.423850               4       0.010299  V5b_S\n",
       " 9999999               1      -0.438519               4       0.017798  V5b_S\n",
       " \n",
       " [10000000 rows x 5 columns]}"
      ]
     },
     "execution_count": 123,
     "metadata": {},
     "output_type": "execute_result"
    }
   ],
   "execution_count": 123
  },
  {
   "metadata": {},
   "cell_type": "markdown",
   "source": "# Sliding Window",
   "id": "ae12a7ddc53347b0"
  },
  {
   "metadata": {
    "ExecuteTime": {
     "end_time": "2024-08-14T22:38:20.450187Z",
     "start_time": "2024-08-14T22:38:20.436464Z"
    }
   },
   "cell_type": "code",
   "source": [
    "def sliding_window(data, size):\n",
    "    windows = []\n",
    "    for i in range(0, len(data), size):\n",
    "        window = data.iloc[i:i+size]\n",
    "        windows.append(window)\n",
    "    return windows"
   ],
   "id": "206e62fc330ee1c2",
   "outputs": [],
   "execution_count": 124
  },
  {
   "metadata": {
    "ExecuteTime": {
     "end_time": "2024-08-14T22:38:20.465728Z",
     "start_time": "2024-08-14T22:38:20.452451Z"
    }
   },
   "cell_type": "code",
   "source": [
    "# Tamanho da janela de slicing\n",
    "window_size = 10000 # refere-se a 0.01s, considerando a coleta de 1MHz"
   ],
   "id": "b5b1ce65cedcaaac",
   "outputs": [],
   "execution_count": 125
  },
  {
   "metadata": {
    "ExecuteTime": {
     "end_time": "2024-08-14T22:38:20.855380Z",
     "start_time": "2024-08-14T22:38:20.467727Z"
    }
   },
   "cell_type": "code",
   "source": [
    "# Aplicar a função de sliding window a cada dataframe em cada dicionário\n",
    "normalidade_windows = {key: sliding_window(df, window_size) for key, df in df_normalidade.items()}\n",
    "normalidade_anomalia_windows = {key: sliding_window(df, window_size) for key, df in df_normalidade_anomalia.items()}\n",
    "normalidade_spray_windows = {key: sliding_window(df, window_size) for key, df in df_normalidade_spray.items()}\n",
    "\n",
    "vazamento_windows = {key: sliding_window(df, window_size) for key, df in df_vazamento.items()}\n",
    "vazamento_anomalia_windows = {key: sliding_window(df, window_size) for key, df in df_vazamento_anomalia.items()}\n",
    "vazamento_spray_windows = {key: sliding_window(df, window_size) for key, df in df_normalidade_spray.items()}"
   ],
   "id": "fa56b1917e922e33",
   "outputs": [],
   "execution_count": 126
  },
  {
   "metadata": {
    "ExecuteTime": {
     "end_time": "2024-08-14T22:38:20.871020Z",
     "start_time": "2024-08-14T22:38:20.857574Z"
    }
   },
   "cell_type": "code",
   "source": [
    "print('---Normalidade---')\n",
    "print(f'Rótulos: {normalidade_windows.keys()}')\n",
    "print(f'Quantidade de janelas: {len(normalidade_windows[\"2\"])}')\n",
    "print(f'Tamanho das janela: {len(normalidade_windows[\"2\"][0])}')\n",
    "print('-----------------\\n')\n",
    "\n",
    "print('---Normalidade anomalia---')\n",
    "print(f'Rótulos: {normalidade_anomalia_windows.keys()}')\n",
    "print(f'Quantidade de janelas: {len(normalidade_anomalia_windows[\"2\"])}')\n",
    "print(f'Tamanho das janela: {len(normalidade_anomalia_windows[\"2\"][0])}')\n",
    "print('--------------------------\\n')\n",
    "\n",
    "print('---Normalidade spray---')\n",
    "print(f'Rótulos: {normalidade_spray_windows.keys()}')\n",
    "print(f'Quantidade de janelas: {len(normalidade_spray_windows[\"2\"])}')\n",
    "print(f'Tamanho das janela: {len(normalidade_spray_windows[\"2\"][0])}')\n",
    "print('-----------------------\\n')"
   ],
   "id": "47f4a3c53dbd9c99",
   "outputs": [
    {
     "name": "stdout",
     "output_type": "stream",
     "text": [
      "---Normalidade---\n",
      "Rótulos: dict_keys(['2', '3', '4'])\n",
      "Quantidade de janelas: 1000\n",
      "Tamanho das janela: 10000\n",
      "-----------------\n",
      "\n",
      "---Normalidade anomalia---\n",
      "Rótulos: dict_keys(['2', '3', '4'])\n",
      "Quantidade de janelas: 1000\n",
      "Tamanho das janela: 10000\n",
      "--------------------------\n",
      "\n",
      "---Normalidade spray---\n",
      "Rótulos: dict_keys(['2', '3', '4'])\n",
      "Quantidade de janelas: 1000\n",
      "Tamanho das janela: 10000\n",
      "-----------------------\n",
      "\n"
     ]
    }
   ],
   "execution_count": 127
  },
  {
   "metadata": {
    "ExecuteTime": {
     "end_time": "2024-08-14T22:38:20.886165Z",
     "start_time": "2024-08-14T22:38:20.872255Z"
    }
   },
   "cell_type": "code",
   "source": [
    "print('---Vazamento---')\n",
    "print(f'Rótulos: {vazamento_windows.keys()}')\n",
    "print(f'Quantidade de janelas: {len(vazamento_windows[\"2\"])}')\n",
    "print(f'Tamanho das janela: {len(vazamento_windows[\"2\"][0])}')\n",
    "print('---------------\\n')\n",
    "\n",
    "print('---Vazamento anomalia---')\n",
    "print(f'Rótulos: {vazamento_anomalia_windows.keys()}')\n",
    "print(f'Quantidade de janelas: {len(vazamento_anomalia_windows[\"3\"])}')\n",
    "print(f'Tamanho das janela: {len(vazamento_anomalia_windows[\"3\"][0])}')\n",
    "print('------------------------\\n')\n",
    "\n",
    "print('---Vazamento spray---')\n",
    "print(f'Rótulos: {vazamento_spray_windows.keys()}')\n",
    "print(f'Quantidade de janelas: {len(vazamento_spray_windows[\"2\"])}')\n",
    "print(f'Tamanho das janela: {len(vazamento_spray_windows[\"2\"][0])}')\n",
    "print('---------------------\\n')"
   ],
   "id": "103923425c37a9d6",
   "outputs": [
    {
     "name": "stdout",
     "output_type": "stream",
     "text": [
      "---Vazamento---\n",
      "Rótulos: dict_keys(['2', '3', '4'])\n",
      "Quantidade de janelas: 1000\n",
      "Tamanho das janela: 10000\n",
      "---------------\n",
      "\n",
      "---Vazamento anomalia---\n",
      "Rótulos: dict_keys(['3', '4'])\n",
      "Quantidade de janelas: 1000\n",
      "Tamanho das janela: 10000\n",
      "------------------------\n",
      "\n",
      "---Vazamento spray---\n",
      "Rótulos: dict_keys(['2', '3', '4'])\n",
      "Quantidade de janelas: 1000\n",
      "Tamanho das janela: 10000\n",
      "---------------------\n",
      "\n"
     ]
    }
   ],
   "execution_count": 128
  },
  {
   "metadata": {},
   "cell_type": "markdown",
   "source": "# Downsample",
   "id": "fed62325d8e97d1b"
  },
  {
   "metadata": {
    "ExecuteTime": {
     "end_time": "2024-08-14T22:38:20.901440Z",
     "start_time": "2024-08-14T22:38:20.887360Z"
    }
   },
   "cell_type": "code",
   "source": [
    "def downsample_dataframe(df, size):\n",
    "    # Calcular o fator de downsample\n",
    "    downsample_factor = len(df) // size\n",
    "    \n",
    "    # Selecionar cada enésimo elemento, onde n é o downsample_factor\n",
    "    downsampled_df = df.iloc[::downsample_factor]\n",
    "    \n",
    "    return downsampled_df"
   ],
   "id": "1c606308d6c51d39",
   "outputs": [],
   "execution_count": 129
  },
  {
   "metadata": {
    "ExecuteTime": {
     "end_time": "2024-08-14T22:38:20.916637Z",
     "start_time": "2024-08-14T22:38:20.902596Z"
    }
   },
   "cell_type": "code",
   "source": [
    "def apply_downsample(df_dict: dict, size: int):\n",
    "    df_dict_ds = {}\n",
    "    \n",
    "    # Loop sobre cada key:value em df_windows e downsample cada elemento\n",
    "    for key, dfs in df_dict.items():\n",
    "        df_dict_ds[key] = []\n",
    "        \n",
    "        for df in dfs:\n",
    "            # Downsample do DataFrame\n",
    "            df_dict_ds[key].append(downsample_dataframe(df, size).reset_index(drop=True))\n",
    "            \n",
    "    return df_dict_ds"
   ],
   "id": "8fea1a47e7f354c5",
   "outputs": [],
   "execution_count": 130
  },
  {
   "metadata": {
    "ExecuteTime": {
     "end_time": "2024-08-14T22:38:20.931692Z",
     "start_time": "2024-08-14T22:38:20.917643Z"
    }
   },
   "cell_type": "code",
   "source": [
    "# Valor de referência para o downsample\n",
    "new_size = 2500"
   ],
   "id": "c4e4b32eb6119eb4",
   "outputs": [],
   "execution_count": 131
  },
  {
   "metadata": {
    "ExecuteTime": {
     "end_time": "2024-08-14T22:38:27.010724Z",
     "start_time": "2024-08-14T22:38:20.932694Z"
    }
   },
   "cell_type": "code",
   "source": [
    "normalidade_windows_ds = apply_downsample(normalidade_windows, new_size)\n",
    "normalidade_anomalia_windows_ds = apply_downsample(normalidade_anomalia_windows, new_size)\n",
    "normalidade_spray_windows_ds = apply_downsample(normalidade_spray_windows, new_size)\n",
    "\n",
    "vazamento_windows_ds = apply_downsample(vazamento_windows, new_size)\n",
    "vazamento_anomalia_windows_ds = apply_downsample(vazamento_anomalia_windows, new_size)\n",
    "vazamento_spray_windows_ds = apply_downsample(vazamento_spray_windows, new_size)"
   ],
   "id": "6a2bf9b56159e9fc",
   "outputs": [],
   "execution_count": 132
  },
  {
   "metadata": {
    "ExecuteTime": {
     "end_time": "2024-08-14T22:38:27.026394Z",
     "start_time": "2024-08-14T22:38:27.012957Z"
    }
   },
   "cell_type": "code",
   "source": [
    "print('---Normalidade---')\n",
    "print(f'Rótulos: {normalidade_windows_ds.keys()}')\n",
    "print(f'Quantidade de janelas: {len(normalidade_windows_ds[\"2\"])}')\n",
    "print(f'Tamanho das janela: {len(normalidade_windows_ds[\"2\"][0])}')\n",
    "print('-----------------\\n')\n",
    "\n",
    "print('---Normalidade anomalia---')\n",
    "print(f'Rótulos: {normalidade_anomalia_windows_ds.keys()}')\n",
    "print(f'Quantidade de janelas: {len(normalidade_anomalia_windows_ds[\"2\"])}')\n",
    "print(f'Tamanho das janela: {len(normalidade_anomalia_windows_ds[\"2\"][0])}')\n",
    "print('--------------------------\\n')\n",
    "\n",
    "print('---Normalidade spray---')\n",
    "print(f'Rótulos: {normalidade_spray_windows_ds.keys()}')\n",
    "print(f'Quantidade de janelas: {len(normalidade_spray_windows_ds[\"2\"])}')\n",
    "print(f'Tamanho das janela: {len(normalidade_spray_windows_ds[\"2\"][0])}')\n",
    "print('-----------------------\\n')"
   ],
   "id": "a4e487ebb0722148",
   "outputs": [
    {
     "name": "stdout",
     "output_type": "stream",
     "text": [
      "---Normalidade---\n",
      "Rótulos: dict_keys(['2', '3', '4'])\n",
      "Quantidade de janelas: 1000\n",
      "Tamanho das janela: 2500\n",
      "-----------------\n",
      "\n",
      "---Normalidade anomalia---\n",
      "Rótulos: dict_keys(['2', '3', '4'])\n",
      "Quantidade de janelas: 1000\n",
      "Tamanho das janela: 2500\n",
      "--------------------------\n",
      "\n",
      "---Normalidade spray---\n",
      "Rótulos: dict_keys(['2', '3', '4'])\n",
      "Quantidade de janelas: 1000\n",
      "Tamanho das janela: 2500\n",
      "-----------------------\n",
      "\n"
     ]
    }
   ],
   "execution_count": 133
  },
  {
   "metadata": {
    "ExecuteTime": {
     "end_time": "2024-08-14T22:38:27.041495Z",
     "start_time": "2024-08-14T22:38:27.028533Z"
    }
   },
   "cell_type": "code",
   "source": [
    "print('---Vazamento---')\n",
    "print(f'Rótulos: {vazamento_windows_ds.keys()}')\n",
    "print(f'Quantidade de janelas: {len(vazamento_windows_ds[\"2\"])}')\n",
    "print(f'Tamanho das janela: {len(vazamento_windows_ds[\"2\"][0])}')\n",
    "print('---------------\\n')\n",
    "\n",
    "print('---Vazamento anomalia---')\n",
    "print(f'Rótulos: {vazamento_anomalia_windows_ds.keys()}')\n",
    "print(f'Quantidade de janelas: {len(vazamento_anomalia_windows_ds[\"3\"])}')\n",
    "print(f'Tamanho das janela: {len(vazamento_anomalia_windows_ds[\"3\"][0])}')\n",
    "print('------------------------\\n')\n",
    "\n",
    "print('---Vazamento spray---')\n",
    "print(f'Rótulos: {vazamento_spray_windows_ds.keys()}')\n",
    "print(f'Quantidade de janelas: {len(vazamento_spray_windows_ds[\"2\"])}')\n",
    "print(f'Tamanho das janela: {len(vazamento_spray_windows_ds[\"2\"][0])}')\n",
    "print('---------------------\\n')"
   ],
   "id": "380d144d90a1b040",
   "outputs": [
    {
     "name": "stdout",
     "output_type": "stream",
     "text": [
      "---Vazamento---\n",
      "Rótulos: dict_keys(['2', '3', '4'])\n",
      "Quantidade de janelas: 1000\n",
      "Tamanho das janela: 2500\n",
      "---------------\n",
      "\n",
      "---Vazamento anomalia---\n",
      "Rótulos: dict_keys(['3', '4'])\n",
      "Quantidade de janelas: 1000\n",
      "Tamanho das janela: 2500\n",
      "------------------------\n",
      "\n",
      "---Vazamento spray---\n",
      "Rótulos: dict_keys(['2', '3', '4'])\n",
      "Quantidade de janelas: 1000\n",
      "Tamanho das janela: 2500\n",
      "---------------------\n",
      "\n"
     ]
    }
   ],
   "execution_count": 134
  },
  {
   "metadata": {},
   "cell_type": "markdown",
   "source": "### Optou-se por retirar dados de normalidade pela semelhança entre eles, com principal objetivo de reduzir custo computacional para treinar o modelo final",
   "id": "b2087c96012ef471"
  },
  {
   "metadata": {
    "ExecuteTime": {
     "end_time": "2024-08-14T22:38:27.056765Z",
     "start_time": "2024-08-14T22:38:27.044538Z"
    }
   },
   "cell_type": "code",
   "source": "random.seed(42)",
   "id": "218f006c2b9629bf",
   "outputs": [],
   "execution_count": 135
  },
  {
   "metadata": {
    "ExecuteTime": {
     "end_time": "2024-08-14T22:38:27.072533Z",
     "start_time": "2024-08-14T22:38:27.058763Z"
    }
   },
   "cell_type": "code",
   "source": [
    "def normality_sampling(df_dict: dict, keep_percentage: float):\n",
    "    df_dict_n = {}\n",
    "    \n",
    "    # Loop sobre cada key:value em df_windows\n",
    "    for key, value in df_dict.items():\n",
    "        # Número de elementos a serem mantidos\n",
    "        num_to_keep = int(len(value) * keep_percentage)\n",
    "        \n",
    "        # Selecionar aleatoriamente os índices dos elementos a serem mantidos\n",
    "        indices_to_keep = random.sample(range(len(value)), num_to_keep)\n",
    "        \n",
    "        # Filtrar a lista de dataframes mantendo apenas os elementos selecionados\n",
    "        df_dict_n[key] = [value[i] for i in indices_to_keep]\n",
    "        \n",
    "    return df_dict_n\n",
    "    \n",
    "    # Agora df_windows contém apenas x% dos elementos originais para cada key:value"
   ],
   "id": "864f398a42a6a577",
   "outputs": [],
   "execution_count": 136
  },
  {
   "metadata": {
    "ExecuteTime": {
     "end_time": "2024-08-14T22:38:27.087544Z",
     "start_time": "2024-08-14T22:38:27.075081Z"
    }
   },
   "cell_type": "code",
   "source": [
    "# Porcentagem de elementos a serem mantidos\n",
    "keep_percentage_vazamento = 1 # tem que ser pelo menos 10%\n",
    "\n",
    "keep_percentage_normalidade = keep_percentage_vazamento/9 # sempre 1/9 da quantidade de dados de cada classe para não gerar desbalanceamento"
   ],
   "id": "c0a0bb5dcd915f82",
   "outputs": [],
   "execution_count": 137
  },
  {
   "metadata": {
    "ExecuteTime": {
     "end_time": "2024-08-14T22:38:29.044853Z",
     "start_time": "2024-08-14T22:38:27.089891Z"
    }
   },
   "cell_type": "code",
   "source": [
    "normalidade_windows_ds_n = normality_sampling(normalidade_windows_ds, keep_percentage_normalidade)\n",
    "normalidade_anomalia_windows_ds_n = normality_sampling(normalidade_anomalia_windows_ds, keep_percentage_normalidade)\n",
    "normalidade_spray_windows_ds_n = normality_sampling(normalidade_spray_windows_ds, keep_percentage_normalidade)\n",
    "\n",
    "vazamento_windows_ds_n = normality_sampling(vazamento_windows_ds, keep_percentage_vazamento)\n",
    "vazamento_anomalia_windows_ds_n = normality_sampling(vazamento_anomalia_windows_ds, keep_percentage_vazamento)\n",
    "vazamento_spray_windows_ds_n = normality_sampling(vazamento_spray_windows_ds, keep_percentage_vazamento)"
   ],
   "id": "d1118ddaa4f683ce",
   "outputs": [],
   "execution_count": 138
  },
  {
   "metadata": {
    "ExecuteTime": {
     "end_time": "2024-08-14T22:38:29.059855Z",
     "start_time": "2024-08-14T22:38:29.049123Z"
    }
   },
   "cell_type": "code",
   "source": [
    "print('---Normalidade---')\n",
    "print(f'Rótulos: {normalidade_windows_ds_n.keys()}')\n",
    "print(f'Quantidade de janelas: {len(normalidade_windows_ds_n[\"2\"])}')\n",
    "print(f'Tamanho das janela: {len(normalidade_windows_ds_n[\"2\"][0])}')\n",
    "print('-----------------\\n')\n",
    "\n",
    "print('---Normalidade anomalia---')\n",
    "print(f'Rótulos: {normalidade_anomalia_windows_ds_n.keys()}')\n",
    "print(f'Quantidade de janelas: {len(normalidade_anomalia_windows_ds_n[\"2\"])}')\n",
    "print(f'Tamanho das janela: {len(normalidade_anomalia_windows_ds_n[\"2\"][0])}')\n",
    "print('--------------------------\\n')\n",
    "\n",
    "print('---Normalidade spray---')\n",
    "print(f'Rótulos: {normalidade_spray_windows_ds_n.keys()}')\n",
    "print(f'Quantidade de janelas: {len(normalidade_spray_windows_ds_n[\"2\"])}')\n",
    "print(f'Tamanho das janela: {len(normalidade_spray_windows_ds_n[\"2\"][0])}')\n",
    "print('-----------------------\\n')"
   ],
   "id": "8f0e0d68cca3021b",
   "outputs": [
    {
     "name": "stdout",
     "output_type": "stream",
     "text": [
      "---Normalidade---\n",
      "Rótulos: dict_keys(['2', '3', '4'])\n",
      "Quantidade de janelas: 111\n",
      "Tamanho das janela: 2500\n",
      "-----------------\n",
      "\n",
      "---Normalidade anomalia---\n",
      "Rótulos: dict_keys(['2', '3', '4'])\n",
      "Quantidade de janelas: 111\n",
      "Tamanho das janela: 2500\n",
      "--------------------------\n",
      "\n",
      "---Normalidade spray---\n",
      "Rótulos: dict_keys(['2', '3', '4'])\n",
      "Quantidade de janelas: 111\n",
      "Tamanho das janela: 2500\n",
      "-----------------------\n",
      "\n"
     ]
    }
   ],
   "execution_count": 139
  },
  {
   "metadata": {
    "ExecuteTime": {
     "end_time": "2024-08-14T22:38:29.075901Z",
     "start_time": "2024-08-14T22:38:29.062853Z"
    }
   },
   "cell_type": "code",
   "source": [
    "print('---Vazamento---')\n",
    "print(f'Rótulos: {vazamento_windows_ds_n.keys()}')\n",
    "print(f'Quantidade de janelas: {len(vazamento_windows_ds_n[\"2\"])}')\n",
    "print(f'Tamanho das janela: {len(vazamento_windows_ds_n[\"2\"][0])}')\n",
    "print('---------------\\n')\n",
    "\n",
    "print('---Vazamento anomalia---')\n",
    "print(f'Rótulos: {vazamento_anomalia_windows_ds_n.keys()}')\n",
    "print(f'Quantidade de janelas: {len(vazamento_anomalia_windows_ds_n[\"3\"])}')\n",
    "print(f'Tamanho das janela: {len(vazamento_anomalia_windows_ds_n[\"3\"][0])}')\n",
    "print('------------------------\\n')\n",
    "\n",
    "print('---Vazamento spray---')\n",
    "print(f'Rótulos: {vazamento_spray_windows_ds_n.keys()}')\n",
    "print(f'Quantidade de janelas: {len(vazamento_spray_windows_ds_n[\"2\"])}')\n",
    "print(f'Tamanho das janela: {len(vazamento_spray_windows_ds_n[\"2\"][0])}')\n",
    "print('---------------------\\n')"
   ],
   "id": "1e392ae4d2dab9ed",
   "outputs": [
    {
     "name": "stdout",
     "output_type": "stream",
     "text": [
      "---Vazamento---\n",
      "Rótulos: dict_keys(['2', '3', '4'])\n",
      "Quantidade de janelas: 1000\n",
      "Tamanho das janela: 2500\n",
      "---------------\n",
      "\n",
      "---Vazamento anomalia---\n",
      "Rótulos: dict_keys(['3', '4'])\n",
      "Quantidade de janelas: 1000\n",
      "Tamanho das janela: 2500\n",
      "------------------------\n",
      "\n",
      "---Vazamento spray---\n",
      "Rótulos: dict_keys(['2', '3', '4'])\n",
      "Quantidade de janelas: 1000\n",
      "Tamanho das janela: 2500\n",
      "---------------------\n",
      "\n"
     ]
    }
   ],
   "execution_count": 140
  },
  {
   "metadata": {},
   "cell_type": "markdown",
   "source": "# FFT",
   "id": "81b6b054ed371e59"
  },
  {
   "metadata": {
    "ExecuteTime": {
     "end_time": "2024-08-14T22:38:29.091846Z",
     "start_time": "2024-08-14T22:38:29.081908Z"
    }
   },
   "cell_type": "code",
   "source": [
    "def fft_transform(df, canal, fs, n):\n",
    "    t = 1/fs\n",
    "    # x = np.linspace(0.0, N*T, N, endpoint=False)\n",
    "    y_values = df[canal].values\n",
    "\n",
    "    # valor imaginario\n",
    "    yf = fft(y_values)\n",
    "    xf = fftfreq(n, t)[:n//2]\n",
    "\n",
    "    yf = 2.0/n * np.abs(yf[:n//2])\n",
    "\n",
    "    return xf, yf"
   ],
   "id": "e94b8c3226d62909",
   "outputs": [],
   "execution_count": 141
  },
  {
   "metadata": {
    "ExecuteTime": {
     "end_time": "2024-08-14T22:38:29.106926Z",
     "start_time": "2024-08-14T22:38:29.098398Z"
    }
   },
   "cell_type": "code",
   "source": [
    "def mount_fft_data_frames(df_windows, element_size, fs, n):\n",
    "    windows_fft = {}\n",
    "    xf1, xf2 = None, None\n",
    "    \n",
    "    # Inicializando cada valor do dicionário como uma lista de dataframes vazios\n",
    "    for sensor_position in df_windows:\n",
    "        windows_fft[sensor_position] = [pd.DataFrame(columns=['canal_1', 'canal_2']) for _ in range(element_size)]\n",
    "    \n",
    "    # tira a fft e filtra para todas as janelas de tempo em df_windows e salva em df_windows_fft\n",
    "    for sensor_position in df_windows:\n",
    "        for index, _ in enumerate(df_windows[sensor_position]):\n",
    "            xf1, windows_fft[sensor_position][index]['canal_1'] = fft_transform(df_windows[sensor_position][index], 'valor_canal_1', fs, n)\n",
    "            xf2, windows_fft[sensor_position][index]['canal_2'] = fft_transform(df_windows[sensor_position][index], 'valor_canal_2', fs, n)\n",
    "            windows_fft[sensor_position][index].reset_index(drop=True, inplace=True)\n",
    "            \n",
    "    return windows_fft, xf1, xf2"
   ],
   "id": "2b77d36e7a10bf88",
   "outputs": [],
   "execution_count": 142
  },
  {
   "metadata": {
    "ExecuteTime": {
     "end_time": "2024-08-14T22:38:29.122516Z",
     "start_time": "2024-08-14T22:38:29.108927Z"
    }
   },
   "cell_type": "code",
   "source": [
    "fft_fs = 1000000.0/(window_size/new_size)\n",
    "fft_N = new_size"
   ],
   "id": "5c6e147a10c4933b",
   "outputs": [],
   "execution_count": 143
  },
  {
   "metadata": {},
   "cell_type": "markdown",
   "source": "## Normalidade",
   "id": "3bcf9fa2372a2c19"
  },
  {
   "metadata": {
    "ExecuteTime": {
     "end_time": "2024-08-14T22:38:29.560224Z",
     "start_time": "2024-08-14T22:38:29.124205Z"
    }
   },
   "cell_type": "code",
   "source": [
    "normalidade_dfs_fft_size = len(normalidade_windows_ds_n['2'])\n",
    "normalidade_windows_fft, normalidade_xf1, normalidade_xf2 = mount_fft_data_frames(normalidade_windows_ds_n, normalidade_dfs_fft_size, fft_fs, fft_N)"
   ],
   "id": "2bdc4a3474e96110",
   "outputs": [],
   "execution_count": 144
  },
  {
   "metadata": {
    "ExecuteTime": {
     "end_time": "2024-08-14T22:38:29.825221Z",
     "start_time": "2024-08-14T22:38:29.562624Z"
    }
   },
   "cell_type": "code",
   "source": [
    "plt.figure(figsize=(10, 6))\n",
    "plt.plot(normalidade_xf1, normalidade_windows_fft['2'][12]['canal_1'], label='Canal 1')\n",
    "plt.plot(normalidade_xf1, normalidade_windows_fft['2'][12]['canal_2'], label='Canal 2')\n",
    "plt.xlabel('Frequência')\n",
    "plt.ylabel('Magnitude')\n",
    "plt.title('Normalidade')\n",
    "plt.legend()\n",
    "plt.show()"
   ],
   "id": "781b2b833b51f7e0",
   "outputs": [
    {
     "data": {
      "text/plain": [
       "<Figure size 1000x600 with 1 Axes>"
      ],
      "image/png": "[encoded data removed]"
     },
     "metadata": {},
     "output_type": "display_data"
    }
   ],
   "execution_count": 145
  },
  {
   "metadata": {
    "ExecuteTime": {
     "end_time": "2024-08-14T22:38:29.840631Z",
     "start_time": "2024-08-14T22:38:29.827312Z"
    }
   },
   "cell_type": "code",
   "source": [
    "print(normalidade_xf1[150])\n",
    "print(normalidade_xf1[700])"
   ],
   "id": "4f9afade1bd09085",
   "outputs": [
    {
     "name": "stdout",
     "output_type": "stream",
     "text": [
      "15000.0\n",
      "70000.0\n"
     ]
    }
   ],
   "execution_count": 146
  },
  {
   "metadata": {},
   "cell_type": "markdown",
   "source": "## Normalidade anomalia",
   "id": "d16ec777d20df635"
  },
  {
   "metadata": {
    "ExecuteTime": {
     "end_time": "2024-08-14T22:38:30.200159Z",
     "start_time": "2024-08-14T22:38:29.843845Z"
    }
   },
   "cell_type": "code",
   "source": [
    "normalidade_anomalia_dfs_fft_size = len(normalidade_anomalia_windows_ds_n['2'])\n",
    "normalidade_anomalia_windows_fft, normalidade_anomalia_xf1, normalidade_anomalia_xf2 = mount_fft_data_frames(normalidade_anomalia_windows_ds_n, normalidade_anomalia_dfs_fft_size, fft_fs, fft_N)"
   ],
   "id": "21e4d774b6898b08",
   "outputs": [],
   "execution_count": 147
  },
  {
   "metadata": {
    "ExecuteTime": {
     "end_time": "2024-08-14T22:38:30.464431Z",
     "start_time": "2024-08-14T22:38:30.201843Z"
    }
   },
   "cell_type": "code",
   "source": [
    "plt.figure(figsize=(10, 6))\n",
    "plt.plot(normalidade_anomalia_xf1, normalidade_anomalia_windows_fft['2'][12]['canal_1'], label='Canal 1')\n",
    "plt.plot(normalidade_anomalia_xf1, normalidade_anomalia_windows_fft['2'][12]['canal_2'], label='Canal 2')\n",
    "plt.xlabel('Frequência')\n",
    "plt.ylabel('Magnitude')\n",
    "plt.title('Normalidade anomalia')\n",
    "plt.legend()\n",
    "plt.show()"
   ],
   "id": "642b07a9febd0831",
   "outputs": [
    {
     "data": {
      "text/plain": [
       "<Figure size 1000x600 with 1 Axes>"
      ],
      "image/png": "[encoded data removed]"
     },
     "metadata": {},
     "output_type": "display_data"
    }
   ],
   "execution_count": 148
  },
  {
   "metadata": {
    "ExecuteTime": {
     "end_time": "2024-08-14T22:38:30.480429Z",
     "start_time": "2024-08-14T22:38:30.466954Z"
    }
   },
   "cell_type": "code",
   "source": [
    "print(normalidade_anomalia_xf1[150])\n",
    "print(normalidade_anomalia_xf1[700])"
   ],
   "id": "7b44577803ccf408",
   "outputs": [
    {
     "name": "stdout",
     "output_type": "stream",
     "text": [
      "15000.0\n",
      "70000.0\n"
     ]
    }
   ],
   "execution_count": 149
  },
  {
   "metadata": {},
   "cell_type": "markdown",
   "source": "## Normalidade spray",
   "id": "356ec0cb2f2f223b"
  },
  {
   "metadata": {
    "ExecuteTime": {
     "end_time": "2024-08-14T22:38:30.887437Z",
     "start_time": "2024-08-14T22:38:30.484135Z"
    }
   },
   "cell_type": "code",
   "source": [
    "normalidade_spray_dfs_fft_size = len(normalidade_spray_windows_ds_n['2'])\n",
    "normalidade_spray_windows_fft, normalidade_spray_xf1, normalidade_spray_xf2 = mount_fft_data_frames(normalidade_spray_windows_ds_n, normalidade_spray_dfs_fft_size, fft_fs, fft_N)"
   ],
   "id": "da05da3fccc42768",
   "outputs": [],
   "execution_count": 150
  },
  {
   "metadata": {
    "ExecuteTime": {
     "end_time": "2024-08-14T22:38:31.137161Z",
     "start_time": "2024-08-14T22:38:30.889542Z"
    }
   },
   "cell_type": "code",
   "source": [
    "plt.figure(figsize=(10, 6))\n",
    "plt.plot(normalidade_spray_xf1, normalidade_spray_windows_fft['2'][12]['canal_1'], label='Canal 1')\n",
    "plt.plot(normalidade_spray_xf1, normalidade_spray_windows_fft['2'][12]['canal_2'], label='Canal 2')\n",
    "plt.xlabel('Frequência')\n",
    "plt.ylabel('Magnitude')\n",
    "plt.title('Normalidade spray')\n",
    "plt.legend()\n",
    "plt.show()"
   ],
   "id": "62efc240e69bce40",
   "outputs": [
    {
     "data": {
      "text/plain": [
       "<Figure size 1000x600 with 1 Axes>"
      ],
      "image/png": "[encoded data removed]"
     },
     "metadata": {},
     "output_type": "display_data"
    }
   ],
   "execution_count": 151
  },
  {
   "metadata": {
    "ExecuteTime": {
     "end_time": "2024-08-14T22:38:31.153040Z",
     "start_time": "2024-08-14T22:38:31.141164Z"
    }
   },
   "cell_type": "code",
   "source": [
    "print(normalidade_spray_xf1[150])\n",
    "print(normalidade_spray_xf1[700])"
   ],
   "id": "ce3c8c95f2d5c35c",
   "outputs": [
    {
     "name": "stdout",
     "output_type": "stream",
     "text": [
      "15000.0\n",
      "70000.0\n"
     ]
    }
   ],
   "execution_count": 152
  },
  {
   "metadata": {},
   "cell_type": "markdown",
   "source": "## Vazamento",
   "id": "c663c20f71e994c3"
  },
  {
   "metadata": {
    "ExecuteTime": {
     "end_time": "2024-08-14T22:38:35.170192Z",
     "start_time": "2024-08-14T22:38:31.154547Z"
    }
   },
   "cell_type": "code",
   "source": [
    "vazamento_dfs_fft_size = len(vazamento_windows_ds_n['2'])\n",
    "vazamento_windows_fft, vazamento_xf1, vazamento_xf2 = mount_fft_data_frames(vazamento_windows_ds_n, vazamento_dfs_fft_size, fft_fs, fft_N)"
   ],
   "id": "c3f800cfacd10ed7",
   "outputs": [],
   "execution_count": 153
  },
  {
   "metadata": {
    "ExecuteTime": {
     "end_time": "2024-08-14T22:38:35.430580Z",
     "start_time": "2024-08-14T22:38:35.172709Z"
    }
   },
   "cell_type": "code",
   "source": [
    "plt.figure(figsize=(10, 6))\n",
    "plt.plot(vazamento_xf1, vazamento_windows_fft['2'][12]['canal_1'], label='Canal 1')\n",
    "plt.plot(vazamento_xf1, vazamento_windows_fft['2'][12]['canal_2'], label='Canal 2')\n",
    "plt.xlabel('Frequência')\n",
    "plt.ylabel('Magnitude')\n",
    "plt.title('Vazamento')\n",
    "plt.legend()\n",
    "plt.show()"
   ],
   "id": "738524a6bcf50142",
   "outputs": [
    {
     "data": {
      "text/plain": [
       "<Figure size 1000x600 with 1 Axes>"
      ],
      "image/png": "[encoded data removed]"
     },
     "metadata": {},
     "output_type": "display_data"
    }
   ],
   "execution_count": 154
  },
  {
   "metadata": {
    "ExecuteTime": {
     "end_time": "2024-08-14T22:38:35.446450Z",
     "start_time": "2024-08-14T22:38:35.432827Z"
    }
   },
   "cell_type": "code",
   "source": [
    "print(vazamento_xf1[150])\n",
    "print(vazamento_xf1[700])"
   ],
   "id": "e764de4c0b3eaa35",
   "outputs": [
    {
     "name": "stdout",
     "output_type": "stream",
     "text": [
      "15000.0\n",
      "70000.0\n"
     ]
    }
   ],
   "execution_count": 155
  },
  {
   "metadata": {},
   "cell_type": "markdown",
   "source": "## Vazamento anomalia",
   "id": "dd0d2f8f4c7fa040"
  },
  {
   "metadata": {
    "ExecuteTime": {
     "end_time": "2024-08-14T22:38:38.610763Z",
     "start_time": "2024-08-14T22:38:35.448687Z"
    }
   },
   "cell_type": "code",
   "source": [
    "vazamento_anomalia_dfs_fft_size = len(vazamento_anomalia_windows_ds_n['3'])\n",
    "vazamento_anomalia_windows_fft, vazamento_anomalia_xf1, vazamento_anomalia_xf2 = mount_fft_data_frames(vazamento_anomalia_windows_ds_n, vazamento_anomalia_dfs_fft_size, fft_fs, fft_N)"
   ],
   "id": "bc9e6103f5f11ff5",
   "outputs": [],
   "execution_count": 156
  },
  {
   "metadata": {
    "ExecuteTime": {
     "end_time": "2024-08-14T22:38:39.060783Z",
     "start_time": "2024-08-14T22:38:38.613185Z"
    }
   },
   "cell_type": "code",
   "source": [
    "plt.figure(figsize=(10, 6))\n",
    "plt.plot(vazamento_anomalia_xf1, vazamento_anomalia_windows_fft['3'][12]['canal_1'], label='Canal 1')\n",
    "plt.plot(vazamento_anomalia_xf1, vazamento_anomalia_windows_fft['3'][12]['canal_2'], label='Canal 2')\n",
    "plt.xlabel('Frequência')\n",
    "plt.ylabel('Magnitude')\n",
    "plt.title('Vazamento anomalia')\n",
    "plt.legend()\n",
    "plt.show()"
   ],
   "id": "d27c67659a4627e8",
   "outputs": [
    {
     "data": {
      "text/plain": [
       "<Figure size 1000x600 with 1 Axes>"
      ],
      "image/png": "[encoded data removed]"
     },
     "metadata": {},
     "output_type": "display_data"
    }
   ],
   "execution_count": 157
  },
  {
   "metadata": {
    "ExecuteTime": {
     "end_time": "2024-08-14T22:38:39.076309Z",
     "start_time": "2024-08-14T22:38:39.062782Z"
    }
   },
   "cell_type": "code",
   "source": [
    "print(vazamento_anomalia_xf1[150])\n",
    "print(vazamento_anomalia_xf1[700])"
   ],
   "id": "f5cea82bfaeecfa",
   "outputs": [
    {
     "name": "stdout",
     "output_type": "stream",
     "text": [
      "15000.0\n",
      "70000.0\n"
     ]
    }
   ],
   "execution_count": 158
  },
  {
   "metadata": {},
   "cell_type": "markdown",
   "source": "## Vazamento spray",
   "id": "679eec90a7a9c3fe"
  },
  {
   "metadata": {
    "ExecuteTime": {
     "end_time": "2024-08-14T22:38:42.439172Z",
     "start_time": "2024-08-14T22:38:39.078780Z"
    }
   },
   "cell_type": "code",
   "source": [
    "vazamento_spray_dfs_fft_size = len(vazamento_spray_windows_ds_n['2'])\n",
    "vazamento_spray_windows_fft, vazamento_spray_xf1, vazamento_spray_xf2 = mount_fft_data_frames(vazamento_spray_windows_ds_n, vazamento_spray_dfs_fft_size, fft_fs, fft_N)"
   ],
   "id": "36283540711c282c",
   "outputs": [],
   "execution_count": 159
  },
  {
   "metadata": {
    "ExecuteTime": {
     "end_time": "2024-08-14T22:38:42.672986Z",
     "start_time": "2024-08-14T22:38:42.441985Z"
    }
   },
   "cell_type": "code",
   "source": [
    "plt.figure(figsize=(10, 6))\n",
    "plt.plot(vazamento_spray_xf1, vazamento_spray_windows_fft['2'][12]['canal_1'], label='Canal 1')\n",
    "plt.plot(vazamento_spray_xf1, vazamento_spray_windows_fft['2'][12]['canal_2'], label='Canal 2')\n",
    "plt.xlabel('Frequência')\n",
    "plt.ylabel('Magnitude')\n",
    "plt.title('Vazamento spray')\n",
    "plt.legend()\n",
    "plt.show()"
   ],
   "id": "d6f1abe2f0174657",
   "outputs": [
    {
     "data": {
      "text/plain": [
       "<Figure size 1000x600 with 1 Axes>"
      ],
      "image/png": "[encoded data removed]"
     },
     "metadata": {},
     "output_type": "display_data"
    }
   ],
   "execution_count": 160
  },
  {
   "metadata": {
    "ExecuteTime": {
     "end_time": "2024-08-14T22:38:42.688215Z",
     "start_time": "2024-08-14T22:38:42.675531Z"
    }
   },
   "cell_type": "code",
   "source": [
    "print(vazamento_spray_xf1[150])\n",
    "print(vazamento_spray_xf1[700])"
   ],
   "id": "9ebc4c9eaa80954a",
   "outputs": [
    {
     "name": "stdout",
     "output_type": "stream",
     "text": [
      "15000.0\n",
      "70000.0\n"
     ]
    }
   ],
   "execution_count": 161
  },
  {
   "metadata": {},
   "cell_type": "markdown",
   "source": "## Sampling",
   "id": "8de6c7c84d10b72a"
  },
  {
   "metadata": {
    "ExecuteTime": {
     "end_time": "2024-08-14T22:38:42.703631Z",
     "start_time": "2024-08-14T22:38:42.692863Z"
    }
   },
   "cell_type": "code",
   "source": [
    "def fft_sampling(df_windows_fft: dict):\n",
    "    df_windows_fft_sampled = {}\n",
    "    \n",
    "    for sensor_position in df_windows_fft:\n",
    "        df_windows_fft_sampled[sensor_position] = []\n",
    "        \n",
    "        for index, sample in enumerate(df_windows_fft[sensor_position]):\n",
    "            df_windows_fft_sampled[sensor_position].append(sample[0:700].reset_index(drop=True))\n",
    "            \n",
    "    return df_windows_fft_sampled"
   ],
   "id": "4efc39d9e07e726",
   "outputs": [],
   "execution_count": 162
  },
  {
   "metadata": {
    "ExecuteTime": {
     "end_time": "2024-08-14T22:38:45.334705Z",
     "start_time": "2024-08-14T22:38:42.705643Z"
    }
   },
   "cell_type": "code",
   "source": [
    "normalidade_windows_fft_s = fft_sampling(normalidade_windows_fft)\n",
    "normalidade_anomalia_windows_fft_s = fft_sampling(normalidade_anomalia_windows_fft)\n",
    "normalidade_spray_windows_fft_s = fft_sampling(normalidade_spray_windows_fft)\n",
    "\n",
    "vazamento_windows_fft_s = fft_sampling(vazamento_windows_fft)\n",
    "vazamento_anomalia_windows_fft_s = fft_sampling(vazamento_anomalia_windows_fft)\n",
    "vazamento_spray_windows_fft_s = fft_sampling(vazamento_spray_windows_fft)"
   ],
   "id": "2f0e62230acb62f1",
   "outputs": [],
   "execution_count": 163
  },
  {
   "metadata": {
    "ExecuteTime": {
     "end_time": "2024-08-14T22:38:45.724682Z",
     "start_time": "2024-08-14T22:38:45.337002Z"
    }
   },
   "cell_type": "code",
   "source": [
    "plt.figure(figsize=(10, 6))\n",
    "# plt.plot(vazamento_xf1[150:700], vazamento_windows_fft_s['2'][12]['canal_1'], label='Canal 1')\n",
    "# plt.plot(vazamento_xf1[150:700], vazamento_windows_fft_s['2'][12]['canal_2'], label='Canal 2')\n",
    "plt.plot(vazamento_xf1[0:700], vazamento_windows_fft_s['2'][12]['canal_1'], label='Canal 1')\n",
    "plt.plot(vazamento_xf1[0:700], vazamento_windows_fft_s['2'][12]['canal_2'], label='Canal 2')\n",
    "plt.xlabel('Frequência')\n",
    "plt.ylabel('Magnitude')\n",
    "plt.title('Vazamento')\n",
    "plt.legend()\n",
    "plt.show()"
   ],
   "id": "be1a5a2599b342c8",
   "outputs": [
    {
     "data": {
      "text/plain": [
       "<Figure size 1000x600 with 1 Axes>"
      ],
      "image/png": "[encoded data removed]"
     },
     "metadata": {},
     "output_type": "display_data"
    }
   ],
   "execution_count": 164
  },
  {
   "metadata": {},
   "cell_type": "markdown",
   "source": "# Standard-Scaler",
   "id": "522c15408ec21e50"
  },
  {
   "metadata": {
    "ExecuteTime": {
     "end_time": "2024-08-14T22:38:45.739498Z",
     "start_time": "2024-08-14T22:38:45.729607Z"
    }
   },
   "cell_type": "code",
   "source": [
    "def apply_scaler(df_windows_fft: dict):\n",
    "    df_windows_fft_scaled = {}\n",
    "    \n",
    "    for key, value_list in df_windows_fft.items():\n",
    "        df_windows_fft_scaled[key] = []\n",
    "        \n",
    "        for df in value_list:\n",
    "            df_scaled = pd.DataFrame()\n",
    "            \n",
    "            # Inicialize o StandardScaler\n",
    "            scaler = StandardScaler()\n",
    "            \n",
    "            # Ajuste o scaler aos dados e transforme os valores\n",
    "            scaled_values_1 = scaler.fit_transform(df[['canal_1']])\n",
    "            scaled_values_2 = scaler.fit_transform(df[['canal_2']])\n",
    "            \n",
    "            # Substitua os valores na coluna 'valor_sensor' pelos valores normalizados\n",
    "            df_scaled['canal_1'] = scaled_values_1.flatten()\n",
    "            df_scaled['canal_2'] = scaled_values_2.flatten()\n",
    "            \n",
    "            df_windows_fft_scaled[key].append(df_scaled)\n",
    "            \n",
    "    return df_windows_fft_scaled"
   ],
   "id": "e06018693455283d",
   "outputs": [],
   "execution_count": 165
  },
  {
   "metadata": {
    "ExecuteTime": {
     "end_time": "2024-08-14T22:39:39.234417Z",
     "start_time": "2024-08-14T22:38:45.741820Z"
    }
   },
   "cell_type": "code",
   "source": [
    "normalidade_windows_fft_scaled = apply_scaler(normalidade_windows_fft_s)\n",
    "normalidade_anomalia_windows_fft_scaled = apply_scaler(normalidade_anomalia_windows_fft_s)\n",
    "normalidade_spray_windows_fft_scaled = apply_scaler(normalidade_windows_fft_s)\n",
    "\n",
    "vazamento_windows_fft_scaled = apply_scaler(vazamento_windows_fft_s)\n",
    "vazamento_anomalia_windows_fft_scaled = apply_scaler(vazamento_anomalia_windows_fft_s)\n",
    "vazamento_spray_windows_fft_scaled = apply_scaler(vazamento_spray_windows_fft_s)"
   ],
   "id": "f21184d2e0be7857",
   "outputs": [],
   "execution_count": 166
  },
  {
   "metadata": {},
   "cell_type": "markdown",
   "source": "# Prepare Labels",
   "id": "d5c51f5695eb061"
  },
  {
   "metadata": {
    "ExecuteTime": {
     "end_time": "2024-08-14T22:39:39.996303Z",
     "start_time": "2024-08-14T22:39:39.236958Z"
    }
   },
   "cell_type": "code",
   "source": [
    "all_windows = []\n",
    "labels = []"
   ],
   "id": "4b1cb60fff3101da",
   "outputs": [],
   "execution_count": 167
  },
  {
   "metadata": {
    "ExecuteTime": {
     "end_time": "2024-08-14T22:39:40.012278Z",
     "start_time": "2024-08-14T22:39:40.000738Z"
    }
   },
   "cell_type": "code",
   "source": [
    "def prepare_info(df_windows_fft: dict, label):    \n",
    "    for key, value in df_windows_fft.items():\n",
    "        data = []\n",
    "        \n",
    "        if exclude_channel_1:\n",
    "            for df in value:\n",
    "                data.append(df.drop('canal_1', axis=1))\n",
    "                \n",
    "        else:\n",
    "            data = value\n",
    "        \n",
    "        if position_training and (label != 0):\n",
    "            labels.extend([int(key) - 1] * len(value))\n",
    "            \n",
    "        else:\n",
    "            labels.extend([label] * len(value))\n",
    "        \n",
    "        all_windows.extend(data)"
   ],
   "id": "3c8fd264dcb60a58",
   "outputs": [],
   "execution_count": 168
  },
  {
   "metadata": {
    "ExecuteTime": {
     "end_time": "2024-08-14T22:39:42.993529Z",
     "start_time": "2024-08-14T22:39:40.017806Z"
    }
   },
   "cell_type": "code",
   "source": [
    "prepare_info(normalidade_windows_fft_scaled, 0)\n",
    "prepare_info(vazamento_windows_fft_scaled, 1)\n",
    "\n",
    "if include_anomalia:\n",
    "    prepare_info(normalidade_anomalia_windows_fft_scaled, 0)\n",
    "    prepare_info(vazamento_anomalia_windows_fft_scaled, 1)\n",
    "\n",
    "if include_spray:\n",
    "    prepare_info(normalidade_spray_windows_fft_scaled, 0)\n",
    "    prepare_info(vazamento_spray_windows_fft_scaled, 1)"
   ],
   "id": "dbde7ac14a11afff",
   "outputs": [],
   "execution_count": 169
  },
  {
   "metadata": {
    "ExecuteTime": {
     "end_time": "2024-08-14T22:39:43.243076Z",
     "start_time": "2024-08-14T22:39:42.996050Z"
    }
   },
   "cell_type": "code",
   "source": [
    "# Convertendo as listas de dataframes em uma única lista de numpy arrays\n",
    "X = np.array(all_windows)\n",
    "y = np.array(labels)"
   ],
   "id": "1756ef354c0e6bd3",
   "outputs": [],
   "execution_count": 170
  },
  {
   "metadata": {
    "ExecuteTime": {
     "end_time": "2024-08-14T22:39:43.274552Z",
     "start_time": "2024-08-14T22:39:43.245239Z"
    }
   },
   "cell_type": "code",
   "source": "X_train, X_test, y_train, y_test = train_test_split(X, y, test_size=0.2, random_state=42)",
   "id": "c3dd609347596d10",
   "outputs": [],
   "execution_count": 171
  },
  {
   "metadata": {},
   "cell_type": "markdown",
   "source": "# Model training",
   "id": "2917e159590b740e"
  },
  {
   "metadata": {
    "ExecuteTime": {
     "end_time": "2024-08-14T22:39:43.290779Z",
     "start_time": "2024-08-14T22:39:43.278078Z"
    }
   },
   "cell_type": "code",
   "source": [
    "input_length = 1 if exclude_channel_1 else 2\n",
    "print(f\"Input length: {input_length}\")"
   ],
   "id": "2c11896fdd8663fb",
   "outputs": [
    {
     "name": "stdout",
     "output_type": "stream",
     "text": [
      "Input length: 1\n"
     ]
    }
   ],
   "execution_count": 172
  },
  {
   "metadata": {
    "ExecuteTime": {
     "end_time": "2024-08-14T22:39:43.305979Z",
     "start_time": "2024-08-14T22:39:43.293818Z"
    }
   },
   "cell_type": "code",
   "source": [
    "output_length = len(np.unique(labels))\n",
    "print(f\"Output length: {output_length}\")"
   ],
   "id": "2792c5fec646a65c",
   "outputs": [
    {
     "name": "stdout",
     "output_type": "stream",
     "text": [
      "Output length: 4\n"
     ]
    }
   ],
   "execution_count": 173
  },
  {
   "metadata": {
    "ExecuteTime": {
     "end_time": "2024-08-14T22:39:43.322019Z",
     "start_time": "2024-08-14T22:39:43.308146Z"
    }
   },
   "cell_type": "code",
   "source": [
    "def baseline_model(num_units, dense_activation, drop, optimizer):\n",
    "    input_layer = Input(shape=(len(X[0]), input_length))\n",
    "\n",
    "    layer_1 = MultiHeadAttention(num_heads=2, key_dim=2)(input_layer, input_layer)\n",
    "    layer_1 = Flatten()(layer_1)\n",
    "\n",
    "    # layer_1 = LSTM(num_units//4)(input_layer)\n",
    "\n",
    "    layer_1 = Dropout(drop)(layer_1)\n",
    "\n",
    "    layer_2 = Dense(num_units, activation=dense_activation)(layer_1)\n",
    "    layer_2 = Dropout(drop)(layer_2)\n",
    "\n",
    "    layer_3 = Dense(num_units//2, activation=dense_activation)(layer_2)\n",
    "    layer_3 = Dropout(drop)(layer_3)\n",
    "\n",
    "    output_layer = Dense(output_length, activation='softmax')(layer_3)\n",
    "    base_model = Model(inputs = input_layer, outputs = output_layer)\n",
    "\n",
    "    base_model.compile(loss='categorical_crossentropy', optimizer=optimizer, metrics=['accuracy'])\n",
    "    return base_model"
   ],
   "id": "37fb73c706537b53",
   "outputs": [],
   "execution_count": 174
  },
  {
   "metadata": {
    "ExecuteTime": {
     "end_time": "2024-08-14T22:39:43.338106Z",
     "start_time": "2024-08-14T22:39:43.324247Z"
    }
   },
   "cell_type": "code",
   "source": [
    "# num_units_list = [32]\n",
    "# drop_list = [0.2] \n",
    "# batch_sizes = [8]\n",
    "# epochs_list = [10]\n",
    "# optimizer_list = ['Adam']\n",
    "# dense_activations = [\"relu\"]\n",
    "\n",
    "# num_units_list = [32, 64, 128, 256, 512, 1024]\n",
    "# drop_list = [0.2, 0.5] \n",
    "# batch_sizes = [32]\n",
    "# epochs_list = [10, 100] \n",
    "# optimizer_list = ['Adam']\n",
    "# dense_activations = [\"relu\"]\n",
    "\n",
    "# num_units_list = [1024]\n",
    "# drop_list = [0.2] \n",
    "# batch_sizes = [8]\n",
    "# epochs_list = [50]\n",
    "# optimizer_list = ['Adam']\n",
    "# dense_activations = [\"relu\"]\n",
    "\n",
    "# num_units_list = [32]\n",
    "# drop_list = [0.3]\n",
    "# batch_sizes = [16]\n",
    "# epochs_list = [130]\n",
    "# optimizer_list = ['Adam']\n",
    "# dense_activations = [\"relu\"]\n",
    "\n",
    "# num_units_list = [512]\n",
    "# drop_list = [0.2]\n",
    "# batch_sizes = [8]\n",
    "# epochs_list = [60]\n",
    "# optimizer_list = ['Adam']\n",
    "# dense_activations = [\"relu\"]\n",
    "\n",
    "# num_units_list = [32, 64, 128]\n",
    "# drop_list = [0.3, 0.5]\n",
    "# batch_sizes = [32, 64]\n",
    "# epochs_list = [75, 100]\n",
    "# optimizer_list = ['Adam']\n",
    "# dense_activations = [\"relu\"]\n",
    "\n",
    "# batch_sizes < drop_list < epochs_list < num_units_list"
   ],
   "id": "20dedb24438bd769",
   "outputs": [],
   "execution_count": 175
  },
  {
   "metadata": {
    "ExecuteTime": {
     "end_time": "2024-08-14T22:39:43.354821Z",
     "start_time": "2024-08-14T22:39:43.341104Z"
    }
   },
   "cell_type": "code",
   "source": [
    "kf = StratifiedKFold(n_splits=5, shuffle=True, random_state=42)\n",
    "results = []\n",
    "best_model = None\n",
    "best_accuracy = 0"
   ],
   "id": "df13a1f8d7156371",
   "outputs": [],
   "execution_count": 176
  },
  {
   "metadata": {
    "ExecuteTime": {
     "end_time": "2024-08-14T23:15:25.350666Z",
     "start_time": "2024-08-14T22:39:43.358253Z"
    }
   },
   "cell_type": "code",
   "source": [
    "# Loop over the different types of layers and hyperparameters\n",
    "for num_units in num_units_list:\n",
    "    for batch_size in batch_sizes:\n",
    "        for epochs in epochs_list:\n",
    "            for dense_activation in dense_activations:\n",
    "                for drop in drop_list:\n",
    "                    for optimizer in optimizer_list:\n",
    "                        print(f\"Training model with {num_units} units, batch size {batch_size}, epochs {epochs}, dense_activation {dense_activation}, dropout {drop}, optimizer {optimizer}...\")\n",
    "                        fold_results = []\n",
    "                        fold_number = 0\n",
    "                        accuracy = 0\n",
    "                        precision = 0\n",
    "                        recall = 0\n",
    "                        f1 = 0\n",
    "                        for train_index, test_index in kf.split(X, y):\n",
    "                            X_train, X_test = X[train_index], X[test_index]\n",
    "                            y_train, y_test = y[train_index], y[test_index]\n",
    "                            y_train_encoded = to_categorical(y_train)\n",
    "                            y_test_encoded = to_categorical(y_test)\n",
    "\n",
    "                            # Creating and training the model\n",
    "                            model = baseline_model(num_units, dense_activation, drop, optimizer)\n",
    "                            history = model.fit(X_train, y_train_encoded, epochs=epochs, batch_size=batch_size, validation_data=(X_test, y_test_encoded), verbose=1)\n",
    "\n",
    "                            # Evaluating the model\n",
    "                            y_pred = np.argmax(model.predict(X_test), axis=-1)\n",
    "\n",
    "                            new_acc = accuracy_score(np.argmax(y_test_encoded, axis=1), y_pred)\n",
    "                            accuracy += new_acc\n",
    "\n",
    "                            new_precision = precision_score(np.argmax(y_test_encoded, axis=1), y_pred, average='weighted')\n",
    "                            precision += new_precision\n",
    "\n",
    "                            new_recall = recall_score(np.argmax(y_test_encoded, axis=1), y_pred, average='weighted')\n",
    "                            recall += new_recall\n",
    "\n",
    "                            new_f1 = f1_score(np.argmax(y_test_encoded, axis=1), y_pred, average='weighted')\n",
    "                            f1 += new_f1\n",
    "\n",
    "                            fold_results.append((new_acc, new_precision, new_recall, new_f1))\n",
    "\n",
    "                            fold_number += 1\n",
    "\n",
    "                        # Update best model\n",
    "                        if (accuracy/fold_number) > best_accuracy:\n",
    "                            best_accuracy = accuracy/fold_number\n",
    "                            best_model = model\n",
    "                            best_dense_activation = dense_activation\n",
    "                            best_num_units = num_units\n",
    "                            best_batch_size = batch_size\n",
    "                            best_epochs = epochs\n",
    "                            best_dropout = drop\n",
    "                            best_optimizer = optimizer\n",
    "\n",
    "                        # Saving the results for later analysis\n",
    "                        results.append((num_units, batch_size, epochs, dense_activation, drop, optimizer, fold_results))\n",
    "\n",
    "# Convert the best result into a DataFrame\n",
    "best_results = []\n",
    "best_results.append((best_accuracy, best_dense_activation, best_num_units, best_batch_size, best_epochs, best_dropout, best_optimizer))\n",
    "best_results_df = pd.DataFrame(best_results, columns=['best_accuracy', 'best_dense_activation', 'best_num_units', 'best_batch_size', 'best_epochs', 'best_dropout', 'best_optimizer'])\n",
    "best_results_df.to_csv(f'./model/{sensor_name}/{model_index}/{model_name}-best_results.csv', index=False)\n",
    "\n",
    "# Convert the results into a DataFrame\n",
    "results_df = pd.DataFrame(results, columns=['Num Units', 'Batch Size', 'Epochs', 'Dense Activation', 'drop', 'optimizer', 'Fold Results (accuracy, precision, recall, f1)'])\n",
    "results_df.to_csv(f'./model/{sensor_name}/{model_index}/{model_name}-all_results.csv', index=False)\n",
    "\n",
    "# Save the best model to .h5 file\n",
    "best_model.save(f'./model/{sensor_name}/{model_index}/{model_name}-best_model.h5')"
   ],
   "id": "3fc9e90a88c60b40",
   "outputs": [
    {
     "name": "stdout",
     "output_type": "stream",
     "text": [
      "Training model with 512 units, batch size 8, epochs 60, dense_activation relu, dropout 0.2, optimizer Adam...\n",
      "Epoch 1/60\n",
      "900/900 [==============================] - 10s 10ms/step - loss: 0.5736 - accuracy: 0.7843 - val_loss: 0.1586 - val_accuracy: 0.9539\n",
      "Epoch 2/60\n",
      "900/900 [==============================] - 8s 9ms/step - loss: 0.1803 - accuracy: 0.9458 - val_loss: 0.1203 - val_accuracy: 0.9506\n",
      "Epoch 3/60\n",
      "900/900 [==============================] - 7s 8ms/step - loss: 0.1290 - accuracy: 0.9612 - val_loss: 0.0879 - val_accuracy: 0.9744\n",
      "Epoch 4/60\n",
      "900/900 [==============================] - 7s 8ms/step - loss: 0.1142 - accuracy: 0.9626 - val_loss: 0.0656 - val_accuracy: 0.9789\n",
      "Epoch 5/60\n",
      "900/900 [==============================] - 7s 8ms/step - loss: 0.0802 - accuracy: 0.9729 - val_loss: 0.0960 - val_accuracy: 0.9656\n",
      "Epoch 6/60\n",
      "900/900 [==============================] - 7s 8ms/step - loss: 0.0878 - accuracy: 0.9753 - val_loss: 0.0709 - val_accuracy: 0.9761\n",
      "Epoch 7/60\n",
      "900/900 [==============================] - 7s 8ms/step - loss: 0.0840 - accuracy: 0.9743 - val_loss: 0.0492 - val_accuracy: 0.9872\n",
      "Epoch 8/60\n",
      "900/900 [==============================] - 7s 8ms/step - loss: 0.0798 - accuracy: 0.9765 - val_loss: 0.0740 - val_accuracy: 0.9817\n",
      "Epoch 9/60\n",
      "900/900 [==============================] - 7s 8ms/step - loss: 0.0651 - accuracy: 0.9789 - val_loss: 0.0504 - val_accuracy: 0.9883\n",
      "Epoch 10/60\n",
      "900/900 [==============================] - 7s 8ms/step - loss: 0.0709 - accuracy: 0.9776 - val_loss: 0.0653 - val_accuracy: 0.9839\n",
      "Epoch 11/60\n",
      "900/900 [==============================] - 7s 8ms/step - loss: 0.0623 - accuracy: 0.9810 - val_loss: 0.0764 - val_accuracy: 0.9839\n",
      "Epoch 12/60\n",
      "900/900 [==============================] - 7s 8ms/step - loss: 0.0533 - accuracy: 0.9824 - val_loss: 0.0564 - val_accuracy: 0.9883\n",
      "Epoch 13/60\n",
      "900/900 [==============================] - 7s 8ms/step - loss: 0.0597 - accuracy: 0.9781 - val_loss: 0.0732 - val_accuracy: 0.9828\n",
      "Epoch 14/60\n",
      "900/900 [==============================] - 7s 8ms/step - loss: 0.0435 - accuracy: 0.9844 - val_loss: 0.0412 - val_accuracy: 0.9922\n",
      "Epoch 15/60\n",
      "900/900 [==============================] - 7s 8ms/step - loss: 0.0427 - accuracy: 0.9864 - val_loss: 0.0723 - val_accuracy: 0.9867\n",
      "Epoch 16/60\n",
      "900/900 [==============================] - 7s 8ms/step - loss: 0.0456 - accuracy: 0.9858 - val_loss: 0.1025 - val_accuracy: 0.9844\n",
      "Epoch 17/60\n",
      "900/900 [==============================] - 7s 8ms/step - loss: 0.0492 - accuracy: 0.9851 - val_loss: 0.0898 - val_accuracy: 0.9783\n",
      "Epoch 18/60\n",
      "900/900 [==============================] - 7s 8ms/step - loss: 0.0569 - accuracy: 0.9844 - val_loss: 0.0475 - val_accuracy: 0.9878\n",
      "Epoch 19/60\n",
      "900/900 [==============================] - 7s 8ms/step - loss: 0.0465 - accuracy: 0.9847 - val_loss: 0.0722 - val_accuracy: 0.9811\n",
      "Epoch 20/60\n",
      "900/900 [==============================] - 7s 8ms/step - loss: 0.0374 - accuracy: 0.9875 - val_loss: 0.0960 - val_accuracy: 0.9817\n",
      "Epoch 21/60\n",
      "900/900 [==============================] - 7s 8ms/step - loss: 0.0385 - accuracy: 0.9882 - val_loss: 0.0621 - val_accuracy: 0.9861\n",
      "Epoch 22/60\n",
      "900/900 [==============================] - 7s 8ms/step - loss: 0.0402 - accuracy: 0.9871 - val_loss: 0.0559 - val_accuracy: 0.9839\n",
      "Epoch 23/60\n",
      "900/900 [==============================] - 7s 8ms/step - loss: 0.0393 - accuracy: 0.9878 - val_loss: 0.0576 - val_accuracy: 0.9889\n",
      "Epoch 24/60\n",
      "900/900 [==============================] - 7s 8ms/step - loss: 0.0373 - accuracy: 0.9865 - val_loss: 0.0713 - val_accuracy: 0.9861\n",
      "Epoch 25/60\n",
      "900/900 [==============================] - 7s 8ms/step - loss: 0.0552 - accuracy: 0.9871 - val_loss: 0.0332 - val_accuracy: 0.9900\n",
      "Epoch 26/60\n",
      "900/900 [==============================] - 7s 8ms/step - loss: 0.0334 - accuracy: 0.9893 - val_loss: 0.0477 - val_accuracy: 0.9911\n",
      "Epoch 27/60\n",
      "900/900 [==============================] - 7s 8ms/step - loss: 0.0286 - accuracy: 0.9911 - val_loss: 0.0437 - val_accuracy: 0.9906\n",
      "Epoch 28/60\n",
      "900/900 [==============================] - 7s 8ms/step - loss: 0.0253 - accuracy: 0.9904 - val_loss: 0.0649 - val_accuracy: 0.9867\n",
      "Epoch 29/60\n",
      "900/900 [==============================] - 7s 8ms/step - loss: 0.0323 - accuracy: 0.9897 - val_loss: 0.0351 - val_accuracy: 0.9906\n",
      "Epoch 30/60\n",
      "900/900 [==============================] - 7s 8ms/step - loss: 0.0335 - accuracy: 0.9881 - val_loss: 0.0414 - val_accuracy: 0.9889\n",
      "Epoch 31/60\n",
      "900/900 [==============================] - 7s 8ms/step - loss: 0.0274 - accuracy: 0.9908 - val_loss: 0.0475 - val_accuracy: 0.9889\n",
      "Epoch 32/60\n",
      "900/900 [==============================] - 7s 8ms/step - loss: 0.0371 - accuracy: 0.9882 - val_loss: 0.0620 - val_accuracy: 0.9839\n",
      "Epoch 33/60\n",
      "900/900 [==============================] - 7s 8ms/step - loss: 0.0379 - accuracy: 0.9879 - val_loss: 0.0473 - val_accuracy: 0.9922\n",
      "Epoch 34/60\n",
      "900/900 [==============================] - 7s 8ms/step - loss: 0.0342 - accuracy: 0.9879 - val_loss: 0.0431 - val_accuracy: 0.9878\n",
      "Epoch 35/60\n",
      "900/900 [==============================] - 7s 8ms/step - loss: 0.0322 - accuracy: 0.9892 - val_loss: 0.0610 - val_accuracy: 0.9889\n",
      "Epoch 36/60\n",
      "900/900 [==============================] - 7s 8ms/step - loss: 0.0271 - accuracy: 0.9908 - val_loss: 0.0649 - val_accuracy: 0.9844\n",
      "Epoch 37/60\n",
      "900/900 [==============================] - 7s 8ms/step - loss: 0.0321 - accuracy: 0.9910 - val_loss: 0.0797 - val_accuracy: 0.9917\n",
      "Epoch 38/60\n",
      "900/900 [==============================] - 7s 8ms/step - loss: 0.0422 - accuracy: 0.9889 - val_loss: 0.0456 - val_accuracy: 0.9906\n",
      "Epoch 39/60\n",
      "900/900 [==============================] - 7s 8ms/step - loss: 0.0281 - accuracy: 0.9907 - val_loss: 0.0464 - val_accuracy: 0.9894\n",
      "Epoch 40/60\n",
      "900/900 [==============================] - 7s 8ms/step - loss: 0.0327 - accuracy: 0.9915 - val_loss: 0.0414 - val_accuracy: 0.9889\n",
      "Epoch 41/60\n",
      "900/900 [==============================] - 7s 8ms/step - loss: 0.0277 - accuracy: 0.9911 - val_loss: 0.0505 - val_accuracy: 0.9906\n",
      "Epoch 42/60\n",
      "900/900 [==============================] - 7s 8ms/step - loss: 0.0385 - accuracy: 0.9910 - val_loss: 0.0354 - val_accuracy: 0.9917\n",
      "Epoch 43/60\n",
      "900/900 [==============================] - 7s 8ms/step - loss: 0.0181 - accuracy: 0.9933 - val_loss: 0.0242 - val_accuracy: 0.9950\n",
      "Epoch 44/60\n",
      "900/900 [==============================] - 7s 8ms/step - loss: 0.0391 - accuracy: 0.9883 - val_loss: 0.0660 - val_accuracy: 0.9872\n",
      "Epoch 45/60\n",
      "900/900 [==============================] - 7s 8ms/step - loss: 0.0231 - accuracy: 0.9928 - val_loss: 0.0483 - val_accuracy: 0.9867\n",
      "Epoch 46/60\n",
      "900/900 [==============================] - 7s 8ms/step - loss: 0.0320 - accuracy: 0.9912 - val_loss: 0.0335 - val_accuracy: 0.9922\n",
      "Epoch 47/60\n",
      "900/900 [==============================] - 7s 8ms/step - loss: 0.0221 - accuracy: 0.9936 - val_loss: 0.0504 - val_accuracy: 0.9911\n",
      "Epoch 48/60\n",
      "900/900 [==============================] - 7s 8ms/step - loss: 0.0261 - accuracy: 0.9925 - val_loss: 0.0599 - val_accuracy: 0.9894\n",
      "Epoch 49/60\n",
      "900/900 [==============================] - 7s 8ms/step - loss: 0.0286 - accuracy: 0.9908 - val_loss: 0.0397 - val_accuracy: 0.9889\n",
      "Epoch 50/60\n",
      "900/900 [==============================] - 7s 8ms/step - loss: 0.0300 - accuracy: 0.9911 - val_loss: 0.0449 - val_accuracy: 0.9906\n",
      "Epoch 51/60\n",
      "900/900 [==============================] - 7s 8ms/step - loss: 0.0260 - accuracy: 0.9907 - val_loss: 0.0257 - val_accuracy: 0.9917\n",
      "Epoch 52/60\n",
      "900/900 [==============================] - 8s 9ms/step - loss: 0.0230 - accuracy: 0.9931 - val_loss: 0.0420 - val_accuracy: 0.9928\n",
      "Epoch 53/60\n",
      "900/900 [==============================] - 8s 9ms/step - loss: 0.0363 - accuracy: 0.9886 - val_loss: 0.1833 - val_accuracy: 0.9406\n",
      "Epoch 54/60\n",
      "900/900 [==============================] - 8s 9ms/step - loss: 0.0300 - accuracy: 0.9917 - val_loss: 0.0244 - val_accuracy: 0.9917\n",
      "Epoch 55/60\n",
      "900/900 [==============================] - 8s 9ms/step - loss: 0.0265 - accuracy: 0.9915 - val_loss: 0.0372 - val_accuracy: 0.9900\n",
      "Epoch 56/60\n",
      "900/900 [==============================] - 8s 9ms/step - loss: 0.0217 - accuracy: 0.9929 - val_loss: 0.0409 - val_accuracy: 0.9906\n",
      "Epoch 57/60\n",
      "900/900 [==============================] - 8s 9ms/step - loss: 0.0244 - accuracy: 0.9931 - val_loss: 0.0385 - val_accuracy: 0.9922\n",
      "Epoch 58/60\n",
      "900/900 [==============================] - 8s 9ms/step - loss: 0.0281 - accuracy: 0.9921 - val_loss: 0.0677 - val_accuracy: 0.9878\n",
      "Epoch 59/60\n",
      "900/900 [==============================] - 8s 9ms/step - loss: 0.0253 - accuracy: 0.9926 - val_loss: 0.0904 - val_accuracy: 0.9833\n",
      "Epoch 60/60\n",
      "900/900 [==============================] - 8s 9ms/step - loss: 0.0202 - accuracy: 0.9933 - val_loss: 0.0429 - val_accuracy: 0.9922\n",
      "57/57 [==============================] - 0s 6ms/step\n",
      "Epoch 1/60\n",
      "900/900 [==============================] - 8s 9ms/step - loss: 0.2526 - accuracy: 0.9115 - val_loss: 0.0706 - val_accuracy: 0.9778\n",
      "Epoch 2/60\n",
      "900/900 [==============================] - 8s 8ms/step - loss: 0.1103 - accuracy: 0.9610 - val_loss: 0.0403 - val_accuracy: 0.9861\n",
      "Epoch 3/60\n",
      "900/900 [==============================] - 8s 9ms/step - loss: 0.0848 - accuracy: 0.9679 - val_loss: 0.0556 - val_accuracy: 0.9811\n",
      "Epoch 4/60\n",
      "900/900 [==============================] - 8s 9ms/step - loss: 0.0896 - accuracy: 0.9715 - val_loss: 0.0377 - val_accuracy: 0.9883\n",
      "Epoch 5/60\n",
      "900/900 [==============================] - 8s 8ms/step - loss: 0.0723 - accuracy: 0.9768 - val_loss: 0.0448 - val_accuracy: 0.9861\n",
      "Epoch 6/60\n",
      "900/900 [==============================] - 8s 8ms/step - loss: 0.0682 - accuracy: 0.9782 - val_loss: 0.0305 - val_accuracy: 0.9900\n",
      "Epoch 7/60\n",
      "900/900 [==============================] - 8s 9ms/step - loss: 0.0485 - accuracy: 0.9842 - val_loss: 0.0498 - val_accuracy: 0.9872\n",
      "Epoch 8/60\n",
      "900/900 [==============================] - 8s 9ms/step - loss: 0.0497 - accuracy: 0.9850 - val_loss: 0.0270 - val_accuracy: 0.9944\n",
      "Epoch 9/60\n",
      "900/900 [==============================] - 8s 8ms/step - loss: 0.0467 - accuracy: 0.9847 - val_loss: 0.0314 - val_accuracy: 0.9917\n",
      "Epoch 10/60\n",
      "900/900 [==============================] - 8s 9ms/step - loss: 0.0472 - accuracy: 0.9860 - val_loss: 0.0324 - val_accuracy: 0.9911\n",
      "Epoch 11/60\n",
      "900/900 [==============================] - 8s 9ms/step - loss: 0.0405 - accuracy: 0.9872 - val_loss: 0.0319 - val_accuracy: 0.9906\n",
      "Epoch 12/60\n",
      "900/900 [==============================] - 8s 9ms/step - loss: 0.0315 - accuracy: 0.9903 - val_loss: 0.0281 - val_accuracy: 0.9906\n",
      "Epoch 13/60\n",
      "900/900 [==============================] - 8s 8ms/step - loss: 0.0444 - accuracy: 0.9864 - val_loss: 0.0286 - val_accuracy: 0.9917\n",
      "Epoch 14/60\n",
      "900/900 [==============================] - 8s 9ms/step - loss: 0.0361 - accuracy: 0.9878 - val_loss: 0.0210 - val_accuracy: 0.9967\n",
      "Epoch 15/60\n",
      "900/900 [==============================] - 8s 9ms/step - loss: 0.0347 - accuracy: 0.9889 - val_loss: 0.0248 - val_accuracy: 0.9939\n",
      "Epoch 16/60\n",
      "900/900 [==============================] - 7s 8ms/step - loss: 0.0359 - accuracy: 0.9896 - val_loss: 0.0331 - val_accuracy: 0.9917\n",
      "Epoch 17/60\n",
      "900/900 [==============================] - 8s 8ms/step - loss: 0.0299 - accuracy: 0.9903 - val_loss: 0.0323 - val_accuracy: 0.9944\n",
      "Epoch 18/60\n",
      "900/900 [==============================] - 9s 9ms/step - loss: 0.0263 - accuracy: 0.9922 - val_loss: 0.0543 - val_accuracy: 0.9889\n",
      "Epoch 19/60\n",
      "900/900 [==============================] - 8s 9ms/step - loss: 0.0351 - accuracy: 0.9894 - val_loss: 0.0531 - val_accuracy: 0.9928\n",
      "Epoch 20/60\n",
      "900/900 [==============================] - 7s 8ms/step - loss: 0.0330 - accuracy: 0.9886 - val_loss: 0.0312 - val_accuracy: 0.9944\n",
      "Epoch 21/60\n",
      "900/900 [==============================] - 7s 8ms/step - loss: 0.0213 - accuracy: 0.9926 - val_loss: 0.0402 - val_accuracy: 0.9867\n",
      "Epoch 22/60\n",
      "900/900 [==============================] - 7s 7ms/step - loss: 0.0280 - accuracy: 0.9914 - val_loss: 0.0460 - val_accuracy: 0.9906\n",
      "Epoch 23/60\n",
      "900/900 [==============================] - 7s 8ms/step - loss: 0.0386 - accuracy: 0.9906 - val_loss: 0.0346 - val_accuracy: 0.9928\n",
      "Epoch 24/60\n",
      "900/900 [==============================] - 7s 8ms/step - loss: 0.0247 - accuracy: 0.9933 - val_loss: 0.0395 - val_accuracy: 0.9861\n",
      "Epoch 25/60\n",
      "900/900 [==============================] - 7s 8ms/step - loss: 0.0266 - accuracy: 0.9931 - val_loss: 0.0384 - val_accuracy: 0.9911\n",
      "Epoch 26/60\n",
      "900/900 [==============================] - 7s 7ms/step - loss: 0.0256 - accuracy: 0.9925 - val_loss: 0.0353 - val_accuracy: 0.9933\n",
      "Epoch 27/60\n",
      "900/900 [==============================] - 7s 7ms/step - loss: 0.0224 - accuracy: 0.9936 - val_loss: 0.0431 - val_accuracy: 0.9906\n",
      "Epoch 28/60\n",
      "900/900 [==============================] - 7s 8ms/step - loss: 0.0323 - accuracy: 0.9915 - val_loss: 0.0531 - val_accuracy: 0.9906\n",
      "Epoch 29/60\n",
      "900/900 [==============================] - 7s 8ms/step - loss: 0.0233 - accuracy: 0.9924 - val_loss: 0.0356 - val_accuracy: 0.9944\n",
      "Epoch 30/60\n",
      "900/900 [==============================] - 7s 7ms/step - loss: 0.0286 - accuracy: 0.9924 - val_loss: 0.0190 - val_accuracy: 0.9950\n",
      "Epoch 31/60\n",
      "900/900 [==============================] - 7s 8ms/step - loss: 0.0277 - accuracy: 0.9924 - val_loss: 0.0271 - val_accuracy: 0.9944\n",
      "Epoch 32/60\n",
      "900/900 [==============================] - 7s 7ms/step - loss: 0.0185 - accuracy: 0.9940 - val_loss: 0.0361 - val_accuracy: 0.9922\n",
      "Epoch 33/60\n",
      "900/900 [==============================] - 7s 7ms/step - loss: 0.0176 - accuracy: 0.9951 - val_loss: 0.0377 - val_accuracy: 0.9939\n",
      "Epoch 34/60\n",
      "900/900 [==============================] - 7s 7ms/step - loss: 0.0294 - accuracy: 0.9914 - val_loss: 0.0308 - val_accuracy: 0.9939\n",
      "Epoch 35/60\n",
      "900/900 [==============================] - 7s 7ms/step - loss: 0.0197 - accuracy: 0.9947 - val_loss: 0.0336 - val_accuracy: 0.9933\n",
      "Epoch 36/60\n",
      "900/900 [==============================] - 7s 7ms/step - loss: 0.0202 - accuracy: 0.9944 - val_loss: 0.0597 - val_accuracy: 0.9922\n",
      "Epoch 37/60\n",
      "900/900 [==============================] - 7s 8ms/step - loss: 0.0224 - accuracy: 0.9949 - val_loss: 0.0539 - val_accuracy: 0.9956\n",
      "Epoch 38/60\n",
      "900/900 [==============================] - 7s 8ms/step - loss: 0.0207 - accuracy: 0.9939 - val_loss: 0.0422 - val_accuracy: 0.9939\n",
      "Epoch 39/60\n",
      "900/900 [==============================] - 7s 7ms/step - loss: 0.0238 - accuracy: 0.9935 - val_loss: 0.0343 - val_accuracy: 0.9922\n",
      "Epoch 40/60\n",
      "900/900 [==============================] - 7s 7ms/step - loss: 0.0237 - accuracy: 0.9933 - val_loss: 0.0298 - val_accuracy: 0.9933\n",
      "Epoch 41/60\n",
      "900/900 [==============================] - 7s 8ms/step - loss: 0.0188 - accuracy: 0.9940 - val_loss: 0.0544 - val_accuracy: 0.9928\n",
      "Epoch 42/60\n",
      "900/900 [==============================] - 7s 7ms/step - loss: 0.0216 - accuracy: 0.9943 - val_loss: 0.0502 - val_accuracy: 0.9922\n",
      "Epoch 43/60\n",
      "900/900 [==============================] - 7s 7ms/step - loss: 0.0229 - accuracy: 0.9940 - val_loss: 0.0386 - val_accuracy: 0.9933\n",
      "Epoch 44/60\n",
      "900/900 [==============================] - 7s 7ms/step - loss: 0.0165 - accuracy: 0.9953 - val_loss: 0.0454 - val_accuracy: 0.9933\n",
      "Epoch 45/60\n",
      "900/900 [==============================] - 7s 7ms/step - loss: 0.0275 - accuracy: 0.9936 - val_loss: 0.0326 - val_accuracy: 0.9911\n",
      "Epoch 46/60\n",
      "900/900 [==============================] - 6s 7ms/step - loss: 0.0195 - accuracy: 0.9949 - val_loss: 0.0391 - val_accuracy: 0.9911\n",
      "Epoch 47/60\n",
      "900/900 [==============================] - 7s 7ms/step - loss: 0.0131 - accuracy: 0.9960 - val_loss: 0.0585 - val_accuracy: 0.9933\n",
      "Epoch 48/60\n",
      "900/900 [==============================] - 7s 7ms/step - loss: 0.0142 - accuracy: 0.9969 - val_loss: 0.0485 - val_accuracy: 0.9906\n",
      "Epoch 49/60\n",
      "900/900 [==============================] - 6s 7ms/step - loss: 0.0251 - accuracy: 0.9924 - val_loss: 0.0509 - val_accuracy: 0.9950\n",
      "Epoch 50/60\n",
      "900/900 [==============================] - 6s 7ms/step - loss: 0.0283 - accuracy: 0.9926 - val_loss: 0.0376 - val_accuracy: 0.9939\n",
      "Epoch 51/60\n",
      "900/900 [==============================] - 6s 7ms/step - loss: 0.0220 - accuracy: 0.9935 - val_loss: 0.0411 - val_accuracy: 0.9928\n",
      "Epoch 52/60\n",
      "900/900 [==============================] - 7s 7ms/step - loss: 0.0210 - accuracy: 0.9936 - val_loss: 0.0458 - val_accuracy: 0.9933\n",
      "Epoch 53/60\n",
      "900/900 [==============================] - 6s 7ms/step - loss: 0.0140 - accuracy: 0.9965 - val_loss: 0.0397 - val_accuracy: 0.9939\n",
      "Epoch 54/60\n",
      "900/900 [==============================] - 7s 7ms/step - loss: 0.0217 - accuracy: 0.9947 - val_loss: 0.0709 - val_accuracy: 0.9883\n",
      "Epoch 55/60\n",
      "900/900 [==============================] - 7s 7ms/step - loss: 0.0188 - accuracy: 0.9944 - val_loss: 0.0615 - val_accuracy: 0.9933\n",
      "Epoch 56/60\n",
      "900/900 [==============================] - 7s 7ms/step - loss: 0.0268 - accuracy: 0.9949 - val_loss: 0.0504 - val_accuracy: 0.9933\n",
      "Epoch 57/60\n",
      "900/900 [==============================] - 7s 7ms/step - loss: 0.0222 - accuracy: 0.9943 - val_loss: 0.0559 - val_accuracy: 0.9933\n",
      "Epoch 58/60\n",
      "900/900 [==============================] - 7s 7ms/step - loss: 0.0183 - accuracy: 0.9958 - val_loss: 0.0543 - val_accuracy: 0.9928\n",
      "Epoch 59/60\n",
      "900/900 [==============================] - 7s 7ms/step - loss: 0.0135 - accuracy: 0.9962 - val_loss: 0.0425 - val_accuracy: 0.9917\n",
      "Epoch 60/60\n",
      "900/900 [==============================] - 7s 7ms/step - loss: 0.0201 - accuracy: 0.9939 - val_loss: 0.0582 - val_accuracy: 0.9922\n",
      "57/57 [==============================] - 0s 5ms/step\n",
      "Epoch 1/60\n",
      "900/900 [==============================] - 7s 8ms/step - loss: 0.3304 - accuracy: 0.8789 - val_loss: 0.1656 - val_accuracy: 0.9361\n",
      "Epoch 2/60\n",
      "900/900 [==============================] - 7s 7ms/step - loss: 0.1822 - accuracy: 0.9351 - val_loss: 0.0796 - val_accuracy: 0.9744\n",
      "Epoch 3/60\n",
      "900/900 [==============================] - 7s 8ms/step - loss: 0.1416 - accuracy: 0.9468 - val_loss: 0.1061 - val_accuracy: 0.9639\n",
      "Epoch 4/60\n",
      "900/900 [==============================] - 7s 8ms/step - loss: 0.1262 - accuracy: 0.9547 - val_loss: 0.0995 - val_accuracy: 0.9678\n",
      "Epoch 5/60\n",
      "900/900 [==============================] - 7s 8ms/step - loss: 0.1160 - accuracy: 0.9572 - val_loss: 0.0639 - val_accuracy: 0.9783\n",
      "Epoch 6/60\n",
      "900/900 [==============================] - 7s 7ms/step - loss: 0.1057 - accuracy: 0.9610 - val_loss: 0.0723 - val_accuracy: 0.9756\n",
      "Epoch 7/60\n",
      "900/900 [==============================] - 7s 7ms/step - loss: 0.1076 - accuracy: 0.9664 - val_loss: 0.0755 - val_accuracy: 0.9789\n",
      "Epoch 8/60\n",
      "900/900 [==============================] - 7s 8ms/step - loss: 0.0915 - accuracy: 0.9672 - val_loss: 0.0629 - val_accuracy: 0.9839\n",
      "Epoch 9/60\n",
      "900/900 [==============================] - 7s 8ms/step - loss: 0.0828 - accuracy: 0.9700 - val_loss: 0.0657 - val_accuracy: 0.9828\n",
      "Epoch 10/60\n",
      "900/900 [==============================] - 7s 7ms/step - loss: 0.0872 - accuracy: 0.9686 - val_loss: 0.0461 - val_accuracy: 0.9878\n",
      "Epoch 11/60\n",
      "900/900 [==============================] - 7s 7ms/step - loss: 0.0763 - accuracy: 0.9735 - val_loss: 0.0386 - val_accuracy: 0.9872\n",
      "Epoch 12/60\n",
      "900/900 [==============================] - 7s 8ms/step - loss: 0.0836 - accuracy: 0.9728 - val_loss: 0.0564 - val_accuracy: 0.9856\n",
      "Epoch 13/60\n",
      "900/900 [==============================] - 7s 8ms/step - loss: 0.0739 - accuracy: 0.9753 - val_loss: 0.0625 - val_accuracy: 0.9822\n",
      "Epoch 14/60\n",
      "900/900 [==============================] - 7s 8ms/step - loss: 0.0795 - accuracy: 0.9756 - val_loss: 0.0553 - val_accuracy: 0.9856\n",
      "Epoch 15/60\n",
      "900/900 [==============================] - 7s 8ms/step - loss: 0.0680 - accuracy: 0.9765 - val_loss: 0.0432 - val_accuracy: 0.9878\n",
      "Epoch 16/60\n",
      "900/900 [==============================] - 7s 8ms/step - loss: 0.0670 - accuracy: 0.9769 - val_loss: 0.0419 - val_accuracy: 0.9906\n",
      "Epoch 17/60\n",
      "900/900 [==============================] - 7s 8ms/step - loss: 0.0658 - accuracy: 0.9781 - val_loss: 0.0533 - val_accuracy: 0.9878\n",
      "Epoch 18/60\n",
      "900/900 [==============================] - 7s 7ms/step - loss: 0.0720 - accuracy: 0.9771 - val_loss: 0.0452 - val_accuracy: 0.9883\n",
      "Epoch 19/60\n",
      "900/900 [==============================] - 7s 7ms/step - loss: 0.0686 - accuracy: 0.9785 - val_loss: 0.0488 - val_accuracy: 0.9867\n",
      "Epoch 20/60\n",
      "900/900 [==============================] - 7s 8ms/step - loss: 0.0648 - accuracy: 0.9776 - val_loss: 0.0442 - val_accuracy: 0.9883\n",
      "Epoch 21/60\n",
      "900/900 [==============================] - 7s 8ms/step - loss: 0.0601 - accuracy: 0.9801 - val_loss: 0.0373 - val_accuracy: 0.9894\n",
      "Epoch 22/60\n",
      "900/900 [==============================] - 7s 8ms/step - loss: 0.0743 - accuracy: 0.9801 - val_loss: 0.0498 - val_accuracy: 0.9872\n",
      "Epoch 23/60\n",
      "900/900 [==============================] - 7s 7ms/step - loss: 0.0546 - accuracy: 0.9835 - val_loss: 0.0728 - val_accuracy: 0.9850\n",
      "Epoch 24/60\n",
      "900/900 [==============================] - 7s 7ms/step - loss: 0.0615 - accuracy: 0.9815 - val_loss: 0.0473 - val_accuracy: 0.9872\n",
      "Epoch 25/60\n",
      "900/900 [==============================] - 7s 7ms/step - loss: 0.0510 - accuracy: 0.9826 - val_loss: 0.0561 - val_accuracy: 0.9833\n",
      "Epoch 26/60\n",
      "900/900 [==============================] - 7s 7ms/step - loss: 0.0569 - accuracy: 0.9822 - val_loss: 0.0371 - val_accuracy: 0.9889\n",
      "Epoch 27/60\n",
      "900/900 [==============================] - 7s 7ms/step - loss: 0.0592 - accuracy: 0.9814 - val_loss: 0.0427 - val_accuracy: 0.9906\n",
      "Epoch 28/60\n",
      "900/900 [==============================] - 7s 7ms/step - loss: 0.0611 - accuracy: 0.9783 - val_loss: 0.0523 - val_accuracy: 0.9878\n",
      "Epoch 29/60\n",
      "900/900 [==============================] - 7s 8ms/step - loss: 0.0466 - accuracy: 0.9844 - val_loss: 0.0495 - val_accuracy: 0.9894\n",
      "Epoch 30/60\n",
      "900/900 [==============================] - 8s 9ms/step - loss: 0.0690 - accuracy: 0.9790 - val_loss: 0.0440 - val_accuracy: 0.9872\n",
      "Epoch 31/60\n",
      "900/900 [==============================] - 7s 8ms/step - loss: 0.0510 - accuracy: 0.9833 - val_loss: 0.0422 - val_accuracy: 0.9900\n",
      "Epoch 32/60\n",
      "900/900 [==============================] - 7s 8ms/step - loss: 0.0469 - accuracy: 0.9854 - val_loss: 0.0406 - val_accuracy: 0.9883\n",
      "Epoch 33/60\n",
      "900/900 [==============================] - 7s 8ms/step - loss: 0.0510 - accuracy: 0.9828 - val_loss: 0.0423 - val_accuracy: 0.9878\n",
      "Epoch 34/60\n",
      "900/900 [==============================] - 7s 8ms/step - loss: 0.0359 - accuracy: 0.9864 - val_loss: 0.0729 - val_accuracy: 0.9894\n",
      "Epoch 35/60\n",
      "900/900 [==============================] - 7s 8ms/step - loss: 0.0512 - accuracy: 0.9826 - val_loss: 0.0432 - val_accuracy: 0.9889\n",
      "Epoch 36/60\n",
      "900/900 [==============================] - 7s 8ms/step - loss: 0.0451 - accuracy: 0.9856 - val_loss: 0.0240 - val_accuracy: 0.9917\n",
      "Epoch 37/60\n",
      "900/900 [==============================] - 7s 8ms/step - loss: 0.0489 - accuracy: 0.9853 - val_loss: 0.0334 - val_accuracy: 0.9900\n",
      "Epoch 38/60\n",
      "900/900 [==============================] - 7s 7ms/step - loss: 0.0480 - accuracy: 0.9871 - val_loss: 0.0402 - val_accuracy: 0.9911\n",
      "Epoch 39/60\n",
      "900/900 [==============================] - 7s 8ms/step - loss: 0.0449 - accuracy: 0.9858 - val_loss: 0.0483 - val_accuracy: 0.9878\n",
      "Epoch 40/60\n",
      "900/900 [==============================] - 7s 7ms/step - loss: 0.0414 - accuracy: 0.9867 - val_loss: 0.0426 - val_accuracy: 0.9911\n",
      "Epoch 41/60\n",
      "900/900 [==============================] - 7s 7ms/step - loss: 0.0459 - accuracy: 0.9851 - val_loss: 0.0502 - val_accuracy: 0.9889\n",
      "Epoch 42/60\n",
      "900/900 [==============================] - 7s 7ms/step - loss: 0.0435 - accuracy: 0.9858 - val_loss: 0.0569 - val_accuracy: 0.9917\n",
      "Epoch 43/60\n",
      "900/900 [==============================] - 7s 7ms/step - loss: 0.0854 - accuracy: 0.9860 - val_loss: 0.0439 - val_accuracy: 0.9917\n",
      "Epoch 44/60\n",
      "900/900 [==============================] - 7s 7ms/step - loss: 0.0446 - accuracy: 0.9856 - val_loss: 0.0345 - val_accuracy: 0.9922\n",
      "Epoch 45/60\n",
      "900/900 [==============================] - 7s 8ms/step - loss: 0.0337 - accuracy: 0.9878 - val_loss: 0.0435 - val_accuracy: 0.9933\n",
      "Epoch 46/60\n",
      "900/900 [==============================] - 7s 7ms/step - loss: 0.0415 - accuracy: 0.9865 - val_loss: 0.0696 - val_accuracy: 0.9850\n",
      "Epoch 47/60\n",
      "900/900 [==============================] - 7s 7ms/step - loss: 0.0453 - accuracy: 0.9853 - val_loss: 0.0344 - val_accuracy: 0.9911\n",
      "Epoch 48/60\n",
      "900/900 [==============================] - 7s 7ms/step - loss: 0.0410 - accuracy: 0.9876 - val_loss: 0.0419 - val_accuracy: 0.9906\n",
      "Epoch 49/60\n",
      "900/900 [==============================] - 7s 7ms/step - loss: 0.0388 - accuracy: 0.9868 - val_loss: 0.0401 - val_accuracy: 0.9872\n",
      "Epoch 50/60\n",
      "900/900 [==============================] - 7s 7ms/step - loss: 0.0474 - accuracy: 0.9872 - val_loss: 0.0311 - val_accuracy: 0.9917\n",
      "Epoch 51/60\n",
      "900/900 [==============================] - 7s 8ms/step - loss: 0.0405 - accuracy: 0.9864 - val_loss: 0.0508 - val_accuracy: 0.9889\n",
      "Epoch 52/60\n",
      "900/900 [==============================] - 9s 10ms/step - loss: 0.0541 - accuracy: 0.9842 - val_loss: 0.0418 - val_accuracy: 0.9922\n",
      "Epoch 53/60\n",
      "900/900 [==============================] - 8s 9ms/step - loss: 0.0368 - accuracy: 0.9869 - val_loss: 0.0358 - val_accuracy: 0.9922\n",
      "Epoch 54/60\n",
      "900/900 [==============================] - 8s 9ms/step - loss: 0.0421 - accuracy: 0.9862 - val_loss: 0.0402 - val_accuracy: 0.9900\n",
      "Epoch 55/60\n",
      "900/900 [==============================] - 8s 8ms/step - loss: 0.0357 - accuracy: 0.9882 - val_loss: 0.0347 - val_accuracy: 0.9906\n",
      "Epoch 56/60\n",
      "900/900 [==============================] - 8s 9ms/step - loss: 0.0403 - accuracy: 0.9881 - val_loss: 0.0349 - val_accuracy: 0.9917\n",
      "Epoch 57/60\n",
      "900/900 [==============================] - 8s 9ms/step - loss: 0.0754 - accuracy: 0.9861 - val_loss: 0.0212 - val_accuracy: 0.9944\n",
      "Epoch 58/60\n",
      "900/900 [==============================] - 8s 9ms/step - loss: 0.0442 - accuracy: 0.9860 - val_loss: 0.0434 - val_accuracy: 0.9894\n",
      "Epoch 59/60\n",
      "900/900 [==============================] - 8s 9ms/step - loss: 0.0411 - accuracy: 0.9876 - val_loss: 0.0615 - val_accuracy: 0.9889\n",
      "Epoch 60/60\n",
      "900/900 [==============================] - 8s 9ms/step - loss: 0.0438 - accuracy: 0.9871 - val_loss: 0.0465 - val_accuracy: 0.9894\n",
      "57/57 [==============================] - 0s 6ms/step\n",
      "Epoch 1/60\n",
      "900/900 [==============================] - 9s 9ms/step - loss: 0.3232 - accuracy: 0.8779 - val_loss: 0.1155 - val_accuracy: 0.9728\n",
      "Epoch 2/60\n",
      "900/900 [==============================] - 8s 8ms/step - loss: 0.1704 - accuracy: 0.9417 - val_loss: 0.1043 - val_accuracy: 0.9772\n",
      "Epoch 3/60\n",
      "900/900 [==============================] - 8s 9ms/step - loss: 0.1196 - accuracy: 0.9578 - val_loss: 0.0618 - val_accuracy: 0.9833\n",
      "Epoch 4/60\n",
      "900/900 [==============================] - 8s 9ms/step - loss: 0.0973 - accuracy: 0.9654 - val_loss: 0.0715 - val_accuracy: 0.9806\n",
      "Epoch 5/60\n",
      "900/900 [==============================] - 8s 8ms/step - loss: 0.0854 - accuracy: 0.9712 - val_loss: 0.0439 - val_accuracy: 0.9878\n",
      "Epoch 6/60\n",
      "900/900 [==============================] - 7s 8ms/step - loss: 0.0782 - accuracy: 0.9729 - val_loss: 0.0447 - val_accuracy: 0.9833\n",
      "Epoch 7/60\n",
      "900/900 [==============================] - 7s 8ms/step - loss: 0.0726 - accuracy: 0.9746 - val_loss: 0.0421 - val_accuracy: 0.9894\n",
      "Epoch 8/60\n",
      "900/900 [==============================] - 7s 8ms/step - loss: 0.0629 - accuracy: 0.9803 - val_loss: 0.0641 - val_accuracy: 0.9883\n",
      "Epoch 9/60\n",
      "900/900 [==============================] - 8s 8ms/step - loss: 0.0626 - accuracy: 0.9789 - val_loss: 0.0605 - val_accuracy: 0.9867\n",
      "Epoch 10/60\n",
      "900/900 [==============================] - 8s 9ms/step - loss: 0.0650 - accuracy: 0.9787 - val_loss: 0.0295 - val_accuracy: 0.9928\n",
      "Epoch 11/60\n",
      "900/900 [==============================] - 8s 9ms/step - loss: 0.0571 - accuracy: 0.9825 - val_loss: 0.0598 - val_accuracy: 0.9856\n",
      "Epoch 12/60\n",
      "900/900 [==============================] - 8s 9ms/step - loss: 0.0532 - accuracy: 0.9826 - val_loss: 0.0275 - val_accuracy: 0.9944\n",
      "Epoch 13/60\n",
      "900/900 [==============================] - 8s 9ms/step - loss: 0.0505 - accuracy: 0.9837 - val_loss: 0.0381 - val_accuracy: 0.9911\n",
      "Epoch 14/60\n",
      "900/900 [==============================] - 8s 9ms/step - loss: 0.0447 - accuracy: 0.9836 - val_loss: 0.0414 - val_accuracy: 0.9933\n",
      "Epoch 15/60\n",
      "900/900 [==============================] - 8s 9ms/step - loss: 0.0451 - accuracy: 0.9854 - val_loss: 0.0365 - val_accuracy: 0.9917\n",
      "Epoch 16/60\n",
      "900/900 [==============================] - 8s 9ms/step - loss: 0.0456 - accuracy: 0.9867 - val_loss: 0.0531 - val_accuracy: 0.9844\n",
      "Epoch 17/60\n",
      "900/900 [==============================] - 8s 8ms/step - loss: 0.0480 - accuracy: 0.9856 - val_loss: 0.0263 - val_accuracy: 0.9944\n",
      "Epoch 18/60\n",
      "900/900 [==============================] - 8s 9ms/step - loss: 0.0395 - accuracy: 0.9861 - val_loss: 0.0260 - val_accuracy: 0.9917\n",
      "Epoch 19/60\n",
      "900/900 [==============================] - 8s 9ms/step - loss: 0.0343 - accuracy: 0.9881 - val_loss: 0.0303 - val_accuracy: 0.9917\n",
      "Epoch 20/60\n",
      "900/900 [==============================] - 9s 10ms/step - loss: 0.0377 - accuracy: 0.9869 - val_loss: 0.0261 - val_accuracy: 0.9911\n",
      "Epoch 21/60\n",
      "900/900 [==============================] - 9s 10ms/step - loss: 0.0480 - accuracy: 0.9842 - val_loss: 0.0307 - val_accuracy: 0.9917\n",
      "Epoch 22/60\n",
      "900/900 [==============================] - 9s 10ms/step - loss: 0.0380 - accuracy: 0.9879 - val_loss: 0.0443 - val_accuracy: 0.9906\n",
      "Epoch 23/60\n",
      "900/900 [==============================] - 9s 10ms/step - loss: 0.0376 - accuracy: 0.9876 - val_loss: 0.0460 - val_accuracy: 0.9911\n",
      "Epoch 24/60\n",
      "900/900 [==============================] - 9s 10ms/step - loss: 0.0352 - accuracy: 0.9887 - val_loss: 0.0295 - val_accuracy: 0.9911\n",
      "Epoch 25/60\n",
      "900/900 [==============================] - 8s 9ms/step - loss: 0.0359 - accuracy: 0.9868 - val_loss: 0.0337 - val_accuracy: 0.9889\n",
      "Epoch 26/60\n",
      "900/900 [==============================] - 8s 9ms/step - loss: 0.0391 - accuracy: 0.9882 - val_loss: 0.0664 - val_accuracy: 0.9867\n",
      "Epoch 27/60\n",
      "900/900 [==============================] - 8s 9ms/step - loss: 0.0322 - accuracy: 0.9899 - val_loss: 0.0382 - val_accuracy: 0.9894\n",
      "Epoch 28/60\n",
      "900/900 [==============================] - 8s 9ms/step - loss: 0.0358 - accuracy: 0.9883 - val_loss: 0.0334 - val_accuracy: 0.9911\n",
      "Epoch 29/60\n",
      "900/900 [==============================] - 8s 9ms/step - loss: 0.0322 - accuracy: 0.9887 - val_loss: 0.0238 - val_accuracy: 0.9939\n",
      "Epoch 30/60\n",
      "900/900 [==============================] - 8s 8ms/step - loss: 0.0336 - accuracy: 0.9885 - val_loss: 0.0398 - val_accuracy: 0.9928\n",
      "Epoch 31/60\n",
      "900/900 [==============================] - 7s 8ms/step - loss: 0.0312 - accuracy: 0.9910 - val_loss: 0.0424 - val_accuracy: 0.9922\n",
      "Epoch 32/60\n",
      "900/900 [==============================] - 7s 8ms/step - loss: 0.0381 - accuracy: 0.9867 - val_loss: 0.0339 - val_accuracy: 0.9911\n",
      "Epoch 33/60\n",
      "900/900 [==============================] - 7s 8ms/step - loss: 0.0298 - accuracy: 0.9901 - val_loss: 0.0414 - val_accuracy: 0.9900\n",
      "Epoch 34/60\n",
      "900/900 [==============================] - 7s 8ms/step - loss: 0.0399 - accuracy: 0.9878 - val_loss: 0.0435 - val_accuracy: 0.9917\n",
      "Epoch 35/60\n",
      "900/900 [==============================] - 7s 8ms/step - loss: 0.0307 - accuracy: 0.9911 - val_loss: 0.0481 - val_accuracy: 0.9917\n",
      "Epoch 36/60\n",
      "900/900 [==============================] - 7s 8ms/step - loss: 0.0228 - accuracy: 0.9922 - val_loss: 0.0467 - val_accuracy: 0.9917\n",
      "Epoch 37/60\n",
      "900/900 [==============================] - 7s 8ms/step - loss: 0.0379 - accuracy: 0.9887 - val_loss: 0.0320 - val_accuracy: 0.9917\n",
      "Epoch 38/60\n",
      "900/900 [==============================] - 7s 8ms/step - loss: 0.0272 - accuracy: 0.9917 - val_loss: 0.0306 - val_accuracy: 0.9922\n",
      "Epoch 39/60\n",
      "900/900 [==============================] - 7s 8ms/step - loss: 0.0279 - accuracy: 0.9908 - val_loss: 0.0498 - val_accuracy: 0.9922\n",
      "Epoch 40/60\n",
      "900/900 [==============================] - 7s 8ms/step - loss: 0.0311 - accuracy: 0.9901 - val_loss: 0.0433 - val_accuracy: 0.9911\n",
      "Epoch 41/60\n",
      "900/900 [==============================] - 7s 8ms/step - loss: 0.0315 - accuracy: 0.9889 - val_loss: 0.0350 - val_accuracy: 0.9928\n",
      "Epoch 42/60\n",
      "900/900 [==============================] - 7s 8ms/step - loss: 0.0290 - accuracy: 0.9919 - val_loss: 0.0296 - val_accuracy: 0.9939\n",
      "Epoch 43/60\n",
      "900/900 [==============================] - 7s 8ms/step - loss: 0.0333 - accuracy: 0.9900 - val_loss: 0.0328 - val_accuracy: 0.9922\n",
      "Epoch 44/60\n",
      "900/900 [==============================] - 7s 8ms/step - loss: 0.0322 - accuracy: 0.9886 - val_loss: 0.0380 - val_accuracy: 0.9922\n",
      "Epoch 45/60\n",
      "900/900 [==============================] - 8s 9ms/step - loss: 0.0313 - accuracy: 0.9904 - val_loss: 0.0413 - val_accuracy: 0.9917\n",
      "Epoch 46/60\n",
      "900/900 [==============================] - 8s 9ms/step - loss: 0.0245 - accuracy: 0.9914 - val_loss: 0.0337 - val_accuracy: 0.9928\n",
      "Epoch 47/60\n",
      "900/900 [==============================] - 8s 8ms/step - loss: 0.0295 - accuracy: 0.9915 - val_loss: 0.0572 - val_accuracy: 0.9906\n",
      "Epoch 48/60\n",
      "900/900 [==============================] - 8s 8ms/step - loss: 0.0305 - accuracy: 0.9912 - val_loss: 0.0409 - val_accuracy: 0.9928\n",
      "Epoch 49/60\n",
      "900/900 [==============================] - 8s 8ms/step - loss: 0.0279 - accuracy: 0.9918 - val_loss: 0.0450 - val_accuracy: 0.9917\n",
      "Epoch 50/60\n",
      "900/900 [==============================] - 7s 8ms/step - loss: 0.0256 - accuracy: 0.9915 - val_loss: 0.0337 - val_accuracy: 0.9950\n",
      "Epoch 51/60\n",
      "900/900 [==============================] - 7s 8ms/step - loss: 0.0248 - accuracy: 0.9918 - val_loss: 0.0259 - val_accuracy: 0.9944\n",
      "Epoch 52/60\n",
      "900/900 [==============================] - 7s 8ms/step - loss: 0.0273 - accuracy: 0.9911 - val_loss: 0.0398 - val_accuracy: 0.9900\n",
      "Epoch 53/60\n",
      "900/900 [==============================] - 7s 8ms/step - loss: 0.0310 - accuracy: 0.9900 - val_loss: 0.0274 - val_accuracy: 0.9944\n",
      "Epoch 54/60\n",
      "900/900 [==============================] - 7s 8ms/step - loss: 0.0238 - accuracy: 0.9918 - val_loss: 0.0498 - val_accuracy: 0.9933\n",
      "Epoch 55/60\n",
      "900/900 [==============================] - 7s 8ms/step - loss: 0.0338 - accuracy: 0.9908 - val_loss: 0.0475 - val_accuracy: 0.9939\n",
      "Epoch 56/60\n",
      "900/900 [==============================] - 7s 8ms/step - loss: 0.0213 - accuracy: 0.9929 - val_loss: 0.0422 - val_accuracy: 0.9944\n",
      "Epoch 57/60\n",
      "900/900 [==============================] - 7s 8ms/step - loss: 0.0236 - accuracy: 0.9917 - val_loss: 0.0495 - val_accuracy: 0.9922\n",
      "Epoch 58/60\n",
      "900/900 [==============================] - 8s 8ms/step - loss: 0.0287 - accuracy: 0.9918 - val_loss: 0.0293 - val_accuracy: 0.9956\n",
      "Epoch 59/60\n",
      "900/900 [==============================] - 7s 8ms/step - loss: 0.0258 - accuracy: 0.9922 - val_loss: 0.0408 - val_accuracy: 0.9928\n",
      "Epoch 60/60\n",
      "900/900 [==============================] - 8s 9ms/step - loss: 0.0260 - accuracy: 0.9919 - val_loss: 0.0505 - val_accuracy: 0.9933\n",
      "57/57 [==============================] - 0s 6ms/step\n",
      "Epoch 1/60\n",
      "900/900 [==============================] - 8s 9ms/step - loss: 0.3811 - accuracy: 0.8679 - val_loss: 0.0896 - val_accuracy: 0.9744\n",
      "Epoch 2/60\n",
      "900/900 [==============================] - 7s 8ms/step - loss: 0.1277 - accuracy: 0.9572 - val_loss: 0.0498 - val_accuracy: 0.9833\n",
      "Epoch 3/60\n",
      "900/900 [==============================] - 7s 8ms/step - loss: 0.0860 - accuracy: 0.9704 - val_loss: 0.0452 - val_accuracy: 0.9872\n",
      "Epoch 4/60\n",
      "900/900 [==============================] - 7s 8ms/step - loss: 0.0744 - accuracy: 0.9736 - val_loss: 0.0543 - val_accuracy: 0.9839\n",
      "Epoch 5/60\n",
      "900/900 [==============================] - 8s 8ms/step - loss: 0.0687 - accuracy: 0.9781 - val_loss: 0.0530 - val_accuracy: 0.9844\n",
      "Epoch 6/60\n",
      "900/900 [==============================] - 7s 8ms/step - loss: 0.0585 - accuracy: 0.9810 - val_loss: 0.0575 - val_accuracy: 0.9883\n",
      "Epoch 7/60\n",
      "900/900 [==============================] - 7s 8ms/step - loss: 0.0568 - accuracy: 0.9829 - val_loss: 0.0367 - val_accuracy: 0.9894\n",
      "Epoch 8/60\n",
      "900/900 [==============================] - 6s 7ms/step - loss: 0.0534 - accuracy: 0.9832 - val_loss: 0.0379 - val_accuracy: 0.9883\n",
      "Epoch 9/60\n",
      "900/900 [==============================] - 6s 7ms/step - loss: 0.0475 - accuracy: 0.9825 - val_loss: 0.0526 - val_accuracy: 0.9850\n",
      "Epoch 10/60\n",
      "900/900 [==============================] - 6s 7ms/step - loss: 0.0380 - accuracy: 0.9878 - val_loss: 0.0504 - val_accuracy: 0.9872\n",
      "Epoch 11/60\n",
      "900/900 [==============================] - 6s 7ms/step - loss: 0.0400 - accuracy: 0.9868 - val_loss: 0.0398 - val_accuracy: 0.9861\n",
      "Epoch 12/60\n",
      "900/900 [==============================] - 6s 7ms/step - loss: 0.0371 - accuracy: 0.9871 - val_loss: 0.0328 - val_accuracy: 0.9889\n",
      "Epoch 13/60\n",
      "900/900 [==============================] - 6s 7ms/step - loss: 0.0405 - accuracy: 0.9881 - val_loss: 0.0466 - val_accuracy: 0.9889\n",
      "Epoch 14/60\n",
      "900/900 [==============================] - 7s 7ms/step - loss: 0.0397 - accuracy: 0.9879 - val_loss: 0.0310 - val_accuracy: 0.9900\n",
      "Epoch 15/60\n",
      "900/900 [==============================] - 7s 7ms/step - loss: 0.0365 - accuracy: 0.9892 - val_loss: 0.0439 - val_accuracy: 0.9861\n",
      "Epoch 16/60\n",
      "900/900 [==============================] - 7s 7ms/step - loss: 0.0425 - accuracy: 0.9872 - val_loss: 0.0430 - val_accuracy: 0.9855\n",
      "Epoch 17/60\n",
      "900/900 [==============================] - 6s 7ms/step - loss: 0.0373 - accuracy: 0.9886 - val_loss: 0.0277 - val_accuracy: 0.9911\n",
      "Epoch 18/60\n",
      "900/900 [==============================] - 7s 7ms/step - loss: 0.0313 - accuracy: 0.9907 - val_loss: 0.0717 - val_accuracy: 0.9800\n",
      "Epoch 19/60\n",
      "900/900 [==============================] - 7s 7ms/step - loss: 0.0223 - accuracy: 0.9925 - val_loss: 0.0581 - val_accuracy: 0.9855\n",
      "Epoch 20/60\n",
      "900/900 [==============================] - 6s 7ms/step - loss: 0.0272 - accuracy: 0.9907 - val_loss: 0.0533 - val_accuracy: 0.9883\n",
      "Epoch 21/60\n",
      "900/900 [==============================] - 6s 7ms/step - loss: 0.0252 - accuracy: 0.9929 - val_loss: 0.0489 - val_accuracy: 0.9878\n",
      "Epoch 22/60\n",
      "900/900 [==============================] - 6s 7ms/step - loss: 0.0295 - accuracy: 0.9907 - val_loss: 0.0625 - val_accuracy: 0.9867\n",
      "Epoch 23/60\n",
      "900/900 [==============================] - 6s 7ms/step - loss: 0.0344 - accuracy: 0.9900 - val_loss: 0.0302 - val_accuracy: 0.9911\n",
      "Epoch 24/60\n",
      "900/900 [==============================] - 7s 7ms/step - loss: 0.0214 - accuracy: 0.9932 - val_loss: 0.0651 - val_accuracy: 0.9883\n",
      "Epoch 25/60\n",
      "900/900 [==============================] - 7s 8ms/step - loss: 0.0282 - accuracy: 0.9919 - val_loss: 0.0557 - val_accuracy: 0.9900\n",
      "Epoch 26/60\n",
      "900/900 [==============================] - 7s 8ms/step - loss: 0.0253 - accuracy: 0.9925 - val_loss: 0.0518 - val_accuracy: 0.9894\n",
      "Epoch 27/60\n",
      "900/900 [==============================] - 7s 7ms/step - loss: 0.0207 - accuracy: 0.9935 - val_loss: 0.0361 - val_accuracy: 0.9933\n",
      "Epoch 28/60\n",
      "900/900 [==============================] - 7s 8ms/step - loss: 0.0353 - accuracy: 0.9907 - val_loss: 0.0340 - val_accuracy: 0.9906\n",
      "Epoch 29/60\n",
      "900/900 [==============================] - 7s 7ms/step - loss: 0.0285 - accuracy: 0.9924 - val_loss: 0.1183 - val_accuracy: 0.9794\n",
      "Epoch 30/60\n",
      "900/900 [==============================] - 6s 7ms/step - loss: 0.0232 - accuracy: 0.9929 - val_loss: 0.0468 - val_accuracy: 0.9906\n",
      "Epoch 31/60\n",
      "900/900 [==============================] - 7s 7ms/step - loss: 0.0264 - accuracy: 0.9918 - val_loss: 0.0451 - val_accuracy: 0.9889\n",
      "Epoch 32/60\n",
      "900/900 [==============================] - 7s 7ms/step - loss: 0.0235 - accuracy: 0.9931 - val_loss: 0.0431 - val_accuracy: 0.9894\n",
      "Epoch 33/60\n",
      "900/900 [==============================] - 7s 7ms/step - loss: 0.0213 - accuracy: 0.9935 - val_loss: 0.0390 - val_accuracy: 0.9894\n",
      "Epoch 34/60\n",
      "900/900 [==============================] - 7s 8ms/step - loss: 0.0359 - accuracy: 0.9896 - val_loss: 0.0390 - val_accuracy: 0.9861\n",
      "Epoch 35/60\n",
      "900/900 [==============================] - 7s 7ms/step - loss: 0.0187 - accuracy: 0.9954 - val_loss: 0.0343 - val_accuracy: 0.9917\n",
      "Epoch 36/60\n",
      "900/900 [==============================] - 7s 7ms/step - loss: 0.0148 - accuracy: 0.9951 - val_loss: 0.0933 - val_accuracy: 0.9811\n",
      "Epoch 37/60\n",
      "900/900 [==============================] - 6s 7ms/step - loss: 0.0270 - accuracy: 0.9939 - val_loss: 0.0553 - val_accuracy: 0.9878\n",
      "Epoch 38/60\n",
      "900/900 [==============================] - 7s 7ms/step - loss: 0.0231 - accuracy: 0.9935 - val_loss: 0.0412 - val_accuracy: 0.9911\n",
      "Epoch 39/60\n",
      "900/900 [==============================] - 6s 7ms/step - loss: 0.0331 - accuracy: 0.9907 - val_loss: 0.0519 - val_accuracy: 0.9906\n",
      "Epoch 40/60\n",
      "900/900 [==============================] - 6s 7ms/step - loss: 0.0278 - accuracy: 0.9942 - val_loss: 0.0360 - val_accuracy: 0.9900\n",
      "Epoch 41/60\n",
      "900/900 [==============================] - 6s 7ms/step - loss: 0.0210 - accuracy: 0.9940 - val_loss: 0.0480 - val_accuracy: 0.9911\n",
      "Epoch 42/60\n",
      "900/900 [==============================] - 6s 7ms/step - loss: 0.0179 - accuracy: 0.9933 - val_loss: 0.0322 - val_accuracy: 0.9922\n",
      "Epoch 43/60\n",
      "900/900 [==============================] - 7s 7ms/step - loss: 0.0221 - accuracy: 0.9944 - val_loss: 0.0422 - val_accuracy: 0.9900\n",
      "Epoch 44/60\n",
      "900/900 [==============================] - 6s 7ms/step - loss: 0.0244 - accuracy: 0.9931 - val_loss: 0.0413 - val_accuracy: 0.9906\n",
      "Epoch 45/60\n",
      "900/900 [==============================] - 6s 7ms/step - loss: 0.0245 - accuracy: 0.9929 - val_loss: 0.0512 - val_accuracy: 0.9889\n",
      "Epoch 46/60\n",
      "900/900 [==============================] - 6s 7ms/step - loss: 0.0177 - accuracy: 0.9950 - val_loss: 0.0531 - val_accuracy: 0.9911\n",
      "Epoch 47/60\n",
      "900/900 [==============================] - 6s 7ms/step - loss: 0.0265 - accuracy: 0.9940 - val_loss: 0.0597 - val_accuracy: 0.9900\n",
      "Epoch 48/60\n",
      "900/900 [==============================] - 6s 7ms/step - loss: 0.0221 - accuracy: 0.9949 - val_loss: 0.0395 - val_accuracy: 0.9906\n",
      "Epoch 49/60\n",
      "900/900 [==============================] - 7s 7ms/step - loss: 0.0259 - accuracy: 0.9936 - val_loss: 0.0415 - val_accuracy: 0.9889\n",
      "Epoch 50/60\n",
      "900/900 [==============================] - 7s 8ms/step - loss: 0.0282 - accuracy: 0.9932 - val_loss: 0.0356 - val_accuracy: 0.9911\n",
      "Epoch 51/60\n",
      "900/900 [==============================] - 7s 7ms/step - loss: 0.0140 - accuracy: 0.9957 - val_loss: 0.0521 - val_accuracy: 0.9878\n",
      "Epoch 52/60\n",
      "900/900 [==============================] - 6s 7ms/step - loss: 0.0309 - accuracy: 0.9926 - val_loss: 0.0516 - val_accuracy: 0.9889\n",
      "Epoch 53/60\n",
      "900/900 [==============================] - 6s 7ms/step - loss: 0.0108 - accuracy: 0.9958 - val_loss: 0.0373 - val_accuracy: 0.9922\n",
      "Epoch 54/60\n",
      "900/900 [==============================] - 6s 7ms/step - loss: 0.0167 - accuracy: 0.9953 - val_loss: 0.0462 - val_accuracy: 0.9917\n",
      "Epoch 55/60\n",
      "900/900 [==============================] - 6s 7ms/step - loss: 0.0207 - accuracy: 0.9951 - val_loss: 0.0601 - val_accuracy: 0.9922\n",
      "Epoch 56/60\n",
      "900/900 [==============================] - 6s 7ms/step - loss: 0.0298 - accuracy: 0.9933 - val_loss: 0.0589 - val_accuracy: 0.9894\n",
      "Epoch 57/60\n",
      "900/900 [==============================] - 6s 7ms/step - loss: 0.0221 - accuracy: 0.9946 - val_loss: 0.0325 - val_accuracy: 0.9889\n",
      "Epoch 58/60\n",
      "900/900 [==============================] - 6s 7ms/step - loss: 0.0141 - accuracy: 0.9972 - val_loss: 0.0348 - val_accuracy: 0.9906\n",
      "Epoch 59/60\n",
      "900/900 [==============================] - 6s 7ms/step - loss: 0.0286 - accuracy: 0.9931 - val_loss: 0.0595 - val_accuracy: 0.9889\n",
      "Epoch 60/60\n",
      "900/900 [==============================] - 6s 7ms/step - loss: 0.0230 - accuracy: 0.9929 - val_loss: 0.0502 - val_accuracy: 0.9900\n",
      "57/57 [==============================] - 0s 5ms/step\n"
     ]
    }
   ],
   "execution_count": 177
  },
  {
   "metadata": {
    "ExecuteTime": {
     "end_time": "2024-08-14T23:15:25.722764Z",
     "start_time": "2024-08-14T23:15:25.353946Z"
    }
   },
   "cell_type": "code",
   "source": [
    "# Save X and y to npy file\n",
    "np.save(f'./model/{sensor_name}/{model_index}/{model_name}-x.npy', X)\n",
    "np.save(f'./model/{sensor_name}/{model_index}/{model_name}-y.npy', y)"
   ],
   "id": "7eeb6c54edf6f7c1",
   "outputs": [],
   "execution_count": 178
  }
 ],
 "metadata": {
  "kernelspec": {
   "display_name": "Python 3",
   "language": "python",
   "name": "python3"
  },
  "language_info": {
   "codemirror_mode": {
    "name": "ipython",
    "version": 2
   },
   "file_extension": ".py",
   "mimetype": "text/x-python",
   "name": "python",
   "nbconvert_exporter": "python",
   "pygments_lexer": "ipython2",
   "version": "2.7.6"
  }
 },
 "nbformat": 4,
 "nbformat_minor": 5
}

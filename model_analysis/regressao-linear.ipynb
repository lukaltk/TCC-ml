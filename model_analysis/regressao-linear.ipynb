{
 "cells": [
  {
   "metadata": {},
   "cell_type": "markdown",
   "source": "# Imports",
   "id": "e255777c6026e053"
  },
  {
   "cell_type": "code",
   "id": "initial_id",
   "metadata": {
    "collapsed": true,
    "ExecuteTime": {
     "end_time": "2024-11-02T18:04:39.624740Z",
     "start_time": "2024-11-02T18:04:39.608913Z"
    }
   },
   "source": [
    "from keras.models import load_model\n",
    "import matplotlib.pyplot as plt\n",
    "import numpy as np\n",
    "import os\n",
    "import pandas as pd\n",
    "import seaborn as sns\n",
    "from sklearn.metrics import confusion_matrix"
   ],
   "execution_count": 5,
   "outputs": []
  },
  {
   "metadata": {},
   "cell_type": "markdown",
   "source": "# Model load",
   "id": "2cb356410845072b"
  },
  {
   "metadata": {
    "ExecuteTime": {
     "end_time": "2024-11-02T18:04:39.639701Z",
     "start_time": "2024-11-02T18:04:39.627530Z"
    }
   },
   "cell_type": "code",
   "source": [
    "path_qing_cheng = '../model/qing_cheng'\n",
    "path_vallen = '../model/vallen'\n",
    "\n",
    "qing_cheng_model_name = 'Qing-Cheng'\n",
    "vallen_model_name = 'Vallen'"
   ],
   "id": "bb924cd35ebfb983",
   "execution_count": 6,
   "outputs": []
  },
  {
   "metadata": {
    "ExecuteTime": {
     "end_time": "2024-11-02T18:04:39.670768Z",
     "start_time": "2024-11-02T18:04:39.655518Z"
    }
   },
   "cell_type": "code",
   "source": [
    "def get_file_paths(path: str):\n",
    "    file_paths = []\n",
    "\n",
    "    for dir_path, _, file_names in os.walk(path):\n",
    "        file_path = {}\n",
    "        \n",
    "        for file_name in file_names:\n",
    "            \n",
    "            if file_name.endswith('.h5'):\n",
    "                file_path['model'] = os.path.join(dir_path, file_name)\n",
    "                \n",
    "            elif file_name.endswith('x.npy'):\n",
    "                file_path['x'] = os.path.join(dir_path, file_name)\n",
    "                \n",
    "            elif file_name.endswith('y.npy'):\n",
    "                file_path['y'] = os.path.join(dir_path, file_name)\n",
    "                \n",
    "        if len(file_path) > 0:\n",
    "            file_paths.append(file_path)\n",
    "\n",
    "    return file_paths"
   ],
   "id": "b400af4c50d3e9a0",
   "execution_count": 7,
   "outputs": []
  },
  {
   "metadata": {
    "ExecuteTime": {
     "end_time": "2024-11-02T18:04:39.686700Z",
     "start_time": "2024-11-02T18:04:39.673715Z"
    }
   },
   "cell_type": "code",
   "source": [
    "paths_qing_cheng = get_file_paths(path_qing_cheng)\n",
    "paths_vallen = get_file_paths(path_vallen)"
   ],
   "id": "56580c7640c5dd02",
   "execution_count": 8,
   "outputs": []
  },
  {
   "metadata": {
    "ExecuteTime": {
     "end_time": "2024-11-02T18:04:39.701765Z",
     "start_time": "2024-11-02T18:04:39.689812Z"
    }
   },
   "cell_type": "code",
   "source": [
    "def load_model_result(path_dict: dict):\n",
    "    model = load_model(path_dict['model'])\n",
    "    x = np.load(path_dict['x'])\n",
    "    y = np.load(path_dict['y'])\n",
    "    \n",
    "    y_predicted = model.predict(x)\n",
    "    y_predicted_classes = np.argmax(y_predicted, axis=1)\n",
    "    \n",
    "    return {\n",
    "        'model': model, \n",
    "        'x': x, \n",
    "        'y': y, \n",
    "        'y_predicted': y_predicted, \n",
    "        'y_predicted_classes': y_predicted_classes,\n",
    "    }"
   ],
   "id": "9d5866a1b8d130d2",
   "execution_count": 9,
   "outputs": []
  },
  {
   "metadata": {
    "ExecuteTime": {
     "end_time": "2024-11-02T18:05:18.950573Z",
     "start_time": "2024-11-02T18:04:39.703204Z"
    }
   },
   "cell_type": "code",
   "source": [
    "qing_cheng_models = [load_model_result(path) for path in paths_qing_cheng]\n",
    "vallen_models = [load_model_result(path) for path in paths_vallen]"
   ],
   "id": "1afb514596197306",
   "execution_count": 10,
   "outputs": []
  },
  {
   "metadata": {},
   "cell_type": "markdown",
   "source": "# Plot",
   "id": "364f430d71129951"
  },
  {
   "metadata": {
    "ExecuteTime": {
     "end_time": "2024-11-02T18:05:18.966473Z",
     "start_time": "2024-11-02T18:05:18.951640Z"
    }
   },
   "cell_type": "code",
   "source": [
    "def plot_linear_regression(model_a:dict, model_a_name: str, model_b:dict, model_b_name:str, title:str):\n",
    "    matrix_a = confusion_matrix(model_a['y'], model_a['y_predicted_classes'])\n",
    "    matrix_b = confusion_matrix(model_b['y'], model_b['y_predicted_classes'])\n",
    "    \n",
    "    matrix_a_percent = matrix_a / matrix_a.sum(axis=1)[:, np.newaxis] * 100\n",
    "    matrix_b_percent = matrix_b / matrix_b.sum(axis=1)[:, np.newaxis] * 100\n",
    "    \n",
    "    x = [25, 60, 95]\n",
    "    \n",
    "    y_a = np.diag(matrix_a_percent)[1:]\n",
    "    y_b = np.diag(matrix_b_percent)[1:]\n",
    "    \n",
    "    coefficient_a = np.polyfit(x, y_a, 1)\n",
    "    coefficient_b = np.polyfit(x, y_b, 1)\n",
    "    \n",
    "    polynomial_a = np.poly1d(coefficient_a)\n",
    "    polynomial_b = np.poly1d(coefficient_b)\n",
    "    \n",
    "    y_fit_a = polynomial_a(x)\n",
    "    y_fit_b = polynomial_b(x)\n",
    "    \n",
    "    fig, (ax1, ax2) = plt.subplots(1, 2, figsize=(14, 6))\n",
    "    \n",
    "    ax1.set_ylim(78, 101)\n",
    "    ax2.set_ylim(78, 101)\n",
    "    \n",
    "    ax1.set_xticks(np.arange(25, 100, 5))\n",
    "    ax2.set_xticks(np.arange(25, 10, 5))\n",
    "    \n",
    "    ax1.plot(x, y_a, marker='o')\n",
    "    ax1.plot(x, y_fit_a, color='#3498db', label='Curva Ajustada (Grau 2)', alpha=0.5)\n",
    "    \n",
    "    ax2.plot(x, y_b, marker='o')\n",
    "    ax2.plot(x, y_fit_b, color='#3498db', label='Curva Ajustada (Grau 2)', alpha=0.5)\n",
    "    \n",
    "    ax1.set_title(f'{model_a_name}')\n",
    "    ax2.set_title(f'{model_b_name}')\n",
    "    \n",
    "    plt.suptitle(title, y=1.05)\n",
    "    \n",
    "    plt.tight_layout()\n",
    "    plt.show()"
   ],
   "id": "53f58f15ab8bf44c",
   "execution_count": 11,
   "outputs": []
  },
  {
   "metadata": {
    "ExecuteTime": {
     "end_time": "2024-11-02T18:05:20.943967Z",
     "start_time": "2024-11-02T18:05:18.969388Z"
    }
   },
   "cell_type": "code",
   "source": [
    "for index in range(4, 8):\n",
    "    plot_linear_regression(\n",
    "        qing_cheng_models[index],\n",
    "        qing_cheng_model_name,\n",
    "        vallen_models[index],\n",
    "        vallen_model_name,\n",
    "        'Linear regression: Accuracy vs Distance'\n",
    "    )"
   ],
   "id": "6d1b004749cfabe1",
   "execution_count": 12,
   "outputs": []
  }
 ],
 "metadata": {
  "kernelspec": {
   "display_name": "Python 3",
   "language": "python",
   "name": "python3"
  },
  "language_info": {
   "codemirror_mode": {
    "name": "ipython",
    "version": 2
   },
   "file_extension": ".py",
   "mimetype": "text/x-python",
   "name": "python",
   "nbconvert_exporter": "python",
   "pygments_lexer": "ipython2",
   "version": "2.7.6"
  }
 },
 "nbformat": 4,
 "nbformat_minor": 5
}
